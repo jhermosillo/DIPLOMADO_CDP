{
  "nbformat": 4,
  "nbformat_minor": 0,
  "metadata": {
    "kernelspec": {
      "display_name": "Python 3",
      "language": "python",
      "name": "python3"
    },
    "language_info": {
      "codemirror_mode": {
        "name": "ipython",
        "version": 3
      },
      "file_extension": ".py",
      "mimetype": "text/x-python",
      "name": "python",
      "nbconvert_exporter": "python",
      "pygments_lexer": "ipython3",
      "version": "3.7.6"
    },
    "colab": {
      "name": "DL_02_MLP.ipynb",
      "provenance": [],
      "collapsed_sections": [],
      "include_colab_link": true
    }
  },
  "cells": [
    {
      "cell_type": "markdown",
      "metadata": {
        "id": "view-in-github",
        "colab_type": "text"
      },
      "source": [
        "<a href=\"https://colab.research.google.com/github/jhermosillo/DIPLOMADO_CDP/blob/main/Modulo%205%20-%20Deep%20Leaning/code/DL_01_MLP.ipynb\" target=\"_parent\"><img src=\"https://colab.research.google.com/assets/colab-badge.svg\" alt=\"Open In Colab\"/></a>"
      ]
    },
    {
      "cell_type": "code",
      "metadata": {
        "id": "glhoh4KybWLh"
      },
      "source": [
        "# http://www.emergentmind.com/neural-network\n",
        "# https://hmkcode.com/ai/backpropagation-step-by-step/\n",
        "# https://mattmazur.com/2015/03/17/a-step-by-step-backpropagation-example/"
      ],
      "execution_count": null,
      "outputs": []
    },
    {
      "cell_type": "code",
      "metadata": {
        "id": "e3ohV7teCRnM"
      },
      "source": [
        "# Revisa la documentacion de python para poder instalar tensorflow.\n",
        "# Quizas alguno de las siguientes lineas sean de utilidad, o usa la suite anaconda.\n",
        "# !conda install tensorflow\n",
        "# !pip install tensorflow"
      ],
      "execution_count": null,
      "outputs": []
    },
    {
      "cell_type": "code",
      "metadata": {
        "id": "DhmUvXATbWLr"
      },
      "source": [
        "import numpy as np\n",
        "import matplotlib.pyplot as plt"
      ],
      "execution_count": null,
      "outputs": []
    },
    {
      "cell_type": "code",
      "metadata": {
        "id": "Pr8pwJ5ebWL0",
        "colab": {
          "base_uri": "https://localhost:8080/",
          "height": 346
        },
        "outputId": "87fbae14-17af-4d30-f926-2edaac5d7234"
      },
      "source": [
        "# Load and split data\n",
        "from sklearn.datasets import load_iris\n",
        "iris = load_iris()\n",
        "\n",
        "# We will use length and width of petals as X to predict length and width of sepals as Y\n",
        "# We also keep the labels in a vector L\n",
        "X = iris.data[:, :2]\n",
        "Y = iris.data[:, 2:]\n",
        "L = iris.target\n",
        "\n",
        "print(\"X data:\", X.shape)\n",
        "print(\"Y data:\", Y.shape)\n",
        "print(\"L data:\", L.shape)\n",
        "\n",
        "# Plot it\n",
        "plt.figure(figsize=(12, 4))\n",
        "plt.subplot(1, 2, 1)\n",
        "plt.scatter(X[L==0, 0], X[L==0, 1], c='b', label='setosa')\n",
        "plt.scatter(X[L==1, 0], X[L==1, 1], c='r', label='versicolor')\n",
        "plt.scatter(X[L==2, 0], X[L==2, 1], c='g', label='virginica')\n",
        "plt.legend()\n",
        "plt.grid(True)\n",
        "plt.xlabel('petal length')\n",
        "plt.ylabel('petal width')\n",
        "plt.title('Input variables X')\n",
        "plt.subplot(1, 2, 2)\n",
        "plt.scatter(Y[L==0, 0], Y[L==0, 1], c='b', label='setosa')\n",
        "plt.scatter(Y[L==1, 0], Y[L==1, 1], c='r', label='versicolor')\n",
        "plt.scatter(Y[L==2, 0], Y[L==2, 1], c='g', label='virginica')\n",
        "plt.legend()\n",
        "plt.grid(True)\n",
        "plt.xlabel('sepal length')\n",
        "plt.ylabel('sepal width')\n",
        "plt.title('Output variables Y')\n",
        "plt.show()"
      ],
      "execution_count": null,
      "outputs": [
        {
          "output_type": "stream",
          "text": [
            "X data: (150, 2)\n",
            "Y data: (150, 2)\n",
            "L data: (150,)\n"
          ],
          "name": "stdout"
        },
        {
          "output_type": "display_data",
          "data": {
            "image/png": "[encoded data removed]",
            "text/plain": [
              "<Figure size 864x288 with 2 Axes>"
            ]
          },
          "metadata": {
            "tags": [],
            "needs_background": "light"
          }
        }
      ]
    },
    {
      "cell_type": "code",
      "metadata": {
        "id": "16xfdF2xbWL8",
        "colab": {
          "base_uri": "https://localhost:8080/"
        },
        "outputId": "8194e88b-770f-4c54-e183-7f79c405ace5"
      },
      "source": [
        "# Split it into training and test sets\n",
        "from sklearn.model_selection import train_test_split\n",
        "x_train, x_test, y_train, y_test, l_train, l_test = train_test_split(X, Y, L, test_size=0.1)\n",
        "\n",
        "print(\"Training + validation inputs X:\", x_train.shape)\n",
        "print(\"Test inputs X:\", x_test.shape)\n",
        "print(\"Training + validation outputs Y:\", y_train.shape)\n",
        "print(\"Test outputs Y:\", y_test.shape)\n",
        "print(\"Training + validation labels l:\", l_train.shape)\n",
        "print(\"Test labels l:\", l_test.shape)"
      ],
      "execution_count": null,
      "outputs": [
        {
          "output_type": "stream",
          "text": [
            "Training + validation inputs X: (135, 2)\n",
            "Test inputs X: (15, 2)\n",
            "Training + validation outputs Y: (135, 2)\n",
            "Test outputs Y: (15, 2)\n",
            "Training + validation labels l: (135,)\n",
            "Test labels l: (15,)\n"
          ],
          "name": "stdout"
        }
      ]
    },
    {
      "cell_type": "code",
      "metadata": {
        "id": "RXiiHm5ZZ-5g"
      },
      "source": [
        "# Documentación de tensorflow y keras\n",
        "# https://www.tensorflow.org/\n",
        "# https://keras.io/"
      ],
      "execution_count": null,
      "outputs": []
    },
    {
      "cell_type": "code",
      "metadata": {
        "id": "jwGu_37rbWMC"
      },
      "source": [
        "# import tensorflow an the classes Model, Input (place-holder layer), and Dense (fully connected layer)\n",
        "import tensorflow as tf\n",
        "from tensorflow.keras.models import Model\n",
        "from tensorflow.keras.layers import Input, Dense"
      ],
      "execution_count": null,
      "outputs": []
    },
    {
      "cell_type": "code",
      "metadata": {
        "id": "OfZ2xl7XbWMI",
        "colab": {
          "base_uri": "https://localhost:8080/"
        },
        "outputId": "893f653e-97d5-45ad-fc67-f4420e4a1933"
      },
      "source": [
        "# Create an MLP of two inputs x=[x1, x2], and two outputs y=[y1, y2]\n",
        "i = Input(shape=(2,), name='input')\n",
        "o = Dense(units=2, activation=None, name='output')(i)\n",
        "\n",
        "MLP = Model(inputs=i, outputs=o)\n",
        "MLP.summary()"
      ],
      "execution_count": null,
      "outputs": [
        {
          "output_type": "stream",
          "text": [
            "Model: \"model\"\n",
            "_________________________________________________________________\n",
            "Layer (type)                 Output Shape              Param #   \n",
            "=================================================================\n",
            "input (InputLayer)           [(None, 2)]               0         \n",
            "_________________________________________________________________\n",
            "output (Dense)               (None, 2)                 6         \n",
            "=================================================================\n",
            "Total params: 6\n",
            "Trainable params: 6\n",
            "Non-trainable params: 0\n",
            "_________________________________________________________________\n"
          ],
          "name": "stdout"
        }
      ]
    },
    {
      "cell_type": "code",
      "metadata": {
        "id": "YiR10FbJbWMN",
        "colab": {
          "base_uri": "https://localhost:8080/"
        },
        "outputId": "9a56ada1-4fa9-451a-cc58-5094d2cfab01"
      },
      "source": [
        "# Obtain weights and biases of the hidden layer\n",
        "w1, b1 = MLP.layers[1].get_weights()\n",
        "print(\"Initial weights:\", w1.shape)\n",
        "print(w1)\n",
        "print(\"Initial biases\", b1.shape)\n",
        "print(b1)"
      ],
      "execution_count": null,
      "outputs": [
        {
          "output_type": "stream",
          "text": [
            "Initial weights: (2, 2)\n",
            "[[-0.13724005  1.0796555 ]\n",
            " [-0.27964795  0.19682944]]\n",
            "Initial biases (2,)\n",
            "[0. 0.]\n"
          ],
          "name": "stdout"
        }
      ]
    },
    {
      "cell_type": "code",
      "metadata": {
        "id": "yf20TvnAbWMR",
        "colab": {
          "base_uri": "https://localhost:8080/",
          "height": 140
        },
        "outputId": "e6cbf9fa-8fe2-4f95-f687-2867b7e1ba58"
      },
      "source": [
        "# Plot a diagram of the MLP model\n",
        "from tensorflow.keras.utils import plot_model\n",
        "plot_model(MLP, to_file='MLP.png', show_shapes=True, show_layer_names=True, rankdir='TB', expand_nested=True, dpi=64)"
      ],
      "execution_count": null,
      "outputs": [
        {
          "output_type": "execute_result",
          "data": {
            "image/png": "[encoded data removed]",
            "text/plain": [
              "<IPython.core.display.Image object>"
            ]
          },
          "metadata": {
            "tags": []
          },
          "execution_count": 7
        }
      ]
    },
    {
      "cell_type": "code",
      "metadata": {
        "id": "CJ0ZRpsibWMY"
      },
      "source": [
        "# Here we define the optimizer and loss function\n",
        "# Adam and mse in this initial example\n",
        "MLP.compile(optimizer='sgd', loss='mse')"
      ],
      "execution_count": null,
      "outputs": []
    },
    {
      "cell_type": "code",
      "metadata": {
        "id": "Hzez7n_xbWMc",
        "colab": {
          "base_uri": "https://localhost:8080/"
        },
        "outputId": "ee44f6cc-b1f4-41ca-ddcd-7284d7277f8f"
      },
      "source": [
        "# And now we train the model\n",
        "# Learn to predict sepal's lenght and width from petal's lenght and width\n",
        "HISTORY = MLP.fit(x=x_train, y=y_train, batch_size=4, epochs=100, validation_split=0.1)"
      ],
      "execution_count": null,
      "outputs": [
        {
          "output_type": "stream",
          "text": [
            "Epoch 1/100\n",
            "31/31 [==============================] - 1s 5ms/step - loss: 2.5679 - val_loss: 1.0276\n",
            "Epoch 2/100\n",
            "31/31 [==============================] - 0s 1ms/step - loss: 1.0052 - val_loss: 0.9302\n",
            "Epoch 3/100\n",
            "31/31 [==============================] - 0s 2ms/step - loss: 0.8487 - val_loss: 0.7898\n",
            "Epoch 4/100\n",
            "31/31 [==============================] - 0s 2ms/step - loss: 0.7923 - val_loss: 0.7045\n",
            "Epoch 5/100\n",
            "31/31 [==============================] - 0s 2ms/step - loss: 0.6280 - val_loss: 0.6589\n",
            "Epoch 6/100\n",
            "31/31 [==============================] - 0s 2ms/step - loss: 0.6187 - val_loss: 0.5448\n",
            "Epoch 7/100\n",
            "31/31 [==============================] - 0s 2ms/step - loss: 0.5517 - val_loss: 0.7056\n",
            "Epoch 8/100\n",
            "31/31 [==============================] - 0s 2ms/step - loss: 0.5514 - val_loss: 0.5771\n",
            "Epoch 9/100\n",
            "31/31 [==============================] - 0s 2ms/step - loss: 0.4870 - val_loss: 0.5736\n",
            "Epoch 10/100\n",
            "31/31 [==============================] - 0s 2ms/step - loss: 0.4511 - val_loss: 0.4085\n",
            "Epoch 11/100\n",
            "31/31 [==============================] - 0s 2ms/step - loss: 0.4182 - val_loss: 0.3817\n",
            "Epoch 12/100\n",
            "31/31 [==============================] - 0s 1ms/step - loss: 0.4014 - val_loss: 0.4646\n",
            "Epoch 13/100\n",
            "31/31 [==============================] - 0s 2ms/step - loss: 0.3970 - val_loss: 0.4128\n",
            "Epoch 14/100\n",
            "31/31 [==============================] - 0s 2ms/step - loss: 0.3808 - val_loss: 0.3602\n",
            "Epoch 15/100\n",
            "31/31 [==============================] - 0s 2ms/step - loss: 0.3747 - val_loss: 0.3639\n",
            "Epoch 16/100\n",
            "31/31 [==============================] - 0s 2ms/step - loss: 0.3636 - val_loss: 0.3347\n",
            "Epoch 17/100\n",
            "31/31 [==============================] - 0s 2ms/step - loss: 0.3661 - val_loss: 0.3180\n",
            "Epoch 18/100\n",
            "31/31 [==============================] - 0s 2ms/step - loss: 0.3514 - val_loss: 0.3112\n",
            "Epoch 19/100\n",
            "31/31 [==============================] - 0s 2ms/step - loss: 0.3572 - val_loss: 0.3471\n",
            "Epoch 20/100\n",
            "31/31 [==============================] - 0s 2ms/step - loss: 0.3460 - val_loss: 0.3014\n",
            "Epoch 21/100\n",
            "31/31 [==============================] - 0s 1ms/step - loss: 0.3421 - val_loss: 0.3462\n",
            "Epoch 22/100\n",
            "31/31 [==============================] - 0s 2ms/step - loss: 0.3485 - val_loss: 0.3111\n",
            "Epoch 23/100\n",
            "31/31 [==============================] - 0s 2ms/step - loss: 0.3458 - val_loss: 0.3772\n",
            "Epoch 24/100\n",
            "31/31 [==============================] - 0s 2ms/step - loss: 0.3493 - val_loss: 0.4877\n",
            "Epoch 25/100\n",
            "31/31 [==============================] - 0s 2ms/step - loss: 0.3289 - val_loss: 0.4696\n",
            "Epoch 26/100\n",
            "31/31 [==============================] - 0s 2ms/step - loss: 0.3519 - val_loss: 0.3705\n",
            "Epoch 27/100\n",
            "31/31 [==============================] - 0s 1ms/step - loss: 0.3396 - val_loss: 0.3558\n",
            "Epoch 28/100\n",
            "31/31 [==============================] - 0s 2ms/step - loss: 0.3415 - val_loss: 0.2799\n",
            "Epoch 29/100\n",
            "31/31 [==============================] - 0s 2ms/step - loss: 0.3365 - val_loss: 0.2803\n",
            "Epoch 30/100\n",
            "31/31 [==============================] - 0s 1ms/step - loss: 0.3219 - val_loss: 0.2826\n",
            "Epoch 31/100\n",
            "31/31 [==============================] - 0s 2ms/step - loss: 0.3341 - val_loss: 0.3061\n",
            "Epoch 32/100\n",
            "31/31 [==============================] - 0s 2ms/step - loss: 0.3366 - val_loss: 0.4033\n",
            "Epoch 33/100\n",
            "31/31 [==============================] - 0s 2ms/step - loss: 0.3413 - val_loss: 0.5282\n",
            "Epoch 34/100\n",
            "31/31 [==============================] - 0s 1ms/step - loss: 0.3409 - val_loss: 0.2745\n",
            "Epoch 35/100\n",
            "31/31 [==============================] - 0s 2ms/step - loss: 0.3298 - val_loss: 0.4317\n",
            "Epoch 36/100\n",
            "31/31 [==============================] - 0s 2ms/step - loss: 0.3428 - val_loss: 0.2990\n",
            "Epoch 37/100\n",
            "31/31 [==============================] - 0s 2ms/step - loss: 0.3280 - val_loss: 0.2786\n",
            "Epoch 38/100\n",
            "31/31 [==============================] - 0s 2ms/step - loss: 0.3214 - val_loss: 0.3759\n",
            "Epoch 39/100\n",
            "31/31 [==============================] - 0s 2ms/step - loss: 0.3435 - val_loss: 0.3543\n",
            "Epoch 40/100\n",
            "31/31 [==============================] - 0s 1ms/step - loss: 0.3306 - val_loss: 0.3646\n",
            "Epoch 41/100\n",
            "31/31 [==============================] - 0s 2ms/step - loss: 0.3472 - val_loss: 0.2998\n",
            "Epoch 42/100\n",
            "31/31 [==============================] - 0s 2ms/step - loss: 0.3415 - val_loss: 0.3057\n",
            "Epoch 43/100\n",
            "31/31 [==============================] - 0s 2ms/step - loss: 0.3096 - val_loss: 0.3648\n",
            "Epoch 44/100\n",
            "31/31 [==============================] - 0s 2ms/step - loss: 0.3468 - val_loss: 0.7516\n",
            "Epoch 45/100\n",
            "31/31 [==============================] - 0s 2ms/step - loss: 0.3391 - val_loss: 0.2771\n",
            "Epoch 46/100\n",
            "31/31 [==============================] - 0s 2ms/step - loss: 0.3487 - val_loss: 0.2849\n",
            "Epoch 47/100\n",
            "31/31 [==============================] - 0s 2ms/step - loss: 0.3228 - val_loss: 0.2815\n",
            "Epoch 48/100\n",
            "31/31 [==============================] - 0s 2ms/step - loss: 0.3349 - val_loss: 0.2710\n",
            "Epoch 49/100\n",
            "31/31 [==============================] - 0s 2ms/step - loss: 0.3457 - val_loss: 0.4822\n",
            "Epoch 50/100\n",
            "31/31 [==============================] - 0s 1ms/step - loss: 0.3281 - val_loss: 0.3219\n",
            "Epoch 51/100\n",
            "31/31 [==============================] - 0s 2ms/step - loss: 0.3127 - val_loss: 0.3721\n",
            "Epoch 52/100\n",
            "31/31 [==============================] - 0s 2ms/step - loss: 0.3070 - val_loss: 0.3280\n",
            "Epoch 53/100\n",
            "31/31 [==============================] - 0s 2ms/step - loss: 0.3397 - val_loss: 0.2996\n",
            "Epoch 54/100\n",
            "31/31 [==============================] - 0s 2ms/step - loss: 0.3252 - val_loss: 0.3221\n",
            "Epoch 55/100\n",
            "31/31 [==============================] - 0s 1ms/step - loss: 0.3259 - val_loss: 0.2892\n",
            "Epoch 56/100\n",
            "31/31 [==============================] - 0s 1ms/step - loss: 0.3309 - val_loss: 0.2987\n",
            "Epoch 57/100\n",
            "31/31 [==============================] - 0s 1ms/step - loss: 0.3313 - val_loss: 0.3299\n",
            "Epoch 58/100\n",
            "31/31 [==============================] - 0s 2ms/step - loss: 0.3400 - val_loss: 0.4018\n",
            "Epoch 59/100\n",
            "31/31 [==============================] - 0s 1ms/step - loss: 0.3246 - val_loss: 0.9157\n",
            "Epoch 60/100\n",
            "31/31 [==============================] - 0s 2ms/step - loss: 0.3236 - val_loss: 0.2929\n",
            "Epoch 61/100\n",
            "31/31 [==============================] - 0s 2ms/step - loss: 0.3332 - val_loss: 0.2833\n",
            "Epoch 62/100\n",
            "31/31 [==============================] - 0s 2ms/step - loss: 0.3244 - val_loss: 0.3169\n",
            "Epoch 63/100\n",
            "31/31 [==============================] - 0s 2ms/step - loss: 0.3337 - val_loss: 0.2715\n",
            "Epoch 64/100\n",
            "31/31 [==============================] - 0s 2ms/step - loss: 0.3338 - val_loss: 0.4147\n",
            "Epoch 65/100\n",
            "31/31 [==============================] - 0s 2ms/step - loss: 0.3229 - val_loss: 0.2655\n",
            "Epoch 66/100\n",
            "31/31 [==============================] - 0s 1ms/step - loss: 0.3278 - val_loss: 0.2690\n",
            "Epoch 67/100\n",
            "31/31 [==============================] - 0s 2ms/step - loss: 0.3184 - val_loss: 0.3344\n",
            "Epoch 68/100\n",
            "31/31 [==============================] - 0s 2ms/step - loss: 0.3245 - val_loss: 0.3391\n",
            "Epoch 69/100\n",
            "31/31 [==============================] - 0s 2ms/step - loss: 0.3246 - val_loss: 0.3076\n",
            "Epoch 70/100\n",
            "31/31 [==============================] - 0s 2ms/step - loss: 0.3238 - val_loss: 0.2830\n",
            "Epoch 71/100\n",
            "31/31 [==============================] - 0s 2ms/step - loss: 0.3324 - val_loss: 0.4924\n",
            "Epoch 72/100\n",
            "31/31 [==============================] - 0s 1ms/step - loss: 0.3540 - val_loss: 0.2900\n",
            "Epoch 73/100\n",
            "31/31 [==============================] - 0s 2ms/step - loss: 0.3459 - val_loss: 0.2734\n",
            "Epoch 74/100\n",
            "31/31 [==============================] - 0s 2ms/step - loss: 0.3269 - val_loss: 0.3280\n",
            "Epoch 75/100\n",
            "31/31 [==============================] - 0s 2ms/step - loss: 0.3057 - val_loss: 0.3383\n",
            "Epoch 76/100\n",
            "31/31 [==============================] - 0s 2ms/step - loss: 0.3149 - val_loss: 0.2920\n",
            "Epoch 77/100\n",
            "31/31 [==============================] - 0s 2ms/step - loss: 0.3030 - val_loss: 0.3175\n",
            "Epoch 78/100\n",
            "31/31 [==============================] - 0s 2ms/step - loss: 0.3150 - val_loss: 0.3298\n",
            "Epoch 79/100\n",
            "31/31 [==============================] - 0s 2ms/step - loss: 0.3207 - val_loss: 0.3259\n",
            "Epoch 80/100\n",
            "31/31 [==============================] - 0s 2ms/step - loss: 0.3349 - val_loss: 0.2882\n",
            "Epoch 81/100\n",
            "31/31 [==============================] - 0s 2ms/step - loss: 0.3179 - val_loss: 0.3519\n",
            "Epoch 82/100\n",
            "31/31 [==============================] - 0s 2ms/step - loss: 0.3197 - val_loss: 0.2839\n",
            "Epoch 83/100\n",
            "31/31 [==============================] - 0s 2ms/step - loss: 0.3168 - val_loss: 0.2743\n",
            "Epoch 84/100\n",
            "31/31 [==============================] - 0s 1ms/step - loss: 0.3182 - val_loss: 0.8411\n",
            "Epoch 85/100\n",
            "31/31 [==============================] - 0s 2ms/step - loss: 0.3478 - val_loss: 0.2954\n",
            "Epoch 86/100\n",
            "31/31 [==============================] - 0s 2ms/step - loss: 0.3273 - val_loss: 0.3083\n",
            "Epoch 87/100\n",
            "31/31 [==============================] - 0s 2ms/step - loss: 0.3303 - val_loss: 0.3187\n",
            "Epoch 88/100\n",
            "31/31 [==============================] - 0s 2ms/step - loss: 0.3298 - val_loss: 0.4257\n",
            "Epoch 89/100\n",
            "31/31 [==============================] - 0s 2ms/step - loss: 0.3494 - val_loss: 0.2701\n",
            "Epoch 90/100\n",
            "31/31 [==============================] - 0s 2ms/step - loss: 0.3345 - val_loss: 0.2629\n",
            "Epoch 91/100\n",
            "31/31 [==============================] - 0s 2ms/step - loss: 0.3219 - val_loss: 0.3367\n",
            "Epoch 92/100\n",
            "31/31 [==============================] - 0s 2ms/step - loss: 0.3092 - val_loss: 0.2860\n",
            "Epoch 93/100\n",
            "31/31 [==============================] - 0s 2ms/step - loss: 0.3214 - val_loss: 0.5790\n",
            "Epoch 94/100\n",
            "31/31 [==============================] - 0s 2ms/step - loss: 0.3302 - val_loss: 0.3673\n",
            "Epoch 95/100\n",
            "31/31 [==============================] - 0s 2ms/step - loss: 0.2872 - val_loss: 0.3021\n",
            "Epoch 96/100\n",
            "31/31 [==============================] - 0s 2ms/step - loss: 0.3291 - val_loss: 0.5199\n",
            "Epoch 97/100\n",
            "31/31 [==============================] - 0s 2ms/step - loss: 0.3296 - val_loss: 0.3239\n",
            "Epoch 98/100\n",
            "31/31 [==============================] - 0s 2ms/step - loss: 0.3392 - val_loss: 0.2736\n",
            "Epoch 99/100\n",
            "31/31 [==============================] - 0s 2ms/step - loss: 0.3354 - val_loss: 0.3033\n",
            "Epoch 100/100\n",
            "31/31 [==============================] - 0s 2ms/step - loss: 0.3163 - val_loss: 0.2699\n"
          ],
          "name": "stdout"
        }
      ]
    },
    {
      "cell_type": "code",
      "metadata": {
        "id": "x7I-BOSFbgX-",
        "colab": {
          "base_uri": "https://localhost:8080/",
          "height": 334
        },
        "outputId": "d8a3766a-351e-4ce5-a39f-55963b779264"
      },
      "source": [
        "# Plot loss (The object MLP keeps track of the training and validation performance)\n",
        "plt.figure(figsize=(12, 5))\n",
        "plt.plot(MLP.history.history['loss'], label='Training', linewidth=2)\n",
        "plt.plot(MLP.history.history['val_loss'], label='Validation', linewidth=2)\n",
        "plt.legend()\n",
        "plt.xlabel('Epoch')\n",
        "plt.ylabel('Loss')\n",
        "plt.grid(True)\n",
        "plt.show()"
      ],
      "execution_count": null,
      "outputs": [
        {
          "output_type": "display_data",
          "data": {
            "image/png": "[encoded data removed]",
            "text/plain": [
              "<Figure size 864x360 with 1 Axes>"
            ]
          },
          "metadata": {
            "tags": [],
            "needs_background": "light"
          }
        }
      ]
    },
    {
      "cell_type": "code",
      "metadata": {
        "id": "rtHqcSQg2aQR",
        "colab": {
          "base_uri": "https://localhost:8080/"
        },
        "outputId": "a232ad2f-5ed2-440f-a233-d13bdfaca25f"
      },
      "source": [
        "# Obtain weights and biases of the hidden layer after training\n",
        "w1, b1 = MLP.layers[1].get_weights()\n",
        "print(\"Initial weights:\", w1.shape)\n",
        "print(w1)\n",
        "print(\"Initial biases\", b1.shape)\n",
        "print(b1)"
      ],
      "execution_count": null,
      "outputs": [
        {
          "output_type": "stream",
          "text": [
            "Initial weights: (2, 2)\n",
            "[[ 1.6246774   0.63239014]\n",
            " [-1.6524009  -0.65453386]]\n",
            "Initial biases (2,)\n",
            "[-0.6828322  -0.51783246]\n"
          ],
          "name": "stdout"
        }
      ]
    },
    {
      "cell_type": "code",
      "metadata": {
        "id": "M99b2NpEbWMi",
        "colab": {
          "base_uri": "https://localhost:8080/"
        },
        "outputId": "2d71f4f4-c321-4ec5-b323-80f2e5db878a"
      },
      "source": [
        "# Use the trained model to compute the average test loss\n",
        "MLP.evaluate(x=x_test, y=y_test, verbose=False)"
      ],
      "execution_count": null,
      "outputs": [
        {
          "output_type": "execute_result",
          "data": {
            "text/plain": [
              "0.33671873807907104"
            ]
          },
          "metadata": {
            "tags": []
          },
          "execution_count": 12
        }
      ]
    },
    {
      "cell_type": "code",
      "metadata": {
        "id": "-vkDhVD3bWMo",
        "colab": {
          "base_uri": "https://localhost:8080/"
        },
        "outputId": "ac23108f-73b2-4d76-b3c1-751db23866e0"
      },
      "source": [
        "# Now generate the predictions on the test set\n",
        "y_test_hat = MLP.predict(x=x_test)\n",
        "print(y_test_hat.shape)"
      ],
      "execution_count": null,
      "outputs": [
        {
          "output_type": "stream",
          "text": [
            "(15, 2)\n"
          ],
          "name": "stdout"
        }
      ]
    },
    {
      "cell_type": "code",
      "metadata": {
        "id": "hh43w3bRbWMs",
        "colab": {
          "base_uri": "https://localhost:8080/",
          "height": 295
        },
        "outputId": "e3d35e1c-0e6c-4747-b271-a8841245b4dd"
      },
      "source": [
        " # Plot y_test_hat\n",
        "plt.scatter(y_test[l_test==0, 0], y_test[l_test==0, 1], c='b', label='set y')\n",
        "plt.scatter(y_test[l_test==1, 0], y_test[l_test==1, 1], c='r', label='ver y')\n",
        "plt.scatter(y_test[l_test==2, 0], y_test[l_test==2, 1], c='g', label='vir y')\n",
        "\n",
        "plt.scatter(y_test_hat[l_test==0, 0], y_test_hat[l_test==0, 1], c='b', marker='+', label='set y_h')\n",
        "plt.scatter(y_test_hat[l_test==1, 0], y_test_hat[l_test==1, 1], c='r', marker='+', label='ver y_h')\n",
        "plt.scatter(y_test_hat[l_test==2, 0], y_test_hat[l_test==2, 1], c='g', marker='+', label='vir y_h')\n",
        "\n",
        "plt.legend()\n",
        "plt.grid(True)\n",
        "plt.xlabel('sepal length')\n",
        "plt.ylabel('sepal width')\n",
        "plt.title('Test set and its prediction')\n",
        "plt.show()"
      ],
      "execution_count": null,
      "outputs": [
        {
          "output_type": "display_data",
          "data": {
            "image/png": "[encoded data removed]",
            "text/plain": [
              "<Figure size 432x288 with 1 Axes>"
            ]
          },
          "metadata": {
            "tags": [],
            "needs_background": "light"
          }
        }
      ]
    },
    {
      "cell_type": "code",
      "metadata": {
        "id": "hpystfDabWMw",
        "colab": {
          "base_uri": "https://localhost:8080/"
        },
        "outputId": "ac1060b8-06ff-43aa-b3ae-1e3112ef9761"
      },
      "source": [
        "# Create a larger MLP\n",
        "i = Input(shape=(2,), name='input')\n",
        "h = Dense(units=32, activation='sigmoid', name='hidden1')(i)\n",
        "h = Dense(units=64, activation='sigmoid', name='hidden2')(h)\n",
        "h = Dense(units=32, activation='sigmoid', name='hidden3')(h)\n",
        "o = Dense(units=2, activation='sigmoid', name='output')(h)\n",
        "\n",
        "MLP = Model(inputs=i, outputs=o)\n",
        "MLP.summary()"
      ],
      "execution_count": null,
      "outputs": [
        {
          "output_type": "stream",
          "text": [
            "Model: \"model_1\"\n",
            "_________________________________________________________________\n",
            "Layer (type)                 Output Shape              Param #   \n",
            "=================================================================\n",
            "input (InputLayer)           [(None, 2)]               0         \n",
            "_________________________________________________________________\n",
            "hidden1 (Dense)              (None, 32)                96        \n",
            "_________________________________________________________________\n",
            "hidden2 (Dense)              (None, 64)                2112      \n",
            "_________________________________________________________________\n",
            "hidden3 (Dense)              (None, 32)                2080      \n",
            "_________________________________________________________________\n",
            "output (Dense)               (None, 2)                 66        \n",
            "=================================================================\n",
            "Total params: 4,354\n",
            "Trainable params: 4,354\n",
            "Non-trainable params: 0\n",
            "_________________________________________________________________\n"
          ],
          "name": "stdout"
        }
      ]
    },
    {
      "cell_type": "code",
      "metadata": {
        "id": "x3Gj9q4VbWM0"
      },
      "source": [
        "# Compile it\n",
        "MLP.compile(optimizer='sgd', loss='mse')"
      ],
      "execution_count": null,
      "outputs": []
    },
    {
      "cell_type": "code",
      "metadata": {
        "id": "5yvl3ggEbWM4",
        "colab": {
          "base_uri": "https://localhost:8080/"
        },
        "outputId": "db47dbb5-8607-472f-e8fb-d489be75f1e4"
      },
      "source": [
        "# Train it\n",
        "MLP.fit(x=x_train, y=y_train, batch_size=8, epochs=100, verbose=2, validation_split=0.1)"
      ],
      "execution_count": null,
      "outputs": [
        {
          "output_type": "stream",
          "text": [
            "Epoch 1/100\n",
            "16/16 - 0s - loss: 6.7304 - val_loss: 6.4193\n",
            "Epoch 2/100\n",
            "16/16 - 0s - loss: 6.2379 - val_loss: 6.0846\n",
            "Epoch 3/100\n",
            "16/16 - 0s - loss: 6.0052 - val_loss: 5.9303\n",
            "Epoch 4/100\n",
            "16/16 - 0s - loss: 5.8916 - val_loss: 5.8372\n",
            "Epoch 5/100\n",
            "16/16 - 0s - loss: 5.8213 - val_loss: 5.7746\n",
            "Epoch 6/100\n",
            "16/16 - 0s - loss: 5.7732 - val_loss: 5.7299\n",
            "Epoch 7/100\n",
            "16/16 - 0s - loss: 5.7388 - val_loss: 5.6917\n",
            "Epoch 8/100\n",
            "16/16 - 0s - loss: 5.7093 - val_loss: 5.6674\n",
            "Epoch 9/100\n",
            "16/16 - 0s - loss: 5.6905 - val_loss: 5.6478\n",
            "Epoch 10/100\n",
            "16/16 - 0s - loss: 5.6752 - val_loss: 5.6309\n",
            "Epoch 11/100\n",
            "16/16 - 0s - loss: 5.6621 - val_loss: 5.6156\n",
            "Epoch 12/100\n",
            "16/16 - 0s - loss: 5.6502 - val_loss: 5.6055\n",
            "Epoch 13/100\n",
            "16/16 - 0s - loss: 5.6423 - val_loss: 5.5970\n",
            "Epoch 14/100\n",
            "16/16 - 0s - loss: 5.6357 - val_loss: 5.5889\n",
            "Epoch 15/100\n",
            "16/16 - 0s - loss: 5.6294 - val_loss: 5.5809\n",
            "Epoch 16/100\n",
            "16/16 - 0s - loss: 5.6232 - val_loss: 5.5748\n",
            "Epoch 17/100\n",
            "16/16 - 0s - loss: 5.6184 - val_loss: 5.5695\n",
            "Epoch 18/100\n",
            "16/16 - 0s - loss: 5.6143 - val_loss: 5.5654\n",
            "Epoch 19/100\n",
            "16/16 - 0s - loss: 5.6111 - val_loss: 5.5609\n",
            "Epoch 20/100\n",
            "16/16 - 0s - loss: 5.6077 - val_loss: 5.5568\n",
            "Epoch 21/100\n",
            "16/16 - 0s - loss: 5.6045 - val_loss: 5.5540\n",
            "Epoch 22/100\n",
            "16/16 - 0s - loss: 5.6022 - val_loss: 5.5509\n",
            "Epoch 23/100\n",
            "16/16 - 0s - loss: 5.5999 - val_loss: 5.5485\n",
            "Epoch 24/100\n",
            "16/16 - 0s - loss: 5.5980 - val_loss: 5.5461\n",
            "Epoch 25/100\n",
            "16/16 - 0s - loss: 5.5961 - val_loss: 5.5435\n",
            "Epoch 26/100\n",
            "16/16 - 0s - loss: 5.5942 - val_loss: 5.5413\n",
            "Epoch 27/100\n",
            "16/16 - 0s - loss: 5.5924 - val_loss: 5.5396\n",
            "Epoch 28/100\n",
            "16/16 - 0s - loss: 5.5911 - val_loss: 5.5381\n",
            "Epoch 29/100\n",
            "16/16 - 0s - loss: 5.5900 - val_loss: 5.5367\n",
            "Epoch 30/100\n",
            "16/16 - 0s - loss: 5.5888 - val_loss: 5.5350\n",
            "Epoch 31/100\n",
            "16/16 - 0s - loss: 5.5875 - val_loss: 5.5335\n",
            "Epoch 32/100\n",
            "16/16 - 0s - loss: 5.5863 - val_loss: 5.5320\n",
            "Epoch 33/100\n",
            "16/16 - 0s - loss: 5.5852 - val_loss: 5.5308\n",
            "Epoch 34/100\n",
            "16/16 - 0s - loss: 5.5843 - val_loss: 5.5296\n",
            "Epoch 35/100\n",
            "16/16 - 0s - loss: 5.5833 - val_loss: 5.5284\n",
            "Epoch 36/100\n",
            "16/16 - 0s - loss: 5.5825 - val_loss: 5.5273\n",
            "Epoch 37/100\n",
            "16/16 - 0s - loss: 5.5816 - val_loss: 5.5265\n",
            "Epoch 38/100\n",
            "16/16 - 0s - loss: 5.5810 - val_loss: 5.5255\n",
            "Epoch 39/100\n",
            "16/16 - 0s - loss: 5.5802 - val_loss: 5.5245\n",
            "Epoch 40/100\n",
            "16/16 - 0s - loss: 5.5795 - val_loss: 5.5236\n",
            "Epoch 41/100\n",
            "16/16 - 0s - loss: 5.5788 - val_loss: 5.5230\n",
            "Epoch 42/100\n",
            "16/16 - 0s - loss: 5.5783 - val_loss: 5.5221\n",
            "Epoch 43/100\n",
            "16/16 - 0s - loss: 5.5776 - val_loss: 5.5216\n",
            "Epoch 44/100\n",
            "16/16 - 0s - loss: 5.5772 - val_loss: 5.5209\n",
            "Epoch 45/100\n",
            "16/16 - 0s - loss: 5.5767 - val_loss: 5.5204\n",
            "Epoch 46/100\n",
            "16/16 - 0s - loss: 5.5763 - val_loss: 5.5197\n",
            "Epoch 47/100\n",
            "16/16 - 0s - loss: 5.5758 - val_loss: 5.5190\n",
            "Epoch 48/100\n",
            "16/16 - 0s - loss: 5.5753 - val_loss: 5.5186\n",
            "Epoch 49/100\n",
            "16/16 - 0s - loss: 5.5749 - val_loss: 5.5181\n",
            "Epoch 50/100\n",
            "16/16 - 0s - loss: 5.5746 - val_loss: 5.5175\n",
            "Epoch 51/100\n",
            "16/16 - 0s - loss: 5.5741 - val_loss: 5.5171\n",
            "Epoch 52/100\n",
            "16/16 - 0s - loss: 5.5738 - val_loss: 5.5166\n",
            "Epoch 53/100\n",
            "16/16 - 0s - loss: 5.5734 - val_loss: 5.5163\n",
            "Epoch 54/100\n",
            "16/16 - 0s - loss: 5.5731 - val_loss: 5.5158\n",
            "Epoch 55/100\n",
            "16/16 - 0s - loss: 5.5728 - val_loss: 5.5153\n",
            "Epoch 56/100\n",
            "16/16 - 0s - loss: 5.5724 - val_loss: 5.5150\n",
            "Epoch 57/100\n",
            "16/16 - 0s - loss: 5.5722 - val_loss: 5.5147\n",
            "Epoch 58/100\n",
            "16/16 - 0s - loss: 5.5719 - val_loss: 5.5142\n",
            "Epoch 59/100\n",
            "16/16 - 0s - loss: 5.5716 - val_loss: 5.5139\n",
            "Epoch 60/100\n",
            "16/16 - 0s - loss: 5.5713 - val_loss: 5.5135\n",
            "Epoch 61/100\n",
            "16/16 - 0s - loss: 5.5710 - val_loss: 5.5132\n",
            "Epoch 62/100\n",
            "16/16 - 0s - loss: 5.5708 - val_loss: 5.5129\n",
            "Epoch 63/100\n",
            "16/16 - 0s - loss: 5.5706 - val_loss: 5.5126\n",
            "Epoch 64/100\n",
            "16/16 - 0s - loss: 5.5704 - val_loss: 5.5123\n",
            "Epoch 65/100\n",
            "16/16 - 0s - loss: 5.5701 - val_loss: 5.5120\n",
            "Epoch 66/100\n",
            "16/16 - 0s - loss: 5.5699 - val_loss: 5.5118\n",
            "Epoch 67/100\n",
            "16/16 - 0s - loss: 5.5697 - val_loss: 5.5114\n",
            "Epoch 68/100\n",
            "16/16 - 0s - loss: 5.5695 - val_loss: 5.5112\n",
            "Epoch 69/100\n",
            "16/16 - 0s - loss: 5.5693 - val_loss: 5.5109\n",
            "Epoch 70/100\n",
            "16/16 - 0s - loss: 5.5691 - val_loss: 5.5107\n",
            "Epoch 71/100\n",
            "16/16 - 0s - loss: 5.5689 - val_loss: 5.5104\n",
            "Epoch 72/100\n",
            "16/16 - 0s - loss: 5.5687 - val_loss: 5.5102\n",
            "Epoch 73/100\n",
            "16/16 - 0s - loss: 5.5685 - val_loss: 5.5100\n",
            "Epoch 74/100\n",
            "16/16 - 0s - loss: 5.5684 - val_loss: 5.5098\n",
            "Epoch 75/100\n",
            "16/16 - 0s - loss: 5.5682 - val_loss: 5.5096\n",
            "Epoch 76/100\n",
            "16/16 - 0s - loss: 5.5681 - val_loss: 5.5094\n",
            "Epoch 77/100\n",
            "16/16 - 0s - loss: 5.5679 - val_loss: 5.5092\n",
            "Epoch 78/100\n",
            "16/16 - 0s - loss: 5.5678 - val_loss: 5.5091\n",
            "Epoch 79/100\n",
            "16/16 - 0s - loss: 5.5676 - val_loss: 5.5089\n",
            "Epoch 80/100\n",
            "16/16 - 0s - loss: 5.5675 - val_loss: 5.5087\n",
            "Epoch 81/100\n",
            "16/16 - 0s - loss: 5.5674 - val_loss: 5.5086\n",
            "Epoch 82/100\n",
            "16/16 - 0s - loss: 5.5673 - val_loss: 5.5084\n",
            "Epoch 83/100\n",
            "16/16 - 0s - loss: 5.5671 - val_loss: 5.5082\n",
            "Epoch 84/100\n",
            "16/16 - 0s - loss: 5.5670 - val_loss: 5.5081\n",
            "Epoch 85/100\n",
            "16/16 - 0s - loss: 5.5669 - val_loss: 5.5079\n",
            "Epoch 86/100\n",
            "16/16 - 0s - loss: 5.5667 - val_loss: 5.5077\n",
            "Epoch 87/100\n",
            "16/16 - 0s - loss: 5.5666 - val_loss: 5.5076\n",
            "Epoch 88/100\n",
            "16/16 - 0s - loss: 5.5665 - val_loss: 5.5075\n",
            "Epoch 89/100\n",
            "16/16 - 0s - loss: 5.5664 - val_loss: 5.5073\n",
            "Epoch 90/100\n",
            "16/16 - 0s - loss: 5.5663 - val_loss: 5.5071\n",
            "Epoch 91/100\n",
            "16/16 - 0s - loss: 5.5662 - val_loss: 5.5070\n",
            "Epoch 92/100\n",
            "16/16 - 0s - loss: 5.5661 - val_loss: 5.5069\n",
            "Epoch 93/100\n",
            "16/16 - 0s - loss: 5.5660 - val_loss: 5.5067\n",
            "Epoch 94/100\n",
            "16/16 - 0s - loss: 5.5659 - val_loss: 5.5066\n",
            "Epoch 95/100\n",
            "16/16 - 0s - loss: 5.5658 - val_loss: 5.5065\n",
            "Epoch 96/100\n",
            "16/16 - 0s - loss: 5.5657 - val_loss: 5.5063\n",
            "Epoch 97/100\n",
            "16/16 - 0s - loss: 5.5656 - val_loss: 5.5062\n",
            "Epoch 98/100\n",
            "16/16 - 0s - loss: 5.5655 - val_loss: 5.5061\n",
            "Epoch 99/100\n",
            "16/16 - 0s - loss: 5.5654 - val_loss: 5.5059\n",
            "Epoch 100/100\n",
            "16/16 - 0s - loss: 5.5653 - val_loss: 5.5058\n"
          ],
          "name": "stdout"
        },
        {
          "output_type": "execute_result",
          "data": {
            "text/plain": [
              "<tensorflow.python.keras.callbacks.History at 0x7f4185fabc90>"
            ]
          },
          "metadata": {
            "tags": []
          },
          "execution_count": 17
        }
      ]
    },
    {
      "cell_type": "code",
      "metadata": {
        "id": "ke48v-Am2Jsz",
        "colab": {
          "base_uri": "https://localhost:8080/",
          "height": 334
        },
        "outputId": "a13b1ed0-af03-46f7-bebc-1bb80b5f3e33"
      },
      "source": [
        "# Plot loss (The object MLP keeps track of the training and validation performance)\n",
        "plt.figure(figsize=(12, 5))\n",
        "plt.plot(MLP.history.history['loss'], label='Training', linewidth=2)\n",
        "plt.plot(MLP.history.history['val_loss'], label='Validation', linewidth=2)\n",
        "plt.legend()\n",
        "plt.xlabel('Epoch')\n",
        "plt.ylabel('Loss')\n",
        "plt.grid(True)\n",
        "plt.show()"
      ],
      "execution_count": null,
      "outputs": [
        {
          "output_type": "display_data",
          "data": {
            "image/png": "[encoded data removed]",
            "text/plain": [
              "<Figure size 864x360 with 1 Axes>"
            ]
          },
          "metadata": {
            "tags": [],
            "needs_background": "light"
          }
        }
      ]
    },
    {
      "cell_type": "code",
      "metadata": {
        "id": "pE6qPetP2ywl",
        "colab": {
          "base_uri": "https://localhost:8080/"
        },
        "outputId": "75516508-e179-4524-be04-70267090848c"
      },
      "source": [
        "# Obtain weights and biases of the hidden layer\n",
        "for layer in MLP.layers[1:]:\n",
        "  w, b = layer.get_weights()\n",
        "  print(\"Weights: \", w.shape, end='\\t') #print(w)\n",
        "  print(\"Biases:  \", b.shape) #print(b)"
      ],
      "execution_count": null,
      "outputs": [
        {
          "output_type": "stream",
          "text": [
            "Weights:  (2, 32)\tBiases:   (32,)\n",
            "Weights:  (32, 64)\tBiases:   (64,)\n",
            "Weights:  (64, 32)\tBiases:   (32,)\n",
            "Weights:  (32, 2)\tBiases:   (2,)\n"
          ],
          "name": "stdout"
        }
      ]
    },
    {
      "cell_type": "code",
      "metadata": {
        "id": "PcSe0ybzbWM7",
        "colab": {
          "base_uri": "https://localhost:8080/"
        },
        "outputId": "8404f382-3a50-468e-89b2-dd9a457e2346"
      },
      "source": [
        "# Use the trained model to compute the average test loss\n",
        "MLP.evaluate(x=x_test, y=y_test, verbose=False)"
      ],
      "execution_count": null,
      "outputs": [
        {
          "output_type": "execute_result",
          "data": {
            "text/plain": [
              "6.656439304351807"
            ]
          },
          "metadata": {
            "tags": []
          },
          "execution_count": 20
        }
      ]
    },
    {
      "cell_type": "code",
      "metadata": {
        "id": "WgIBxyqobWNA",
        "colab": {
          "base_uri": "https://localhost:8080/"
        },
        "outputId": "99797e59-b7f0-410c-e4ff-199448ba3781"
      },
      "source": [
        "# Now generate the predictions on the test set\n",
        "y_test_hat = MLP.predict(x=x_test)\n",
        "print(y_test_hat.shape)"
      ],
      "execution_count": null,
      "outputs": [
        {
          "output_type": "stream",
          "text": [
            "(15, 2)\n"
          ],
          "name": "stdout"
        }
      ]
    },
    {
      "cell_type": "code",
      "metadata": {
        "id": "fgU_z-yiRus-",
        "colab": {
          "base_uri": "https://localhost:8080/",
          "height": 295
        },
        "outputId": "8edd3b03-40a6-40cc-a957-73a74f8f163e"
      },
      "source": [
        "# Plot y_test_hat\n",
        "plt.scatter(y_test[l_test==0, 0], y_test[l_test==0, 1], c='b', label='set y')\n",
        "plt.scatter(y_test[l_test==1, 0], y_test[l_test==1, 1], c='r', label='ver y')\n",
        "plt.scatter(y_test[l_test==2, 0], y_test[l_test==2, 1], c='g', label='vir y')\n",
        "\n",
        "plt.scatter(y_test_hat[l_test==0, 0], y_test_hat[l_test==0, 1], c='b', marker='+', label='set y_h')\n",
        "plt.scatter(y_test_hat[l_test==1, 0], y_test_hat[l_test==1, 1], c='r', marker='+', label='ver y_h')\n",
        "plt.scatter(y_test_hat[l_test==2, 0], y_test_hat[l_test==2, 1], c='g', marker='+', label='vir y_h')\n",
        "\n",
        "plt.legend()\n",
        "plt.grid(True)\n",
        "plt.xlabel('sepal length')\n",
        "plt.ylabel('sepal width')\n",
        "plt.title('Test set and its prediction')\n",
        "plt.show()"
      ],
      "execution_count": null,
      "outputs": [
        {
          "output_type": "display_data",
          "data": {
            "image/png": "[encoded data removed]",
            "text/plain": [
              "<Figure size 432x288 with 1 Axes>"
            ]
          },
          "metadata": {
            "tags": [],
            "needs_background": "light"
          }
        }
      ]
    },
    {
      "cell_type": "code",
      "metadata": {
        "id": "ostTTvo_7A6q"
      },
      "source": [
        "# Auxiliar function to create an MLP\n",
        "def create_MLP(n_units=[2, 1], activations=None, last_activation=None):\n",
        "  h = i = Input(shape=(n_units[0]))\n",
        "  for units in n_units[1:-1]:\n",
        "    h = Dense(units=units, activation=activations)(h)\n",
        "  o = Dense(units=n_units[-1], activation=last_activation)(h)\n",
        "  return Model(inputs=i, outputs=o)"
      ],
      "execution_count": null,
      "outputs": []
    },
    {
      "cell_type": "code",
      "metadata": {
        "id": "zN_Vj0e2568J",
        "colab": {
          "base_uri": "https://localhost:8080/"
        },
        "outputId": "5ce48ea3-4afc-4c9d-fb0a-5d133bb5e084"
      },
      "source": [
        "# Corre el experimento 100 veces y registra el desempeño promedio y el tiempo de ejecución\n",
        "loss = np.zeros((10, 2))\n",
        "for ind in range(10):\n",
        "  MLP = create_MLP([2, 32, 16, 8, 2], activations='sigmoid', last_activation='relu')\n",
        "  MLP.compile(optimizer='sgd', loss='mse')\n",
        "  MLP.fit(x=x_train, y=y_train, batch_size=8, epochs=100, verbose=0, validation_split=0.2)\n",
        "  loss[ind, 0] = MLP.evaluate(x=x_train, y=y_train, verbose=False)\n",
        "  loss[ind, 1] = MLP.evaluate(x=x_test, y=y_test, verbose=False)\n",
        "  print(f\"Run {ind+1:3d} -- \", end='')\n",
        "  print(f\"Train loss: {loss[ind, 0]:6.4f}\", end='; ')\n",
        "  print(f\"Test loss: {loss[ind, 1]:6.4f}\")\n",
        "\n",
        "print(\"Average -- \", end='')\n",
        "print(f\" train loss: {loss[:, 0].mean():6.4f} +- {loss[:, 0].std():6.4f}\", end='; ')\n",
        "print(f\" test loss: {loss[:, 1].mean():6.4f} +- {loss[:, 1].std():6.4f}\")"
      ],
      "execution_count": null,
      "outputs": [
        {
          "output_type": "stream",
          "text": [
            "Run   1 -- Train loss: 0.1389; Test loss: 0.1718\n",
            "Run   2 -- Train loss: 1.0654; Test loss: 1.2951\n",
            "Run   3 -- Train loss: 1.1532; Test loss: 1.3023\n",
            "Run   4 -- Train loss: 1.0946; Test loss: 1.3636\n",
            "Run   5 -- Train loss: 9.3527; Test loss: 10.6733\n",
            "Run   6 -- Train loss: 0.1326; Test loss: 0.2068\n",
            "Run   7 -- Train loss: 0.1269; Test loss: 0.1676\n",
            "Run   8 -- Train loss: 1.0719; Test loss: 1.2687\n",
            "Run   9 -- Train loss: 0.1379; Test loss: 0.1808\n",
            "Run  10 -- Train loss: 8.4103; Test loss: 9.6046\n",
            "Average --  train loss: 2.2684 +- 3.3411;  test loss: 2.6235 +- 3.7989\n"
          ],
          "name": "stdout"
        }
      ]
    },
    {
      "cell_type": "code",
      "metadata": {
        "id": "9tjN--xD7TsX"
      },
      "source": [
        ""
      ],
      "execution_count": null,
      "outputs": []
    }
  ]
}
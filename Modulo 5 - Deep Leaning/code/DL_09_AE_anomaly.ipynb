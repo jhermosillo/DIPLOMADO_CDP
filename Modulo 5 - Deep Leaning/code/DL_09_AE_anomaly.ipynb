{
  "nbformat": 4,
  "nbformat_minor": 0,
  "metadata": {
    "colab": {
      "name": "DL_09_AE_anomaly.ipynb",
      "provenance": [],
      "collapsed_sections": [],
      "toc_visible": true,
      "authorship_tag": "ABX9TyMJKYbxSFVfThUessDmYLTM",
      "include_colab_link": true
    },
    "kernelspec": {
      "name": "python3",
      "display_name": "Python 3"
    },
    "accelerator": "TPU"
  },
  "cells": [
    {
      "cell_type": "markdown",
      "metadata": {
        "id": "view-in-github",
        "colab_type": "text"
      },
      "source": [
        "<a href=\"https://colab.research.google.com/github/jhermosillo/DIPLOMADO_CDP/blob/main/Modulo%205%20-%20Deep%20Leaning/code/DL_09_AE_anomaly.ipynb\" target=\"_parent\"><img src=\"https://colab.research.google.com/assets/colab-badge.svg\" alt=\"Open In Colab\"/></a>"
      ]
    },
    {
      "cell_type": "code",
      "metadata": {
        "id": "jolv41Yx2ri8"
      },
      "source": [
        "import numpy as np\n",
        "import matplotlib.pyplot as plt\n",
        "import pandas as pd\n",
        "from sklearn.preprocessing import StandardScaler\n",
        "from sklearn.model_selection import train_test_split"
      ],
      "execution_count": null,
      "outputs": []
    },
    {
      "cell_type": "code",
      "metadata": {
        "id": "00VizCbu3074"
      },
      "source": [
        "# GOALS:\n",
        "# - Train ourselves on unsupervised deep learning.\n",
        "# - Train ourselves on the use of autoencoders (AE).\n",
        "# - Use an AE to estimate latent representations of some numeric data.\n",
        "# - Use those latent representations to detect anomalies (abnormal data)."
      ],
      "execution_count": null,
      "outputs": []
    },
    {
      "cell_type": "code",
      "metadata": {
        "id": "sNnrnlAm6fp-"
      },
      "source": [
        "# Data set: https://www.kaggle.com/mlg-ulb/creditcardfraud\n",
        "# https://www.kaggle.com/mlg-ulb/creditcardfraud/download\n",
        "#\n",
        "# The datasets contains transactions made by credit cards in September 2013 by european cardholders.\n",
        "# This dataset presents transactions that occurred in two days, where we have 492 frauds out of 284,807 transactions.\n",
        "# The dataset is highly unbalanced, the positive class (frauds) account for 0.172% of all transactions.\n",
        "#\n",
        "# It contains only numerical input variables which are the result of a PCA transformation (privacy reasons).\n",
        "# Features V1, V2, … V28 are the principal components obtained with PCA, the only features which have not been transformed with PCA are\n",
        "# 'Time' and 'Amount'. Feature 'Time' contains the seconds elapsed between each transaction and the first transaction in the dataset.\n",
        "# The feature 'Amount' is the transaction Amount. Feature 'Class' is the response variable and it takes value 1 in case of fraud\n",
        "# and 0 otherwise."
      ],
      "execution_count": null,
      "outputs": []
    },
    {
      "cell_type": "markdown",
      "metadata": {
        "id": "sUfvYquT7i74"
      },
      "source": [
        "# Part 1: Load data"
      ]
    },
    {
      "cell_type": "code",
      "metadata": {
        "id": "w0T8Z5_O3mV7",
        "colab": {
          "base_uri": "https://localhost:8080/",
          "height": 52
        },
        "outputId": "e7c336e5-9103-4a28-b93a-a5b43158b0dc"
      },
      "source": [
        "# Load data\n",
        "df = pd.read_csv(\"creditcard.csv\")\n",
        "print(df.shape)\n",
        "\n",
        "# Remueve entries with nan values\n",
        "df.dropna(inplace=True)\n",
        "df.isnull().values.any()"
      ],
      "execution_count": null,
      "outputs": [
        {
          "output_type": "stream",
          "text": [
            "(284807, 31)\n"
          ],
          "name": "stdout"
        },
        {
          "output_type": "execute_result",
          "data": {
            "text/plain": [
              "False"
            ]
          },
          "metadata": {
            "tags": []
          },
          "execution_count": 5
        }
      ]
    },
    {
      "cell_type": "code",
      "metadata": {
        "id": "uLPwMzKF39We",
        "colab": {
          "base_uri": "https://localhost:8080/",
          "height": 444
        },
        "outputId": "b1c76853-7a5d-40f5-9a70-67e9a9cf6222"
      },
      "source": [
        "# Show a summary\n",
        "df"
      ],
      "execution_count": null,
      "outputs": [
        {
          "output_type": "execute_result",
          "data": {
            "text/html": [
              "<div>\n",
              "<style scoped>\n",
              "    .dataframe tbody tr th:only-of-type {\n",
              "        vertical-align: middle;\n",
              "    }\n",
              "\n",
              "    .dataframe tbody tr th {\n",
              "        vertical-align: top;\n",
              "    }\n",
              "\n",
              "    .dataframe thead th {\n",
              "        text-align: right;\n",
              "    }\n",
              "</style>\n",
              "<table border=\"1\" class=\"dataframe\">\n",
              "  <thead>\n",
              "    <tr style=\"text-align: right;\">\n",
              "      <th></th>\n",
              "      <th>Time</th>\n",
              "      <th>V1</th>\n",
              "      <th>V2</th>\n",
              "      <th>V3</th>\n",
              "      <th>V4</th>\n",
              "      <th>V5</th>\n",
              "      <th>V6</th>\n",
              "      <th>V7</th>\n",
              "      <th>V8</th>\n",
              "      <th>V9</th>\n",
              "      <th>V10</th>\n",
              "      <th>V11</th>\n",
              "      <th>V12</th>\n",
              "      <th>V13</th>\n",
              "      <th>V14</th>\n",
              "      <th>V15</th>\n",
              "      <th>V16</th>\n",
              "      <th>V17</th>\n",
              "      <th>V18</th>\n",
              "      <th>V19</th>\n",
              "      <th>V20</th>\n",
              "      <th>V21</th>\n",
              "      <th>V22</th>\n",
              "      <th>V23</th>\n",
              "      <th>V24</th>\n",
              "      <th>V25</th>\n",
              "      <th>V26</th>\n",
              "      <th>V27</th>\n",
              "      <th>V28</th>\n",
              "      <th>Amount</th>\n",
              "      <th>Class</th>\n",
              "    </tr>\n",
              "  </thead>\n",
              "  <tbody>\n",
              "    <tr>\n",
              "      <th>0</th>\n",
              "      <td>0.0</td>\n",
              "      <td>-1.359807</td>\n",
              "      <td>-0.072781</td>\n",
              "      <td>2.536347</td>\n",
              "      <td>1.378155</td>\n",
              "      <td>-0.338321</td>\n",
              "      <td>0.462388</td>\n",
              "      <td>0.239599</td>\n",
              "      <td>0.098698</td>\n",
              "      <td>0.363787</td>\n",
              "      <td>0.090794</td>\n",
              "      <td>-0.551600</td>\n",
              "      <td>-0.617801</td>\n",
              "      <td>-0.991390</td>\n",
              "      <td>-0.311169</td>\n",
              "      <td>1.468177</td>\n",
              "      <td>-0.470401</td>\n",
              "      <td>0.207971</td>\n",
              "      <td>0.025791</td>\n",
              "      <td>0.403993</td>\n",
              "      <td>0.251412</td>\n",
              "      <td>-0.018307</td>\n",
              "      <td>0.277838</td>\n",
              "      <td>-0.110474</td>\n",
              "      <td>0.066928</td>\n",
              "      <td>0.128539</td>\n",
              "      <td>-0.189115</td>\n",
              "      <td>0.133558</td>\n",
              "      <td>-0.021053</td>\n",
              "      <td>149.62</td>\n",
              "      <td>0</td>\n",
              "    </tr>\n",
              "    <tr>\n",
              "      <th>1</th>\n",
              "      <td>0.0</td>\n",
              "      <td>1.191857</td>\n",
              "      <td>0.266151</td>\n",
              "      <td>0.166480</td>\n",
              "      <td>0.448154</td>\n",
              "      <td>0.060018</td>\n",
              "      <td>-0.082361</td>\n",
              "      <td>-0.078803</td>\n",
              "      <td>0.085102</td>\n",
              "      <td>-0.255425</td>\n",
              "      <td>-0.166974</td>\n",
              "      <td>1.612727</td>\n",
              "      <td>1.065235</td>\n",
              "      <td>0.489095</td>\n",
              "      <td>-0.143772</td>\n",
              "      <td>0.635558</td>\n",
              "      <td>0.463917</td>\n",
              "      <td>-0.114805</td>\n",
              "      <td>-0.183361</td>\n",
              "      <td>-0.145783</td>\n",
              "      <td>-0.069083</td>\n",
              "      <td>-0.225775</td>\n",
              "      <td>-0.638672</td>\n",
              "      <td>0.101288</td>\n",
              "      <td>-0.339846</td>\n",
              "      <td>0.167170</td>\n",
              "      <td>0.125895</td>\n",
              "      <td>-0.008983</td>\n",
              "      <td>0.014724</td>\n",
              "      <td>2.69</td>\n",
              "      <td>0</td>\n",
              "    </tr>\n",
              "    <tr>\n",
              "      <th>2</th>\n",
              "      <td>1.0</td>\n",
              "      <td>-1.358354</td>\n",
              "      <td>-1.340163</td>\n",
              "      <td>1.773209</td>\n",
              "      <td>0.379780</td>\n",
              "      <td>-0.503198</td>\n",
              "      <td>1.800499</td>\n",
              "      <td>0.791461</td>\n",
              "      <td>0.247676</td>\n",
              "      <td>-1.514654</td>\n",
              "      <td>0.207643</td>\n",
              "      <td>0.624501</td>\n",
              "      <td>0.066084</td>\n",
              "      <td>0.717293</td>\n",
              "      <td>-0.165946</td>\n",
              "      <td>2.345865</td>\n",
              "      <td>-2.890083</td>\n",
              "      <td>1.109969</td>\n",
              "      <td>-0.121359</td>\n",
              "      <td>-2.261857</td>\n",
              "      <td>0.524980</td>\n",
              "      <td>0.247998</td>\n",
              "      <td>0.771679</td>\n",
              "      <td>0.909412</td>\n",
              "      <td>-0.689281</td>\n",
              "      <td>-0.327642</td>\n",
              "      <td>-0.139097</td>\n",
              "      <td>-0.055353</td>\n",
              "      <td>-0.059752</td>\n",
              "      <td>378.66</td>\n",
              "      <td>0</td>\n",
              "    </tr>\n",
              "    <tr>\n",
              "      <th>3</th>\n",
              "      <td>1.0</td>\n",
              "      <td>-0.966272</td>\n",
              "      <td>-0.185226</td>\n",
              "      <td>1.792993</td>\n",
              "      <td>-0.863291</td>\n",
              "      <td>-0.010309</td>\n",
              "      <td>1.247203</td>\n",
              "      <td>0.237609</td>\n",
              "      <td>0.377436</td>\n",
              "      <td>-1.387024</td>\n",
              "      <td>-0.054952</td>\n",
              "      <td>-0.226487</td>\n",
              "      <td>0.178228</td>\n",
              "      <td>0.507757</td>\n",
              "      <td>-0.287924</td>\n",
              "      <td>-0.631418</td>\n",
              "      <td>-1.059647</td>\n",
              "      <td>-0.684093</td>\n",
              "      <td>1.965775</td>\n",
              "      <td>-1.232622</td>\n",
              "      <td>-0.208038</td>\n",
              "      <td>-0.108300</td>\n",
              "      <td>0.005274</td>\n",
              "      <td>-0.190321</td>\n",
              "      <td>-1.175575</td>\n",
              "      <td>0.647376</td>\n",
              "      <td>-0.221929</td>\n",
              "      <td>0.062723</td>\n",
              "      <td>0.061458</td>\n",
              "      <td>123.50</td>\n",
              "      <td>0</td>\n",
              "    </tr>\n",
              "    <tr>\n",
              "      <th>4</th>\n",
              "      <td>2.0</td>\n",
              "      <td>-1.158233</td>\n",
              "      <td>0.877737</td>\n",
              "      <td>1.548718</td>\n",
              "      <td>0.403034</td>\n",
              "      <td>-0.407193</td>\n",
              "      <td>0.095921</td>\n",
              "      <td>0.592941</td>\n",
              "      <td>-0.270533</td>\n",
              "      <td>0.817739</td>\n",
              "      <td>0.753074</td>\n",
              "      <td>-0.822843</td>\n",
              "      <td>0.538196</td>\n",
              "      <td>1.345852</td>\n",
              "      <td>-1.119670</td>\n",
              "      <td>0.175121</td>\n",
              "      <td>-0.451449</td>\n",
              "      <td>-0.237033</td>\n",
              "      <td>-0.038195</td>\n",
              "      <td>0.803487</td>\n",
              "      <td>0.408542</td>\n",
              "      <td>-0.009431</td>\n",
              "      <td>0.798278</td>\n",
              "      <td>-0.137458</td>\n",
              "      <td>0.141267</td>\n",
              "      <td>-0.206010</td>\n",
              "      <td>0.502292</td>\n",
              "      <td>0.219422</td>\n",
              "      <td>0.215153</td>\n",
              "      <td>69.99</td>\n",
              "      <td>0</td>\n",
              "    </tr>\n",
              "    <tr>\n",
              "      <th>...</th>\n",
              "      <td>...</td>\n",
              "      <td>...</td>\n",
              "      <td>...</td>\n",
              "      <td>...</td>\n",
              "      <td>...</td>\n",
              "      <td>...</td>\n",
              "      <td>...</td>\n",
              "      <td>...</td>\n",
              "      <td>...</td>\n",
              "      <td>...</td>\n",
              "      <td>...</td>\n",
              "      <td>...</td>\n",
              "      <td>...</td>\n",
              "      <td>...</td>\n",
              "      <td>...</td>\n",
              "      <td>...</td>\n",
              "      <td>...</td>\n",
              "      <td>...</td>\n",
              "      <td>...</td>\n",
              "      <td>...</td>\n",
              "      <td>...</td>\n",
              "      <td>...</td>\n",
              "      <td>...</td>\n",
              "      <td>...</td>\n",
              "      <td>...</td>\n",
              "      <td>...</td>\n",
              "      <td>...</td>\n",
              "      <td>...</td>\n",
              "      <td>...</td>\n",
              "      <td>...</td>\n",
              "      <td>...</td>\n",
              "    </tr>\n",
              "    <tr>\n",
              "      <th>284802</th>\n",
              "      <td>172786.0</td>\n",
              "      <td>-11.881118</td>\n",
              "      <td>10.071785</td>\n",
              "      <td>-9.834783</td>\n",
              "      <td>-2.066656</td>\n",
              "      <td>-5.364473</td>\n",
              "      <td>-2.606837</td>\n",
              "      <td>-4.918215</td>\n",
              "      <td>7.305334</td>\n",
              "      <td>1.914428</td>\n",
              "      <td>4.356170</td>\n",
              "      <td>-1.593105</td>\n",
              "      <td>2.711941</td>\n",
              "      <td>-0.689256</td>\n",
              "      <td>4.626942</td>\n",
              "      <td>-0.924459</td>\n",
              "      <td>1.107641</td>\n",
              "      <td>1.991691</td>\n",
              "      <td>0.510632</td>\n",
              "      <td>-0.682920</td>\n",
              "      <td>1.475829</td>\n",
              "      <td>0.213454</td>\n",
              "      <td>0.111864</td>\n",
              "      <td>1.014480</td>\n",
              "      <td>-0.509348</td>\n",
              "      <td>1.436807</td>\n",
              "      <td>0.250034</td>\n",
              "      <td>0.943651</td>\n",
              "      <td>0.823731</td>\n",
              "      <td>0.77</td>\n",
              "      <td>0</td>\n",
              "    </tr>\n",
              "    <tr>\n",
              "      <th>284803</th>\n",
              "      <td>172787.0</td>\n",
              "      <td>-0.732789</td>\n",
              "      <td>-0.055080</td>\n",
              "      <td>2.035030</td>\n",
              "      <td>-0.738589</td>\n",
              "      <td>0.868229</td>\n",
              "      <td>1.058415</td>\n",
              "      <td>0.024330</td>\n",
              "      <td>0.294869</td>\n",
              "      <td>0.584800</td>\n",
              "      <td>-0.975926</td>\n",
              "      <td>-0.150189</td>\n",
              "      <td>0.915802</td>\n",
              "      <td>1.214756</td>\n",
              "      <td>-0.675143</td>\n",
              "      <td>1.164931</td>\n",
              "      <td>-0.711757</td>\n",
              "      <td>-0.025693</td>\n",
              "      <td>-1.221179</td>\n",
              "      <td>-1.545556</td>\n",
              "      <td>0.059616</td>\n",
              "      <td>0.214205</td>\n",
              "      <td>0.924384</td>\n",
              "      <td>0.012463</td>\n",
              "      <td>-1.016226</td>\n",
              "      <td>-0.606624</td>\n",
              "      <td>-0.395255</td>\n",
              "      <td>0.068472</td>\n",
              "      <td>-0.053527</td>\n",
              "      <td>24.79</td>\n",
              "      <td>0</td>\n",
              "    </tr>\n",
              "    <tr>\n",
              "      <th>284804</th>\n",
              "      <td>172788.0</td>\n",
              "      <td>1.919565</td>\n",
              "      <td>-0.301254</td>\n",
              "      <td>-3.249640</td>\n",
              "      <td>-0.557828</td>\n",
              "      <td>2.630515</td>\n",
              "      <td>3.031260</td>\n",
              "      <td>-0.296827</td>\n",
              "      <td>0.708417</td>\n",
              "      <td>0.432454</td>\n",
              "      <td>-0.484782</td>\n",
              "      <td>0.411614</td>\n",
              "      <td>0.063119</td>\n",
              "      <td>-0.183699</td>\n",
              "      <td>-0.510602</td>\n",
              "      <td>1.329284</td>\n",
              "      <td>0.140716</td>\n",
              "      <td>0.313502</td>\n",
              "      <td>0.395652</td>\n",
              "      <td>-0.577252</td>\n",
              "      <td>0.001396</td>\n",
              "      <td>0.232045</td>\n",
              "      <td>0.578229</td>\n",
              "      <td>-0.037501</td>\n",
              "      <td>0.640134</td>\n",
              "      <td>0.265745</td>\n",
              "      <td>-0.087371</td>\n",
              "      <td>0.004455</td>\n",
              "      <td>-0.026561</td>\n",
              "      <td>67.88</td>\n",
              "      <td>0</td>\n",
              "    </tr>\n",
              "    <tr>\n",
              "      <th>284805</th>\n",
              "      <td>172788.0</td>\n",
              "      <td>-0.240440</td>\n",
              "      <td>0.530483</td>\n",
              "      <td>0.702510</td>\n",
              "      <td>0.689799</td>\n",
              "      <td>-0.377961</td>\n",
              "      <td>0.623708</td>\n",
              "      <td>-0.686180</td>\n",
              "      <td>0.679145</td>\n",
              "      <td>0.392087</td>\n",
              "      <td>-0.399126</td>\n",
              "      <td>-1.933849</td>\n",
              "      <td>-0.962886</td>\n",
              "      <td>-1.042082</td>\n",
              "      <td>0.449624</td>\n",
              "      <td>1.962563</td>\n",
              "      <td>-0.608577</td>\n",
              "      <td>0.509928</td>\n",
              "      <td>1.113981</td>\n",
              "      <td>2.897849</td>\n",
              "      <td>0.127434</td>\n",
              "      <td>0.265245</td>\n",
              "      <td>0.800049</td>\n",
              "      <td>-0.163298</td>\n",
              "      <td>0.123205</td>\n",
              "      <td>-0.569159</td>\n",
              "      <td>0.546668</td>\n",
              "      <td>0.108821</td>\n",
              "      <td>0.104533</td>\n",
              "      <td>10.00</td>\n",
              "      <td>0</td>\n",
              "    </tr>\n",
              "    <tr>\n",
              "      <th>284806</th>\n",
              "      <td>172792.0</td>\n",
              "      <td>-0.533413</td>\n",
              "      <td>-0.189733</td>\n",
              "      <td>0.703337</td>\n",
              "      <td>-0.506271</td>\n",
              "      <td>-0.012546</td>\n",
              "      <td>-0.649617</td>\n",
              "      <td>1.577006</td>\n",
              "      <td>-0.414650</td>\n",
              "      <td>0.486180</td>\n",
              "      <td>-0.915427</td>\n",
              "      <td>-1.040458</td>\n",
              "      <td>-0.031513</td>\n",
              "      <td>-0.188093</td>\n",
              "      <td>-0.084316</td>\n",
              "      <td>0.041333</td>\n",
              "      <td>-0.302620</td>\n",
              "      <td>-0.660377</td>\n",
              "      <td>0.167430</td>\n",
              "      <td>-0.256117</td>\n",
              "      <td>0.382948</td>\n",
              "      <td>0.261057</td>\n",
              "      <td>0.643078</td>\n",
              "      <td>0.376777</td>\n",
              "      <td>0.008797</td>\n",
              "      <td>-0.473649</td>\n",
              "      <td>-0.818267</td>\n",
              "      <td>-0.002415</td>\n",
              "      <td>0.013649</td>\n",
              "      <td>217.00</td>\n",
              "      <td>0</td>\n",
              "    </tr>\n",
              "  </tbody>\n",
              "</table>\n",
              "<p>284807 rows × 31 columns</p>\n",
              "</div>"
            ],
            "text/plain": [
              "            Time         V1         V2  ...       V28  Amount  Class\n",
              "0            0.0  -1.359807  -0.072781  ... -0.021053  149.62      0\n",
              "1            0.0   1.191857   0.266151  ...  0.014724    2.69      0\n",
              "2            1.0  -1.358354  -1.340163  ... -0.059752  378.66      0\n",
              "3            1.0  -0.966272  -0.185226  ...  0.061458  123.50      0\n",
              "4            2.0  -1.158233   0.877737  ...  0.215153   69.99      0\n",
              "...          ...        ...        ...  ...       ...     ...    ...\n",
              "284802  172786.0 -11.881118  10.071785  ...  0.823731    0.77      0\n",
              "284803  172787.0  -0.732789  -0.055080  ... -0.053527   24.79      0\n",
              "284804  172788.0   1.919565  -0.301254  ... -0.026561   67.88      0\n",
              "284805  172788.0  -0.240440   0.530483  ...  0.104533   10.00      0\n",
              "284806  172792.0  -0.533413  -0.189733  ...  0.013649  217.00      0\n",
              "\n",
              "[284807 rows x 31 columns]"
            ]
          },
          "metadata": {
            "tags": []
          },
          "execution_count": 6
        }
      ]
    },
    {
      "cell_type": "code",
      "metadata": {
        "id": "YTZQyeqW5pMv",
        "colab": {
          "base_uri": "https://localhost:8080/",
          "height": 69
        },
        "outputId": "2e95485b-f994-4c8f-9d9a-b182d6f27073"
      },
      "source": [
        "# Note classes are not balanced at all\n",
        "classes_count = pd.value_counts(df['Class'], sort = True)\n",
        "classes_count"
      ],
      "execution_count": null,
      "outputs": [
        {
          "output_type": "execute_result",
          "data": {
            "text/plain": [
              "0    284315\n",
              "1       492\n",
              "Name: Class, dtype: int64"
            ]
          },
          "metadata": {
            "tags": []
          },
          "execution_count": 7
        }
      ]
    },
    {
      "cell_type": "code",
      "metadata": {
        "id": "CvaOYla_57r_",
        "colab": {
          "base_uri": "https://localhost:8080/",
          "height": 173
        },
        "outputId": "136589e5-575e-4ca0-b01a-fe45bc238cc0"
      },
      "source": [
        "# summary of class 0 (normal transactions)\n",
        "df[df.Class == 0].Amount.describe()"
      ],
      "execution_count": null,
      "outputs": [
        {
          "output_type": "execute_result",
          "data": {
            "text/plain": [
              "count    284315.000000\n",
              "mean         88.291022\n",
              "std         250.105092\n",
              "min           0.000000\n",
              "25%           5.650000\n",
              "50%          22.000000\n",
              "75%          77.050000\n",
              "max       25691.160000\n",
              "Name: Amount, dtype: float64"
            ]
          },
          "metadata": {
            "tags": []
          },
          "execution_count": 8
        }
      ]
    },
    {
      "cell_type": "code",
      "metadata": {
        "id": "7e01yKxz8R5Y",
        "colab": {
          "base_uri": "https://localhost:8080/",
          "height": 173
        },
        "outputId": "03d0a6e1-f310-4036-ee11-7a44b5126317"
      },
      "source": [
        "# summary of class 1 (abnormal transactions)\n",
        "df[df.Class == 1].Amount.describe()"
      ],
      "execution_count": null,
      "outputs": [
        {
          "output_type": "execute_result",
          "data": {
            "text/plain": [
              "count     492.000000\n",
              "mean      122.211321\n",
              "std       256.683288\n",
              "min         0.000000\n",
              "25%         1.000000\n",
              "50%         9.250000\n",
              "75%       105.890000\n",
              "max      2125.870000\n",
              "Name: Amount, dtype: float64"
            ]
          },
          "metadata": {
            "tags": []
          },
          "execution_count": 9
        }
      ]
    },
    {
      "cell_type": "code",
      "metadata": {
        "id": "Dkf6coQ094cu",
        "colab": {
          "base_uri": "https://localhost:8080/",
          "height": 241
        },
        "outputId": "929539a2-a0b9-47df-d85a-bf301a20c40f"
      },
      "source": [
        "# Plot amount of normal and abnormal data\n",
        "plt.figure(figsize=(18, 3))\n",
        "\n",
        "plt.subplot(1, 2, 1)\n",
        "plt.title('Frauds')\n",
        "plt.hist(df[df.Class == 1].Amount, bins=50)\n",
        "plt.xlabel('Amount ($)')\n",
        "plt.ylabel('Number of transactions')\n",
        "plt.yscale('log')\n",
        "plt.grid()\n",
        "\n",
        "plt.subplot(1, 2, 2)\n",
        "plt.title('Normal')\n",
        "plt.hist(df[df.Class == 0].Amount, bins=50)\n",
        "plt.xlabel('Amount ($)')\n",
        "plt.ylabel('Number of transactions')\n",
        "plt.yscale('log')\n",
        "plt.grid()\n",
        "\n",
        "plt.show()"
      ],
      "execution_count": null,
      "outputs": [
        {
          "output_type": "display_data",
          "data": {
            "image/png": "[encoded data removed]",
            "text/plain": [
              "<Figure size 1296x216 with 2 Axes>"
            ]
          },
          "metadata": {
            "tags": [],
            "needs_background": "light"
          }
        }
      ]
    },
    {
      "cell_type": "code",
      "metadata": {
        "id": "2RJCSkvz-PWl",
        "colab": {
          "base_uri": "https://localhost:8080/",
          "height": 34
        },
        "outputId": "b1eff3c3-5e16-4251-9e5e-eea5cc9f92cf"
      },
      "source": [
        "# Remove time\n",
        "df = df.drop(['Time'], axis=1)\n",
        "print(df.shape)"
      ],
      "execution_count": null,
      "outputs": [
        {
          "output_type": "stream",
          "text": [
            "(284807, 30)\n"
          ],
          "name": "stdout"
        }
      ]
    },
    {
      "cell_type": "code",
      "metadata": {
        "id": "_XYgaYhZAs8f",
        "colab": {
          "base_uri": "https://localhost:8080/",
          "height": 52
        },
        "outputId": "52c0de01-26d9-4322-f4eb-97130828ff69"
      },
      "source": [
        "# Extract into matrices values for normal transactions\n",
        "normal = df[df.Class == 0]\n",
        "normal = normal.drop(['Class'], axis=1)\n",
        "normal = normal.values\n",
        "print(normal.shape)\n",
        "\n",
        "# Extract into matrices values for normal transactions\n",
        "frauds = df[df.Class == 1]\n",
        "frauds = frauds.drop(['Class'], axis=1)\n",
        "frauds = frauds.values\n",
        "print(frauds.shape)"
      ],
      "execution_count": null,
      "outputs": [
        {
          "output_type": "stream",
          "text": [
            "(284315, 29)\n",
            "(492, 29)\n"
          ],
          "name": "stdout"
        }
      ]
    },
    {
      "cell_type": "code",
      "metadata": {
        "id": "nkU39p68W3GZ",
        "colab": {
          "base_uri": "https://localhost:8080/",
          "height": 225
        },
        "outputId": "614adb9d-60c8-4026-c3f8-89268d57d1ba"
      },
      "source": [
        "# Normalize data\n",
        "scaler = StandardScaler()\n",
        "normal = scaler.fit_transform(normal)\n",
        "frauds = scaler.transform(frauds)\n",
        "\n",
        "# See max and min values, so we can decide on output activations\n",
        "print(normal.min(axis=0))\n",
        "print(normal.max(axis=0))"
      ],
      "execution_count": null,
      "outputs": [
        {
          "output_type": "stream",
          "text": [
            "[-29.23383553 -44.43954405 -33.1210661   -4.05573252 -83.82683084\n",
            " -19.67269346 -26.9547933  -63.04736881  -5.77875015 -14.1265026\n",
            "  -4.77604318 -16.02201219  -5.8207973  -20.51734046  -4.79911288\n",
            " -11.98281313 -22.82988537  -6.51040776  -8.88513979 -70.83041283\n",
            " -48.59368815 -15.107939   -72.09157992  -4.68293974 -19.77314077\n",
            "  -5.40075462 -56.43521184 -46.81853823  -0.35301631]\n",
            "[  1.26783021  11.55688816   6.42059588  12.06519875  25.6429718\n",
            "  55.11588798 102.28946604  16.11172234  14.31150875  22.73057889\n",
            "   9.97773414   8.28549613   7.16203997  11.72201079   9.70165636\n",
            "  20.48834873  12.33161046   6.10628824   6.89039166  51.23659381\n",
            "  31.55405666  14.5137363   36.24600145   7.56776948  14.44221515\n",
            "   7.29394756  79.06170547 102.70355447 102.36862343]\n"
          ],
          "name": "stdout"
        }
      ]
    },
    {
      "cell_type": "code",
      "metadata": {
        "id": "8F7ftw7IAteI",
        "colab": {
          "base_uri": "https://localhost:8080/",
          "height": 52
        },
        "outputId": "69626bca-14b5-4e1c-8c2f-97bf83f5834b"
      },
      "source": [
        "# Split normal data into training and test data\n",
        "x_train, x_test = train_test_split(normal, test_size=0.2)\n",
        "\n",
        "print(x_train.shape)\n",
        "print(x_test.shape)"
      ],
      "execution_count": null,
      "outputs": [
        {
          "output_type": "stream",
          "text": [
            "(227452, 29)\n",
            "(56863, 29)\n"
          ],
          "name": "stdout"
        }
      ]
    },
    {
      "cell_type": "markdown",
      "metadata": {
        "id": "guS9jBYEGP4c"
      },
      "source": [
        "# Part 2: Train a model"
      ]
    },
    {
      "cell_type": "code",
      "metadata": {
        "id": "RxnqQ_r9Eue5"
      },
      "source": [
        "from tensorflow.keras.models import Model\n",
        "from tensorflow.keras.layers import Input, Dense, Dropout\n",
        "from tensorflow.keras.regularizers import l1"
      ],
      "execution_count": null,
      "outputs": []
    },
    {
      "cell_type": "code",
      "metadata": {
        "id": "YiAMDKSaHHG4",
        "colab": {
          "base_uri": "https://localhost:8080/",
          "height": 538
        },
        "outputId": "8db4c8c9-cde8-4a0b-c4a2-d9fcffc2a44f"
      },
      "source": [
        "# Create model\n",
        "in_layer = Input(shape=(x_train.shape[1],))\n",
        "\n",
        "encoder = Dense(512, activation='relu')(in_layer)\n",
        "encoder = Dense(256, activation='relu')(encoder)\n",
        "encoder = Dense(128, activation='relu')(encoder)\n",
        "encoder = Dense(64, activation='relu')(encoder)\n",
        "\n",
        "latent  = Dense(32,  activation='relu', activity_regularizer=l1(9e-4), name='latent')(encoder)\n",
        "\n",
        "decoder = Dense(64, activation='relu')(latent)\n",
        "decoder = Dense(128, activation='relu')(decoder)\n",
        "decoder = Dense(256, activation='relu')(decoder)\n",
        "decoder = Dense(512, activation='relu')(decoder)\n",
        "\n",
        "out_layer = Dense(x_train.shape[1])(decoder)\n",
        "\n",
        "AE = Model(inputs=in_layer, outputs=out_layer)\n",
        "AE.summary()"
      ],
      "execution_count": null,
      "outputs": [
        {
          "output_type": "stream",
          "text": [
            "Model: \"model_15\"\n",
            "_________________________________________________________________\n",
            "Layer (type)                 Output Shape              Param #   \n",
            "=================================================================\n",
            "input_15 (InputLayer)        [(None, 29)]              0         \n",
            "_________________________________________________________________\n",
            "dense_54 (Dense)             (None, 512)               15360     \n",
            "_________________________________________________________________\n",
            "dense_55 (Dense)             (None, 256)               131328    \n",
            "_________________________________________________________________\n",
            "dense_56 (Dense)             (None, 128)               32896     \n",
            "_________________________________________________________________\n",
            "dense_57 (Dense)             (None, 64)                8256      \n",
            "_________________________________________________________________\n",
            "latent (Dense)               (None, 32)                2080      \n",
            "_________________________________________________________________\n",
            "dense_58 (Dense)             (None, 64)                2112      \n",
            "_________________________________________________________________\n",
            "dense_59 (Dense)             (None, 128)               8320      \n",
            "_________________________________________________________________\n",
            "dense_60 (Dense)             (None, 256)               33024     \n",
            "_________________________________________________________________\n",
            "dense_61 (Dense)             (None, 512)               131584    \n",
            "_________________________________________________________________\n",
            "dense_62 (Dense)             (None, 29)                14877     \n",
            "=================================================================\n",
            "Total params: 379,837\n",
            "Trainable params: 379,837\n",
            "Non-trainable params: 0\n",
            "_________________________________________________________________\n"
          ],
          "name": "stdout"
        }
      ]
    },
    {
      "cell_type": "code",
      "metadata": {
        "id": "l3zGoiFzIblx",
        "colab": {
          "base_uri": "https://localhost:8080/",
          "height": 1000
        },
        "outputId": "a2e65d6b-bb48-4919-c479-b537a410a3d8"
      },
      "source": [
        "# Compile and train\n",
        "AE.compile(optimizer='adam', loss='mse', metrics=['accuracy'])\n",
        "history = AE.fit(x_train, x_train, epochs=100, batch_size=128, validation_split=0.2)"
      ],
      "execution_count": null,
      "outputs": [
        {
          "output_type": "stream",
          "text": [
            "Epoch 1/100\n",
            "1422/1422 [==============================] - 17s 12ms/step - loss: 0.1919 - accuracy: 0.7014 - val_loss: 0.0598 - val_accuracy: 0.8413\n",
            "Epoch 2/100\n",
            "1422/1422 [==============================] - 16s 11ms/step - loss: 0.0789 - accuracy: 0.8143 - val_loss: 0.0861 - val_accuracy: 0.8268\n",
            "Epoch 3/100\n",
            "1422/1422 [==============================] - 16s 11ms/step - loss: 0.0902 - accuracy: 0.8071 - val_loss: 0.0442 - val_accuracy: 0.8610\n",
            "Epoch 4/100\n",
            "1422/1422 [==============================] - 16s 11ms/step - loss: 0.0586 - accuracy: 0.8394 - val_loss: 0.1188 - val_accuracy: 0.7439\n",
            "Epoch 5/100\n",
            "1422/1422 [==============================] - 16s 11ms/step - loss: 0.0698 - accuracy: 0.8307 - val_loss: 0.1069 - val_accuracy: 0.7771\n",
            "Epoch 6/100\n",
            "1422/1422 [==============================] - 16s 11ms/step - loss: 0.0740 - accuracy: 0.8269 - val_loss: 0.0354 - val_accuracy: 0.8760\n",
            "Epoch 7/100\n",
            "1422/1422 [==============================] - 16s 12ms/step - loss: 0.0498 - accuracy: 0.8520 - val_loss: 0.0316 - val_accuracy: 0.8768\n",
            "Epoch 8/100\n",
            "1422/1422 [==============================] - 17s 12ms/step - loss: 0.0457 - accuracy: 0.8582 - val_loss: 0.0497 - val_accuracy: 0.8192\n",
            "Epoch 9/100\n",
            "1422/1422 [==============================] - 16s 11ms/step - loss: 0.0644 - accuracy: 0.8356 - val_loss: 0.0292 - val_accuracy: 0.8853\n",
            "Epoch 10/100\n",
            "1422/1422 [==============================] - 16s 11ms/step - loss: 0.0498 - accuracy: 0.8565 - val_loss: 0.0330 - val_accuracy: 0.8846\n",
            "Epoch 11/100\n",
            "1422/1422 [==============================] - 17s 12ms/step - loss: 0.0394 - accuracy: 0.8659 - val_loss: 0.0332 - val_accuracy: 0.8734\n",
            "Epoch 12/100\n",
            "1422/1422 [==============================] - 16s 12ms/step - loss: 0.0469 - accuracy: 0.8597 - val_loss: 0.0332 - val_accuracy: 0.8737\n",
            "Epoch 13/100\n",
            "1422/1422 [==============================] - 16s 12ms/step - loss: 0.0437 - accuracy: 0.8686 - val_loss: 0.0611 - val_accuracy: 0.8263\n",
            "Epoch 14/100\n",
            "1422/1422 [==============================] - 16s 11ms/step - loss: 0.0397 - accuracy: 0.8716 - val_loss: 0.0224 - val_accuracy: 0.9075\n",
            "Epoch 15/100\n",
            "1422/1422 [==============================] - 16s 12ms/step - loss: 0.0342 - accuracy: 0.8787 - val_loss: 0.0245 - val_accuracy: 0.8963\n",
            "Epoch 16/100\n",
            "1422/1422 [==============================] - 16s 11ms/step - loss: 0.0272 - accuracy: 0.8927 - val_loss: 0.0253 - val_accuracy: 0.8946\n",
            "Epoch 17/100\n",
            "1422/1422 [==============================] - 16s 11ms/step - loss: 0.0405 - accuracy: 0.8753 - val_loss: 0.0591 - val_accuracy: 0.8234\n",
            "Epoch 18/100\n",
            "1422/1422 [==============================] - 16s 11ms/step - loss: 0.0330 - accuracy: 0.8848 - val_loss: 0.0364 - val_accuracy: 0.8643\n",
            "Epoch 19/100\n",
            "1422/1422 [==============================] - 17s 12ms/step - loss: 0.0241 - accuracy: 0.8978 - val_loss: 0.0531 - val_accuracy: 0.8357\n",
            "Epoch 20/100\n",
            "1422/1422 [==============================] - 17s 12ms/step - loss: 0.0350 - accuracy: 0.8790 - val_loss: 0.0273 - val_accuracy: 0.8899\n",
            "Epoch 21/100\n",
            "1422/1422 [==============================] - 16s 11ms/step - loss: 0.0291 - accuracy: 0.8909 - val_loss: 0.0173 - val_accuracy: 0.9188\n",
            "Epoch 22/100\n",
            "1422/1422 [==============================] - 16s 11ms/step - loss: 0.0369 - accuracy: 0.8846 - val_loss: 0.0188 - val_accuracy: 0.9100\n",
            "Epoch 23/100\n",
            "1422/1422 [==============================] - 16s 11ms/step - loss: 0.0220 - accuracy: 0.9034 - val_loss: 0.0343 - val_accuracy: 0.8724\n",
            "Epoch 24/100\n",
            "1422/1422 [==============================] - 16s 11ms/step - loss: 0.0363 - accuracy: 0.8816 - val_loss: 0.0207 - val_accuracy: 0.9024\n",
            "Epoch 25/100\n",
            "1422/1422 [==============================] - 16s 12ms/step - loss: 0.0358 - accuracy: 0.8854 - val_loss: 0.0418 - val_accuracy: 0.8652\n",
            "Epoch 26/100\n",
            "1422/1422 [==============================] - 16s 12ms/step - loss: 0.0297 - accuracy: 0.8933 - val_loss: 0.0196 - val_accuracy: 0.9097\n",
            "Epoch 27/100\n",
            "1422/1422 [==============================] - 17s 12ms/step - loss: 0.0251 - accuracy: 0.8997 - val_loss: 0.0176 - val_accuracy: 0.9128\n",
            "Epoch 28/100\n",
            "1422/1422 [==============================] - 17s 12ms/step - loss: 0.0180 - accuracy: 0.9113 - val_loss: 0.0189 - val_accuracy: 0.9107\n",
            "Epoch 29/100\n",
            "1422/1422 [==============================] - 16s 12ms/step - loss: 0.0192 - accuracy: 0.9095 - val_loss: 0.0177 - val_accuracy: 0.9059\n",
            "Epoch 30/100\n",
            "1422/1422 [==============================] - 20s 14ms/step - loss: 0.0274 - accuracy: 0.8959 - val_loss: 0.0160 - val_accuracy: 0.9231\n",
            "Epoch 31/100\n",
            "1422/1422 [==============================] - 16s 12ms/step - loss: 0.0231 - accuracy: 0.9038 - val_loss: 0.0406 - val_accuracy: 0.8878\n",
            "Epoch 32/100\n",
            "1422/1422 [==============================] - 16s 12ms/step - loss: 0.0249 - accuracy: 0.9044 - val_loss: 0.0396 - val_accuracy: 0.8510\n",
            "Epoch 33/100\n",
            "1422/1422 [==============================] - 16s 12ms/step - loss: 0.0221 - accuracy: 0.9072 - val_loss: 0.0104 - val_accuracy: 0.9337\n",
            "Epoch 34/100\n",
            "1422/1422 [==============================] - 16s 11ms/step - loss: 0.0192 - accuracy: 0.9137 - val_loss: 0.0189 - val_accuracy: 0.9008\n",
            "Epoch 35/100\n",
            "1422/1422 [==============================] - 16s 12ms/step - loss: 0.0185 - accuracy: 0.9143 - val_loss: 0.0254 - val_accuracy: 0.9017\n",
            "Epoch 36/100\n",
            "1422/1422 [==============================] - 18s 13ms/step - loss: 0.0158 - accuracy: 0.9203 - val_loss: 0.0197 - val_accuracy: 0.8955\n",
            "Epoch 37/100\n",
            "1422/1422 [==============================] - 16s 11ms/step - loss: 0.0180 - accuracy: 0.9143 - val_loss: 0.0320 - val_accuracy: 0.9039\n",
            "Epoch 38/100\n",
            "1422/1422 [==============================] - 17s 12ms/step - loss: 0.0201 - accuracy: 0.9113 - val_loss: 0.0206 - val_accuracy: 0.9056\n",
            "Epoch 39/100\n",
            "1422/1422 [==============================] - 16s 11ms/step - loss: 0.0161 - accuracy: 0.9222 - val_loss: 0.0153 - val_accuracy: 0.9171\n",
            "Epoch 40/100\n",
            "1422/1422 [==============================] - 16s 12ms/step - loss: 0.0238 - accuracy: 0.9063 - val_loss: 0.0229 - val_accuracy: 0.9052\n",
            "Epoch 41/100\n",
            "1422/1422 [==============================] - 16s 11ms/step - loss: 0.0230 - accuracy: 0.9088 - val_loss: 0.0230 - val_accuracy: 0.8919\n",
            "Epoch 42/100\n",
            "1422/1422 [==============================] - 16s 11ms/step - loss: 0.0264 - accuracy: 0.9042 - val_loss: 0.0086 - val_accuracy: 0.9410\n",
            "Epoch 43/100\n",
            "1422/1422 [==============================] - 16s 12ms/step - loss: 0.0121 - accuracy: 0.9301 - val_loss: 0.0247 - val_accuracy: 0.8941\n",
            "Epoch 44/100\n",
            "1422/1422 [==============================] - 16s 12ms/step - loss: 0.0171 - accuracy: 0.9187 - val_loss: 0.0132 - val_accuracy: 0.9244\n",
            "Epoch 45/100\n",
            "1422/1422 [==============================] - 16s 12ms/step - loss: 0.0146 - accuracy: 0.9225 - val_loss: 0.0139 - val_accuracy: 0.9291\n",
            "Epoch 46/100\n",
            "1422/1422 [==============================] - 16s 11ms/step - loss: 0.0137 - accuracy: 0.9257 - val_loss: 0.0896 - val_accuracy: 0.8206\n",
            "Epoch 47/100\n",
            "1422/1422 [==============================] - 17s 12ms/step - loss: 0.0194 - accuracy: 0.9165 - val_loss: 0.0094 - val_accuracy: 0.9362\n",
            "Epoch 48/100\n",
            "1422/1422 [==============================] - 18s 13ms/step - loss: 0.0148 - accuracy: 0.9236 - val_loss: 0.0081 - val_accuracy: 0.9447\n",
            "Epoch 49/100\n",
            "1422/1422 [==============================] - 17s 12ms/step - loss: 0.0144 - accuracy: 0.9244 - val_loss: 0.0117 - val_accuracy: 0.9275\n",
            "Epoch 50/100\n",
            "1422/1422 [==============================] - 16s 11ms/step - loss: 0.0122 - accuracy: 0.9280 - val_loss: 0.0132 - val_accuracy: 0.9290\n",
            "Epoch 51/100\n",
            "1422/1422 [==============================] - 16s 11ms/step - loss: 0.0124 - accuracy: 0.9284 - val_loss: 0.0280 - val_accuracy: 0.8881\n",
            "Epoch 52/100\n",
            "1422/1422 [==============================] - 16s 12ms/step - loss: 0.0165 - accuracy: 0.9210 - val_loss: 0.0121 - val_accuracy: 0.9277\n",
            "Epoch 53/100\n",
            "1422/1422 [==============================] - 17s 12ms/step - loss: 0.0106 - accuracy: 0.9320 - val_loss: 0.0090 - val_accuracy: 0.9307\n",
            "Epoch 54/100\n",
            "1422/1422 [==============================] - 18s 13ms/step - loss: 0.0266 - accuracy: 0.9045 - val_loss: 0.0136 - val_accuracy: 0.9235\n",
            "Epoch 55/100\n",
            "1422/1422 [==============================] - 18s 13ms/step - loss: 0.0106 - accuracy: 0.9359 - val_loss: 0.0093 - val_accuracy: 0.9408\n",
            "Epoch 56/100\n",
            "1422/1422 [==============================] - 19s 13ms/step - loss: 0.0128 - accuracy: 0.9281 - val_loss: 0.0084 - val_accuracy: 0.9432\n",
            "Epoch 57/100\n",
            "1422/1422 [==============================] - 18s 13ms/step - loss: 0.0234 - accuracy: 0.9054 - val_loss: 0.0133 - val_accuracy: 0.9235\n",
            "Epoch 58/100\n",
            "1422/1422 [==============================] - 19s 13ms/step - loss: 0.0149 - accuracy: 0.9233 - val_loss: 0.0102 - val_accuracy: 0.9343\n",
            "Epoch 59/100\n",
            "1422/1422 [==============================] - 18s 13ms/step - loss: 0.0098 - accuracy: 0.9373 - val_loss: 0.0183 - val_accuracy: 0.9165\n",
            "Epoch 60/100\n",
            "1422/1422 [==============================] - 18s 13ms/step - loss: 0.0144 - accuracy: 0.9249 - val_loss: 0.0194 - val_accuracy: 0.9014\n",
            "Epoch 61/100\n",
            "1422/1422 [==============================] - 18s 13ms/step - loss: 0.0156 - accuracy: 0.9233 - val_loss: 0.0110 - val_accuracy: 0.9339\n",
            "Epoch 62/100\n",
            "1422/1422 [==============================] - 18s 13ms/step - loss: 0.0118 - accuracy: 0.9310 - val_loss: 0.0090 - val_accuracy: 0.9418\n",
            "Epoch 63/100\n",
            "1422/1422 [==============================] - 18s 13ms/step - loss: 0.0115 - accuracy: 0.9315 - val_loss: 0.0084 - val_accuracy: 0.9381\n",
            "Epoch 64/100\n",
            "1422/1422 [==============================] - 18s 13ms/step - loss: 0.0104 - accuracy: 0.9355 - val_loss: 0.0148 - val_accuracy: 0.9294\n",
            "Epoch 65/100\n",
            "1422/1422 [==============================] - 20s 14ms/step - loss: 0.0123 - accuracy: 0.9325 - val_loss: 0.0202 - val_accuracy: 0.9130\n",
            "Epoch 66/100\n",
            "1422/1422 [==============================] - 20s 14ms/step - loss: 0.0123 - accuracy: 0.9298 - val_loss: 0.0066 - val_accuracy: 0.9511\n",
            "Epoch 67/100\n",
            "1422/1422 [==============================] - 18s 13ms/step - loss: 0.0132 - accuracy: 0.9315 - val_loss: 0.2663 - val_accuracy: 0.6233\n",
            "Epoch 68/100\n",
            "1422/1422 [==============================] - 18s 13ms/step - loss: 0.0258 - accuracy: 0.9073 - val_loss: 0.0087 - val_accuracy: 0.9468\n",
            "Epoch 69/100\n",
            "1422/1422 [==============================] - 19s 13ms/step - loss: 0.0149 - accuracy: 0.9277 - val_loss: 0.0175 - val_accuracy: 0.9150\n",
            "Epoch 70/100\n",
            "1422/1422 [==============================] - 19s 13ms/step - loss: 0.0120 - accuracy: 0.9329 - val_loss: 0.0067 - val_accuracy: 0.9524\n",
            "Epoch 71/100\n",
            "1422/1422 [==============================] - 18s 13ms/step - loss: 0.0112 - accuracy: 0.9342 - val_loss: 0.0086 - val_accuracy: 0.9308\n",
            "Epoch 72/100\n",
            "1422/1422 [==============================] - 18s 13ms/step - loss: 0.0114 - accuracy: 0.9324 - val_loss: 0.0065 - val_accuracy: 0.9527\n",
            "Epoch 73/100\n",
            "1422/1422 [==============================] - 20s 14ms/step - loss: 0.0105 - accuracy: 0.9342 - val_loss: 0.0072 - val_accuracy: 0.9452\n",
            "Epoch 74/100\n",
            "1422/1422 [==============================] - 19s 13ms/step - loss: 0.0133 - accuracy: 0.9300 - val_loss: 0.0952 - val_accuracy: 0.8133\n",
            "Epoch 75/100\n",
            "1422/1422 [==============================] - 18s 13ms/step - loss: 0.0152 - accuracy: 0.9249 - val_loss: 0.0087 - val_accuracy: 0.9442\n",
            "Epoch 76/100\n",
            "1422/1422 [==============================] - 19s 13ms/step - loss: 0.0097 - accuracy: 0.9382 - val_loss: 0.0078 - val_accuracy: 0.9479\n",
            "Epoch 77/100\n",
            "1422/1422 [==============================] - 19s 13ms/step - loss: 0.0095 - accuracy: 0.9382 - val_loss: 0.0061 - val_accuracy: 0.9501\n",
            "Epoch 78/100\n",
            "1422/1422 [==============================] - 18s 13ms/step - loss: 0.0183 - accuracy: 0.9195 - val_loss: 0.0113 - val_accuracy: 0.9288\n",
            "Epoch 79/100\n",
            "1422/1422 [==============================] - 18s 13ms/step - loss: 0.0119 - accuracy: 0.9332 - val_loss: 0.0258 - val_accuracy: 0.8888\n",
            "Epoch 80/100\n",
            "1422/1422 [==============================] - 19s 13ms/step - loss: 0.0098 - accuracy: 0.9370 - val_loss: 0.0055 - val_accuracy: 0.9564\n",
            "Epoch 81/100\n",
            "1422/1422 [==============================] - 19s 13ms/step - loss: 0.0130 - accuracy: 0.9306 - val_loss: 0.0102 - val_accuracy: 0.9369\n",
            "Epoch 82/100\n",
            "1422/1422 [==============================] - 18s 13ms/step - loss: 0.0090 - accuracy: 0.9400 - val_loss: 0.0255 - val_accuracy: 0.9000\n",
            "Epoch 83/100\n",
            "1422/1422 [==============================] - 19s 13ms/step - loss: 0.0112 - accuracy: 0.9327 - val_loss: 0.0060 - val_accuracy: 0.9548\n",
            "Epoch 84/100\n",
            "1422/1422 [==============================] - 19s 13ms/step - loss: 0.0098 - accuracy: 0.9374 - val_loss: 0.0113 - val_accuracy: 0.9206\n",
            "Epoch 85/100\n",
            "1422/1422 [==============================] - 19s 13ms/step - loss: 0.0090 - accuracy: 0.9391 - val_loss: 0.0054 - val_accuracy: 0.9573\n",
            "Epoch 86/100\n",
            "1422/1422 [==============================] - 18s 13ms/step - loss: 0.0112 - accuracy: 0.9356 - val_loss: 0.0061 - val_accuracy: 0.9537\n",
            "Epoch 87/100\n",
            "1422/1422 [==============================] - 19s 13ms/step - loss: 0.0109 - accuracy: 0.9351 - val_loss: 0.0229 - val_accuracy: 0.8838\n",
            "Epoch 88/100\n",
            "1422/1422 [==============================] - 19s 13ms/step - loss: 0.0152 - accuracy: 0.9284 - val_loss: 0.0118 - val_accuracy: 0.9319\n",
            "Epoch 89/100\n",
            "1422/1422 [==============================] - 19s 13ms/step - loss: 0.0106 - accuracy: 0.9362 - val_loss: 0.0262 - val_accuracy: 0.8846\n",
            "Epoch 90/100\n",
            "1422/1422 [==============================] - 19s 13ms/step - loss: 0.0099 - accuracy: 0.9366 - val_loss: 0.0083 - val_accuracy: 0.9440\n",
            "Epoch 91/100\n",
            "1422/1422 [==============================] - 19s 13ms/step - loss: 0.0110 - accuracy: 0.9357 - val_loss: 0.0080 - val_accuracy: 0.9424\n",
            "Epoch 92/100\n",
            "1422/1422 [==============================] - 19s 13ms/step - loss: 0.0102 - accuracy: 0.9371 - val_loss: 0.0104 - val_accuracy: 0.9357\n",
            "Epoch 93/100\n",
            "1422/1422 [==============================] - 18s 13ms/step - loss: 0.0105 - accuracy: 0.9367 - val_loss: 0.0069 - val_accuracy: 0.9530\n",
            "Epoch 94/100\n",
            "1422/1422 [==============================] - 18s 13ms/step - loss: 0.0093 - accuracy: 0.9392 - val_loss: 0.0125 - val_accuracy: 0.9164\n",
            "Epoch 95/100\n",
            "1422/1422 [==============================] - 19s 13ms/step - loss: 0.0103 - accuracy: 0.9340 - val_loss: 0.0077 - val_accuracy: 0.9485\n",
            "Epoch 96/100\n",
            "1422/1422 [==============================] - 19s 13ms/step - loss: 0.0086 - accuracy: 0.9413 - val_loss: 0.0117 - val_accuracy: 0.9326\n",
            "Epoch 97/100\n",
            "1422/1422 [==============================] - 18s 13ms/step - loss: 0.0108 - accuracy: 0.9359 - val_loss: 0.0061 - val_accuracy: 0.9499\n",
            "Epoch 98/100\n",
            "1422/1422 [==============================] - 22s 15ms/step - loss: 0.0109 - accuracy: 0.9372 - val_loss: 0.0054 - val_accuracy: 0.9539\n",
            "Epoch 99/100\n",
            "1422/1422 [==============================] - 19s 13ms/step - loss: 0.0277 - accuracy: 0.9092 - val_loss: 0.0404 - val_accuracy: 0.8771\n",
            "Epoch 100/100\n",
            "1422/1422 [==============================] - 19s 13ms/step - loss: 0.0186 - accuracy: 0.9216 - val_loss: 0.0122 - val_accuracy: 0.9340\n"
          ],
          "name": "stdout"
        }
      ]
    },
    {
      "cell_type": "code",
      "metadata": {
        "id": "1zqtSfGYJQT3",
        "colab": {
          "base_uri": "https://localhost:8080/",
          "height": 295
        },
        "outputId": "7b7bf5ad-fe5a-40f1-c252-df5f3813906c"
      },
      "source": [
        "# Plot loss\n",
        "plt.figure(figsize=(18, 4))\n",
        "\n",
        "plt.subplot(1, 2, 1)\n",
        "plt.title('Loss')\n",
        "plt.plot(history.history['loss'], label='Training', linewidth=2)\n",
        "plt.plot(history.history['val_loss'], label='Validation', linewidth=2)\n",
        "plt.legend()\n",
        "plt.xlabel('Epoch')\n",
        "plt.ylabel('Loss')\n",
        "plt.grid(True)\n",
        "\n",
        "plt.subplot(1, 2, 2)\n",
        "plt.title('Accuracy')\n",
        "plt.plot(history.history['accuracy'], label='Training', linewidth=2)\n",
        "plt.plot(history.history['val_accuracy'], label='Validation', linewidth=2)\n",
        "plt.legend()\n",
        "plt.xlabel('Epoch')\n",
        "plt.ylabel('Accuracy')\n",
        "plt.grid(True)\n",
        "\n",
        "plt.show()"
      ],
      "execution_count": null,
      "outputs": [
        {
          "output_type": "display_data",
          "data": {
            "image/png": "[encoded data removed]",
            "text/plain": [
              "<Figure size 1296x288 with 2 Axes>"
            ]
          },
          "metadata": {
            "tags": [],
            "needs_background": "light"
          }
        }
      ]
    },
    {
      "cell_type": "code",
      "metadata": {
        "id": "3tnm7OosKlnj",
        "colab": {
          "base_uri": "https://localhost:8080/",
          "height": 86
        },
        "outputId": "82b011f0-a35b-4189-ee04-05401d985058"
      },
      "source": [
        "# Predict reconstruction error on training data\n",
        "x_train_hat = AE.predict(x_train)\n",
        "mse_train = np.mean(np.power(x_train - x_train_hat, 2), axis=1)\n",
        "\n",
        "print(f\"Min : {mse_train.min():0.6f}\")\n",
        "print(f\"Mean: {mse_train.mean():0.4f}\")\n",
        "print(f\"Stdd: {mse_train.std():0.2f}\")\n",
        "print(f\"Max : {mse_train.max():0.2f}\")"
      ],
      "execution_count": null,
      "outputs": [
        {
          "output_type": "stream",
          "text": [
            "Min : 0.000092\n",
            "Mean: 0.0106\n",
            "Stdd: 0.14\n",
            "Max : 49.69\n"
          ],
          "name": "stdout"
        }
      ]
    },
    {
      "cell_type": "code",
      "metadata": {
        "id": "7lOpgZCtLfKi",
        "colab": {
          "base_uri": "https://localhost:8080/",
          "height": 86
        },
        "outputId": "102be97b-7743-409e-d9f1-009e39e85fbd"
      },
      "source": [
        "# Predict reconstruction error on test data\n",
        "x_test_hat = AE.predict(x_test)\n",
        "mse_test = np.mean(np.power(x_test - x_test_hat, 2), axis=1)\n",
        "\n",
        "print(f\"Min : {mse_test.min():0.6f}\")\n",
        "print(f\"Mean: {mse_test.mean():0.4f}\")\n",
        "print(f\"Stdd: {mse_test.std():0.2f}\")\n",
        "print(f\"Max : {mse_test.max():0.2f}\")"
      ],
      "execution_count": null,
      "outputs": [
        {
          "output_type": "stream",
          "text": [
            "Min : 0.000094\n",
            "Mean: 0.0118\n",
            "Stdd: 0.11\n",
            "Max : 9.53\n"
          ],
          "name": "stdout"
        }
      ]
    },
    {
      "cell_type": "code",
      "metadata": {
        "id": "XKooTgGNiJ7G",
        "colab": {
          "base_uri": "https://localhost:8080/",
          "height": 86
        },
        "outputId": "f4bb52b1-7e15-4fc2-92f5-d3741db28d2a"
      },
      "source": [
        "# Predict reconstruction error on abnormal data\n",
        "frauds_hat = AE.predict(frauds)\n",
        "mse_frauds = np.mean(np.power(frauds - frauds_hat, 2), axis=1)\n",
        "\n",
        "print(f\"Min : {mse_frauds.min():0.6f}\")\n",
        "print(f\"Mean: {mse_frauds.mean():0.4f}\")\n",
        "print(f\"Stdd: {mse_frauds.std():0.2f}\")\n",
        "print(f\"Max : {mse_frauds.max():0.2f}\")"
      ],
      "execution_count": null,
      "outputs": [
        {
          "output_type": "stream",
          "text": [
            "Min : 0.000364\n",
            "Mean: 5.4791\n",
            "Stdd: 12.62\n",
            "Max : 98.64\n"
          ],
          "name": "stdout"
        }
      ]
    },
    {
      "cell_type": "code",
      "metadata": {
        "id": "pXRQD9gmLgJ7",
        "colab": {
          "base_uri": "https://localhost:8080/",
          "height": 241
        },
        "outputId": "3898bdb0-ee22-4821-f1e7-7ea2510011fa"
      },
      "source": [
        "# Plot distribution of reconstruction errors\n",
        "plt.figure(figsize=(18, 3))\n",
        "\n",
        "plt.subplot(1, 2, 1)\n",
        "plt.title('Frauds')\n",
        "plt.hist(mse_frauds, bins=20)\n",
        "plt.xlabel('mse bins')\n",
        "plt.ylabel('frequency')\n",
        "plt.grid()\n",
        "\n",
        "plt.subplot(1, 2, 2)\n",
        "plt.title('Normal')\n",
        "plt.hist(mse_train, bins=20)\n",
        "plt.xlabel('mse bins')\n",
        "plt.ylabel('frequency')\n",
        "plt.grid()\n",
        "\n",
        "plt.show()"
      ],
      "execution_count": null,
      "outputs": [
        {
          "output_type": "display_data",
          "data": {
            "image/png": "[encoded data removed]",
            "text/plain": [
              "<Figure size 1296x216 with 2 Axes>"
            ]
          },
          "metadata": {
            "tags": [],
            "needs_background": "light"
          }
        }
      ]
    },
    {
      "cell_type": "markdown",
      "metadata": {
        "id": "l-RdU9DBkae-"
      },
      "source": [
        "# Part 3: Latent space"
      ]
    },
    {
      "cell_type": "code",
      "metadata": {
        "id": "ADI8gVG3jACP",
        "colab": {
          "base_uri": "https://localhost:8080/",
          "height": 364
        },
        "outputId": "d6175d79-16cd-4a04-9e4b-f80b4657bc86"
      },
      "source": [
        "# Create a submodel using only the encoder part of previous model (output must be latent layer)\n",
        "encoder_model = Model(inputs=in_layer, outputs=latent)\n",
        "encoder_model.summary()"
      ],
      "execution_count": null,
      "outputs": [
        {
          "output_type": "stream",
          "text": [
            "Model: \"model_16\"\n",
            "_________________________________________________________________\n",
            "Layer (type)                 Output Shape              Param #   \n",
            "=================================================================\n",
            "input_15 (InputLayer)        [(None, 29)]              0         \n",
            "_________________________________________________________________\n",
            "dense_54 (Dense)             (None, 512)               15360     \n",
            "_________________________________________________________________\n",
            "dense_55 (Dense)             (None, 256)               131328    \n",
            "_________________________________________________________________\n",
            "dense_56 (Dense)             (None, 128)               32896     \n",
            "_________________________________________________________________\n",
            "dense_57 (Dense)             (None, 64)                8256      \n",
            "_________________________________________________________________\n",
            "latent (Dense)               (None, 32)                2080      \n",
            "=================================================================\n",
            "Total params: 189,920\n",
            "Trainable params: 189,920\n",
            "Non-trainable params: 0\n",
            "_________________________________________________________________\n"
          ],
          "name": "stdout"
        }
      ]
    },
    {
      "cell_type": "code",
      "metadata": {
        "id": "gN_J8uzYjMpR",
        "colab": {
          "base_uri": "https://localhost:8080/",
          "height": 52
        },
        "outputId": "bcd00c1a-1b8a-4d06-cfd1-1f143a7d7bf1"
      },
      "source": [
        "# Predict a latent representation for the test set and the frauds set\n",
        "latent_normal = encoder_model.predict(x_test)\n",
        "latent_frauds = encoder_model.predict(frauds)\n",
        "\n",
        "print(latent_normal.shape)\n",
        "print(latent_frauds.shape)"
      ],
      "execution_count": null,
      "outputs": [
        {
          "output_type": "stream",
          "text": [
            "(56863, 32)\n",
            "(492, 32)\n"
          ],
          "name": "stdout"
        }
      ]
    },
    {
      "cell_type": "code",
      "metadata": {
        "id": "9wk0R2I2jbVj",
        "colab": {
          "base_uri": "https://localhost:8080/",
          "height": 241
        },
        "outputId": "9ebcae05-2040-4489-b48e-9141f4c51c5d"
      },
      "source": [
        "# Plot distribution of latent space\n",
        "plt.figure(figsize=(16, 3))\n",
        "plt.subplot(1, 2, 1)\n",
        "plt.title('Normal')\n",
        "plt.boxplot(latent_normal)\n",
        "plt.xlabel('Latent space variables')\n",
        "plt.ylabel('Values distribution')\n",
        "plt.grid()\n",
        "plt.subplot(1, 2, 2)\n",
        "plt.title('Frauds')\n",
        "plt.boxplot(latent_frauds)\n",
        "plt.xlabel('Latent space variables')\n",
        "plt.ylabel('Values distribution')\n",
        "plt.grid()\n",
        "plt.show()"
      ],
      "execution_count": null,
      "outputs": [
        {
          "output_type": "display_data",
          "data": {
            "image/png": "[encoded data removed]",
            "text/plain": [
              "<Figure size 1152x216 with 2 Axes>"
            ]
          },
          "metadata": {
            "tags": [],
            "needs_background": "light"
          }
        }
      ]
    },
    {
      "cell_type": "code",
      "metadata": {
        "id": "qUcHqKUUjcOm"
      },
      "source": [
        "# == Q ==\n",
        "# 1. Diseña un AE que obtenga pérdida menor o igual 0.01 tanto en entrenamiento como validación.\n",
        "#    Reporta tu arquitectura.\n",
        "# 2. ¿Existe alguna relación entre la profundidad del AE y la pérdida final?\n",
        "# 3. ¿Existe alguna relación entre la profundidad del AE y la separación resultante\n",
        "#    entre los espacios latentes de los datos normales y anormales?\n",
        "# 4. ¿Existe alguna relación entre el número elementos en el espacio latente y la pérdida final?\n",
        "# 5. ¿Existe alguna relación entre el número elementos en el espacio latente y la separación resultante\n",
        "#    entre los espacios latentes de los datos normales y anormales?\n",
        "# 6. Intenta forzar el espacio latente para que sea ralo. Reporta tu mejor modelo y \n",
        "#    el desempeño que obtenga, tanto en pérdida como en capacidad de diferenciar datos anormales."
      ],
      "execution_count": null,
      "outputs": []
    },
    {
      "cell_type": "code",
      "metadata": {
        "id": "ezRf4sC6br8I",
        "colab": {
          "base_uri": "https://localhost:8080/",
          "height": 104
        },
        "outputId": "1460bd85-bda7-4475-c6e4-90d18df42542"
      },
      "source": [
        "#\n",
        "#np.abs(latent_normal).sum(axis=1).mean()\n",
        "\n",
        "print(\"Other tries:\")\n",
        "print(\"0    -- 32.66\")\n",
        "print(\"9e-5 --  7.19\")\n",
        "print(\"9e-4 --  1.40\")\n",
        "print(\"3e-4 --  3.03\")"
      ],
      "execution_count": null,
      "outputs": [
        {
          "output_type": "stream",
          "text": [
            "Other tries:\n",
            "0    -- 32.66\n",
            "9e-5 --  7.19\n",
            "9e-4 --  1.40\n",
            "3e-4 --  3.03\n"
          ],
          "name": "stdout"
        }
      ]
    },
    {
      "cell_type": "code",
      "metadata": {
        "id": "oLZZuZps-K51",
        "colab": {
          "base_uri": "https://localhost:8080/",
          "height": 176
        },
        "outputId": "da484f2d-680c-466b-c64d-2cbf4c40d16c"
      },
      "source": [
        "# Plot distribution of latent space\n",
        "IMG = latent_normal[:128].copy()\n",
        "IMG = IMG / IMG.max()\n",
        "\n",
        "plt.figure(figsize=(8, 3))\n",
        "plt.imshow(IMG.T, cmap='gray')\n",
        "plt.ylabel('Latent space variables')\n",
        "plt.xlabel('Values')\n",
        "plt.show()"
      ],
      "execution_count": null,
      "outputs": [
        {
          "output_type": "display_data",
          "data": {
            "image/png": "[encoded data removed]",
            "text/plain": [
              "<Figure size 576x216 with 1 Axes>"
            ]
          },
          "metadata": {
            "tags": [],
            "needs_background": "light"
          }
        }
      ]
    }
  ]
}
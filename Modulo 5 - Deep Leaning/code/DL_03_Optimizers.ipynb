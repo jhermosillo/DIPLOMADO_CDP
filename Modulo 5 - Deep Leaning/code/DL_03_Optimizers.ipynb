{
  "nbformat": 4,
  "nbformat_minor": 0,
  "metadata": {
    "colab": {
      "name": "DL_03_Optimizers.ipynb",
      "provenance": [],
      "collapsed_sections": [],
      "authorship_tag": "ABX9TyM6nJFUkOERZvBt6xLP8VbU",
      "include_colab_link": true
    },
    "kernelspec": {
      "name": "python3",
      "display_name": "Python 3"
    },
    "accelerator": "GPU"
  },
  "cells": [
    {
      "cell_type": "markdown",
      "metadata": {
        "id": "view-in-github",
        "colab_type": "text"
      },
      "source": [
        "<a href=\"https://colab.research.google.com/github/jhermosillo/DIPLOMADO_CDP/blob/main/Modulo%205%20-%20Deep%20Leaning/code/DL_03_Optimizers.ipynb\" target=\"_parent\"><img src=\"https://colab.research.google.com/assets/colab-badge.svg\" alt=\"Open In Colab\"/></a>"
      ]
    },
    {
      "cell_type": "code",
      "metadata": {
        "id": "auaqKUAuFRwJ"
      },
      "source": [
        "import numpy as np\n",
        "import pandas as pd\n",
        "import matplotlib.pyplot as plt"
      ],
      "execution_count": 1,
      "outputs": []
    },
    {
      "cell_type": "code",
      "metadata": {
        "id": "R7BOD99kHvAZ"
      },
      "source": [
        "# Usaremos la base de datos: Beijing Multi-Site Air-Quality Data Data Set,\n",
        "# la cual puede ser obtenida desde https://archive.ics.uci.edu/ml/datasets/Beijing+Multi-Site+Air-Quality+Data\n",
        "# (revisar la página para más detalles sobre los datos)\n",
        "# Se ha proporcionado un archivo csv con la información obtenida de la estación\n",
        "# de monitoreo Aotizhongxin, el cual contiene 35,064 registros.\n",
        "\n",
        "# El objetivo es poder predecir la concetración de PM2.5 y de PM10 a partir de las\n",
        "# variables año, mes, día, hora, temperatura, presión, punto de rocío, \n",
        "# precipitación y velocidad del viento."
      ],
      "execution_count": null,
      "outputs": []
    },
    {
      "cell_type": "markdown",
      "metadata": {
        "id": "oN6aBWNOWrY7"
      },
      "source": [
        "# Part 1: Load data into Colab"
      ]
    },
    {
      "cell_type": "code",
      "metadata": {
        "id": "kB4uTQwSFkVr",
        "colab": {
          "resources": {
            "http://localhost:8080/nbextensions/google.colab/files.js": {
              "data": "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",
              "ok": true,
              "headers": [
                [
                  "content-type",
                  "application/javascript"
                ]
              ],
              "status": 200,
              "status_text": ""
            }
          },
          "base_uri": "https://localhost:8080/",
          "height": 73
        },
        "outputId": "2c71f4d1-d771-4ae8-eb3d-49c5102d7269"
      },
      "source": [
        "# Requiered to select a file to be imported\n",
        "from google.colab import files\n",
        "uploaded = files.upload()"
      ],
      "execution_count": 2,
      "outputs": [
        {
          "output_type": "display_data",
          "data": {
            "text/html": [
              "\n",
              "     <input type=\"file\" id=\"files-0c7ed504-c175-4db0-8232-661004f9d538\" name=\"files[]\" multiple disabled\n",
              "        style=\"border:none\" />\n",
              "     <output id=\"result-0c7ed504-c175-4db0-8232-661004f9d538\">\n",
              "      Upload widget is only available when the cell has been executed in the\n",
              "      current browser session. Please rerun this cell to enable.\n",
              "      </output>\n",
              "      <script src=\"/nbextensions/google.colab/files.js\"></script> "
            ],
            "text/plain": [
              "<IPython.core.display.HTML object>"
            ]
          },
          "metadata": {
            "tags": []
          }
        },
        {
          "output_type": "stream",
          "text": [
            "Saving PRSA_Aotizhongxin.csv to PRSA_Aotizhongxin.csv\n"
          ],
          "name": "stdout"
        }
      ]
    },
    {
      "cell_type": "code",
      "metadata": {
        "id": "JwhYkkpoGG8y",
        "colab": {
          "base_uri": "https://localhost:8080/",
          "height": 443
        },
        "outputId": "8fc8f574-e7ac-45fa-bd0e-2895813b7ae6"
      },
      "source": [
        "# Import file and store it in a data frame\n",
        "import io\n",
        "df = pd.read_csv(io.BytesIO(uploaded['PRSA_Aotizhongxin.csv'])) # Cambia al nombre del archivo que cargues\n",
        "df.dropna(inplace=True)\n",
        "df\n",
        "# Quedan 31,815 registros despues de eliminar NaN's"
      ],
      "execution_count": 3,
      "outputs": [
        {
          "output_type": "execute_result",
          "data": {
            "text/html": [
              "<div>\n",
              "<style scoped>\n",
              "    .dataframe tbody tr th:only-of-type {\n",
              "        vertical-align: middle;\n",
              "    }\n",
              "\n",
              "    .dataframe tbody tr th {\n",
              "        vertical-align: top;\n",
              "    }\n",
              "\n",
              "    .dataframe thead th {\n",
              "        text-align: right;\n",
              "    }\n",
              "</style>\n",
              "<table border=\"1\" class=\"dataframe\">\n",
              "  <thead>\n",
              "    <tr style=\"text-align: right;\">\n",
              "      <th></th>\n",
              "      <th>No</th>\n",
              "      <th>year</th>\n",
              "      <th>month</th>\n",
              "      <th>day</th>\n",
              "      <th>hour</th>\n",
              "      <th>PM2.5</th>\n",
              "      <th>PM10</th>\n",
              "      <th>SO2</th>\n",
              "      <th>NO2</th>\n",
              "      <th>CO</th>\n",
              "      <th>O3</th>\n",
              "      <th>TEMP</th>\n",
              "      <th>PRES</th>\n",
              "      <th>DEWP</th>\n",
              "      <th>RAIN</th>\n",
              "      <th>wd</th>\n",
              "      <th>WSPM</th>\n",
              "      <th>station</th>\n",
              "    </tr>\n",
              "  </thead>\n",
              "  <tbody>\n",
              "    <tr>\n",
              "      <th>0</th>\n",
              "      <td>1</td>\n",
              "      <td>2013</td>\n",
              "      <td>3</td>\n",
              "      <td>1</td>\n",
              "      <td>0</td>\n",
              "      <td>4.0</td>\n",
              "      <td>4.0</td>\n",
              "      <td>4.0</td>\n",
              "      <td>7.0</td>\n",
              "      <td>300.0</td>\n",
              "      <td>77.0</td>\n",
              "      <td>-0.7</td>\n",
              "      <td>1023.0</td>\n",
              "      <td>-18.8</td>\n",
              "      <td>0.0</td>\n",
              "      <td>NNW</td>\n",
              "      <td>4.4</td>\n",
              "      <td>Aotizhongxin</td>\n",
              "    </tr>\n",
              "    <tr>\n",
              "      <th>1</th>\n",
              "      <td>2</td>\n",
              "      <td>2013</td>\n",
              "      <td>3</td>\n",
              "      <td>1</td>\n",
              "      <td>1</td>\n",
              "      <td>8.0</td>\n",
              "      <td>8.0</td>\n",
              "      <td>4.0</td>\n",
              "      <td>7.0</td>\n",
              "      <td>300.0</td>\n",
              "      <td>77.0</td>\n",
              "      <td>-1.1</td>\n",
              "      <td>1023.2</td>\n",
              "      <td>-18.2</td>\n",
              "      <td>0.0</td>\n",
              "      <td>N</td>\n",
              "      <td>4.7</td>\n",
              "      <td>Aotizhongxin</td>\n",
              "    </tr>\n",
              "    <tr>\n",
              "      <th>2</th>\n",
              "      <td>3</td>\n",
              "      <td>2013</td>\n",
              "      <td>3</td>\n",
              "      <td>1</td>\n",
              "      <td>2</td>\n",
              "      <td>7.0</td>\n",
              "      <td>7.0</td>\n",
              "      <td>5.0</td>\n",
              "      <td>10.0</td>\n",
              "      <td>300.0</td>\n",
              "      <td>73.0</td>\n",
              "      <td>-1.1</td>\n",
              "      <td>1023.5</td>\n",
              "      <td>-18.2</td>\n",
              "      <td>0.0</td>\n",
              "      <td>NNW</td>\n",
              "      <td>5.6</td>\n",
              "      <td>Aotizhongxin</td>\n",
              "    </tr>\n",
              "    <tr>\n",
              "      <th>3</th>\n",
              "      <td>4</td>\n",
              "      <td>2013</td>\n",
              "      <td>3</td>\n",
              "      <td>1</td>\n",
              "      <td>3</td>\n",
              "      <td>6.0</td>\n",
              "      <td>6.0</td>\n",
              "      <td>11.0</td>\n",
              "      <td>11.0</td>\n",
              "      <td>300.0</td>\n",
              "      <td>72.0</td>\n",
              "      <td>-1.4</td>\n",
              "      <td>1024.5</td>\n",
              "      <td>-19.4</td>\n",
              "      <td>0.0</td>\n",
              "      <td>NW</td>\n",
              "      <td>3.1</td>\n",
              "      <td>Aotizhongxin</td>\n",
              "    </tr>\n",
              "    <tr>\n",
              "      <th>4</th>\n",
              "      <td>5</td>\n",
              "      <td>2013</td>\n",
              "      <td>3</td>\n",
              "      <td>1</td>\n",
              "      <td>4</td>\n",
              "      <td>3.0</td>\n",
              "      <td>3.0</td>\n",
              "      <td>12.0</td>\n",
              "      <td>12.0</td>\n",
              "      <td>300.0</td>\n",
              "      <td>72.0</td>\n",
              "      <td>-2.0</td>\n",
              "      <td>1025.2</td>\n",
              "      <td>-19.5</td>\n",
              "      <td>0.0</td>\n",
              "      <td>N</td>\n",
              "      <td>2.0</td>\n",
              "      <td>Aotizhongxin</td>\n",
              "    </tr>\n",
              "    <tr>\n",
              "      <th>...</th>\n",
              "      <td>...</td>\n",
              "      <td>...</td>\n",
              "      <td>...</td>\n",
              "      <td>...</td>\n",
              "      <td>...</td>\n",
              "      <td>...</td>\n",
              "      <td>...</td>\n",
              "      <td>...</td>\n",
              "      <td>...</td>\n",
              "      <td>...</td>\n",
              "      <td>...</td>\n",
              "      <td>...</td>\n",
              "      <td>...</td>\n",
              "      <td>...</td>\n",
              "      <td>...</td>\n",
              "      <td>...</td>\n",
              "      <td>...</td>\n",
              "      <td>...</td>\n",
              "    </tr>\n",
              "    <tr>\n",
              "      <th>35059</th>\n",
              "      <td>35060</td>\n",
              "      <td>2017</td>\n",
              "      <td>2</td>\n",
              "      <td>28</td>\n",
              "      <td>19</td>\n",
              "      <td>12.0</td>\n",
              "      <td>29.0</td>\n",
              "      <td>5.0</td>\n",
              "      <td>35.0</td>\n",
              "      <td>400.0</td>\n",
              "      <td>95.0</td>\n",
              "      <td>12.5</td>\n",
              "      <td>1013.5</td>\n",
              "      <td>-16.2</td>\n",
              "      <td>0.0</td>\n",
              "      <td>NW</td>\n",
              "      <td>2.4</td>\n",
              "      <td>Aotizhongxin</td>\n",
              "    </tr>\n",
              "    <tr>\n",
              "      <th>35060</th>\n",
              "      <td>35061</td>\n",
              "      <td>2017</td>\n",
              "      <td>2</td>\n",
              "      <td>28</td>\n",
              "      <td>20</td>\n",
              "      <td>13.0</td>\n",
              "      <td>37.0</td>\n",
              "      <td>7.0</td>\n",
              "      <td>45.0</td>\n",
              "      <td>500.0</td>\n",
              "      <td>81.0</td>\n",
              "      <td>11.6</td>\n",
              "      <td>1013.6</td>\n",
              "      <td>-15.1</td>\n",
              "      <td>0.0</td>\n",
              "      <td>WNW</td>\n",
              "      <td>0.9</td>\n",
              "      <td>Aotizhongxin</td>\n",
              "    </tr>\n",
              "    <tr>\n",
              "      <th>35061</th>\n",
              "      <td>35062</td>\n",
              "      <td>2017</td>\n",
              "      <td>2</td>\n",
              "      <td>28</td>\n",
              "      <td>21</td>\n",
              "      <td>16.0</td>\n",
              "      <td>37.0</td>\n",
              "      <td>10.0</td>\n",
              "      <td>66.0</td>\n",
              "      <td>700.0</td>\n",
              "      <td>58.0</td>\n",
              "      <td>10.8</td>\n",
              "      <td>1014.2</td>\n",
              "      <td>-13.3</td>\n",
              "      <td>0.0</td>\n",
              "      <td>NW</td>\n",
              "      <td>1.1</td>\n",
              "      <td>Aotizhongxin</td>\n",
              "    </tr>\n",
              "    <tr>\n",
              "      <th>35062</th>\n",
              "      <td>35063</td>\n",
              "      <td>2017</td>\n",
              "      <td>2</td>\n",
              "      <td>28</td>\n",
              "      <td>22</td>\n",
              "      <td>21.0</td>\n",
              "      <td>44.0</td>\n",
              "      <td>12.0</td>\n",
              "      <td>87.0</td>\n",
              "      <td>700.0</td>\n",
              "      <td>35.0</td>\n",
              "      <td>10.5</td>\n",
              "      <td>1014.4</td>\n",
              "      <td>-12.9</td>\n",
              "      <td>0.0</td>\n",
              "      <td>NNW</td>\n",
              "      <td>1.2</td>\n",
              "      <td>Aotizhongxin</td>\n",
              "    </tr>\n",
              "    <tr>\n",
              "      <th>35063</th>\n",
              "      <td>35064</td>\n",
              "      <td>2017</td>\n",
              "      <td>2</td>\n",
              "      <td>28</td>\n",
              "      <td>23</td>\n",
              "      <td>19.0</td>\n",
              "      <td>31.0</td>\n",
              "      <td>10.0</td>\n",
              "      <td>79.0</td>\n",
              "      <td>600.0</td>\n",
              "      <td>42.0</td>\n",
              "      <td>8.6</td>\n",
              "      <td>1014.1</td>\n",
              "      <td>-15.9</td>\n",
              "      <td>0.0</td>\n",
              "      <td>NNE</td>\n",
              "      <td>1.3</td>\n",
              "      <td>Aotizhongxin</td>\n",
              "    </tr>\n",
              "  </tbody>\n",
              "</table>\n",
              "<p>31815 rows × 18 columns</p>\n",
              "</div>"
            ],
            "text/plain": [
              "          No  year  month  day  hour  ...  DEWP  RAIN   wd  WSPM       station\n",
              "0          1  2013      3    1     0  ... -18.8   0.0  NNW   4.4  Aotizhongxin\n",
              "1          2  2013      3    1     1  ... -18.2   0.0    N   4.7  Aotizhongxin\n",
              "2          3  2013      3    1     2  ... -18.2   0.0  NNW   5.6  Aotizhongxin\n",
              "3          4  2013      3    1     3  ... -19.4   0.0   NW   3.1  Aotizhongxin\n",
              "4          5  2013      3    1     4  ... -19.5   0.0    N   2.0  Aotizhongxin\n",
              "...      ...   ...    ...  ...   ...  ...   ...   ...  ...   ...           ...\n",
              "35059  35060  2017      2   28    19  ... -16.2   0.0   NW   2.4  Aotizhongxin\n",
              "35060  35061  2017      2   28    20  ... -15.1   0.0  WNW   0.9  Aotizhongxin\n",
              "35061  35062  2017      2   28    21  ... -13.3   0.0   NW   1.1  Aotizhongxin\n",
              "35062  35063  2017      2   28    22  ... -12.9   0.0  NNW   1.2  Aotizhongxin\n",
              "35063  35064  2017      2   28    23  ... -15.9   0.0  NNE   1.3  Aotizhongxin\n",
              "\n",
              "[31815 rows x 18 columns]"
            ]
          },
          "metadata": {
            "tags": []
          },
          "execution_count": 3
        }
      ]
    },
    {
      "cell_type": "markdown",
      "metadata": {
        "id": "7AnH6VY-W09n"
      },
      "source": [
        "# Part 2: Format data and split it into numpy arrays"
      ]
    },
    {
      "cell_type": "code",
      "metadata": {
        "id": "OaRBLIHNdrSN"
      },
      "source": [
        "# AUX function to put categorical data into one-hot encoding format\n",
        "from sklearn.preprocessing import OneHotEncoder\n",
        "def winddir_to_categorical(winddir):\n",
        "  enc = OneHotEncoder(sparse=False)\n",
        "  WD = enc.fit_transform(winddir)\n",
        "  print(\"== categories:\", enc.categories_, \"==\")\n",
        "  return WD"
      ],
      "execution_count": 4,
      "outputs": []
    },
    {
      "cell_type": "code",
      "metadata": {
        "id": "dFhZ5cEGSk2e",
        "colab": {
          "base_uri": "https://localhost:8080/",
          "height": 681
        },
        "outputId": "0363fb6d-718b-4956-be3d-4da2ec44f437"
      },
      "source": [
        "# Extract input features and convert them to a numpy array\n",
        "X = df[['year', 'month', 'day', 'hour', 'TEMP', 'PRES', 'DEWP', 'RAIN', 'WSPM' ]].to_numpy()\n",
        "WD = winddir_to_categorical(df[['wd']])\n",
        "X = np.concatenate((X, WD), axis=1)\n",
        "\n",
        "print(f\"Input values X with shape {X.shape}. With values\")\n",
        "\n",
        "\n",
        "print(f\" min = {X.min(axis=0)}\")\n",
        "print(f\" mean = {X.mean(axis=0)}\")\n",
        "print(f\" stdd = {X.std(axis=0)}\")\n",
        "print(f\" max = {X.max(axis=0)}\")\n",
        "\n",
        "plt.boxplot(X)\n",
        "plt.show()"
      ],
      "execution_count": 5,
      "outputs": [
        {
          "output_type": "stream",
          "text": [
            "== categories: [array(['E', 'ENE', 'ESE', 'N', 'NE', 'NNE', 'NNW', 'NW', 'S', 'SE', 'SSE',\n",
            "       'SSW', 'SW', 'W', 'WNW', 'WSW'], dtype=object)] ==\n",
            "Input values X with shape (31815, 25). With values\n",
            " min = [ 2.013e+03  1.000e+00  1.000e+00  0.000e+00 -1.680e+01  9.859e+02\n",
            " -3.530e+01  0.000e+00  0.000e+00  0.000e+00  0.000e+00  0.000e+00\n",
            "  0.000e+00  0.000e+00  0.000e+00  0.000e+00  0.000e+00  0.000e+00\n",
            "  0.000e+00  0.000e+00  0.000e+00  0.000e+00  0.000e+00  0.000e+00\n",
            "  0.000e+00]\n",
            " mean = [2.01471491e+03 6.40188590e+00 1.55785636e+01 1.16247996e+01\n",
            " 1.37756108e+01 1.01180038e+03 3.24110640e+00 6.82351092e-02\n",
            " 1.72047148e+00 7.51532296e-02 1.12619833e-01 5.05421971e-02\n",
            " 5.86830112e-02 1.43988685e-01 6.99984284e-02 4.45073079e-02\n",
            " 5.37482320e-02 3.81581015e-02 3.91010530e-02 2.96715386e-02\n",
            " 6.03488920e-02 9.57724344e-02 3.36005029e-02 3.14002829e-02\n",
            " 6.27062706e-02]\n",
            " stdd = [ 1.16251735  3.41679338  8.79481542  6.92676545 11.36885668 10.33870697\n",
            " 13.66764783  0.83747595  1.20422141  0.26363843  0.31612752  0.21906091\n",
            "  0.23503046  0.35107826  0.25514437  0.20621932  0.2255202   0.19157782\n",
            "  0.1938354   0.16967952  0.23813211  0.29427891  0.18019853  0.17439698\n",
            "  0.2424339 ]\n",
            " max = [2.017e+03 1.200e+01 3.100e+01 2.300e+01 4.050e+01 1.042e+03 2.850e+01\n",
            " 4.640e+01 1.120e+01 1.000e+00 1.000e+00 1.000e+00 1.000e+00 1.000e+00\n",
            " 1.000e+00 1.000e+00 1.000e+00 1.000e+00 1.000e+00 1.000e+00 1.000e+00\n",
            " 1.000e+00 1.000e+00 1.000e+00 1.000e+00]\n"
          ],
          "name": "stdout"
        },
        {
          "output_type": "display_data",
          "data": {
            "image/png": "[encoded data removed]",
            "text/plain": [
              "<Figure size 432x288 with 1 Axes>"
            ]
          },
          "metadata": {
            "tags": [],
            "needs_background": "light"
          }
        }
      ]
    },
    {
      "cell_type": "code",
      "metadata": {
        "id": "MwImDcVGg5O7",
        "colab": {
          "base_uri": "https://localhost:8080/",
          "height": 716
        },
        "outputId": "d2c3ac51-5f81-4e7e-b342-3de471b1db3d"
      },
      "source": [
        "# Normalize (zero-center) and standardize (scale) input data\n",
        "from sklearn.preprocessing import StandardScaler\n",
        "scalerX = StandardScaler()\n",
        "X = scalerX.fit_transform(X)\n",
        "print(scalerX.mean_)\n",
        "\n",
        "print(f\" min = {X.min(axis=0)}\")\n",
        "print(f\" mean = {X.mean(axis=0)}\")\n",
        "print(f\" stdd = {X.std(axis=0)}\")\n",
        "print(f\" max = {X.max(axis=0)}\")\n",
        "\n",
        "plt.boxplot(X)\n",
        "plt.show()"
      ],
      "execution_count": 6,
      "outputs": [
        {
          "output_type": "stream",
          "text": [
            "[2.01471491e+03 6.40188590e+00 1.55785636e+01 1.16247996e+01\n",
            " 1.37756108e+01 1.01180038e+03 3.24110640e+00 6.82351092e-02\n",
            " 1.72047148e+00 7.51532296e-02 1.12619833e-01 5.05421971e-02\n",
            " 5.86830112e-02 1.43988685e-01 6.99984284e-02 4.45073079e-02\n",
            " 5.37482320e-02 3.81581015e-02 3.91010530e-02 2.96715386e-02\n",
            " 6.03488920e-02 9.57724344e-02 3.36005029e-02 3.14002829e-02\n",
            " 6.27062706e-02]\n",
            " min = [-1.47517312 -1.58098114 -1.65763156 -1.67824358 -2.68941826 -2.50518608\n",
            " -2.81987851 -0.0814771  -1.42870029 -0.28506174 -0.35624812 -0.23072212\n",
            " -0.24968258 -0.41013273 -0.27434832 -0.21582511 -0.23833001 -0.19917808\n",
            " -0.20172298 -0.17486812 -0.2534261  -0.32544784 -0.1864638  -0.18005062\n",
            " -0.25865307]\n",
            " mean = [ 2.53620974e-13 -5.20961380e-15 -1.40856471e-15 -1.27022216e-17\n",
            " -1.02426039e-14 -1.09446446e-12 -5.83953233e-16  2.22055074e-15\n",
            "  1.58522417e-14  1.72582712e-14 -4.05981498e-15  1.36230193e-14\n",
            "  1.06470074e-14 -1.71220957e-14 -1.80721207e-14  1.59185533e-15\n",
            " -1.52863037e-14 -9.66857167e-16 -1.04650289e-14 -9.16496697e-17\n",
            "  7.44947610e-15 -1.07559691e-14 -7.01441105e-15 -7.47533943e-15\n",
            " -1.16311731e-14]\n",
            " stdd = [1. 1. 1. 1. 1. 1. 1. 1. 1. 1. 1. 1. 1. 1. 1. 1. 1. 1. 1. 1. 1. 1. 1. 1.\n",
            " 1.]\n",
            " max = [ 1.96563574  1.63841165  1.75346903  1.64220955  2.35066639  2.92102439\n",
            "  1.84807905 55.32309879  7.87191495  3.50801198  2.80703236  4.33421824\n",
            "  4.00508514  2.43823505  3.64500138  4.63338109  4.19586262  5.02063288\n",
            "  4.9572935   5.71859515  3.94592353  3.07268902  5.36297113  5.55399377\n",
            "  3.86618267]\n"
          ],
          "name": "stdout"
        },
        {
          "output_type": "display_data",
          "data": {
            "image/png": "[encoded data removed]",
            "text/plain": [
              "<Figure size 432x288 with 1 Axes>"
            ]
          },
          "metadata": {
            "tags": [],
            "needs_background": "light"
          }
        }
      ]
    },
    {
      "cell_type": "code",
      "metadata": {
        "id": "dA2VIaEEHGwA",
        "colab": {
          "base_uri": "https://localhost:8080/",
          "height": 352
        },
        "outputId": "90e80213-c882-43c0-9739-5943fbeb627d"
      },
      "source": [
        "# Extract output features and convert them to a numpy array\n",
        "Y = df[['PM2.5', 'NO2']].to_numpy()\n",
        "\n",
        "print(f\"Target values Y with shape {Y.shape}. With values\")\n",
        "print(f\" min = {Y.min(axis=0)}\")\n",
        "print(f\" mean = {Y.mean(axis=0)}\")\n",
        "print(f\" stdd = {Y.std(axis=0)}\")\n",
        "print(f\" max = {Y.max(axis=0)}\")\n",
        "\n",
        "plt.boxplot(Y)\n",
        "plt.show()"
      ],
      "execution_count": 7,
      "outputs": [
        {
          "output_type": "stream",
          "text": [
            "Target values Y with shape (31815, 2). With values\n",
            " min = [3. 2.]\n",
            " mean = [81.86363036 58.97633192]\n",
            " stdd = [80.44822547 37.06080184]\n",
            " max = [713. 290.]\n"
          ],
          "name": "stdout"
        },
        {
          "output_type": "display_data",
          "data": {
            "image/png": "[encoded data removed]",
            "text/plain": [
              "<Figure size 432x288 with 1 Axes>"
            ]
          },
          "metadata": {
            "tags": [],
            "needs_background": "light"
          }
        }
      ]
    },
    {
      "cell_type": "code",
      "metadata": {
        "id": "d4nkvcV3MmC9",
        "colab": {
          "base_uri": "https://localhost:8080/",
          "height": 352
        },
        "outputId": "993415dd-3c6b-481d-cde9-fcbb4877d2a7"
      },
      "source": [
        "# Normalize (zero-center) and standardize (scale) output data\n",
        "scalerY = StandardScaler()\n",
        "Y = scalerY.fit_transform(Y)\n",
        "print(scalerY.mean_)\n",
        "\n",
        "print(f\" min = {Y.min(axis=0)}\")\n",
        "print(f\" mean = {Y.mean(axis=0)}\")\n",
        "print(f\" stdd = {Y.std(axis=0)}\")\n",
        "print(f\" max = {Y.max(axis=0)}\")\n",
        "\n",
        "plt.boxplot(Y)\n",
        "plt.show()"
      ],
      "execution_count": 8,
      "outputs": [
        {
          "output_type": "stream",
          "text": [
            "[81.86363036 58.97633192]\n",
            " min = [-0.98030292 -1.53737451]\n",
            " mean = [-3.21603501e-17  1.42934889e-17]\n",
            " stdd = [1. 1.]\n",
            " max = [7.84524911 6.23363923]\n"
          ],
          "name": "stdout"
        },
        {
          "output_type": "display_data",
          "data": {
            "image/png": "[encoded data removed]",
            "text/plain": [
              "<Figure size 432x288 with 1 Axes>"
            ]
          },
          "metadata": {
            "tags": [],
            "needs_background": "light"
          }
        }
      ]
    },
    {
      "cell_type": "code",
      "metadata": {
        "id": "zAKGr2d4W_OU",
        "colab": {
          "base_uri": "https://localhost:8080/"
        },
        "outputId": "7fea58f3-3543-419c-ab31-a03e585776f5"
      },
      "source": [
        "# Split data into train+val and test sets\n",
        "from sklearn.model_selection import train_test_split\n",
        "x_train, x_test, y_train, y_test = train_test_split(X, Y, test_size=0.05)\n",
        "\n",
        "print(x_train.shape)\n",
        "print(y_train.shape)\n",
        "print(x_test.shape)\n",
        "print(y_test.shape)"
      ],
      "execution_count": 9,
      "outputs": [
        {
          "output_type": "stream",
          "text": [
            "(30224, 25)\n",
            "(30224, 2)\n",
            "(1591, 25)\n",
            "(1591, 2)\n"
          ],
          "name": "stdout"
        }
      ]
    },
    {
      "cell_type": "code",
      "metadata": {
        "id": "7dQRDsU4znyI",
        "colab": {
          "base_uri": "https://localhost:8080/",
          "height": 295
        },
        "outputId": "88b10de3-6507-464c-c58b-c336b850dbd1"
      },
      "source": [
        "# Plot y_test\n",
        "# Esta gráfica es para ver sólo si los sets de entrenamiento y test cubren las mismas\n",
        "# áreas (¿tienen la misma distribución?). No se espera que los puntos coincidan ya que\n",
        "# son dos sets distintos.\n",
        "plt.scatter(y_train[:, 0], y_train[:, 1], c='r', s=2, label='y_train')\n",
        "plt.scatter(y_test[:, 0], y_test[:, 1], c='b', s=2, label='y_test')\n",
        "\n",
        "plt.legend()\n",
        "plt.grid(True)\n",
        "plt.xlabel('PM2.5')\n",
        "plt.ylabel('NO2')\n",
        "plt.title('Outputs')\n",
        "plt.show()"
      ],
      "execution_count": 10,
      "outputs": [
        {
          "output_type": "display_data",
          "data": {
            "image/png": "[encoded data removed]",
            "text/plain": [
              "<Figure size 432x288 with 1 Axes>"
            ]
          },
          "metadata": {
            "tags": [],
            "needs_background": "light"
          }
        }
      ]
    },
    {
      "cell_type": "markdown",
      "metadata": {
        "id": "dreChfyNYqsB"
      },
      "source": [
        "# Part 3: Create DNN model and train it"
      ]
    },
    {
      "cell_type": "code",
      "metadata": {
        "id": "JO90QIV_HZyX"
      },
      "source": [
        "# tensorflow imports\n",
        "import tensorflow as tf\n",
        "from tensorflow.keras.models import Sequential\n",
        "from tensorflow.keras.layers import Input, Dense"
      ],
      "execution_count": 11,
      "outputs": []
    },
    {
      "cell_type": "code",
      "metadata": {
        "id": "ENX7lCg3Ido4",
        "colab": {
          "base_uri": "https://localhost:8080/"
        },
        "outputId": "d275f001-5a3d-4429-f431-5e10d10712e2"
      },
      "source": [
        "# Create a Deep Network\n",
        "DNN = Sequential()\n",
        "DNN.add(Input(shape=X.shape[1:], name='INPUT'))\n",
        "\n",
        "DNN.add(Dense(units=256, activation='relu'))\n",
        "DNN.add(Dense(units=512, activation='relu'))\n",
        "DNN.add(Dense(units=1024, activation='relu'))\n",
        "DNN.add(Dense(units=512, activation='relu'))\n",
        "DNN.add(Dense(units=256, activation='relu'))\n",
        "\n",
        "DNN.add(Dense(units=Y.shape[1], activation='linear', name='OUTPUT'))\n",
        "\n",
        "DNN.summary()"
      ],
      "execution_count": null,
      "outputs": [
        {
          "output_type": "stream",
          "text": [
            "Model: \"sequential_10\"\n",
            "_________________________________________________________________\n",
            "Layer (type)                 Output Shape              Param #   \n",
            "=================================================================\n",
            "dense_51 (Dense)             (None, 256)               6656      \n",
            "_________________________________________________________________\n",
            "dense_52 (Dense)             (None, 512)               131584    \n",
            "_________________________________________________________________\n",
            "dense_53 (Dense)             (None, 1024)              525312    \n",
            "_________________________________________________________________\n",
            "dense_54 (Dense)             (None, 512)               524800    \n",
            "_________________________________________________________________\n",
            "dense_55 (Dense)             (None, 256)               131328    \n",
            "_________________________________________________________________\n",
            "OUTPUT (Dense)               (None, 2)                 514       \n",
            "=================================================================\n",
            "Total params: 1,320,194\n",
            "Trainable params: 1,320,194\n",
            "Non-trainable params: 0\n",
            "_________________________________________________________________\n"
          ],
          "name": "stdout"
        }
      ]
    },
    {
      "cell_type": "code",
      "metadata": {
        "id": "Y8TlQWPOVfxw"
      },
      "source": [
        "# Define training parameters\n",
        "#from tensorflow.keras.optimizers import SGD\n",
        "#sgd = SGD(learning_rate=0.02, momentum=0.6)\n",
        "#DNN.compile(optimizer=sgd, loss='mse')\n",
        "DNN.compile(optimizer='adam', loss='mse')"
      ],
      "execution_count": null,
      "outputs": []
    },
    {
      "cell_type": "code",
      "metadata": {
        "id": "cXaSP7HIVhTK",
        "colab": {
          "base_uri": "https://localhost:8080/"
        },
        "outputId": "a95303cb-f96d-4f99-ae42-4c357d03fcc3"
      },
      "source": [
        "# Train model\n",
        "history = DNN.fit(x=x_train, y=y_train, batch_size=32, epochs=200, verbose=1, validation_split=0.1, shuffle=True)"
      ],
      "execution_count": null,
      "outputs": [
        {
          "output_type": "stream",
          "text": [
            "Epoch 1/200\n",
            "851/851 [==============================] - 3s 3ms/step - loss: 0.6952 - val_loss: 0.5834\n",
            "Epoch 2/200\n",
            "851/851 [==============================] - 2s 2ms/step - loss: 0.5521 - val_loss: 0.4875\n",
            "Epoch 3/200\n",
            "851/851 [==============================] - 2s 2ms/step - loss: 0.4720 - val_loss: 0.4480\n",
            "Epoch 4/200\n",
            "851/851 [==============================] - 2s 2ms/step - loss: 0.4312 - val_loss: 0.3905\n",
            "Epoch 5/200\n",
            "851/851 [==============================] - 2s 2ms/step - loss: 0.3921 - val_loss: 0.3948\n",
            "Epoch 6/200\n",
            "851/851 [==============================] - 2s 2ms/step - loss: 0.3627 - val_loss: 0.3653\n",
            "Epoch 7/200\n",
            "851/851 [==============================] - 2s 2ms/step - loss: 0.3352 - val_loss: 0.3535\n",
            "Epoch 8/200\n",
            "851/851 [==============================] - 2s 2ms/step - loss: 0.3184 - val_loss: 0.3303\n",
            "Epoch 9/200\n",
            "851/851 [==============================] - 2s 2ms/step - loss: 0.3046 - val_loss: 0.3613\n",
            "Epoch 10/200\n",
            "851/851 [==============================] - 2s 2ms/step - loss: 0.2764 - val_loss: 0.3317\n",
            "Epoch 11/200\n",
            "851/851 [==============================] - 2s 2ms/step - loss: 0.2777 - val_loss: 0.3164\n",
            "Epoch 12/200\n",
            "851/851 [==============================] - 2s 2ms/step - loss: 0.2448 - val_loss: 0.3291\n",
            "Epoch 13/200\n",
            "851/851 [==============================] - 2s 2ms/step - loss: 0.2316 - val_loss: 0.2967\n",
            "Epoch 14/200\n",
            "851/851 [==============================] - 2s 2ms/step - loss: 0.2206 - val_loss: 0.3017\n",
            "Epoch 15/200\n",
            "851/851 [==============================] - 2s 2ms/step - loss: 0.2385 - val_loss: 0.2912\n",
            "Epoch 16/200\n",
            "851/851 [==============================] - 2s 2ms/step - loss: 0.1966 - val_loss: 0.2886\n",
            "Epoch 17/200\n",
            "851/851 [==============================] - 2s 2ms/step - loss: 0.1763 - val_loss: 0.2897\n",
            "Epoch 18/200\n",
            "851/851 [==============================] - 2s 2ms/step - loss: 0.1729 - val_loss: 0.2890\n",
            "Epoch 19/200\n",
            "851/851 [==============================] - 2s 2ms/step - loss: 0.1649 - val_loss: 0.2819\n",
            "Epoch 20/200\n",
            "851/851 [==============================] - 2s 2ms/step - loss: 0.1561 - val_loss: 0.2816\n",
            "Epoch 21/200\n",
            "851/851 [==============================] - 2s 3ms/step - loss: 0.1476 - val_loss: 0.2836\n",
            "Epoch 22/200\n",
            "851/851 [==============================] - 2s 2ms/step - loss: 0.1396 - val_loss: 0.2879\n",
            "Epoch 23/200\n",
            "851/851 [==============================] - 2s 2ms/step - loss: 0.1297 - val_loss: 0.2778\n",
            "Epoch 24/200\n",
            "851/851 [==============================] - 2s 2ms/step - loss: 0.1294 - val_loss: 0.2742\n",
            "Epoch 25/200\n",
            "851/851 [==============================] - 2s 3ms/step - loss: 0.1230 - val_loss: 0.2865\n",
            "Epoch 26/200\n",
            "851/851 [==============================] - 2s 3ms/step - loss: 0.1187 - val_loss: 0.2745\n",
            "Epoch 27/200\n",
            "851/851 [==============================] - 2s 2ms/step - loss: 0.1133 - val_loss: 0.2925\n",
            "Epoch 28/200\n",
            "851/851 [==============================] - 2s 2ms/step - loss: 0.1109 - val_loss: 0.2685\n",
            "Epoch 29/200\n",
            "851/851 [==============================] - 2s 3ms/step - loss: 0.1013 - val_loss: 0.2768\n",
            "Epoch 30/200\n",
            "851/851 [==============================] - 2s 2ms/step - loss: 0.1041 - val_loss: 0.2866\n",
            "Epoch 31/200\n",
            "851/851 [==============================] - 2s 3ms/step - loss: 0.1239 - val_loss: 0.2853\n",
            "Epoch 32/200\n",
            "851/851 [==============================] - 2s 3ms/step - loss: 0.0947 - val_loss: 0.2584\n",
            "Epoch 33/200\n",
            "851/851 [==============================] - 2s 2ms/step - loss: 0.0887 - val_loss: 0.2620\n",
            "Epoch 34/200\n",
            "851/851 [==============================] - 2s 3ms/step - loss: 0.0826 - val_loss: 0.2646\n",
            "Epoch 35/200\n",
            "851/851 [==============================] - 2s 2ms/step - loss: 0.0825 - val_loss: 0.2612\n",
            "Epoch 36/200\n",
            "851/851 [==============================] - 2s 3ms/step - loss: 0.0783 - val_loss: 0.2708\n",
            "Epoch 37/200\n",
            "851/851 [==============================] - 2s 3ms/step - loss: 0.0786 - val_loss: 0.2665\n",
            "Epoch 38/200\n",
            "851/851 [==============================] - 2s 3ms/step - loss: 0.0782 - val_loss: 0.2609\n",
            "Epoch 39/200\n",
            "851/851 [==============================] - 2s 2ms/step - loss: 0.0665 - val_loss: 0.2736\n",
            "Epoch 40/200\n",
            "851/851 [==============================] - 2s 2ms/step - loss: 0.0672 - val_loss: 0.2618\n",
            "Epoch 41/200\n",
            "851/851 [==============================] - 2s 2ms/step - loss: 0.0740 - val_loss: 0.2672\n",
            "Epoch 42/200\n",
            "851/851 [==============================] - 2s 3ms/step - loss: 0.0651 - val_loss: 0.2637\n",
            "Epoch 43/200\n",
            "851/851 [==============================] - 2s 3ms/step - loss: 0.0684 - val_loss: 0.2613\n",
            "Epoch 44/200\n",
            "851/851 [==============================] - 2s 2ms/step - loss: 0.0620 - val_loss: 0.2753\n",
            "Epoch 45/200\n",
            "851/851 [==============================] - 2s 2ms/step - loss: 0.0625 - val_loss: 0.2685\n",
            "Epoch 46/200\n",
            "851/851 [==============================] - 2s 2ms/step - loss: 0.0660 - val_loss: 0.2681\n",
            "Epoch 47/200\n",
            "851/851 [==============================] - 2s 2ms/step - loss: 0.0587 - val_loss: 0.2570\n",
            "Epoch 48/200\n",
            "851/851 [==============================] - 2s 2ms/step - loss: 0.0562 - val_loss: 0.2703\n",
            "Epoch 49/200\n",
            "851/851 [==============================] - 2s 2ms/step - loss: 0.0518 - val_loss: 0.2592\n",
            "Epoch 50/200\n",
            "851/851 [==============================] - 2s 2ms/step - loss: 0.0556 - val_loss: 0.2692\n",
            "Epoch 51/200\n",
            "851/851 [==============================] - 2s 3ms/step - loss: 0.0601 - val_loss: 0.2580\n",
            "Epoch 52/200\n",
            "851/851 [==============================] - 2s 3ms/step - loss: 0.0444 - val_loss: 0.2554\n",
            "Epoch 53/200\n",
            "851/851 [==============================] - 2s 3ms/step - loss: 0.0584 - val_loss: 0.2600\n",
            "Epoch 54/200\n",
            "851/851 [==============================] - 2s 2ms/step - loss: 0.0468 - val_loss: 0.2654\n",
            "Epoch 55/200\n",
            "851/851 [==============================] - 2s 2ms/step - loss: 0.0531 - val_loss: 0.2540\n",
            "Epoch 56/200\n",
            "851/851 [==============================] - 2s 2ms/step - loss: 0.0497 - val_loss: 0.2565\n",
            "Epoch 57/200\n",
            "851/851 [==============================] - 2s 2ms/step - loss: 0.0463 - val_loss: 0.2657\n",
            "Epoch 58/200\n",
            "851/851 [==============================] - 2s 3ms/step - loss: 0.0464 - val_loss: 0.2574\n",
            "Epoch 59/200\n",
            "851/851 [==============================] - 2s 3ms/step - loss: 0.0495 - val_loss: 0.2561\n",
            "Epoch 60/200\n",
            "851/851 [==============================] - 2s 3ms/step - loss: 0.0394 - val_loss: 0.2566\n",
            "Epoch 61/200\n",
            "851/851 [==============================] - 2s 3ms/step - loss: 0.0696 - val_loss: 0.2545\n",
            "Epoch 62/200\n",
            "851/851 [==============================] - 2s 3ms/step - loss: 0.0411 - val_loss: 0.2464\n",
            "Epoch 63/200\n",
            "851/851 [==============================] - 2s 2ms/step - loss: 0.0348 - val_loss: 0.2547\n",
            "Epoch 64/200\n",
            "851/851 [==============================] - 2s 3ms/step - loss: 0.0459 - val_loss: 0.2623\n",
            "Epoch 65/200\n",
            "851/851 [==============================] - 2s 3ms/step - loss: 0.0405 - val_loss: 0.2502\n",
            "Epoch 66/200\n",
            "851/851 [==============================] - 2s 3ms/step - loss: 0.0416 - val_loss: 0.2494\n",
            "Epoch 67/200\n",
            "851/851 [==============================] - 2s 2ms/step - loss: 0.0378 - val_loss: 0.2622\n",
            "Epoch 68/200\n",
            "851/851 [==============================] - 2s 2ms/step - loss: 0.0374 - val_loss: 0.2524\n",
            "Epoch 69/200\n",
            "851/851 [==============================] - 2s 3ms/step - loss: 0.0387 - val_loss: 0.2701\n",
            "Epoch 70/200\n",
            "851/851 [==============================] - 2s 2ms/step - loss: 0.0341 - val_loss: 0.2529\n",
            "Epoch 71/200\n",
            "851/851 [==============================] - 2s 3ms/step - loss: 0.0402 - val_loss: 0.2488\n",
            "Epoch 72/200\n",
            "851/851 [==============================] - 2s 2ms/step - loss: 0.0366 - val_loss: 0.2575\n",
            "Epoch 73/200\n",
            "851/851 [==============================] - 2s 3ms/step - loss: 0.0347 - val_loss: 0.2457\n",
            "Epoch 74/200\n",
            "851/851 [==============================] - 2s 3ms/step - loss: 0.0356 - val_loss: 0.2608\n",
            "Epoch 75/200\n",
            "851/851 [==============================] - 2s 3ms/step - loss: 0.0456 - val_loss: 0.2562\n",
            "Epoch 76/200\n",
            "851/851 [==============================] - 2s 3ms/step - loss: 0.0336 - val_loss: 0.2555\n",
            "Epoch 77/200\n",
            "851/851 [==============================] - 2s 3ms/step - loss: 0.0341 - val_loss: 0.2510\n",
            "Epoch 78/200\n",
            "851/851 [==============================] - 2s 3ms/step - loss: 0.0297 - val_loss: 0.2535\n",
            "Epoch 79/200\n",
            "851/851 [==============================] - 2s 2ms/step - loss: 0.0368 - val_loss: 0.2570\n",
            "Epoch 80/200\n",
            "851/851 [==============================] - 2s 2ms/step - loss: 0.0359 - val_loss: 0.2557\n",
            "Epoch 81/200\n",
            "851/851 [==============================] - 2s 3ms/step - loss: 0.0319 - val_loss: 0.2536\n",
            "Epoch 82/200\n",
            "851/851 [==============================] - 2s 3ms/step - loss: 0.0322 - val_loss: 0.2553\n",
            "Epoch 83/200\n",
            "851/851 [==============================] - 2s 2ms/step - loss: 0.0375 - val_loss: 0.2441\n",
            "Epoch 84/200\n",
            "851/851 [==============================] - 2s 3ms/step - loss: 0.0310 - val_loss: 0.2541\n",
            "Epoch 85/200\n",
            "851/851 [==============================] - 2s 3ms/step - loss: 0.0298 - val_loss: 0.2453\n",
            "Epoch 86/200\n",
            "851/851 [==============================] - 2s 2ms/step - loss: 0.0296 - val_loss: 0.2525\n",
            "Epoch 87/200\n",
            "851/851 [==============================] - 2s 2ms/step - loss: 0.0283 - val_loss: 0.2627\n",
            "Epoch 88/200\n",
            "851/851 [==============================] - 2s 2ms/step - loss: 0.0445 - val_loss: 0.2556\n",
            "Epoch 89/200\n",
            "851/851 [==============================] - 2s 3ms/step - loss: 0.0305 - val_loss: 0.2545\n",
            "Epoch 90/200\n",
            "851/851 [==============================] - 2s 2ms/step - loss: 0.0247 - val_loss: 0.2489\n",
            "Epoch 91/200\n",
            "851/851 [==============================] - 2s 2ms/step - loss: 0.0283 - val_loss: 0.2562\n",
            "Epoch 92/200\n",
            "851/851 [==============================] - 2s 2ms/step - loss: 0.0317 - val_loss: 0.2474\n",
            "Epoch 93/200\n",
            "851/851 [==============================] - 2s 2ms/step - loss: 0.0279 - val_loss: 0.2429\n",
            "Epoch 94/200\n",
            "851/851 [==============================] - 2s 3ms/step - loss: 0.0285 - val_loss: 0.2481\n",
            "Epoch 95/200\n",
            "851/851 [==============================] - 2s 3ms/step - loss: 0.0292 - val_loss: 0.2541\n",
            "Epoch 96/200\n",
            "851/851 [==============================] - 2s 3ms/step - loss: 0.0249 - val_loss: 0.2474\n",
            "Epoch 97/200\n",
            "851/851 [==============================] - 2s 3ms/step - loss: 0.0233 - val_loss: 0.2639\n",
            "Epoch 98/200\n",
            "851/851 [==============================] - 2s 2ms/step - loss: 0.0276 - val_loss: 0.2560\n",
            "Epoch 99/200\n",
            "851/851 [==============================] - 2s 3ms/step - loss: 0.0314 - val_loss: 0.2448\n",
            "Epoch 100/200\n",
            "851/851 [==============================] - 2s 3ms/step - loss: 0.0259 - val_loss: 0.2510\n",
            "Epoch 101/200\n",
            "851/851 [==============================] - 2s 3ms/step - loss: 0.0259 - val_loss: 0.2463\n",
            "Epoch 102/200\n",
            "851/851 [==============================] - 2s 2ms/step - loss: 0.0231 - val_loss: 0.2517\n",
            "Epoch 103/200\n",
            "851/851 [==============================] - 2s 2ms/step - loss: 0.0275 - val_loss: 0.2452\n",
            "Epoch 104/200\n",
            "851/851 [==============================] - 2s 3ms/step - loss: 0.0237 - val_loss: 0.2454\n",
            "Epoch 105/200\n",
            "851/851 [==============================] - 2s 3ms/step - loss: 0.0243 - val_loss: 0.2487\n",
            "Epoch 106/200\n",
            "851/851 [==============================] - 2s 3ms/step - loss: 0.0301 - val_loss: 0.2613\n",
            "Epoch 107/200\n",
            "851/851 [==============================] - 2s 2ms/step - loss: 0.0284 - val_loss: 0.2466\n",
            "Epoch 108/200\n",
            "851/851 [==============================] - 2s 3ms/step - loss: 0.0271 - val_loss: 0.2434\n",
            "Epoch 109/200\n",
            "851/851 [==============================] - 2s 3ms/step - loss: 0.0233 - val_loss: 0.2424\n",
            "Epoch 110/200\n",
            "851/851 [==============================] - 2s 3ms/step - loss: 0.0192 - val_loss: 0.2442\n",
            "Epoch 111/200\n",
            "851/851 [==============================] - 2s 2ms/step - loss: 0.0227 - val_loss: 0.2634\n",
            "Epoch 112/200\n",
            "851/851 [==============================] - 2s 2ms/step - loss: 0.0284 - val_loss: 0.2394\n",
            "Epoch 113/200\n",
            "851/851 [==============================] - 2s 2ms/step - loss: 0.0217 - val_loss: 0.2517\n",
            "Epoch 114/200\n",
            "851/851 [==============================] - 2s 2ms/step - loss: 0.0299 - val_loss: 0.2399\n",
            "Epoch 115/200\n",
            "851/851 [==============================] - 2s 2ms/step - loss: 0.0193 - val_loss: 0.2402\n",
            "Epoch 116/200\n",
            "851/851 [==============================] - 2s 2ms/step - loss: 0.0199 - val_loss: 0.2439\n",
            "Epoch 117/200\n",
            "851/851 [==============================] - 2s 2ms/step - loss: 0.0201 - val_loss: 0.2529\n",
            "Epoch 118/200\n",
            "851/851 [==============================] - 2s 2ms/step - loss: 0.0233 - val_loss: 0.2471\n",
            "Epoch 119/200\n",
            "851/851 [==============================] - 2s 2ms/step - loss: 0.0265 - val_loss: 0.2552\n",
            "Epoch 120/200\n",
            "851/851 [==============================] - 2s 2ms/step - loss: 0.0214 - val_loss: 0.2488\n",
            "Epoch 121/200\n",
            "851/851 [==============================] - 2s 2ms/step - loss: 0.0265 - val_loss: 0.2490\n",
            "Epoch 122/200\n",
            "851/851 [==============================] - 2s 2ms/step - loss: 0.0237 - val_loss: 0.2588\n",
            "Epoch 123/200\n",
            "851/851 [==============================] - 2s 3ms/step - loss: 0.0202 - val_loss: 0.2458\n",
            "Epoch 124/200\n",
            "851/851 [==============================] - 2s 3ms/step - loss: 0.0201 - val_loss: 0.2488\n",
            "Epoch 125/200\n",
            "851/851 [==============================] - 2s 3ms/step - loss: 0.0215 - val_loss: 0.2560\n",
            "Epoch 126/200\n",
            "851/851 [==============================] - 2s 3ms/step - loss: 0.0286 - val_loss: 0.2488\n",
            "Epoch 127/200\n",
            "851/851 [==============================] - 2s 3ms/step - loss: 0.0200 - val_loss: 0.2480\n",
            "Epoch 128/200\n",
            "851/851 [==============================] - 2s 3ms/step - loss: 0.0202 - val_loss: 0.2385\n",
            "Epoch 129/200\n",
            "851/851 [==============================] - 2s 2ms/step - loss: 0.0174 - val_loss: 0.2508\n",
            "Epoch 130/200\n",
            "851/851 [==============================] - 2s 3ms/step - loss: 0.0181 - val_loss: 0.2547\n",
            "Epoch 131/200\n",
            "851/851 [==============================] - 2s 2ms/step - loss: 0.0215 - val_loss: 0.2476\n",
            "Epoch 132/200\n",
            "851/851 [==============================] - 2s 2ms/step - loss: 0.0182 - val_loss: 0.2597\n",
            "Epoch 133/200\n",
            "851/851 [==============================] - 2s 3ms/step - loss: 0.0237 - val_loss: 0.2502\n",
            "Epoch 134/200\n",
            "851/851 [==============================] - 2s 3ms/step - loss: 0.0167 - val_loss: 0.2512\n",
            "Epoch 135/200\n",
            "851/851 [==============================] - 2s 2ms/step - loss: 0.0235 - val_loss: 0.2469\n",
            "Epoch 136/200\n",
            "851/851 [==============================] - 2s 2ms/step - loss: 0.0201 - val_loss: 0.2465\n",
            "Epoch 137/200\n",
            "851/851 [==============================] - 2s 3ms/step - loss: 0.0189 - val_loss: 0.2539\n",
            "Epoch 138/200\n",
            "851/851 [==============================] - 2s 2ms/step - loss: 0.0301 - val_loss: 0.2551\n",
            "Epoch 139/200\n",
            "851/851 [==============================] - 2s 3ms/step - loss: 0.0181 - val_loss: 0.2466\n",
            "Epoch 140/200\n",
            "851/851 [==============================] - 2s 2ms/step - loss: 0.0184 - val_loss: 0.2409\n",
            "Epoch 141/200\n",
            "851/851 [==============================] - 2s 2ms/step - loss: 0.0179 - val_loss: 0.2497\n",
            "Epoch 142/200\n",
            "851/851 [==============================] - 2s 2ms/step - loss: 0.0204 - val_loss: 0.2435\n",
            "Epoch 143/200\n",
            "851/851 [==============================] - 2s 2ms/step - loss: 0.0201 - val_loss: 0.2476\n",
            "Epoch 144/200\n",
            "851/851 [==============================] - 2s 3ms/step - loss: 0.0203 - val_loss: 0.2424\n",
            "Epoch 145/200\n",
            "851/851 [==============================] - 2s 2ms/step - loss: 0.0172 - val_loss: 0.2519\n",
            "Epoch 146/200\n",
            "851/851 [==============================] - 2s 3ms/step - loss: 0.0176 - val_loss: 0.2487\n",
            "Epoch 147/200\n",
            "851/851 [==============================] - 2s 3ms/step - loss: 0.0161 - val_loss: 0.2470\n",
            "Epoch 148/200\n",
            "851/851 [==============================] - 2s 3ms/step - loss: 0.0186 - val_loss: 0.2650\n",
            "Epoch 149/200\n",
            "851/851 [==============================] - 2s 3ms/step - loss: 0.0242 - val_loss: 0.2473\n",
            "Epoch 150/200\n",
            "851/851 [==============================] - 2s 2ms/step - loss: 0.0158 - val_loss: 0.2509\n",
            "Epoch 151/200\n",
            "851/851 [==============================] - 2s 2ms/step - loss: 0.0158 - val_loss: 0.2583\n",
            "Epoch 152/200\n",
            "851/851 [==============================] - 2s 3ms/step - loss: 0.0218 - val_loss: 0.2518\n",
            "Epoch 153/200\n",
            "851/851 [==============================] - 2s 3ms/step - loss: 0.0181 - val_loss: 0.2464\n",
            "Epoch 154/200\n",
            "851/851 [==============================] - 2s 3ms/step - loss: 0.0192 - val_loss: 0.2433\n",
            "Epoch 155/200\n",
            "851/851 [==============================] - 2s 3ms/step - loss: 0.0155 - val_loss: 0.2507\n",
            "Epoch 156/200\n",
            "851/851 [==============================] - 2s 3ms/step - loss: 0.0185 - val_loss: 0.2453\n",
            "Epoch 157/200\n",
            "851/851 [==============================] - 2s 3ms/step - loss: 0.0164 - val_loss: 0.2415\n",
            "Epoch 158/200\n",
            "851/851 [==============================] - 2s 3ms/step - loss: 0.0199 - val_loss: 0.2424\n",
            "Epoch 159/200\n",
            "851/851 [==============================] - 2s 3ms/step - loss: 0.0158 - val_loss: 0.2451\n",
            "Epoch 160/200\n",
            "851/851 [==============================] - 2s 3ms/step - loss: 0.0180 - val_loss: 0.2535\n",
            "Epoch 161/200\n",
            "851/851 [==============================] - 2s 3ms/step - loss: 0.0180 - val_loss: 0.2518\n",
            "Epoch 162/200\n",
            "851/851 [==============================] - 2s 3ms/step - loss: 0.0167 - val_loss: 0.2470\n",
            "Epoch 163/200\n",
            "851/851 [==============================] - 2s 3ms/step - loss: 0.0150 - val_loss: 0.2459\n",
            "Epoch 164/200\n",
            "851/851 [==============================] - 2s 3ms/step - loss: 0.0174 - val_loss: 0.2492\n",
            "Epoch 165/200\n",
            "851/851 [==============================] - 2s 3ms/step - loss: 0.0182 - val_loss: 0.2520\n",
            "Epoch 166/200\n",
            "851/851 [==============================] - 2s 2ms/step - loss: 0.0161 - val_loss: 0.2531\n",
            "Epoch 167/200\n",
            "851/851 [==============================] - 2s 3ms/step - loss: 0.0169 - val_loss: 0.2431\n",
            "Epoch 168/200\n",
            "851/851 [==============================] - 2s 3ms/step - loss: 0.0171 - val_loss: 0.2459\n",
            "Epoch 169/200\n",
            "851/851 [==============================] - 2s 3ms/step - loss: 0.0180 - val_loss: 0.2464\n",
            "Epoch 170/200\n",
            "851/851 [==============================] - 2s 2ms/step - loss: 0.0156 - val_loss: 0.2474\n",
            "Epoch 171/200\n",
            "851/851 [==============================] - 2s 2ms/step - loss: 0.0181 - val_loss: 0.2468\n",
            "Epoch 172/200\n",
            "851/851 [==============================] - 2s 3ms/step - loss: 0.0156 - val_loss: 0.2507\n",
            "Epoch 173/200\n",
            "851/851 [==============================] - 2s 3ms/step - loss: 0.0193 - val_loss: 0.2568\n",
            "Epoch 174/200\n",
            "851/851 [==============================] - 2s 3ms/step - loss: 0.0167 - val_loss: 0.2521\n",
            "Epoch 175/200\n",
            "851/851 [==============================] - 2s 2ms/step - loss: 0.0153 - val_loss: 0.2404\n",
            "Epoch 176/200\n",
            "851/851 [==============================] - 2s 2ms/step - loss: 0.0150 - val_loss: 0.2392\n",
            "Epoch 177/200\n",
            "851/851 [==============================] - 2s 3ms/step - loss: 0.0144 - val_loss: 0.2513\n",
            "Epoch 178/200\n",
            "851/851 [==============================] - 2s 2ms/step - loss: 0.0172 - val_loss: 0.2562\n",
            "Epoch 179/200\n",
            "851/851 [==============================] - 2s 2ms/step - loss: 0.0237 - val_loss: 0.2496\n",
            "Epoch 180/200\n",
            "851/851 [==============================] - 2s 3ms/step - loss: 0.0152 - val_loss: 0.2540\n",
            "Epoch 181/200\n",
            "851/851 [==============================] - 2s 2ms/step - loss: 0.0150 - val_loss: 0.2446\n",
            "Epoch 182/200\n",
            "851/851 [==============================] - 2s 3ms/step - loss: 0.0145 - val_loss: 0.2555\n",
            "Epoch 183/200\n",
            "851/851 [==============================] - 2s 3ms/step - loss: 0.0153 - val_loss: 0.2438\n",
            "Epoch 184/200\n",
            "851/851 [==============================] - 2s 3ms/step - loss: 0.0167 - val_loss: 0.2522\n",
            "Epoch 185/200\n",
            "851/851 [==============================] - 2s 3ms/step - loss: 0.0155 - val_loss: 0.2470\n",
            "Epoch 186/200\n",
            "851/851 [==============================] - 2s 3ms/step - loss: 0.0190 - val_loss: 0.2503\n",
            "Epoch 187/200\n",
            "851/851 [==============================] - 2s 3ms/step - loss: 0.0214 - val_loss: 0.2510\n",
            "Epoch 188/200\n",
            "851/851 [==============================] - 2s 2ms/step - loss: 0.0163 - val_loss: 0.2482\n",
            "Epoch 189/200\n",
            "851/851 [==============================] - 2s 3ms/step - loss: 0.0125 - val_loss: 0.2402\n",
            "Epoch 190/200\n",
            "851/851 [==============================] - 2s 2ms/step - loss: 0.0121 - val_loss: 0.2503\n",
            "Epoch 191/200\n",
            "851/851 [==============================] - 2s 3ms/step - loss: 0.0169 - val_loss: 0.2502\n",
            "Epoch 192/200\n",
            "851/851 [==============================] - 2s 2ms/step - loss: 0.0155 - val_loss: 0.2520\n",
            "Epoch 193/200\n",
            "851/851 [==============================] - 2s 3ms/step - loss: 0.0139 - val_loss: 0.2538\n",
            "Epoch 194/200\n",
            "851/851 [==============================] - 2s 2ms/step - loss: 0.0164 - val_loss: 0.2486\n",
            "Epoch 195/200\n",
            "851/851 [==============================] - 2s 3ms/step - loss: 0.0147 - val_loss: 0.2523\n",
            "Epoch 196/200\n",
            "851/851 [==============================] - 2s 2ms/step - loss: 0.0178 - val_loss: 0.2505\n",
            "Epoch 197/200\n",
            "851/851 [==============================] - 2s 3ms/step - loss: 0.0132 - val_loss: 0.2538\n",
            "Epoch 198/200\n",
            "851/851 [==============================] - 2s 3ms/step - loss: 0.0144 - val_loss: 0.2494\n",
            "Epoch 199/200\n",
            "851/851 [==============================] - 2s 3ms/step - loss: 0.0165 - val_loss: 0.2572\n",
            "Epoch 200/200\n",
            "851/851 [==============================] - 2s 2ms/step - loss: 0.0143 - val_loss: 0.2521\n"
          ],
          "name": "stdout"
        }
      ]
    },
    {
      "cell_type": "code",
      "metadata": {
        "id": "sun9_RyLYzMM",
        "colab": {
          "base_uri": "https://localhost:8080/",
          "height": 334
        },
        "outputId": "c040b653-545f-431d-ea9f-71ef5cc85444"
      },
      "source": [
        "# Plot loss\n",
        "plt.figure(figsize=(12, 5))\n",
        "plt.plot(DNN.history.history['loss'], label='Training', linewidth=2)\n",
        "plt.plot(DNN.history.history['val_loss'], label='Validation', linewidth=2)\n",
        "plt.legend()\n",
        "plt.xlabel('Epoch')\n",
        "plt.ylabel('Loss')\n",
        "plt.grid(True)\n",
        "plt.show()"
      ],
      "execution_count": null,
      "outputs": [
        {
          "output_type": "display_data",
          "data": {
            "image/png": "[encoded data removed]",
            "text/plain": [
              "<Figure size 864x360 with 1 Axes>"
            ]
          },
          "metadata": {
            "tags": [],
            "needs_background": "light"
          }
        }
      ]
    },
    {
      "cell_type": "code",
      "metadata": {
        "id": "IJVCymAmcIB_",
        "colab": {
          "base_uri": "https://localhost:8080/"
        },
        "outputId": "c1b4ad05-35e1-4886-d6db-f61675d81857"
      },
      "source": [
        "# Generalization metric (opcional)\n",
        "min_loss = np.min([DNN.history.history['loss'][-1], DNN.history.history['val_loss'][-1]])\n",
        "max_loss = np.max([DNN.history.history['loss'][-1], DNN.history.history['val_loss'][-1]])\n",
        "general_loss = (max_loss - min_loss) / max_loss\n",
        "print(f\"Generalization loss: {general_loss:6.4f}%\")"
      ],
      "execution_count": null,
      "outputs": [
        {
          "output_type": "stream",
          "text": [
            "Generalization loss: 0.9354%\n"
          ],
          "name": "stdout"
        }
      ]
    },
    {
      "cell_type": "code",
      "metadata": {
        "id": "jqWaiy_fb0-x",
        "colab": {
          "base_uri": "https://localhost:8080/"
        },
        "outputId": "5bfa3f68-3fd1-4f11-f8cf-dafe03061a99"
      },
      "source": [
        "# Compute test loss\n",
        "loss_test = DNN.evaluate(x=x_test, y=y_test, verbose=False)\n",
        "print(\"Test loss:\", loss_test)"
      ],
      "execution_count": null,
      "outputs": [
        {
          "output_type": "stream",
          "text": [
            "Test loss: 0.25325170159339905\n"
          ],
          "name": "stdout"
        }
      ]
    },
    {
      "cell_type": "code",
      "metadata": {
        "id": "lQxF7hMCb8Cp",
        "colab": {
          "base_uri": "https://localhost:8080/"
        },
        "outputId": "8a7719e5-12bb-4971-b67b-993405310617"
      },
      "source": [
        "# Predict on test set\n",
        "y_test_hat = DNN.predict(x=x_test)\n",
        "print(y_test_hat.shape)"
      ],
      "execution_count": null,
      "outputs": [
        {
          "output_type": "stream",
          "text": [
            "(1591, 2)\n"
          ],
          "name": "stdout"
        }
      ]
    },
    {
      "cell_type": "code",
      "metadata": {
        "id": "tfAf4cIqcGyQ",
        "colab": {
          "base_uri": "https://localhost:8080/",
          "height": 295
        },
        "outputId": "be92731d-281f-415a-fa51-a3fc80f8047b"
      },
      "source": [
        "# Plot y_test_hat\n",
        "indx = np.random.permutation(len(y_test))[:500]\n",
        "plt.scatter(y_test[indx, 0], y_test[indx, 1], c='b', label='y')\n",
        "plt.scatter(y_test_hat[indx, 0], y_test_hat[indx, 1], c='r', marker='+', label='y_h')\n",
        "\n",
        "plt.legend()\n",
        "plt.grid(True)\n",
        "plt.xlabel('PM2.5')\n",
        "plt.ylabel('NO2')\n",
        "plt.title('Test set and its predictions')\n",
        "plt.show()"
      ],
      "execution_count": null,
      "outputs": [
        {
          "output_type": "display_data",
          "data": {
            "image/png": "[encoded data removed]",
            "text/plain": [
              "<Figure size 432x288 with 1 Axes>"
            ]
          },
          "metadata": {
            "tags": [],
            "needs_background": "light"
          }
        }
      ]
    },
    {
      "cell_type": "code",
      "metadata": {
        "id": "euURHYHPQ9B3"
      },
      "source": [
        ""
      ],
      "execution_count": null,
      "outputs": []
    }
  ]
}
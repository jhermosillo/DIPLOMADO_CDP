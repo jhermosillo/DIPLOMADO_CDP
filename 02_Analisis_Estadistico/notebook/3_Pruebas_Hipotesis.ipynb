{
 "cells": [
  {
   "cell_type": "markdown",
   "metadata": {},
   "source": [
    "<img src=\"https://raw.githubusercontent.com/jhermosillo/DIPLOMADO_CDP/main/02_Analisis_Estadistico/images/logos/ColorLogo.png\">"
   ]
  },
  {
   "cell_type": "markdown",
   "metadata": {},
   "source": [
    "[![Open In Colab](https://colab.research.google.com/assets/colab-badge.svg)](https://colab.research.google.com/github/jhermosillo/DIPLOMADO_CDP/blob/master/02_Analisis_Estadistico/notebook/3_Pruebas_Hipotesis.ipynb)"
   ]
  },
  {
   "cell_type": "markdown",
   "metadata": {},
   "source": [
    "<a id=\"contenido\"></a>\n",
    "<h1><center>Contenido | Módulo 2</center><h1>\n",
    "    \n",
    "---\n",
    "* [Pruebas de hipótesis](#a)   \n",
    "* [Definición de error Tipo I  y  error Tipo II](#b) \n",
    "* [Definición de p-value y alpha](#c) \n",
    "* [Pruebas de hipótesis paramétricas](#d)\n",
    "* [Pruebas de hipótesis no paramétricas](#e)"
   ]
  },
  {
   "cell_type": "markdown",
   "metadata": {},
   "source": [
    "<a id=\"a\"></a>\n",
    "<h1><center>2.6. Pruebas de hipótesis</center></h1>\n",
    "\n",
    "[Regreso a contenido](#contenido)\n",
    "\n",
    "---\n",
    "![alt text](https://www.monografias.com/trabajos91/prueba-hipotesis-medias-excel-y-winstats/image002.png)"
   ]
  },
  {
   "cell_type": "markdown",
   "metadata": {},
   "source": [
    "Bueno, probablemente todos los que somos principiantes o en nivel intermedio en ciencia de datos o los estudiantes de estadística escucharon sobre estas palabras de moda en estas áreas y esto es las prueba de hipótesis.\n",
    "\n",
    "En esta sección se dará una breve introducción sobre este tema que puede causar muchos dolores de cabeza al estar aprendiendo acerca del manejo de datos.\n",
    "\n",
    "Se abordan todos esos conceptos y con ejemplos usando Python.\n",
    "\n",
    "* # ¿Qué es una prueba de hipótesis? \n",
    "* ## ¿Porqué debemos usarlas? \n",
    "* ## ¿Cuáles son las bases de las hipótesis?\n",
    "* ## ¿Cuáles son los parámetros importantes de dichas pruebas?\n",
    "\n",
    "\n",
    "![alt text](https://sphweb.bumc.bu.edu/otlt/MPH-Modules/BS/BS704_HypothesisTest-Means-Proportions/Means-Proportions-Wordle.png)"
   ]
  },
  {
   "cell_type": "markdown",
   "metadata": {},
   "source": [
    "Empecemos por la primera pregunta...\n",
    "\n",
    "* ## ¿Qué es una prueba de hipótesis?\n",
    "\n",
    "Las pruebas de hipótesis son métodos estadísticos que son utilizados para la toma de decisiones **estadísticas**, utilizando datos experimentales. En palabras burdas, es el pan de cada día de las estadísticas inferenciales y una habilidad crítica en el repertorio de un científico de datos. Demostramos el concepto con scripts Python muy simples."
   ]
  },
  {
   "cell_type": "markdown",
   "metadata": {},
   "source": [
    "* ## ¿Porqué usamos las pruebas de hipótesis?\n",
    "\n",
    "La prueba de hipótesis es un procedimiento esencial en estadística. Una prueba de hipótesis evalúa dos afirmaciones mutuamente excluyentes sobre una **población** para determinar qué afirmación es mejor respaldada por los datos de la *muestra*. Cuando decimos que un hallazgo es estadísticamente significativo, es gracias a una prueba de hipótesis.\n",
    "\n",
    "### La prueba de hipótesis es una herramienta crítica en estadística inferencial, para determinar cuál podría ser el valor de un parámetro de **población**. A menudo sacamos esta conclusión basada en un análisis de datos de muestra...."
   ]
  },
  {
   "cell_type": "markdown",
   "metadata": {},
   "source": [
    "Con la cuestión de la toma de decisiones basada en datos:\n",
    "\n",
    "   * empresariales, científicos, tecnológicos, sociales y políticos, etc... \n",
    "    \n",
    "El concepto de prueba de hipótesis se ha convertido en algo sumamente importante para comprender y aplicar en el contexto adecuado.\n",
    "\n",
    "#### Hay una gran cantidad de pruebas utilizadas en el análisis estadístico para este propósito. Puede ser confuso. Consulte este excelente [artículo](https://towardsdatascience.com/statistical-tests-when-to-use-which-704557554740) para obtener una descripción completa de qué prueba usar en qué situación."
   ]
  },
  {
   "cell_type": "markdown",
   "metadata": {},
   "source": [
    "* ## ¿Cuales son las bases de las hipótesis? \n",
    "\n",
    "   * ### Hipótesis Nula\n",
    "   * ### Hipótesis Alterna\n",
    "   \n",
    "La hipótesis nula es, en general, lo **aburrido** (esperado), es decir, supone que nada interesante sucede / sucedió.\n",
    "\n",
    "La hipótesis alterna es donde la acción es, es decir, alguna observación / fenómeno es real (es decir, no es una casualidad)...\n",
    "\n",
    "---\n",
    "\n",
    "Hipótesis nula (H0): - En la estadística inferencial, la hipótesis nula es una declaración general o posición predeterminada de que no hay relación entre dos fenómenos medidos, o no hay asociación entre grupos\n",
    "\n",
    "En otras palabras, es una suposición básica o basada en el dominio o el conocimiento del problema.\n",
    "\n",
    "Ejemplo: la producción de una empresa es = 50 unidades / por día, etc.\n",
    "\n",
    "---\n",
    "\n",
    "Hipótesis alterna (H1): - Es la hipótesis contraria a la hipótesis nula. Por lo general, se considera que las observaciones son el resultado de un efecto real (con cierta cantidad de variación de probabilidad superpuesta)\n",
    "\n",
    "Ejemplo: la producción de una empresa es ! = 50 unidades / por día, etc.\n",
    "\n",
    "---\n",
    "## Por lo tanto, el proceso de prueba de hipótesis consiste en formular preguntas sobre los datos en función de la información recopilada y probarlas utilizando métodos estadísticos.\n",
    "\n",
    "---\n",
    "### A continuación mostramos un pequeño ejemplo utilizando la prueba estadística Shapiro - Wilks\n",
    "Esta prueba comprueba si una muestra presenta una distribución normal(H0) o no (H1). Mayor información de la librería pueden consultar el siguiente [artículo](https://docs.scipy.org/doc/scipy/reference/generated/scipy.stats.shapiro.html) y el [artículo](https://en.wikipedia.org/wiki/Shapiro%E2%80%93Wilk_test) siguiente para la prueba estadística. "
   ]
  },
  {
   "cell_type": "code",
   "execution_count": 1,
   "metadata": {},
   "outputs": [
    {
     "name": "stdout",
     "output_type": "stream",
     "text": [
      "stat=0.895, p=0.193\n",
      "Probably Gaussian\n"
     ]
    },
    {
     "name": "stderr",
     "output_type": "stream",
     "text": [
      "C:\\Anaconda3\\lib\\site-packages\\seaborn\\distributions.py:2551: FutureWarning: `distplot` is a deprecated function and will be removed in a future version. Please adapt your code to use either `displot` (a figure-level function with similar flexibility) or `histplot` (an axes-level function for histograms).\n",
      "  warnings.warn(msg, FutureWarning)\n"
     ]
    },
    {
     "data": {
      "text/plain": [
       "<AxesSubplot:ylabel='Density'>"
      ]
     },
     "execution_count": 1,
     "metadata": {},
     "output_type": "execute_result"
    },
    {
     "data": {
      "image/png": "[encoded data removed]",
      "text/plain": [
       "<Figure size 432x288 with 1 Axes>"
      ]
     },
     "metadata": {
      "needs_background": "light"
     },
     "output_type": "display_data"
    }
   ],
   "source": [
    "# Ejemplo de la prueba de normalidad Shapiro-Wilk Normality Test\n",
    "from scipy.stats import shapiro\n",
    "import seaborn as sns\n",
    "data = [0.873, 2.817, 0.121, -0.945, -0.055, -1.436, 0.360, -1.478, -1.637, -1.869]\n",
    "stat, p = shapiro(data)\n",
    "print('stat=%.3f, p=%.3f' % (stat, p))\n",
    "\n",
    "#El valor crítico de shapiro para n = 10 es  cv = 0.842\n",
    "#El estadistico calculado es stat = 0.895\n",
    "#Aquí podemos ver que stat > cv  <- Aceptamos H1 (Rechazamos H0)\n",
    "\n",
    "#Recordemos este planteamiento. Nuestros datos no son Gaussianos (H0), Nuestos datos son Gaussianos (H1)\n",
    "\n",
    "#Del mismo estadístico tenemos que \"The W statistic needs to be greater than the critical value for the \n",
    "#null hypothesis that the samples are drawn from a Gaussian distribution not to be rejected\"\n",
    "\n",
    "\n",
    "if p > 0.05:\n",
    "    print('Probably Gaussian')\n",
    "else:\n",
    "    print('Probably not Gaussian')\n",
    "    \n",
    "sns.distplot(data)\n",
    "\n",
    "\n",
    "#Lo más recomendable es siempre basarnos en el valor del estadístico calculado (stat)\n",
    "#y tener un conocimiento de los valores críticos\n",
    "\n",
    "#Recordemos lo siguiente de la tabla de confusión\n",
    "\n",
    "#FF <- H0    FV <- Error Tipo 1\n",
    "#VF <- ET2   VV <- H1\n",
    "\n",
    "#Cuando ustedes tienen conocimiento de los estadísticos y los valores críticos\n",
    "\n",
    "#lo ideal es realizar esta comparación para las pruebas de hipótesis\n",
    "# Si STAT <= CV  <- Aceptamos H0 (Rechazamos H1)\n",
    "# Si STAT >  CV  <- Aceptamos H1 (Rechazamos H0)\n",
    "\n",
    "\n",
    "#Caso contrario, les había explicado que podríamos utilizar\n",
    "#la evaluación de el valor de p-value  contra el alpha\n",
    "\n",
    "#Pero al utilizar p-value, las comparaciones pueden ser algo ambigüas, por el simple hecho de\n",
    "#estar ajustandolo para entender la respuesta de las pruebas de hipótesis.\n",
    "\n",
    "#Alpha <- Nivel de Significancia o Nivel de Confianza"
   ]
  },
  {
   "cell_type": "code",
   "execution_count": 2,
   "metadata": {},
   "outputs": [
    {
     "name": "stdout",
     "output_type": "stream",
     "text": [
      "stat=0.981, p=0.596\n",
      "Sample looks Gaussian (fail to reject H0)\n"
     ]
    },
    {
     "name": "stderr",
     "output_type": "stream",
     "text": [
      "C:\\Anaconda3\\lib\\site-packages\\seaborn\\distributions.py:2551: FutureWarning: `distplot` is a deprecated function and will be removed in a future version. Please adapt your code to use either `displot` (a figure-level function with similar flexibility) or `histplot` (an axes-level function for histograms).\n",
      "  warnings.warn(msg, FutureWarning)\n"
     ]
    },
    {
     "data": {
      "text/plain": [
       "<AxesSubplot:ylabel='Density'>"
      ]
     },
     "execution_count": 2,
     "metadata": {},
     "output_type": "execute_result"
    },
    {
     "data": {
      "image/png": "[encoded data removed]",
      "text/plain": [
       "<Figure size 432x288 with 1 Axes>"
      ]
     },
     "metadata": {
      "needs_background": "light"
     },
     "output_type": "display_data"
    }
   ],
   "source": [
    "# Utilizando random para genera números aleatorios.\n",
    "import numpy as np # importando numpy\n",
    "\n",
    "np.random.seed(1984) # para poder replicar el random\n",
    "from scipy import stats\n",
    "\n",
    "muestras = np.random.normal(0, 1, 50)\n",
    "\n",
    "#muestras = np.random.beta(2, 4, 1000)\n",
    "muestras\n",
    "\n",
    "stat, p = shapiro(muestras)\n",
    "print('stat=%.3f, p=%.3f' % (stat, p))\n",
    "alpha = 0.5\n",
    "if p > alpha:\n",
    "    print('Sample looks Gaussian (fail to reject H0)')\n",
    "else:\n",
    "    print('Sample does not look Gaussian (reject H0)')\n",
    "    \n",
    "sns.distplot(muestras)\n",
    "\n",
    "\n",
    "#En resumen, el p-value tomara la referencia de desigualdad p > a\n",
    "# Si y solo si el estadístico así lo indica\n",
    "# La definición de la prueba de shapiro es que si el estadístico es mayor que el valor crítico\n",
    "# entonces la muestra es gaussiana, aquí estamos trabajando con la hipótesis nula (H0) de que \n",
    "# no \"sabemos\" que tipo de distribución tienen nuestros datos.\n",
    "\n",
    "# Al ser un caso \"especial\", H1 debe ser que los datos presentarán una distribución Normal"
   ]
  },
  {
   "cell_type": "markdown",
   "metadata": {},
   "source": [
    "A partir de aquí surgen diversas cuestiones extrañas...\n",
    "\n",
    "### ¿Qué son las pruebas estadísticas?\n",
    "* ### ¿Qué es el valor de la prueba (estadística)? \n",
    "\n",
    "    * ### $\\alpha$ (nivel de significancia) \n",
    "    * ### $(p - value)$ \n",
    "    * ### [valor crítico](https://scistatcalc.blogspot.com/2013/09/critical-value-of-w-statistic.html?m=0)\n",
    "    \n",
    "    \n",
    "![alt text](https://iamluminousmen-media.s3.amazonaws.com/media/demystifying-hypothesis-testing/demystifying-hypothesis-testing-3.jpg)\n"
   ]
  },
  {
   "cell_type": "markdown",
   "metadata": {},
   "source": [
    "<a id=\"b\"></a>\n",
    "<h1><center>2.7. Definición de error Tipo I  y  error Tipo II</center></h1>\n",
    "\n",
    "[Regreso a contenido](#contenido)\n",
    "\n",
    "---\n",
    "\n",
    "* Error tipo I: cuando rechazamos la hipótesis nula, aunque esa hipótesis era cierta. El error tipo I se denota por alfa. En las pruebas de hipótesis, la curva normal que muestra la región crítica se llama región alfa\n",
    "\n",
    "* Errores de tipo II: cuando aceptamos la hipótesis nula pero es falsa. Los errores de tipo II se denotan por beta. En las pruebas de hipótesis, la curva normal que muestra la región de aceptación se llama región beta.\n",
    "\n",
    "![alt text](https://dp8v87cz8a7qa.cloudfront.net/45396/5bd20d03240611540492547.png)\n",
    "\n",
    "---\n",
    "\n",
    "* Prueba de una cola: - Una prueba de una hipótesis estadística, donde la región de rechazo está en un solo lado de la distribución de muestreo.\n",
    "\n",
    "Ejemplo: - una universidad tiene ≥ 4000 estudiantes o ciencia de datos ≤ 80% org adoptada.\n",
    "\n",
    "* Prueba de dos colas: una prueba de dos colas es una prueba estadística en la que el área crítica de una distribución es de dos lados y prueba si una muestra es mayor o menor que un cierto rango de valores. Si la muestra que se prueba cae en cualquiera de las áreas críticas, se acepta la hipótesis alternativa en lugar de la hipótesis nula.\n",
    "\n",
    "Ejemplo: una universidad! = 4000 estudiantes o ciencias de datos! = 80% org adoptado\n",
    "\n",
    "---\n",
    "\n",
    "### ¿Cuál es el proceso?\n",
    "\n",
    "Normalmente empezamos con un punto de vista simple y empezamos con al hipótesis nula y calculamos (computamos) algunos estadísticos con respecto a nuestras muestras, que se puediera sintetizar de la siguiente manera:\n",
    "\n",
    "### $\\displaystyle\\frac{Mejor Estimación − Estimación Hipotética}{Error Estandar Estimación}$\n",
    "\n",
    "Donde, la **mejor estimación** proviene de la muestra.. p.ej., la media o algun valor de tendencia central de algún subconjunto de datos de la muestra.\n",
    "\n",
    "El **error estandar** representa la variabilidad en la estimación y depende de la varianza y del tamaño de la muestra.\n",
    "\n",
    "A lo que nos lleva a la siguiente pregunta...\n",
    "\n",
    "### \"¿Cuál es la posibilidad de observar el estadístico de prueba, este extremo, para esta muestra (considerando su tamaño y una dinámica probabilística adecuada que la gobierna), puramente aleatoriamente conocida si la hipótesis nula fuera cierta? \""
   ]
  },
  {
   "cell_type": "markdown",
   "metadata": {},
   "source": [
    "![img](https://miro.medium.com/max/424/1*frUEBVOzWvCKKfI212MM_Q.png)"
   ]
  },
  {
   "cell_type": "markdown",
   "metadata": {},
   "source": [
    "---\n",
    "\n",
    "<a id=\"c\"></a>\n",
    "<h1><center>2.8. Definición de p-value y alpha</center></h1>\n",
    "\n",
    "[Regreso a contenido](#contenido)\n",
    "\n",
    "---\n",
    "\n",
    "* Esta posibilidad de observar el estadístico de prueba, es el llamado **valor p (p - value)** y se calcula bajo el supuesto de una cierta distribución de probabilidad (a partir de la cual se genera el estadístico de prueba).\n",
    "\n",
    "* **Nivel de significancia ($\\alpha$)**: se refiere al grado de significancia en el que aceptamos o rechazamos la hipótesis nula. El 100% de precisión no es posible para aceptar o rechazar una hipótesis, por lo que seleccionamos un nivel de 0.05 o 5% (flexible con los datos...), lo que significa que su producción debe tener un 95% de confianza para dar un tipo de resultado similar en cada muestra.\n",
    "\n",
    "Podemos consultar la siguiente [liga](https://blog.minitab.com/blog/adventures-in-statistics-2/understanding-hypothesis-tests-significance-levels-alpha-and-p-values-in-statistics) para un poco más de información...\n",
    "\n",
    "---"
   ]
  },
  {
   "cell_type": "markdown",
   "metadata": {},
   "source": [
    "---\n",
    "\n",
    "<a id=\"d\"></a>\n",
    "<h1><center>2.9. Pruebas de Hipótesis - Paramétricas</center></h1>\n",
    "\n",
    "[Regreso a contenido](#contenido)\n",
    "\n",
    "---\n",
    "\n",
    "### 2.9.1 Prueba T (t  de Student)\n",
    "\n",
    "Una prueba t es un tipo de estadística inferencial que se utiliza para determinar si existe una diferencia significativa entre las medias de dos grupos que pueden estar relacionadas en ciertas características. \n",
    "\n",
    "Se usa principalmente cuando los conjuntos de datos, como el conjunto de datos registrados como resultado de lanzar una moneda 100 veces, seguirían una distribución normal y pueden tener variaciones desconocidas. La prueba T se usa como una herramienta de prueba de hipótesis, que permite probar un supuesto aplicable a una población.\n",
    "\n",
    "---\n",
    "\n",
    "Nota: Para la comparación de la dispersión se utiliza la prueba Fisher's Test (Comparación de varianzas o desviaciones estandar)\n",
    "\n",
    "---\n",
    "\n",
    "* Prueba t de una muestra: La prueba t de una muestra determina si la media muestral es estadísticamente diferente de una media poblacional conocida o hipotética. La prueba t de una muestra es una **prueba paramétrica**."
   ]
  },
  {
   "cell_type": "code",
   "execution_count": 3,
   "metadata": {},
   "outputs": [
    {
     "name": "stdout",
     "output_type": "stream",
     "text": [
      "[28 47 25  8 38  8 10 46 21  2]\n",
      "23.3\n",
      "tset -1.2915166892352334\n",
      "p-values 0.22870554066214382\n",
      "we are accepting null hypothesis\n"
     ]
    }
   ],
   "source": [
    "from scipy.stats import ttest_1samp\n",
    "import numpy as np\n",
    "np.random.seed(1984) # para poder replicar el random\n",
    "\n",
    "ages = np.random.randint(50, size=10)\n",
    "print(ages)\n",
    "\n",
    "ages_mean = np.mean(ages)\n",
    "print(ages_mean)\n",
    "\n",
    "tset, pval = ttest_1samp(ages, 30)\n",
    "\n",
    "print(\"tset\",tset)\n",
    "print(\"p-values\",pval)\n",
    "\n",
    "if pval < 0.05:    # alpha value is 0.05 or 5%\n",
    "    print(\" we are rejecting null hypothesis\")\n",
    "else:\n",
    "      print(\"we are accepting null hypothesis\")"
   ]
  },
  {
   "cell_type": "markdown",
   "metadata": {},
   "source": [
    "### 2.9.2 Prueba T de dos muestras\n",
    "\n",
    "* La prueba t de muestras independientes o la prueba t de 2 muestras compara las medias de dos grupos independientes para determinar si existe evidencia estadística de que las medias poblacionales asociadas son significativamente diferentes."
   ]
  },
  {
   "cell_type": "code",
   "execution_count": 4,
   "metadata": {},
   "outputs": [
    {
     "name": "stdout",
     "output_type": "stream",
     "text": [
      "data1:\n",
      "[28 47 25  8 38  8 10 46 21  2  9 10 48  1 14 46  5 39 22 12 11 49 11 44\n",
      " 16 45 18  8  2 49 44  6 34 43 37 20 11 48  8 12 10 14 12 49 29 40 23 21\n",
      " 38 34 33 45 31 24 26 33 29 11  7  0  4 21 34 38  5 41 20 41 39  8 18 10\n",
      " 49 15 30 19 36  4 42  6 30  3 11 37 21 44 16 45 47  7 31 18 46 11  0 27\n",
      " 35 48 11  2]\n",
      "data2:\n",
      "[29.85827082 26.68875005 18.06363041 30.54820076 15.51618248 20.72819022\n",
      " 10.03979777 23.49969117 25.1312202  22.23926547 14.27527524  7.91320635\n",
      " 21.62873382 19.03532278  8.60342473 29.38836059 22.2390246  10.65596383\n",
      " -2.21006894 20.60292576 29.49817745  7.57995136 30.98950518 21.32771483\n",
      " 17.87547242 26.36414367 20.17022968 26.5121805  20.83576246 45.30010157\n",
      "  7.81019017 19.68343768  8.60403073 28.65809312 31.52034182 39.82612803\n",
      "  1.89316864 18.42581187  6.93578035 36.25812585 26.48747051 28.52914311\n",
      " 25.97921491  0.90228972 44.53792729 12.86538651 15.59821549 34.02357315\n",
      " 24.05333985 30.41739113 25.51117304 16.54831691 28.22463912 16.0900116\n",
      " 15.96420637 42.03247831 10.30949065 11.41922112 22.10400866 21.39300643\n",
      " 26.7737321  15.49111044 29.72984312 21.00916788 21.11458589 23.44399945\n",
      " 40.25663037 23.83106254 18.75262062 24.20182686 21.45851576  7.36391454\n",
      " 18.89201378 25.94536909 17.64592857  5.91553    14.42970586 10.50469147\n",
      " 38.96334334 14.87961622 26.48006189  9.90713445 14.14807158 20.5242243\n",
      " 18.29360303 -8.40430614 27.3755712  26.0869784  29.57585569 21.56926659\n",
      "  7.43131206 30.24281263 25.31244776 22.73193041 29.70625756 20.18207393\n",
      " 10.02329478 24.48613813  7.58090374 29.90500737]\n",
      "data1 mean value: 24.34\n",
      "data2 mean value: 20.872660666694514\n",
      "data1 std value: 15.479806200337265\n",
      "data2 std value: 9.923590766753392\n",
      "p-value 0.06209268868916875\n",
      "we accept null hypothesis\n"
     ]
    },
    {
     "name": "stderr",
     "output_type": "stream",
     "text": [
      "C:\\Anaconda3\\lib\\site-packages\\seaborn\\distributions.py:2551: FutureWarning: `distplot` is a deprecated function and will be removed in a future version. Please adapt your code to use either `displot` (a figure-level function with similar flexibility) or `histplot` (an axes-level function for histograms).\n",
      "  warnings.warn(msg, FutureWarning)\n",
      "C:\\Anaconda3\\lib\\site-packages\\seaborn\\distributions.py:2551: FutureWarning: `distplot` is a deprecated function and will be removed in a future version. Please adapt your code to use either `displot` (a figure-level function with similar flexibility) or `histplot` (an axes-level function for histograms).\n",
      "  warnings.warn(msg, FutureWarning)\n"
     ]
    },
    {
     "data": {
      "text/plain": [
       "<AxesSubplot:ylabel='Density'>"
      ]
     },
     "execution_count": 4,
     "metadata": {},
     "output_type": "execute_result"
    },
    {
     "data": {
      "image/png": "[encoded data removed]",
      "text/plain": [
       "<Figure size 432x288 with 1 Axes>"
      ]
     },
     "metadata": {
      "needs_background": "light"
     },
     "output_type": "display_data"
    }
   ],
   "source": [
    "from scipy.stats import ttest_ind\n",
    "import numpy as np\n",
    "\n",
    "np.random.seed(1984) # para poder replicar el random\n",
    "data1 = np.random.randint(50, size=100)\n",
    "data2 = np.random.normal(20, 10, 100)\n",
    "\n",
    "print(\"data1:\")\n",
    "print(data1)\n",
    "print(\"data2:\")\n",
    "print(data2)\n",
    "\n",
    "\n",
    "print(\"data1 mean value:\",np.mean(data1))\n",
    "print(\"data2 mean value:\",np.mean(data2))\n",
    "\n",
    "print(\"data1 std value:\",np.std(data1))\n",
    "print(\"data2 std value:\",np.std(data2))\n",
    "\n",
    "ttest,pval = ttest_ind(data1,data2)\n",
    "\n",
    "print(\"p-value\",pval)\n",
    "if pval <0.05:\n",
    "    print(\"we reject null hypothesis\")\n",
    "else:\n",
    "    print(\"we accept null hypothesis\")\n",
    "    \n",
    "sns.distplot(data1)\n",
    "sns.distplot(data2)"
   ]
  },
  {
   "cell_type": "markdown",
   "metadata": {},
   "source": [
    "### 2.9.3 ANOVA (F-TEST)\n",
    "\n",
    "La prueba t funciona bien cuando queremos lidiar con 2 grupos, pero en ocasiones necesitamos comparar más de 2 grupos al mismo tiempo.\n",
    "\n",
    "Por ejemplo, si uno desea probar si la edad de los votantes está basado en una variable categórica como la raza, necesitamos comparar las medias de cada uno de los niveles o grupo de la variable.\n",
    "\n",
    "Podríamos aplicar por separado la prueba t para cada grupo de muestras, pero podemos incrementar la probabilidad de tener falsos positivos (Error tipo 1). En análisis de varianza (ANOVA) es una prueba de inferencia estadística que puede ayudar a comparar múltiples grupos al mismo tiempo. \n",
    "\n",
    "![alt text](https://3.bp.blogspot.com/-PDWTzbbwx54/XEbYzExO9rI/AAAAAAAAAAM/AOvAPbXYVUcxmVKnWWrtQaiZ0qhIHo9vwCLcBGAs/s1600/ANOVA.png)"
   ]
  },
  {
   "cell_type": "code",
   "execution_count": 5,
   "metadata": {},
   "outputs": [
    {
     "name": "stdout",
     "output_type": "stream",
     "text": [
      "404: Not Found\n"
     ]
    },
    {
     "name": "stderr",
     "output_type": "stream",
     "text": [
      "  % Total    % Received % Xferd  Average Speed   Time    Time     Time  Current\n",
      "                                 Dload  Upload   Total   Spent    Left  Speed\n",
      "\n",
      "  0     0    0     0    0     0      0      0 --:--:-- --:--:-- --:--:--     0\n",
      "  0     0    0     0    0     0      0      0 --:--:-- --:--:-- --:--:--     0\n",
      "  0     0    0     0    0     0      0      0 --:--:--  0:00:01 --:--:--     0\n",
      "  0     0    0     0    0     0      0      0 --:--:--  0:00:02 --:--:--     0curl: (6) Could not resolve host: application\n",
      "  % Total    % Received % Xferd  Average Speed   Time    Time     Time  Current\n",
      "                                 Dload  Upload   Total   Spent    Left  Speed\n",
      "\n",
      "  0     0    0     0    0     0      0      0 --:--:-- --:--:-- --:--:--     0\n",
      "100    14  100    14    0     0     43      0 --:--:-- --:--:-- --:--:--    43\n"
     ]
    }
   ],
   "source": [
    "# Fetch the dataset using the raw GitHub URL.\n",
    "!curl --remote-name \\\n",
    "     -H 'Accept: application/vnd.github.v3.raw' \\\n",
    "     --location https://raw.githubusercontent.com/jhermosillo/DIPLOMADO_CDP/main/02_Analisis_Estadistico/data/growth.csv"
   ]
  },
  {
   "cell_type": "code",
   "execution_count": 6,
   "metadata": {},
   "outputs": [
    {
     "name": "stderr",
     "output_type": "stream",
     "text": [
      "head: cannot open 'PlantGrowth.csv' for reading: No such file or directory\n"
     ]
    }
   ],
   "source": [
    "!head -n 5 growth.csv"
   ]
  },
  {
   "cell_type": "code",
   "execution_count": 7,
   "metadata": {},
   "outputs": [
    {
     "data": {
      "text/html": [
       "<div>\n",
       "<style scoped>\n",
       "    .dataframe tbody tr th:only-of-type {\n",
       "        vertical-align: middle;\n",
       "    }\n",
       "\n",
       "    .dataframe tbody tr th {\n",
       "        vertical-align: top;\n",
       "    }\n",
       "\n",
       "    .dataframe thead th {\n",
       "        text-align: right;\n",
       "    }\n",
       "</style>\n",
       "<table border=\"1\" class=\"dataframe\">\n",
       "  <thead>\n",
       "    <tr style=\"text-align: right;\">\n",
       "      <th></th>\n",
       "      <th>idx</th>\n",
       "      <th>weight</th>\n",
       "      <th>group</th>\n",
       "    </tr>\n",
       "  </thead>\n",
       "  <tbody>\n",
       "    <tr>\n",
       "      <th>0</th>\n",
       "      <td>NaN</td>\n",
       "      <td>NaN</td>\n",
       "      <td>NaN</td>\n",
       "    </tr>\n",
       "    <tr>\n",
       "      <th>1</th>\n",
       "      <td>1.0</td>\n",
       "      <td>4.17</td>\n",
       "      <td>ctrl</td>\n",
       "    </tr>\n",
       "    <tr>\n",
       "      <th>2</th>\n",
       "      <td>NaN</td>\n",
       "      <td>NaN</td>\n",
       "      <td>NaN</td>\n",
       "    </tr>\n",
       "    <tr>\n",
       "      <th>3</th>\n",
       "      <td>2.0</td>\n",
       "      <td>5.58</td>\n",
       "      <td>ctrl</td>\n",
       "    </tr>\n",
       "    <tr>\n",
       "      <th>4</th>\n",
       "      <td>NaN</td>\n",
       "      <td>NaN</td>\n",
       "      <td>NaN</td>\n",
       "    </tr>\n",
       "  </tbody>\n",
       "</table>\n",
       "</div>"
      ],
      "text/plain": [
       "   idx  weight group\n",
       "0  NaN     NaN   NaN\n",
       "1  1.0    4.17  ctrl\n",
       "2  NaN     NaN   NaN\n",
       "3  2.0    5.58  ctrl\n",
       "4  NaN     NaN   NaN"
      ]
     },
     "execution_count": 7,
     "metadata": {},
     "output_type": "execute_result"
    }
   ],
   "source": [
    "import pandas as pd\n",
    "# leer el dataframe usando read_csv\n",
    "df = pd.read_csv(\"growth.csv\", sep=',', header=0)\n",
    "# mostrar los primeros elementos con head\n",
    "df.head()"
   ]
  },
  {
   "cell_type": "code",
   "execution_count": 8,
   "metadata": {},
   "outputs": [
    {
     "data": {
      "text/plain": [
       "(60, 3)"
      ]
     },
     "execution_count": 8,
     "metadata": {},
     "output_type": "execute_result"
    }
   ],
   "source": [
    "df.shape"
   ]
  },
  {
   "cell_type": "code",
   "execution_count": 9,
   "metadata": {},
   "outputs": [],
   "source": [
    "df = df.dropna()"
   ]
  },
  {
   "cell_type": "code",
   "execution_count": 10,
   "metadata": {},
   "outputs": [
    {
     "data": {
      "text/plain": [
       "(30, 3)"
      ]
     },
     "execution_count": 10,
     "metadata": {},
     "output_type": "execute_result"
    }
   ],
   "source": [
    "df.shape"
   ]
  },
  {
   "cell_type": "code",
   "execution_count": 11,
   "metadata": {},
   "outputs": [],
   "source": [
    "df = df[['weight','group']]\n",
    "grps = pd.unique(df.group.values)"
   ]
  },
  {
   "cell_type": "code",
   "execution_count": 12,
   "metadata": {},
   "outputs": [
    {
     "data": {
      "text/plain": [
       "array(['ctrl', 'trt1', 'trt2'], dtype=object)"
      ]
     },
     "execution_count": 12,
     "metadata": {},
     "output_type": "execute_result"
    }
   ],
   "source": [
    "grps"
   ]
  },
  {
   "cell_type": "code",
   "execution_count": 13,
   "metadata": {},
   "outputs": [],
   "source": [
    "d_data = {grp:df['weight'][df.group == grp] for grp in grps}"
   ]
  },
  {
   "cell_type": "markdown",
   "metadata": {},
   "source": [
    "Para este ejemplo, usaremos la funcion \"*stats.f_oneway*\" (más detalle por [aquí](https://docs.scipy.org/doc/scipy/reference/generated/scipy.stats.f_oneway.html))"
   ]
  },
  {
   "cell_type": "code",
   "execution_count": 14,
   "metadata": {},
   "outputs": [
    {
     "name": "stdout",
     "output_type": "stream",
     "text": [
      "p-value for significance is:  0.0159099583256229\n",
      "F is:  4.846087862380136\n",
      "reject null hypothesis\n"
     ]
    }
   ],
   "source": [
    "F, p = stats.f_oneway(d_data['ctrl'], d_data['trt1'], d_data['trt2'])\n",
    "\n",
    "print(\"p-value for significance is: \", p)\n",
    "\n",
    "print(\"F is: \", F)\n",
    "\n",
    "if p<0.05:\n",
    "    print(\"reject null hypothesis\")\n",
    "else:\n",
    "    print(\"accept null hypothesis\")"
   ]
  },
  {
   "cell_type": "markdown",
   "metadata": {},
   "source": [
    "Con respecto a los valores críticos, podríamos consultar este [artículo](file:///C:/Users/beyon/AppData/Local/Temp/41746-Article%20Text-58169-3-10-20130703.pdf)"
   ]
  },
  {
   "cell_type": "markdown",
   "metadata": {},
   "source": [
    "## Links de interes - \"Outliers in univariate samples\"\n",
    "* [Critical_Values_Dixon](https://www.researchgate.net/publication/28113620_Critical_values_for_six_Dixon_tests_for_outliers_in_normal_samples_up_to_sizes_100_and_applications_in_science_and_engineering)\n",
    "* [Dixon Test N7 (Q)](http://www.statistics4u.com/fundstat_eng/cc_outlier_tests_dixon.html)"
   ]
  },
  {
   "cell_type": "code",
   "execution_count": 40,
   "metadata": {},
   "outputs": [],
   "source": [
    "def q_test_for_smallest_point(dataset):\n",
    "    return (dataset[1] - dataset[0])/(dataset[len(dataset)-1] - dataset[0])"
   ]
  },
  {
   "cell_type": "code",
   "execution_count": 41,
   "metadata": {},
   "outputs": [
    {
     "name": "stdout",
     "output_type": "stream",
     "text": [
      "[-1.75828164 -1.40746696 -1.29604021 -1.277989   -1.21421086 -1.04502027\n",
      " -1.03818471 -0.93300067 -0.90580302 -0.75998893 -0.74205805 -0.68927369\n",
      " -0.66434233 -0.66079376 -0.6432206  -0.59193488 -0.58379822 -0.54148083\n",
      " -0.49721621 -0.3331474  -0.23018694 -0.22006568 -0.21545477 -0.15176338\n",
      " -0.13143426 -0.07759048 -0.02690223 -0.00660725  0.04311228  0.25621179\n",
      "  0.31229073  0.34855833  0.35735818  0.37854882  0.38379573  0.42014466\n",
      "  0.43521942  0.57376687  0.60237472  0.68707437  0.72523232  0.78868538\n",
      "  0.80648767  0.82679949  0.85461564  0.87724854  0.89613844  1.02138658\n",
      "  1.20776804  1.7110001 ]\n",
      "1.71100009622307\n"
     ]
    }
   ],
   "source": [
    "a = np.sort(data_norm)\n",
    "print(a)\n",
    "print(a[len(a)-1])"
   ]
  },
  {
   "cell_type": "code",
   "execution_count": 42,
   "metadata": {},
   "outputs": [
    {
     "name": "stdout",
     "output_type": "stream",
     "text": [
      "[-0.02690223 -0.68927369  0.89613844 -0.66434233  1.02138658 -0.90580302\n",
      "  0.72523232 -0.93300067 -0.00660725 -0.66079376  1.20776804  0.78868538\n",
      " -1.03818471  0.85461564  1.7110001   0.35735818 -0.6432206   0.68707437\n",
      " -1.277989    0.31229073  0.37854882 -0.58379822  0.80648767 -1.29604021\n",
      " -1.40746696 -1.21421086 -0.49721621 -0.23018694 -0.74205805 -0.54148083\n",
      " -0.75998893  0.60237472 -0.3331474  -1.75828164  0.82679949 -0.22006568\n",
      " -0.07759048  0.57376687 -0.15176338  0.34855833  0.38379573  0.87724854\n",
      " -0.21545477 -0.13143426  0.25621179  0.04311228 -0.59193488  0.43521942\n",
      " -1.04502027  0.42014466]\n",
      "0.10112026277755816\n"
     ]
    },
    {
     "name": "stderr",
     "output_type": "stream",
     "text": [
      "C:\\Anaconda3\\lib\\site-packages\\seaborn\\distributions.py:2551: FutureWarning: `distplot` is a deprecated function and will be removed in a future version. Please adapt your code to use either `displot` (a figure-level function with similar flexibility) or `histplot` (an axes-level function for histograms).\n",
      "  warnings.warn(msg, FutureWarning)\n"
     ]
    },
    {
     "data": {
      "image/png": "[encoded data removed]",
      "text/plain": [
       "<Figure size 432x288 with 1 Axes>"
      ]
     },
     "metadata": {
      "needs_background": "light"
     },
     "output_type": "display_data"
    }
   ],
   "source": [
    "import pandas as pd\n",
    "import numpy as np\n",
    "%matplotlib inline  \n",
    "import seaborn as sns\n",
    "from scipy.stats import norm\n",
    "\n",
    "np.random.seed(1984) # para poder replicar el random\n",
    "data_norm = norm.rvs(size =  50)\n",
    "\n",
    "\n",
    "\n",
    "print(data_norm)\n",
    "alpha = 0.05\n",
    "\n",
    "cv = 0.2216\n",
    "#cv = 0.2960 99% o alpha = 0.01\n",
    "\n",
    "valor_critico = q_test_for_smallest_point(np.sort(data_norm))\n",
    "print(valor_critico)\n",
    "\n",
    "\n",
    "ax = sns.distplot(data_norm, color = 'blue')"
   ]
  },
  {
   "cell_type": "code",
   "execution_count": 43,
   "metadata": {},
   "outputs": [
    {
     "name": "stderr",
     "output_type": "stream",
     "text": [
      "C:\\Anaconda3\\lib\\site-packages\\seaborn\\distributions.py:2551: FutureWarning: `distplot` is a deprecated function and will be removed in a future version. Please adapt your code to use either `displot` (a figure-level function with similar flexibility) or `histplot` (an axes-level function for histograms).\n",
      "  warnings.warn(msg, FutureWarning)\n"
     ]
    },
    {
     "data": {
      "text/plain": [
       "<matplotlib.legend.Legend at 0x2106e725d88>"
      ]
     },
     "execution_count": 43,
     "metadata": {},
     "output_type": "execute_result"
    },
    {
     "data": {
      "image/png": "[encoded data removed]",
      "text/plain": [
       "<Figure size 432x288 with 1 Axes>"
      ]
     },
     "metadata": {
      "needs_background": "light"
     },
     "output_type": "display_data"
    }
   ],
   "source": [
    "ax = sns.distplot(data_norm, color = 'blue')\n",
    "ax.set_title('Distribucion normal')\n",
    "ax.axvline(x = cv, linestyle = '--', label = 'valor critico')\n",
    "ax.axvline(x = valor_critico, linestyle = '--', label = 'valor estadistico', color = 'k')\n",
    "ax.legend()"
   ]
  },
  {
   "cell_type": "markdown",
   "metadata": {},
   "source": [
    "---\n",
    "\n",
    "### 2.9.4 Prueba chi-cuadrada\n",
    "\n",
    "Una prueba de chi-cuadrada es una prueba de hipótesis que compara la distribución observada de los datos con una distribución esperada de los datos.\n",
    "Existen varios tipos de pruebas de chi-cuadrada:\n",
    "\n",
    "Prueba de bondad de ajuste de chi-cuadrada\n",
    "    Utilice este análisis para probar qué tan bien una muestra de datos categóricos se ajusta a una distribución teórica.\n",
    "    Por ejemplo, usted puede comprobar si un dado es justo, lanzando el dado muchas veces y utilizando una prueba de bondad de ajuste de chi-cuadrada para determinar si los resultados siguen una distribución uniforme. En este caso, el estadístico de chi-cuadrada cuantifica qué tanto varía la distribución observada de los conteos con respecto a la distribución hipotética.\n",
    "Pruebas de chi-cuadrada de asociación e independencia\n",
    "    Los cálculos para estas pruebas son iguales, pero la pregunta que se está tratando de contestar puede ser diferente. \n",
    "\n",
    "        Prueba de asociación: Utilice una prueba de asociación para determinar si una variable está asociada a otra variable. Por ejemplo, determine si las ventas de diferentes colores de automóviles dependen de la ciudad donde se venden.\n",
    "        Prueba de independencia: Utilice una prueba de independencia para determinar si el valor observado de una variable depende del valor observado de otra variable. Por ejemplo, determine si el hecho de que una persona vote por un candidato no depende del sexo del elector.\n",
    "\n",
    "\n",
    "----\n",
    "\n",
    "Por ejemplo, en una encuesta electoral, los votantes pueden clasificarse por género (masculino o femenino) y preferencia de voto (demócrata, republicano o independiente).\n",
    "\n",
    "Sin embargo, los dados son un ejemplo de una variable donde se conoce la \"distribución esperada\". Este no es siempre el caso. A veces, nuestra \"distribución esperada\" se estima a través de los datos.\n",
    "\n",
    "Supongamos por un segundo que no conocemos la frecuencia esperada de tiradas de dado. \n",
    "\n",
    "\n",
    "Tendríamos que estimar la frecuencia esperada a través de muestras de datos. Realicemos algunas muestras para tratar de determinar la frecuencia de cada tirada. \n",
    "\n",
    "Decidí hacer 4 muestras de dados de forma manual (es decir, con dados reales), las primeras 3 muestras fueron de 35 tiradas cada una, y la última muestra de 45 tiradas. Estas son muestras más pequeñas de lo que preferimos, pero quería darnos algunos datos reales para trabajar. Aquí está mi distribución de rollos, con las cuatro muestras denotadas por las letras \"a\", \"b\", \"c\" y \"d\".\n",
    "\n",
    "![alt text](https://miro.medium.com/max/564/1*OB7m3-RUrD5rWP74kDUHcw.jpeg)"
   ]
  },
  {
   "cell_type": "code",
   "execution_count": 18,
   "metadata": {},
   "outputs": [
    {
     "name": "stdout",
     "output_type": "stream",
     "text": [
      "[[ 6  4  5 10]\n",
      " [ 8  5  3  3]\n",
      " [ 5  4  8  4]\n",
      " [ 4 11  7 13]\n",
      " [ 5  8  7  6]\n",
      " [ 7  3  5  9]]\n"
     ]
    }
   ],
   "source": [
    "import numpy as np\n",
    "\n",
    "a1 = [6, 4, 5, 10]\n",
    "a2 = [8, 5, 3, 3]\n",
    "a3 = [5, 4, 8, 4]\n",
    "a4 = [4, 11, 7, 13]\n",
    "a5 = [5, 8, 7, 6]\n",
    "a6 = [7, 3, 5, 9]\n",
    "\n",
    "dice = np.array([a1, a2, a3, a4, a5, a6])\n",
    "\n",
    "print(dice)"
   ]
  },
  {
   "cell_type": "code",
   "execution_count": 19,
   "metadata": {},
   "outputs": [
    {
     "data": {
      "image/png": "[encoded data removed]",
      "text/plain": [
       "<Figure size 432x288 with 1 Axes>"
      ]
     },
     "metadata": {
      "needs_background": "light"
     },
     "output_type": "display_data"
    }
   ],
   "source": [
    "import matplotlib.pyplot as plt\n",
    "cuenta, cajas, ignorar = plt.hist(dice, 6)\n",
    "plt.ylabel('frequencia')\n",
    "plt.xlabel('valores')\n",
    "plt.title('Histograma Geométrica')\n",
    "plt.show()"
   ]
  },
  {
   "cell_type": "code",
   "execution_count": 20,
   "metadata": {},
   "outputs": [
    {
     "data": {
      "text/plain": [
       "(16.490612061288754,\n",
       " 0.35021521809742745,\n",
       " 15,\n",
       " array([[ 5.83333333,  5.83333333,  5.83333333,  7.5       ],\n",
       "        [ 4.43333333,  4.43333333,  4.43333333,  5.7       ],\n",
       "        [ 4.9       ,  4.9       ,  4.9       ,  6.3       ],\n",
       "        [ 8.16666667,  8.16666667,  8.16666667, 10.5       ],\n",
       "        [ 6.06666667,  6.06666667,  6.06666667,  7.8       ],\n",
       "        [ 5.6       ,  5.6       ,  5.6       ,  7.2       ]]))"
      ]
     },
     "execution_count": 20,
     "metadata": {},
     "output_type": "execute_result"
    }
   ],
   "source": [
    "from scipy import stats\n",
    "\n",
    "stats.chi2_contingency(dice)"
   ]
  },
  {
   "cell_type": "code",
   "execution_count": 21,
   "metadata": {},
   "outputs": [
    {
     "name": "stdout",
     "output_type": "stream",
     "text": [
      "===Chi2 Stat===\n",
      "16.490612061288754\n",
      "\n",
      "\n",
      "===Degrees of Freedom===\n",
      "15\n",
      "\n",
      "\n",
      "===P-Value===\n",
      "0.35021521809742745\n",
      "\n",
      "\n",
      "===Contingency Table===\n",
      "[[ 5.83333333  5.83333333  5.83333333  7.5       ]\n",
      " [ 4.43333333  4.43333333  4.43333333  5.7       ]\n",
      " [ 4.9         4.9         4.9         6.3       ]\n",
      " [ 8.16666667  8.16666667  8.16666667 10.5       ]\n",
      " [ 6.06666667  6.06666667  6.06666667  7.8       ]\n",
      " [ 5.6         5.6         5.6         7.2       ]]\n"
     ]
    }
   ],
   "source": [
    "chi2_stat, p_val, dof, ex = stats.chi2_contingency(dice)\n",
    "\n",
    "print(\"===Chi2 Stat===\")\n",
    "print(chi2_stat)\n",
    "print(\"\\n\")\n",
    "print(\"===Degrees of Freedom===\")\n",
    "print(dof)\n",
    "print(\"\\n\")\n",
    "print(\"===P-Value===\")\n",
    "print(p_val)\n",
    "print(\"\\n\")\n",
    "print(\"===Contingency Table===\")\n",
    "print(ex)"
   ]
  },
  {
   "cell_type": "markdown",
   "metadata": {},
   "source": [
    "Explicaré qué significa todo esto.... \n",
    "\n",
    "El primer valor (16,49) es la estadística de chi-cuadrado. \n",
    "\n",
    "El siguiente valor son los \"grados de libertad\". Esto se puede calcular tomando el número de filas menos uno y multiplicando este resultado por el número de columnas menos uno.\n",
    "\n",
    "----\n",
    "\n",
    "En este caso:\n",
    "\n",
    "Filas = 6 \n",
    "\n",
    "Columnas = 4\n",
    "\n",
    "Entonces tomamos (6–1) y lo multiplicamos por (4–1) para obtener 15 grados de libertad."
   ]
  },
  {
   "cell_type": "markdown",
   "metadata": {},
   "source": [
    "Con la estadística de chi-cuadrado y los grados de libertad, podemos encontrar el valor p. El valor p es lo que usamos para determinar la importancia (o la independencia en este caso). Dependiendo de la prueba, generalmente buscamos un umbral en 0.05 o 0.01. Nuestra prueba es significativa (es decir, rechazamos la hipótesis nula) si obtenemos un valor p por debajo de nuestro umbral.\n",
    "\n",
    "Para nuestros propósitos, usaremos 0.01 como umbral. En este ejemplo en particular, el valor p (el segundo número en nuestra salida: 0.3502) está lejos de 0.01 y, por lo tanto, no hemos alcanzado el umbral de significancia estadística."
   ]
  },
  {
   "cell_type": "markdown",
   "metadata": {},
   "source": [
    "Finalmente, la matriz al final de la salida es la tabla de contingencia con valores esperados basados en todas nuestras muestras. Tengamos en cuenta que en este caso, nuestra tabla de contingencia produjo valores que, en algunos casos, están un poco fuera de lo que sabemos que deberíamos esperar con las tiradas de dado. Esto se debe a que estamos usando una muestra demasiado pequeña para medir con precisión la población."
   ]
  },
  {
   "cell_type": "markdown",
   "metadata": {},
   "source": [
    "---\n",
    "\n",
    "Podemos ejecutar una muestra mucho más grande para ver cómo esta metodología puede funcionar mejor. Como no estoy dispuesto a lanzar un dado miles de veces, usaremos Python para hacer esto. Necesitamos np.random.randint y np.unique."
   ]
  },
  {
   "cell_type": "code",
   "execution_count": 22,
   "metadata": {},
   "outputs": [],
   "source": [
    "r1 = np.random.randint(1,7,1000)\n",
    "r2 = np.random.randint(1,7,1000)\n",
    "r3 = np.random.randint(1,7,1000)\n",
    "r4 = np.random.randint(1,7,1000)\n",
    "r5 = np.random.randint(1,7,1000)"
   ]
  },
  {
   "cell_type": "code",
   "execution_count": 23,
   "metadata": {},
   "outputs": [],
   "source": [
    "unique, counts1 = np.unique(r1, return_counts=True)\n",
    "unique, counts2 = np.unique(r2, return_counts=True)\n",
    "unique, counts3 = np.unique(r3, return_counts=True)\n",
    "unique, counts4 = np.unique(r4, return_counts=True)\n",
    "unique, counts5 = np.unique(r5, return_counts=True)"
   ]
  },
  {
   "cell_type": "code",
   "execution_count": 24,
   "metadata": {},
   "outputs": [],
   "source": [
    "dice = np.array([counts1, counts2, counts3, counts4, counts5])"
   ]
  },
  {
   "cell_type": "code",
   "execution_count": 25,
   "metadata": {},
   "outputs": [],
   "source": [
    "chi2_stat, p_val, dof, ex = stats.chi2_contingency(dice)"
   ]
  },
  {
   "cell_type": "code",
   "execution_count": 26,
   "metadata": {},
   "outputs": [
    {
     "name": "stdout",
     "output_type": "stream",
     "text": [
      "===Chi2 Stat===\n",
      "10.912087806819635\n",
      "\n",
      "\n",
      "===Degrees of Freedom===\n",
      "20\n",
      "\n",
      "\n",
      "===P-Value===\n",
      "0.948470545776089\n",
      "\n",
      "\n",
      "===Contingency Table===\n",
      "[[173.6 164.8 170.8 166.  161.  163.8]\n",
      " [173.6 164.8 170.8 166.  161.  163.8]\n",
      " [173.6 164.8 170.8 166.  161.  163.8]\n",
      " [173.6 164.8 170.8 166.  161.  163.8]\n",
      " [173.6 164.8 170.8 166.  161.  163.8]]\n"
     ]
    }
   ],
   "source": [
    "print(\"===Chi2 Stat===\")\n",
    "print(chi2_stat)\n",
    "print(\"\\n\")\n",
    "print(\"===Degrees of Freedom===\")\n",
    "print(dof)\n",
    "print(\"\\n\")\n",
    "print(\"===P-Value===\")\n",
    "print(p_val)\n",
    "print(\"\\n\")\n",
    "print(\"===Contingency Table===\")\n",
    "print(ex)"
   ]
  },
  {
   "cell_type": "code",
   "execution_count": 27,
   "metadata": {},
   "outputs": [
    {
     "data": {
      "image/png": "[encoded data removed]",
      "text/plain": [
       "<Figure size 432x288 with 1 Axes>"
      ]
     },
     "metadata": {
      "needs_background": "light"
     },
     "output_type": "display_data"
    }
   ],
   "source": [
    "import matplotlib.pyplot as plt\n",
    "cuenta, cajas, ignorar = plt.hist(dice, 6)\n",
    "plt.ylabel('frequencia')\n",
    "plt.xlabel('valores')\n",
    "plt.title('Histograma Geométrica')\n",
    "plt.show()"
   ]
  },
  {
   "cell_type": "markdown",
   "metadata": {},
   "source": [
    "Observe que nuestra tabla de contingencia ahora produce una distribución esperada más uniforme. Todavía está un poco fuera de lugar (deberíamos esperar que cada número aumente unas 166,7 veces en una muestra de 1000 tiradas), pero nos estamos acercando mucho a esa distribución."
   ]
  },
  {
   "cell_type": "code",
   "execution_count": 28,
   "metadata": {},
   "outputs": [
    {
     "name": "stdout",
     "output_type": "stream",
     "text": [
      "===Chi2 Stat===\n",
      "21.271906102100413\n",
      "\n",
      "\n",
      "===Degrees of Freedom===\n",
      "20\n",
      "\n",
      "\n",
      "===P-Value===\n",
      "0.3812866229855121\n",
      "\n",
      "\n",
      "===Contingency Table===\n",
      "[[1645.2 1664.2 1652.4 1667.8 1684.6 1685.8]\n",
      " [1645.2 1664.2 1652.4 1667.8 1684.6 1685.8]\n",
      " [1645.2 1664.2 1652.4 1667.8 1684.6 1685.8]\n",
      " [1645.2 1664.2 1652.4 1667.8 1684.6 1685.8]\n",
      " [1645.2 1664.2 1652.4 1667.8 1684.6 1685.8]]\n"
     ]
    }
   ],
   "source": [
    "r1 = np.random.randint(1,7,10000)\n",
    "r2 = np.random.randint(1,7,10000)\n",
    "r3 = np.random.randint(1,7,10000)\n",
    "r4 = np.random.randint(1,7,10000)\n",
    "r5 = np.random.randint(1,7,10000)\n",
    "\n",
    "unique, counts1 = np.unique(r1, return_counts=True)\n",
    "unique, counts2 = np.unique(r2, return_counts=True)\n",
    "unique, counts3 = np.unique(r3, return_counts=True)\n",
    "unique, counts4 = np.unique(r4, return_counts=True)\n",
    "unique, counts5 = np.unique(r5, return_counts=True)\n",
    "\n",
    "dice = np.array([counts1, counts2, counts3, counts4, counts5])\n",
    "\n",
    "chi2_stat, p_val, dof, ex = stats.chi2_contingency(dice)\n",
    "\n",
    "print(\"===Chi2 Stat===\")\n",
    "print(chi2_stat)\n",
    "print(\"\\n\")\n",
    "print(\"===Degrees of Freedom===\")\n",
    "print(dof)\n",
    "print(\"\\n\")\n",
    "print(\"===P-Value===\")\n",
    "print(p_val)\n",
    "print(\"\\n\")\n",
    "print(\"===Contingency Table===\")\n",
    "print(ex)"
   ]
  },
  {
   "cell_type": "markdown",
   "metadata": {},
   "source": [
    "Podemos ver que nuestra distribución se acerca aún más a la distribución de la población conocida (aproximadamente 16.667% de probabilidad para cada número o 1,666.7 de 10,000 lanzamientos en la muestra). Lo interesante de esto es que, dado que conocemos la distribución real esperada, podemos ver cómo las muestras nos permiten estimar la distribución de la población.\n",
    "\n"
   ]
  },
  {
   "cell_type": "code",
   "execution_count": 29,
   "metadata": {},
   "outputs": [
    {
     "data": {
      "image/png": "[encoded data removed]",
      "text/plain": [
       "<Figure size 432x288 with 1 Axes>"
      ]
     },
     "metadata": {
      "needs_background": "light"
     },
     "output_type": "display_data"
    }
   ],
   "source": [
    "import matplotlib.pyplot as plt\n",
    "cuenta, cajas, ignorar = plt.hist(dice, 6)\n",
    "plt.ylabel('frequencia')\n",
    "plt.xlabel('valores')\n",
    "plt.title('Histograma Geométrica')\n",
    "plt.show()"
   ]
  },
  {
   "cell_type": "markdown",
   "metadata": {},
   "source": [
    "---\n",
    "\n",
    "<a id=\"e\"></a>\n",
    "<h1><center>2.10. Pruebas de Hipótesis - No Paramétricas</center></h1>\n",
    "\n",
    "[Regreso a contenido](#contenido)\n",
    "\n",
    "---"
   ]
  },
  {
   "cell_type": "markdown",
   "metadata": {},
   "source": [
    "---\n",
    "## Pruebas de significancia estadística no paramétricas\n",
    "\n",
    "Si los datos no tienen la distribución gaussiana familiar, debemos recurrir a la versión no paramétrica de las pruebas de significancia. Estas pruebas funcionan de manera similar, pero son libres de distribución, lo que requiere que los datos valorados reales se transformen primero en datos de rango antes de que se pueda realizar la prueba.\n",
    "\n",
    "---\n",
    "\n",
    "En esta sección tenemos la contraparte de las pruebas paramétricas, las cuales son (ver esta [liga](https://onlinelibrary.wiley.com/doi/pdf/10.1002/art.24669)):\n",
    "\n",
    "\n",
    "   * Mann-Whitney U test - Para comparar dos muestras independientes (t de Student)\n",
    "   * Kruskal-Wallis-Friedman tests - Para comparar más de dos muestras (ANOVA)\n",
    "\n",
    "Estas pruebas se usan a menudo en muestras de puntajes de habilidades de modelos para confirmar que la diferencia de habilidades entre los modelos de aprendizaje automático es significativa.\n",
    "\n",
    "### Dataset"
   ]
  },
  {
   "cell_type": "code",
   "execution_count": 30,
   "metadata": {},
   "outputs": [
    {
     "name": "stdout",
     "output_type": "stream",
     "text": [
      "data1: mean=50.303 stdv=4.426\n",
      "data2: mean=51.764 stdv=4.660\n"
     ]
    }
   ],
   "source": [
    "# Generamos muestras gaussianas\n",
    "from numpy.random import seed\n",
    "from numpy.random import randn\n",
    "from numpy import mean\n",
    "from numpy import std\n",
    "#  # para poder replicar el random\n",
    "seed(1)\n",
    "# generamos dos conjuntos de datos univariados\n",
    "data1 = 5 * randn(100) + 50\n",
    "data2 = 5 * randn(100) + 51\n",
    "# resumen\n",
    "print('data1: mean=%.3f stdv=%.3f' % (mean(data1), std(data1)))\n",
    "print('data2: mean=%.3f stdv=%.3f' % (mean(data2), std(data2)))"
   ]
  },
  {
   "cell_type": "markdown",
   "metadata": {},
   "source": [
    "## Mann-Whitney U Test"
   ]
  },
  {
   "cell_type": "code",
   "execution_count": 31,
   "metadata": {},
   "outputs": [
    {
     "name": "stdout",
     "output_type": "stream",
     "text": [
      "Statistics=4783.000, p=0.298\n",
      "Misma distribución (H0)\n"
     ]
    },
    {
     "name": "stderr",
     "output_type": "stream",
     "text": [
      "C:\\Anaconda3\\lib\\site-packages\\seaborn\\distributions.py:2551: FutureWarning: `distplot` is a deprecated function and will be removed in a future version. Please adapt your code to use either `displot` (a figure-level function with similar flexibility) or `histplot` (an axes-level function for histograms).\n",
      "  warnings.warn(msg, FutureWarning)\n",
      "C:\\Anaconda3\\lib\\site-packages\\seaborn\\distributions.py:2551: FutureWarning: `distplot` is a deprecated function and will be removed in a future version. Please adapt your code to use either `displot` (a figure-level function with similar flexibility) or `histplot` (an axes-level function for histograms).\n",
      "  warnings.warn(msg, FutureWarning)\n"
     ]
    },
    {
     "data": {
      "text/plain": [
       "<AxesSubplot:ylabel='Density'>"
      ]
     },
     "execution_count": 31,
     "metadata": {},
     "output_type": "execute_result"
    },
    {
     "data": {
      "image/png": "[encoded data removed]",
      "text/plain": [
       "<Figure size 432x288 with 1 Axes>"
      ]
     },
     "metadata": {
      "needs_background": "light"
     },
     "output_type": "display_data"
    }
   ],
   "source": [
    "# Mann-Whitney U test\n",
    "# Generamos muestras gaussianas\n",
    "from numpy.random import seed\n",
    "from numpy.random import randn\n",
    "from scipy.stats import mannwhitneyu\n",
    "#from scipy.stats import ttest_ind\n",
    "import seaborn as sns\n",
    "#  # para poder replicar el random\n",
    "seed(1962)\n",
    "# generamos dos conjuntos de datos univariados\n",
    "data1 = 5 * randn(100) + 50\n",
    "data2 = 5 * randn(100) + 51\n",
    "#  Comparamos muestras\n",
    "stat, p = mannwhitneyu(data1, data2)\n",
    "\n",
    "#ttest,pval = ttest_ind(data1,data2)\n",
    "\n",
    "print('Statistics=%.3f, p=%.3f' % (stat, p))\n",
    "\n",
    "#print('Statistics=%.3f, p=%.3f' % (ttest, pval))\n",
    "\n",
    "# interpretamos\n",
    "alpha = 0.05\n",
    "if p > alpha:\n",
    "\tprint('Misma distribución (H0)')\n",
    "else:\n",
    "\tprint('Distribución diferente (H1)')\n",
    "    \n",
    "sns.distplot(data1)\n",
    "sns.distplot(data2)"
   ]
  },
  {
   "cell_type": "markdown",
   "metadata": {},
   "source": [
    "## Kruskal-Wallis H Test"
   ]
  },
  {
   "cell_type": "code",
   "execution_count": 32,
   "metadata": {},
   "outputs": [
    {
     "name": "stdout",
     "output_type": "stream",
     "text": [
      "Statistics=27.369, p=0.000\n",
      "Distribución diferente (H1)\n"
     ]
    },
    {
     "name": "stderr",
     "output_type": "stream",
     "text": [
      "C:\\Anaconda3\\lib\\site-packages\\seaborn\\distributions.py:2551: FutureWarning: `distplot` is a deprecated function and will be removed in a future version. Please adapt your code to use either `displot` (a figure-level function with similar flexibility) or `histplot` (an axes-level function for histograms).\n",
      "  warnings.warn(msg, FutureWarning)\n",
      "C:\\Anaconda3\\lib\\site-packages\\seaborn\\distributions.py:2551: FutureWarning: `distplot` is a deprecated function and will be removed in a future version. Please adapt your code to use either `displot` (a figure-level function with similar flexibility) or `histplot` (an axes-level function for histograms).\n",
      "  warnings.warn(msg, FutureWarning)\n",
      "C:\\Anaconda3\\lib\\site-packages\\seaborn\\distributions.py:2551: FutureWarning: `distplot` is a deprecated function and will be removed in a future version. Please adapt your code to use either `displot` (a figure-level function with similar flexibility) or `histplot` (an axes-level function for histograms).\n",
      "  warnings.warn(msg, FutureWarning)\n"
     ]
    },
    {
     "data": {
      "text/plain": [
       "<AxesSubplot:ylabel='Density'>"
      ]
     },
     "execution_count": 32,
     "metadata": {},
     "output_type": "execute_result"
    },
    {
     "data": {
      "image/png": "[encoded data removed]",
      "text/plain": [
       "<Figure size 432x288 with 1 Axes>"
      ]
     },
     "metadata": {
      "needs_background": "light"
     },
     "output_type": "display_data"
    }
   ],
   "source": [
    "# Kruskal-Wallis H-test\n",
    "from numpy.random import seed\n",
    "from numpy.random import randn\n",
    "from scipy.stats import kruskal\n",
    "import seaborn as sns\n",
    "#  # para poder replicar el random\n",
    "seed(1962)\n",
    "# generate three independent samples\n",
    "data1 = 5 * randn(100) + 50\n",
    "data2 = 5 * randn(100) + 50\n",
    "data3 = 5 * randn(100) + 52\n",
    "# comparacion\n",
    "stat, p = kruskal(data1, data2, data3)\n",
    "print('Statistics=%.3f, p=%.3f' % (stat, p))\n",
    "# interpretacion\n",
    "alpha = 0.05\n",
    "if p > alpha:\n",
    "\tprint('Misma Distribucion (H0)')\n",
    "else:\n",
    "\tprint('Distribución diferente (H1)')\n",
    "    \n",
    "sns.distplot(data1)\n",
    "sns.distplot(data2)\n",
    "sns.distplot(data3)"
   ]
  }
 ],
 "metadata": {
  "kernelspec": {
   "display_name": "Python 3",
   "language": "python",
   "name": "python3"
  },
  "language_info": {
   "codemirror_mode": {
    "name": "ipython",
    "version": 3
   },
   "file_extension": ".py",
   "mimetype": "text/x-python",
   "name": "python",
   "nbconvert_exporter": "python",
   "pygments_lexer": "ipython3",
   "version": "3.7.6"
  }
 },
 "nbformat": 4,
 "nbformat_minor": 4
}

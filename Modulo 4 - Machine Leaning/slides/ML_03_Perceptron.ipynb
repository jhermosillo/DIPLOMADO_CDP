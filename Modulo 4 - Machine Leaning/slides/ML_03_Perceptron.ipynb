{
  "nbformat": 4,
  "nbformat_minor": 0,
  "metadata": {
    "kernelspec": {
      "display_name": "Python 3",
      "language": "python",
      "name": "python3"
    },
    "language_info": {
      "codemirror_mode": {
        "name": "ipython",
        "version": 3
      },
      "file_extension": ".py",
      "mimetype": "text/x-python",
      "name": "python",
      "nbconvert_exporter": "python",
      "pygments_lexer": "ipython3",
      "version": "3.7.6"
    },
    "colab": {
      "name": "DL_01_Perceptron.ipynb",
      "provenance": [],
      "collapsed_sections": [],
      "include_colab_link": true
    }
  },
  "cells": [
    {
      "cell_type": "markdown",
      "metadata": {
        "id": "view-in-github",
        "colab_type": "text"
      },
      "source": [
        "<a href=\"https://colab.research.google.com/github/jhermosillo/DIPLOMADO_CDP/blob/main/Modulo%204%20-%20Machine%20Leaning/slides/ML_03_Perceptron.ipynb\" target=\"_parent\"><img src=\"https://colab.research.google.com/assets/colab-badge.svg\" alt=\"Open In Colab\"/></a>"
      ]
    },
    {
      "cell_type": "code",
      "metadata": {
        "id": "Ao_ZQIg07tZX"
      },
      "source": [
        "# Imports\n",
        "import numpy as np\n",
        "import matplotlib.pyplot as plt\n",
        "from sklearn.datasets import load_iris\n",
        "from sklearn.model_selection import train_test_split\n",
        "from sklearn.metrics import accuracy_score"
      ],
      "execution_count": null,
      "outputs": []
    },
    {
      "cell_type": "markdown",
      "metadata": {
        "id": "jUoneR7a7tZO"
      },
      "source": [
        "# Part 1: Datos"
      ]
    },
    {
      "cell_type": "code",
      "metadata": {
        "id": "HntWfi2V7tZp",
        "colab": {
          "base_uri": "https://localhost:8080/"
        },
        "outputId": "f4928d3d-87cf-4255-a81b-0452436ae0f1"
      },
      "source": [
        "# Load data\n",
        "iris = load_iris()\n",
        "X = iris.data\n",
        "Y = iris.target\n",
        "\n",
        "print(\"Data:\", X.shape)\n",
        "print(X[:10])\n",
        "print(\"Labels\", Y.shape)\n",
        "print(Y)\n",
        "print(\"Class names:\", iris.target_names)"
      ],
      "execution_count": null,
      "outputs": [
        {
          "output_type": "stream",
          "text": [
            "Data: (150, 4)\n",
            "[[5.1 3.5 1.4 0.2]\n",
            " [4.9 3.  1.4 0.2]\n",
            " [4.7 3.2 1.3 0.2]\n",
            " [4.6 3.1 1.5 0.2]\n",
            " [5.  3.6 1.4 0.2]\n",
            " [5.4 3.9 1.7 0.4]\n",
            " [4.6 3.4 1.4 0.3]\n",
            " [5.  3.4 1.5 0.2]\n",
            " [4.4 2.9 1.4 0.2]\n",
            " [4.9 3.1 1.5 0.1]]\n",
            "Labels (150,)\n",
            "[0 0 0 0 0 0 0 0 0 0 0 0 0 0 0 0 0 0 0 0 0 0 0 0 0 0 0 0 0 0 0 0 0 0 0 0 0\n",
            " 0 0 0 0 0 0 0 0 0 0 0 0 0 1 1 1 1 1 1 1 1 1 1 1 1 1 1 1 1 1 1 1 1 1 1 1 1\n",
            " 1 1 1 1 1 1 1 1 1 1 1 1 1 1 1 1 1 1 1 1 1 1 1 1 1 1 2 2 2 2 2 2 2 2 2 2 2\n",
            " 2 2 2 2 2 2 2 2 2 2 2 2 2 2 2 2 2 2 2 2 2 2 2 2 2 2 2 2 2 2 2 2 2 2 2 2 2\n",
            " 2 2]\n",
            "Class names: ['setosa' 'versicolor' 'virginica']\n"
          ],
          "name": "stdout"
        }
      ]
    },
    {
      "cell_type": "code",
      "metadata": {
        "id": "XusrHpWi7tZ7",
        "colab": {
          "base_uri": "https://localhost:8080/",
          "height": 282
        },
        "outputId": "ac1e763b-c8bb-4d72-f9c1-d5ba9571e71f"
      },
      "source": [
        "# Plot two features: petal length and petal width\n",
        "plt.scatter(X[Y==0, 0], X[Y==0, 1], label=iris.target_names[0])\n",
        "plt.scatter(X[Y==1, 0], X[Y==1, 1], label=iris.target_names[1])\n",
        "plt.scatter(X[Y==2, 0], X[Y==2, 1], label=iris.target_names[2])\n",
        "plt.legend()\n",
        "plt.grid(True)\n",
        "plt.xlabel('petal length')\n",
        "plt.ylabel('petal width')\n",
        "plt.show()"
      ],
      "execution_count": null,
      "outputs": [
        {
          "output_type": "display_data",
          "data": {
            "image/png": "[encoded data removed]",
            "text/plain": [
              "<Figure size 432x288 with 1 Axes>"
            ]
          },
          "metadata": {
            "tags": [],
            "needs_background": "light"
          }
        }
      ]
    },
    {
      "cell_type": "code",
      "metadata": {
        "id": "a-PcPzRX7taC"
      },
      "source": [
        "# == Q1: ==\n",
        "# Idea alguna manera de visualizar y diferenciar las 4 variables\n",
        "# usando una gráfica de sólo 2D. Muestra tu solución:\n",
        "\n",
        "plt.scatter()\n",
        "plt.legend()\n",
        "plt.xlabel('petal length')\n",
        "plt.ylabel('petal width')\n",
        "plt.colorbar()\n",
        "plt.title('sepal length=color; sepal width=size')\n",
        "plt.grid(True)\n",
        "plt.show()"
      ],
      "execution_count": null,
      "outputs": []
    },
    {
      "cell_type": "code",
      "metadata": {
        "id": "zJGoLQx87taL",
        "colab": {
          "base_uri": "https://localhost:8080/"
        },
        "outputId": "ba243be5-1c71-4134-b054-65ae833902a3"
      },
      "source": [
        "# Let's keep two classes only, and two variables\n",
        "X = X[:100, :2]\n",
        "Y = Y[:100]\n",
        "\n",
        "print(\"Data:\", X.shape)\n",
        "print(X[:10])\n",
        "print(\"Labels\", Y.shape)\n",
        "print(Y)"
      ],
      "execution_count": null,
      "outputs": [
        {
          "output_type": "stream",
          "text": [
            "Data: (100, 2)\n",
            "[[5.1 3.5]\n",
            " [4.9 3. ]\n",
            " [4.7 3.2]\n",
            " [4.6 3.1]\n",
            " [5.  3.6]\n",
            " [5.4 3.9]\n",
            " [4.6 3.4]\n",
            " [5.  3.4]\n",
            " [4.4 2.9]\n",
            " [4.9 3.1]]\n",
            "Labels (100,)\n",
            "[0 0 0 0 0 0 0 0 0 0 0 0 0 0 0 0 0 0 0 0 0 0 0 0 0 0 0 0 0 0 0 0 0 0 0 0 0\n",
            " 0 0 0 0 0 0 0 0 0 0 0 0 0 1 1 1 1 1 1 1 1 1 1 1 1 1 1 1 1 1 1 1 1 1 1 1 1\n",
            " 1 1 1 1 1 1 1 1 1 1 1 1 1 1 1 1 1 1 1 1 1 1 1 1 1 1]\n"
          ],
          "name": "stdout"
        }
      ]
    },
    {
      "cell_type": "code",
      "metadata": {
        "id": "ltN6p8H47taQ",
        "colab": {
          "base_uri": "https://localhost:8080/"
        },
        "outputId": "62d1b11b-39ae-4ba4-bab2-1a43ca4b4a90"
      },
      "source": [
        "# Split data into training + validation and test sets\n",
        "x_train, x_test, y_train, y_test = train_test_split(X, Y, test_size=0.2)\n",
        "\n",
        "print(x_train.shape)\n",
        "print(x_test.shape)\n",
        "print(y_train.shape)\n",
        "print(y_test.shape)"
      ],
      "execution_count": null,
      "outputs": [
        {
          "output_type": "stream",
          "text": [
            "(80, 2)\n",
            "(20, 2)\n",
            "(80,)\n",
            "(20,)\n"
          ],
          "name": "stdout"
        }
      ]
    },
    {
      "cell_type": "markdown",
      "metadata": {
        "id": "wgbNzUqB7taX"
      },
      "source": [
        "# Part 2: Perceptron"
      ]
    },
    {
      "cell_type": "code",
      "metadata": {
        "id": "0p6frzZN7taf"
      },
      "source": [
        "# Define class linear (step) perceptron\n",
        "class LPerceptron:\n",
        "  #constructor\n",
        "  def __init__ (self):\n",
        "    self.w = None\n",
        "    self.b = None\n",
        "  \n",
        "  #activation function  \n",
        "  def activation(self, x):\n",
        "    return 1 if (np.dot(self.w, x) >= self.b) else 0\n",
        "  \n",
        "  #predict on data\n",
        "  def predict(self, X):\n",
        "    Y = []\n",
        "    for x in X:\n",
        "      result = self.activation(x)\n",
        "      Y.append(result)\n",
        "    return np.array(Y)\n",
        "\n",
        "  #train\n",
        "  def fit(self, X, Y, n_epochs=1, lr=1, val_split=0.1):\n",
        "    x_train, x_val, y_train, y_val = train_test_split(X, Y, test_size=val_split) #split train into train and val\n",
        "    \n",
        "    self.w = np.random.rand(X.shape[1])\n",
        "    self.b = 0.0\n",
        "    \n",
        "    accuracy = np.zeros((2,))\n",
        "    accuracy[0] = accuracy_score(y_train, self.predict(x_train))\n",
        "    accuracy[1] = accuracy_score(y_val, self.predict(x_val))\n",
        "    print(f\"Epoch: {0:3d} -- acc: {accuracy[0]:6.4f}, acc_val: {accuracy[1]:6.4f}\")\n",
        "    \n",
        "    accuracy = np.zeros((n_epochs, 2))\n",
        "    for epoch in range(n_epochs): #loop through epochs\n",
        "      for x, y in zip(x_train, y_train):  #loop through samples\n",
        "        y_hat = self.activation(x)\n",
        "        err = y - y_hat\n",
        "        self.w = self.w + lr * err * x  #LA\n",
        "        self.b = self.b + lr * err      #LB\n",
        "      accuracy[epoch, 0] = accuracy_score(y_train, self.predict(x_train))\n",
        "      accuracy[epoch, 1] = accuracy_score(y_val, self.predict(x_val))\n",
        "      print(f\"Epoch: {epoch+1:3d} -- acc: {accuracy[epoch, 0]:6.4f}, acc_val: {accuracy[epoch, 1]:6.4f}\")\n",
        "        \n",
        "    return accuracy"
      ],
      "execution_count": null,
      "outputs": []
    },
    {
      "cell_type": "code",
      "metadata": {
        "id": "2P-MIPR57tak"
      },
      "source": [
        "# == Q2: ==\n",
        "# Explica qué sucede en las líneas comentadas como #LA y #LB.\n",
        "# ¿Qué significa cada térmido de las ecuaciones?\n",
        "# ¿Por qué contienen el térmido de la variable \"err\"?\n",
        "# ¿Por qué contienen como un térmido la variable de entrada \"x\"?\n",
        "# ¿Cuántas iteraciones suceden en el loop interno del método fit?"
      ],
      "execution_count": null,
      "outputs": []
    },
    {
      "cell_type": "code",
      "metadata": {
        "id": "BsaWRsdp7tas",
        "colab": {
          "base_uri": "https://localhost:8080/"
        },
        "outputId": "095ff2c6-3d32-4638-89c5-00a11382045c"
      },
      "source": [
        "# Create a model and train it for 50 epochs\n",
        "perceptron = LPerceptron()\n",
        "acc_history = perceptron.fit(x_train, y_train, n_epochs=20, lr=0.3, val_split=0.1)\n",
        "# Encuentra el mejor learning rate lr"
      ],
      "execution_count": null,
      "outputs": [
        {
          "output_type": "stream",
          "text": [
            "Epoch:   0 -- acc: 0.5000, acc_val: 0.7500\n",
            "Epoch:   1 -- acc: 0.5417, acc_val: 0.2500\n",
            "Epoch:   2 -- acc: 0.5694, acc_val: 0.5000\n",
            "Epoch:   3 -- acc: 0.6250, acc_val: 0.6250\n",
            "Epoch:   4 -- acc: 0.7361, acc_val: 0.6250\n",
            "Epoch:   5 -- acc: 0.8611, acc_val: 0.6250\n",
            "Epoch:   6 -- acc: 0.8889, acc_val: 0.7500\n",
            "Epoch:   7 -- acc: 0.8889, acc_val: 0.7500\n",
            "Epoch:   8 -- acc: 0.7639, acc_val: 0.6250\n",
            "Epoch:   9 -- acc: 0.9861, acc_val: 0.8750\n",
            "Epoch:  10 -- acc: 0.9167, acc_val: 0.8750\n",
            "Epoch:  11 -- acc: 0.9028, acc_val: 0.7500\n",
            "Epoch:  12 -- acc: 0.9722, acc_val: 1.0000\n",
            "Epoch:  13 -- acc: 0.9028, acc_val: 0.7500\n",
            "Epoch:  14 -- acc: 0.9722, acc_val: 1.0000\n",
            "Epoch:  15 -- acc: 0.9167, acc_val: 0.8750\n",
            "Epoch:  16 -- acc: 0.9722, acc_val: 0.7500\n",
            "Epoch:  17 -- acc: 0.9028, acc_val: 0.7500\n",
            "Epoch:  18 -- acc: 0.9861, acc_val: 1.0000\n",
            "Epoch:  19 -- acc: 0.9722, acc_val: 1.0000\n",
            "Epoch:  20 -- acc: 0.9028, acc_val: 0.7500\n"
          ],
          "name": "stdout"
        }
      ]
    },
    {
      "cell_type": "code",
      "metadata": {
        "id": "RX8gJ98P7tax",
        "colab": {
          "base_uri": "https://localhost:8080/"
        },
        "outputId": "1c6dda1d-bb59-4493-ba61-35fbb5bada52"
      },
      "source": [
        "# Making predictions on test data\n",
        "y_test_hat = perceptron.predict(x_test)\n",
        "print(\"Test acc:\", accuracy_score(y_test_hat, y_test))"
      ],
      "execution_count": null,
      "outputs": [
        {
          "output_type": "stream",
          "text": [
            "Test acc: 0.95\n"
          ],
          "name": "stdout"
        }
      ]
    },
    {
      "cell_type": "code",
      "metadata": {
        "id": "HU4c3P8y7ta5",
        "colab": {
          "base_uri": "https://localhost:8080/"
        },
        "outputId": "9e6ff5e2-e41e-4981-9086-207d8d150887"
      },
      "source": [
        "# Show the final values for the weights and bias\n",
        "print(\"Weights:\", perceptron.w)\n",
        "print(\"bias:\", perceptron.b)"
      ],
      "execution_count": null,
      "outputs": [
        {
          "output_type": "stream",
          "text": [
            "Weights: [  7.5856666  -16.16807394]\n",
            "bias: -4.199999999999999\n"
          ],
          "name": "stdout"
        }
      ]
    },
    {
      "cell_type": "code",
      "metadata": {
        "id": "m0PG_tVB7ta8"
      },
      "source": [
        "# == Q3: ==\n",
        "# Corre el experimento anterior 100 veces (quizás quieras comentar las impresiones parciales) y reporta\n",
        "# el promedio +- desviación estándar obtenido en la última época de cada corrida.\n",
        "# Debes reportar 3 promedios: para training, validation, y test sets\n",
        "# ¿Notas algún cambio significativo?\n",
        "ACC = np.zeros((100, 3))\n",
        "for ind in range(100):\n",
        "  perceptron = LPerceptron()\n",
        "  acc_history = perceptron.fit(x_train, y_train, n_epochs=30, lr=0.3, val_split=0.1)\n",
        "  ACC[ind, 0], ACC[ind, 1] = acc_history[-1]\n",
        "  y_test_hat = perceptron.predict(x_test)\n",
        "  ACC[ind, 2] = accuracy_score(y_test_hat, y_test)\n",
        "    \n",
        "print(f\"Training:\\t {ACC[:, 0].mean():6.4f} +- {ACC[:, 0].std():6.4f}\")\n",
        "print(f\"Validation:\\t {ACC[:, 1].mean():6.4f} +- {ACC[:, 1].std():6.4f}\")\n",
        "print(f\"Test:\\t\\t {ACC[:, 2].mean():6.4f} +- {ACC[:, 2].std():6.4f}\")"
      ],
      "execution_count": null,
      "outputs": []
    },
    {
      "cell_type": "code",
      "metadata": {
        "id": "rZr_5-kb7tbB"
      },
      "source": [
        "# == Q4: ==\n",
        "# Repite el experimento anterior pero ahora usando las 4 variables de los datos (en vez de sólo 2)\n",
        "# ¿Hubo algún cambio significativo en los resultados obtenidos?\n",
        "# ¿Por qué crees que fue esto?\n",
        "\n",
        "X = iris.data[:100]\n",
        "Y = iris.target[:100]\n",
        "x_train, x_test, y_train, y_test = train_test_split(X, Y, test_size=0.2)\n",
        "\n",
        "ACC = np.zeros((100, 3))\n",
        "for ind in range(100):\n",
        "  perceptron = LPerceptron()\n",
        "  acc_history = perceptron.fit(x_train, y_train, n_epochs=30, lr=0.3, val_split=0.1)\n",
        "  ACC[ind, 0], ACC[ind, 1] = acc_history[-1]\n",
        "  y_test_hat = perceptron.predict(x_test)\n",
        "  ACC[ind, 2] = accuracy_score(y_test_hat, y_test)\n",
        "    \n",
        "print(f\"Training:\\t {ACC[:, 0].mean():6.4f} +- {ACC[:, 0].std():6.4f}\")\n",
        "print(f\"Validation:\\t {ACC[:, 1].mean():6.4f} +- {ACC[:, 1].std():6.4f}\")\n",
        "print(f\"Test:\\t\\t {ACC[:, 2].mean():6.4f} +- {ACC[:, 2].std():6.4f}\")"
      ],
      "execution_count": null,
      "outputs": []
    },
    {
      "cell_type": "code",
      "metadata": {
        "id": "YepVzR4E7tbF"
      },
      "source": [
        "# == Q5: ==\n",
        "# Repite el experimento anterior pero ahora usando las 4 variables de las clases versicolor (1) y virginica (2)\n",
        "# ¿Hubo algún cambio significativo en los resultados obtenidos?\n",
        "# ¿Por qué crees que fue esto?\n",
        "# ¿Por qué si modificamos los datos, seguimos usando las mismas etiquetas: Y = iris.target[:100]?\n",
        "\n",
        "X = iris.data[50:]\n",
        "Y = iris.target[:100]\n",
        "x_train, x_test, y_train, y_test = train_test_split(X, Y, test_size=0.2)\n",
        "\n",
        "ACC = np.zeros((100, 3))\n",
        "for ind in range(100):\n",
        "  perceptron = LPerceptron()\n",
        "  acc_history = perceptron.fit(x_train, y_train, n_epochs=50, lr=0.3, val_split=0.1)\n",
        "  ACC[ind, 0], ACC[ind, 1] = acc_history[-1]\n",
        "  y_test_hat = perceptron.predict(x_test)\n",
        "  ACC[ind, 2] = accuracy_score(y_test_hat, y_test)\n",
        "    \n",
        "print(f\"Training:\\t {ACC[:, 0].mean():6.4f} +- {ACC[:, 0].std():6.4f}\")\n",
        "print(f\"Validation:\\t {ACC[:, 1].mean():6.4f} +- {ACC[:, 1].std():6.4f}\")\n",
        "print(f\"Test:\\t\\t {ACC[:, 2].mean():6.4f} +- {ACC[:, 2].std():6.4f}\")"
      ],
      "execution_count": null,
      "outputs": []
    },
    {
      "cell_type": "markdown",
      "metadata": {
        "id": "FKKw7jsm7tbL"
      },
      "source": [
        "# Part 3: Non-linear (sigmoid) Perceptron"
      ]
    },
    {
      "cell_type": "code",
      "metadata": {
        "id": "qqpjr_lp7tbN"
      },
      "source": [
        "# == Q6: ==\n",
        "# Completa el siguiente código del perceptron no lineal (sigmoide)"
      ],
      "execution_count": null,
      "outputs": []
    },
    {
      "cell_type": "code",
      "metadata": {
        "id": "L-cSy1h57tbQ"
      },
      "source": [
        "# Define class perceptron\n",
        "class Perceptron:\n",
        "  #constructor\n",
        "  def __init__ (self):\n",
        "    self.W = None\n",
        "    self.b = None\n",
        "  \n",
        "  #total neuron input\n",
        "  def lin_sum(self, X):\n",
        "    return np.dot(self.W, X) + self.b\n",
        "  \n",
        "  #activation (sigmoid)\n",
        "  def sigmoid(self, s):\n",
        "    return 1.0 / (1.0 + np.exp(-s))\n",
        "  \n",
        "  #derivative of activation (sigmoid)\n",
        "  def d_sigmoid(self, s):\n",
        "    return self.sigmoid(s) * (1.0 - self.sigmoid(s))\n",
        "  \n",
        "  #predict on data\n",
        "  def predict(self, X):\n",
        "    Y = []\n",
        "    for x in X:\n",
        "      s = self.lin_sum(x)\n",
        "      y = self.sigmoid(s)\n",
        "      Y.append(y)\n",
        "    return np.array(Y)\n",
        "\n",
        "  #train\n",
        "  def fit(self, X, Y, n_epochs=1, lr=0.1, val_split=0.1):\n",
        "    x_train, x_val, y_train, y_val = train_test_split(X, Y, test_size=val_split)\n",
        "    \n",
        "    self.W = np.random.rand(X.shape[1])\n",
        "    self.b = 0.0\n",
        "    \n",
        "    accuracy = np.zeros((2,))\n",
        "    accuracy[0] = accuracy_score(y_train, self.predict(x_train).round())\n",
        "    accuracy[1] = accuracy_score(y_val, self.predict(x_val).round())\n",
        "    #print(f\"Epoch: {0:3d} -- acc: {accuracy[0]:6.4f}, acc_val: {accuracy[1]:6.4f}\")\n",
        "    \n",
        "    accuracy = np.zeros((n_epochs, 2))\n",
        "    for epoch in range(n_epochs): #loop through epochs\n",
        "      for x, y in zip(x_train, y_train):  #loop through samples\n",
        "        # Forward pass\n",
        "        s = self.lin_sum(x)\n",
        "        y_hat = self.sigmoid(s)\n",
        "        # Backward pass\n",
        "        err = y - y_hat\n",
        "        self.W = # AQUI TU CODIGO\n",
        "        self.b = # AQUI TU CODIGO\n",
        "      accuracy[epoch, 0] = accuracy_score(y_train, self.predict(x_train).round())\n",
        "      accuracy[epoch, 1] = accuracy_score(y_val, self.predict(x_val).round())\n",
        "      #print(f\"Epoch: {epoch+1:3d} -- acc: {accuracy[epoch, 0]:6.4f}, acc_val: {accuracy[epoch, 1]:6.4f}\")\n",
        "        \n",
        "    return accuracy"
      ],
      "execution_count": null,
      "outputs": []
    },
    {
      "cell_type": "code",
      "metadata": {
        "id": "Z7nfJeba7tbV"
      },
      "source": [
        "# == Q7: ==\n",
        "# Repite el experimento anterior usando las 4 variables de las clases versicolor (1) y virginica (2),\n",
        "# pero ahora usando el Perceptron logístico\n",
        "# ¿Hubo algún cambio significativo en los resultados obtenidos?\n",
        "# ¿Por qué crees que fue esto?\n",
        "\n",
        "X = iris.data[50:]\n",
        "Y = iris.target[:100]\n",
        "x_train, x_test, y_train, y_test = train_test_split(X, Y, test_size=0.2)\n",
        "\n",
        "ACC = np.zeros((100, 3))\n",
        "for ind in range(100):\n",
        "  perceptron = Perceptron()\n",
        "  acc_history = perceptron.fit(x_train, y_train, n_epochs=50, lr=0.3, val_split=0.1)\n",
        "  ACC[ind, 0], ACC[ind, 1] = acc_history[-1]\n",
        "  y_test_hat = perceptron.predict(x_test)\n",
        "  ACC[ind, 2] = accuracy_score(y_test, y_test_hat.round())\n",
        "    \n",
        "print(f\"Training:\\t {ACC[:, 0].mean():6.4f} +- {ACC[:, 0].std():6.4f}\")\n",
        "print(f\"Validation:\\t {ACC[:, 1].mean():6.4f} +- {ACC[:, 1].std():6.4f}\")\n",
        "print(f\"Test:\\t\\t {ACC[:, 2].mean():6.4f} +- {ACC[:, 2].std():6.4f}\")"
      ],
      "execution_count": null,
      "outputs": []
    },
    {
      "cell_type": "markdown",
      "metadata": {
        "id": "SgqSqFHUuME_"
      },
      "source": [
        "# Part 4: Sklearn Perceptron"
      ]
    },
    {
      "cell_type": "code",
      "metadata": {
        "id": "I0fUQU9TvlH6"
      },
      "source": [
        "x_train, x_test, y_train, y_test = train_test_split(X, Y, test_size=0.2)\n",
        "x_train, x_val, y_train, y_val = train_test_split(x_train, y_train, test_size=0.1)"
      ],
      "execution_count": null,
      "outputs": []
    },
    {
      "cell_type": "code",
      "metadata": {
        "id": "BSxIf7I07tbe",
        "colab": {
          "base_uri": "https://localhost:8080/"
        },
        "outputId": "7cd85ea8-2c2a-47ed-bd3d-b710d0f3b299"
      },
      "source": [
        "from sklearn.linear_model import Perceptron\n",
        "sk_perceptron = Perceptron(max_iter=50, eta0=0.3)\n",
        "sk_perceptron.fit(x_train, y_train)"
      ],
      "execution_count": null,
      "outputs": [
        {
          "output_type": "execute_result",
          "data": {
            "text/plain": [
              "Perceptron(alpha=0.0001, class_weight=None, early_stopping=False, eta0=0.3,\n",
              "           fit_intercept=True, max_iter=50, n_iter_no_change=5, n_jobs=None,\n",
              "           penalty=None, random_state=0, shuffle=True, tol=0.001,\n",
              "           validation_fraction=0.1, verbose=0, warm_start=False)"
            ]
          },
          "metadata": {
            "tags": []
          },
          "execution_count": 22
        }
      ]
    },
    {
      "cell_type": "code",
      "metadata": {
        "colab": {
          "base_uri": "https://localhost:8080/"
        },
        "id": "H15JJ99AuXIf",
        "outputId": "d4e8f388-3947-4dee-a41d-1056d8158393"
      },
      "source": [
        "print(f\"Training:\\t {sk_perceptron.score(x_train, y_train):.4f}\")\n",
        "print(f\"Validation:\\t {sk_perceptron.score(x_val, y_val):.4f}\")\n",
        "print(f\"Test:\\t\\t {sk_perceptron.score(x_test, y_test):.4f}\")"
      ],
      "execution_count": null,
      "outputs": [
        {
          "output_type": "stream",
          "text": [
            "Training:\t 0.9861\n",
            "Validation:\t 1.0000\n",
            "Test:\t\t 0.9500\n"
          ],
          "name": "stdout"
        }
      ]
    },
    {
      "cell_type": "code",
      "metadata": {
        "id": "RKPdnP3wuyhx"
      },
      "source": [
        ""
      ],
      "execution_count": null,
      "outputs": []
    }
  ]
}
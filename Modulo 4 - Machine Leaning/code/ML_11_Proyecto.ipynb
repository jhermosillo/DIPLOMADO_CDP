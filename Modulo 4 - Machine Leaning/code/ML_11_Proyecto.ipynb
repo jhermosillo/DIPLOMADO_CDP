{
  "nbformat": 4,
  "nbformat_minor": 0,
  "metadata": {
    "colab": {
      "name": "ML_11_Proyecto.ipynb",
      "provenance": [],
      "collapsed_sections": [],
      "authorship_tag": "ABX9TyObmEstcjyj0FG+JqWNop9L",
      "include_colab_link": true
    },
    "kernelspec": {
      "name": "python3",
      "display_name": "Python 3"
    },
    "language_info": {
      "name": "python"
    }
  },
  "cells": [
    {
      "cell_type": "markdown",
      "metadata": {
        "id": "view-in-github",
        "colab_type": "text"
      },
      "source": [
        "<a href=\"https://colab.research.google.com/github/jhermosillo/DIPLOMADO_CDP/blob/main/Modulo%204%20-%20Machine%20Leaning/code/ML_11_Proyecto.ipynb\" target=\"_parent\"><img src=\"https://colab.research.google.com/assets/colab-badge.svg\" alt=\"Open In Colab\"/></a>"
      ]
    },
    {
      "cell_type": "code",
      "metadata": {
        "id": "UEIItQ8nxeIg"
      },
      "source": [
        "# Objetivo:\n",
        "# Deben diseñar un producto de aprendizaje de máquina que reduzca la\n",
        "# dimensionalidad de los datos proporcionados, y después los clasifique correctamente.\n",
        "# -- Los datos proporcionados corresponden al análisis de características de\n",
        "# equipos celulares. Inicialmente consta de 44 variables, incluyedo: battery_power,\n",
        "#\tbluetooth, clock_speed, dual_sim, fc, four_g, int_memory, m_dep, mobile_wt,\n",
        "#\tn_cores, pc, px_height, px_width, ram, sc_h, sc_w, talk_time, three_g, touch_screen\n",
        "#\twifi. Más otras 23 variables anónimas. Algunas variables pueden ser irrelevantes\n",
        "# para la tarea de clasificación, o incluso pueden estar repetidas.\n",
        "# -- Las etiquetas de salida corresponden a 4 posibles clases, asociadas al precio\n",
        "# de los equipos, las cuales van de 0 para los más baratos, hasta 3 para los más caros.\n",
        "# -- Deberan dividir el set de datos proporcionado entre entrenamiento y validación.\n",
        "# -- El set de test no lo verán. Ese lo tengo yo para la evaluación final.\n",
        "# -- Su tarea consiste en evaluar distintos modelos de reducción de dimensionalidad y\n",
        "# de clasificación, y elegir la mejor combinación. Evalúen los vistos en clase, u\n",
        "# otros existentes en sklearn.\n",
        "# -- Traten de reducir el sobre ajuste tanto como sea posible, eso aumentará las\n",
        "# probabilidades de que cuando yo aplique sus modelos al set de test, los resultados\n",
        "# tengan desempeño comparable.\n",
        "# -- La evaluación considerará el desempeño de sus modelos en el set de test, y la\n",
        "# tasa de reducción en la dimensionalidad del vector: entre más corto mejor. Es decir,\n",
        "# deben encontrar un compromiso entre tener un vector corto y uno que tenga el \n",
        "# mejor desempeño de clasificación."
      ],
      "execution_count": null,
      "outputs": []
    },
    {
      "cell_type": "code",
      "metadata": {
        "id": "nmlflvqt2uR2"
      },
      "source": [
        "# Este notebook contiene un ejemplo con PCA y KNN, el cual obtiene desempeño muy\n",
        "# limitado, pero sirve como punto de partida."
      ],
      "execution_count": null,
      "outputs": []
    },
    {
      "cell_type": "code",
      "metadata": {
        "id": "ZDmVA34yz4xY"
      },
      "source": [
        "# Entrega: será en dos partes.\n",
        "# -- 1) Por equipo, hasta 5 personas, enviar su código y sus modelos pre-etrenados\n",
        "# (yo cargaré los modelos y los correré sobre el set de test que tengo). Pueden\n",
        "# formar los equipos libremente.\n",
        "# -- 2) De manera individual, deberán enviar por correo, un PDF con las respuestas\n",
        "#  a las preguntas que aparecen en este notebook.Las preguntas aparecen indicadas\n",
        "# como \"== QN ==\", donde N es el número de la pregunta, ejemplo: == Q1 == para la\n",
        "# pregunta 1.\n",
        "# -- El plazo para la entrega será el sábado 29 de mayo."
      ],
      "execution_count": null,
      "outputs": []
    },
    {
      "cell_type": "code",
      "metadata": {
        "id": "xqH59xW43RmV"
      },
      "source": [
        "# Recuerden que la documentación de sklearn puede ser un gran recurso."
      ],
      "execution_count": null,
      "outputs": []
    },
    {
      "cell_type": "code",
      "metadata": {
        "id": "6UKVqmgkxWzV"
      },
      "source": [
        "# Put here your imports\n",
        "import numpy as np\n",
        "import matplotlib.pyplot as plt\n",
        "\n",
        "from sklearn.model_selection import train_test_split\n",
        "from sklearn.decomposition import PCA\n",
        "from sklearn.neighbors import KNeighborsClassifier\n",
        "from sklearn.metrics import confusion_matrix, ConfusionMatrixDisplay\n",
        "from joblib import dump, load"
      ],
      "execution_count": 1,
      "outputs": []
    },
    {
      "cell_type": "markdown",
      "metadata": {
        "id": "357jZT8rnSmM"
      },
      "source": [
        "# Part 0: Load data (provided)"
      ]
    },
    {
      "cell_type": "code",
      "metadata": {
        "colab": {
          "base_uri": "https://localhost:8080/"
        },
        "id": "EX66APQwmgdQ",
        "outputId": "f2d49c7d-f2c4-4d74-c82b-8c53c51f659a"
      },
      "source": [
        "# Load zipped data, and see names of variables\n",
        "npz_loaded = np.load(\"train_data.npz\")\n",
        "print(sorted(npz_loaded.files))"
      ],
      "execution_count": 2,
      "outputs": [
        {
          "output_type": "stream",
          "text": [
            "['x', 'y']\n"
          ],
          "name": "stdout"
        }
      ]
    },
    {
      "cell_type": "code",
      "metadata": {
        "colab": {
          "base_uri": "https://localhost:8080/"
        },
        "id": "l2bY46Oamgq8",
        "outputId": "5f34ec99-4d40-436a-d1b4-b42bd7f415fd"
      },
      "source": [
        "# Extract data into individual variables\n",
        "x_train = npz_loaded['x']\n",
        "y_train = npz_loaded['y']\n",
        "\n",
        "print(x_train.shape)\n",
        "print(y_train.shape)"
      ],
      "execution_count": 3,
      "outputs": [
        {
          "output_type": "stream",
          "text": [
            "(1800, 44)\n",
            "(1800,)\n"
          ],
          "name": "stdout"
        }
      ]
    },
    {
      "cell_type": "code",
      "metadata": {
        "colab": {
          "base_uri": "https://localhost:8080/"
        },
        "id": "to67AvvkoX7U",
        "outputId": "6c8e2cad-5b1c-4c7c-fa07-3f138d8ce121"
      },
      "source": [
        "# Split data into training and validation sets\n",
        "x_train, x_val, y_train, y_val = train_test_split(x_train, y_train, test_size=0.2)\n",
        "\n",
        "print(x_train.shape)\n",
        "print(y_train.shape)\n",
        "print(x_val.shape)\n",
        "print(y_val.shape)"
      ],
      "execution_count": 4,
      "outputs": [
        {
          "output_type": "stream",
          "text": [
            "(1440, 44)\n",
            "(1440,)\n",
            "(360, 44)\n",
            "(360,)\n"
          ],
          "name": "stdout"
        }
      ]
    },
    {
      "cell_type": "code",
      "metadata": {
        "id": "uUgMVT6szJZC"
      },
      "source": [
        "# == Q1 ==: En la celda anterior, elige y justifica el procentaje de datos utilizado\n",
        "# para el set de validación."
      ],
      "execution_count": null,
      "outputs": []
    },
    {
      "cell_type": "markdown",
      "metadata": {
        "id": "uASp4u6UnYi8"
      },
      "source": [
        "# Part 1: Dimensionality reduction"
      ]
    },
    {
      "cell_type": "code",
      "metadata": {
        "colab": {
          "base_uri": "https://localhost:8080/"
        },
        "id": "OHTQ_B9angni",
        "outputId": "669e6483-c40d-46ec-8130-38b1402642a9"
      },
      "source": [
        "# Identify the most relevant variables and perform dimensionality reduction\n",
        "# Hint: you can try out methdos like PCA, t-SNE, etc.\n",
        "reduce_model = PCA(n_components=2).fit(x_train)\n",
        "\n",
        "x_train_R = reduce_model.transform(x_train)\n",
        "x_val_R = reduce_model.transform(x_val)\n",
        "\n",
        "print(x_train_R.shape)\n",
        "print(x_val_R.shape)"
      ],
      "execution_count": 5,
      "outputs": [
        {
          "output_type": "stream",
          "text": [
            "(1440, 2)\n",
            "(360, 2)\n"
          ],
          "name": "stdout"
        }
      ]
    },
    {
      "cell_type": "code",
      "metadata": {
        "id": "XarwCBzv0yMO"
      },
      "source": [
        "# == Q2 ==: En la celda anterior, justifica el modelo seleccionado para reducir\n",
        "# la dimensionalidad de los datos."
      ],
      "execution_count": null,
      "outputs": []
    },
    {
      "cell_type": "markdown",
      "metadata": {
        "id": "IPqVpxZrrhbz"
      },
      "source": [
        "# Part 2: Classification"
      ]
    },
    {
      "cell_type": "code",
      "metadata": {
        "colab": {
          "base_uri": "https://localhost:8080/"
        },
        "id": "jBkgn59OnhEi",
        "outputId": "2bfc3010-9bb7-4e9d-c621-5527e3f32676"
      },
      "source": [
        "# Select a classification model, and use your compressed data to train it\n",
        "# Hints: you might use grid search. You can try out models like, KNN, Naive Bayes,\n",
        "# Perceptron, Logistic regression, SVM, Decision trees, Random forest, Bagging, etc.\n",
        "class_model = KNeighborsClassifier().fit(x_train_R, y_train)\n",
        "\n",
        "print(f\"Training mean accuracy: {class_model.score(x_train_R, y_train):6.4f}\")\n",
        "print(f\"Validation mean accuracy: {class_model.score(x_val_R, y_val):6.4f}\")"
      ],
      "execution_count": 6,
      "outputs": [
        {
          "output_type": "stream",
          "text": [
            "Training mean accuracy: 0.8368\n",
            "Validation mean accuracy: 0.7833\n"
          ],
          "name": "stdout"
        }
      ]
    },
    {
      "cell_type": "code",
      "metadata": {
        "colab": {
          "base_uri": "https://localhost:8080/",
          "height": 297
        },
        "id": "fbkmF12ar_59",
        "outputId": "71a06b08-956f-41c7-dd9d-b8c75188f472"
      },
      "source": [
        "# Plot confusion matrix of best model on the training set\n",
        "y_train_hat = class_model.predict(x_train_R)\n",
        "CM = confusion_matrix(y_train, y_train_hat, labels=class_model.classes_)\n",
        "disp = ConfusionMatrixDisplay(confusion_matrix=CM, display_labels=class_model.classes_)\n",
        "disp.plot()"
      ],
      "execution_count": 7,
      "outputs": [
        {
          "output_type": "execute_result",
          "data": {
            "text/plain": [
              "<sklearn.metrics._plot.confusion_matrix.ConfusionMatrixDisplay at 0x7f201df88b50>"
            ]
          },
          "metadata": {
            "tags": []
          },
          "execution_count": 7
        },
        {
          "output_type": "display_data",
          "data": {
            "image/png": "[encoded data removed]",
            "text/plain": [
              "<Figure size 432x288 with 2 Axes>"
            ]
          },
          "metadata": {
            "tags": [],
            "needs_background": "light"
          }
        }
      ]
    },
    {
      "cell_type": "code",
      "metadata": {
        "colab": {
          "base_uri": "https://localhost:8080/",
          "height": 297
        },
        "id": "uvNniCOssAKm",
        "outputId": "b4584547-fdfe-4a6f-af82-a2186d8953a0"
      },
      "source": [
        "# Plot confusion matrix of best model on the validation set\n",
        "y_val_hat = class_model.predict(x_val_R)\n",
        "CM = confusion_matrix(y_val, y_val_hat, labels=class_model.classes_)\n",
        "disp = ConfusionMatrixDisplay(confusion_matrix=CM, display_labels=class_model.classes_)\n",
        "disp.plot()"
      ],
      "execution_count": 8,
      "outputs": [
        {
          "output_type": "execute_result",
          "data": {
            "text/plain": [
              "<sklearn.metrics._plot.confusion_matrix.ConfusionMatrixDisplay at 0x7f201163a1d0>"
            ]
          },
          "metadata": {
            "tags": []
          },
          "execution_count": 8
        },
        {
          "output_type": "display_data",
          "data": {
            "image/png": "[encoded data removed]",
            "text/plain": [
              "<Figure size 432x288 with 2 Axes>"
            ]
          },
          "metadata": {
            "tags": [],
            "needs_background": "light"
          }
        }
      ]
    },
    {
      "cell_type": "code",
      "metadata": {
        "id": "-1yOXpTz1AN7"
      },
      "source": [
        "# == Q3 ==: De las celdas anteriores, justifica el modelo seleccionado para \n",
        "# clasificación."
      ],
      "execution_count": null,
      "outputs": []
    },
    {
      "cell_type": "markdown",
      "metadata": {
        "id": "ge2eukFCtgyV"
      },
      "source": [
        "# Part 3: save best models to disk"
      ]
    },
    {
      "cell_type": "code",
      "metadata": {
        "colab": {
          "base_uri": "https://localhost:8080/"
        },
        "id": "KMnQVi9zsAWR",
        "outputId": "8983f42e-44f5-4635-bb91-68a295975cde"
      },
      "source": [
        "# Save reduction and classification models to disk\n",
        "dump(reduce_model, 'reduction_model.joblib')\n",
        "dump(class_model, 'classification_model.joblib')"
      ],
      "execution_count": 9,
      "outputs": [
        {
          "output_type": "execute_result",
          "data": {
            "text/plain": [
              "['classification_model.joblib']"
            ]
          },
          "metadata": {
            "tags": []
          },
          "execution_count": 9
        }
      ]
    },
    {
      "cell_type": "markdown",
      "metadata": {
        "id": "W_dBHyaouVox"
      },
      "source": [
        "# Part 4: final evaluation on the test set"
      ]
    },
    {
      "cell_type": "code",
      "metadata": {
        "id": "QxF1saFv1Mxj"
      },
      "source": [
        "# Esta será la parte de evaluación grupal que yo realizaré."
      ],
      "execution_count": null,
      "outputs": []
    },
    {
      "cell_type": "code",
      "metadata": {
        "id": "zjxfR0ZpsAjC"
      },
      "source": [
        "# Load models\n",
        "reduce_model = load('reduction_model.joblib')\n",
        "class_model = load('classification_model.joblib')"
      ],
      "execution_count": 10,
      "outputs": []
    },
    {
      "cell_type": "code",
      "metadata": {
        "colab": {
          "base_uri": "https://localhost:8080/"
        },
        "id": "88kERj_Xuyb6",
        "outputId": "7f7f58ac-af96-4e42-f9a1-6fa24bd1af2a"
      },
      "source": [
        "# Load test data\n",
        "npz_loaded = np.load(\"test_data.npz\")\n",
        "print(sorted(npz_loaded.files))\n",
        "\n",
        "x_test = npz_loaded['x']\n",
        "y_test = npz_loaded['y']\n",
        "\n",
        "print(x_test.shape)\n",
        "print(y_test.shape)"
      ],
      "execution_count": 11,
      "outputs": [
        {
          "output_type": "stream",
          "text": [
            "['x', 'y']\n",
            "(200, 44)\n",
            "(200,)\n"
          ],
          "name": "stdout"
        }
      ]
    },
    {
      "cell_type": "code",
      "metadata": {
        "colab": {
          "base_uri": "https://localhost:8080/"
        },
        "id": "ILwf1yl3vDWY",
        "outputId": "98006a4d-7dd7-42d6-ad16-3378da603c0a"
      },
      "source": [
        "# Apply reduction and classification\n",
        "x_test_R = reduce_model.transform(x_test)\n",
        "print(x_test_R.shape)\n",
        "\n",
        "print(f\"Training mean accuracy: {class_model.score(x_test_R, y_test):6.4f}\")"
      ],
      "execution_count": 12,
      "outputs": [
        {
          "output_type": "stream",
          "text": [
            "(200, 2)\n",
            "Training mean accuracy: 0.8200\n"
          ],
          "name": "stdout"
        }
      ]
    },
    {
      "cell_type": "code",
      "metadata": {
        "colab": {
          "base_uri": "https://localhost:8080/",
          "height": 301
        },
        "id": "8LHeLxS2nhQi",
        "outputId": "4648522e-803a-4377-d8fe-088f4e3b00f6"
      },
      "source": [
        "# Plot confusion matrix of best model on the validation set\n",
        "y_test_hat = class_model.predict(x_test_R)\n",
        "CM = confusion_matrix(y_test, y_test_hat, labels=class_model.classes_)\n",
        "disp = ConfusionMatrixDisplay(confusion_matrix=CM, display_labels=class_model.classes_)\n",
        "disp.plot()"
      ],
      "execution_count": 13,
      "outputs": [
        {
          "output_type": "execute_result",
          "data": {
            "text/plain": [
              "<sklearn.metrics._plot.confusion_matrix.ConfusionMatrixDisplay at 0x7f2011713090>"
            ]
          },
          "metadata": {
            "tags": []
          },
          "execution_count": 13
        },
        {
          "output_type": "display_data",
          "data": {
            "image/png": "[encoded data removed]",
            "text/plain": [
              "<Figure size 432x288 with 2 Axes>"
            ]
          },
          "metadata": {
            "tags": [],
            "needs_background": "light"
          }
        }
      ]
    },
    {
      "cell_type": "code",
      "metadata": {
        "id": "vXdJIF6O1aYG"
      },
      "source": [
        ""
      ],
      "execution_count": null,
      "outputs": []
    }
  ]
}
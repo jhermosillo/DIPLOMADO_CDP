{
  "nbformat": 4,
  "nbformat_minor": 0,
  "metadata": {
    "colab": {
      "name": "ML_10_BoW.ipynb",
      "provenance": [],
      "collapsed_sections": [],
      "authorship_tag": "ABX9TyM5hsKioJ9RLpiuvz5Dhlj7",
      "include_colab_link": true
    },
    "kernelspec": {
      "name": "python3",
      "display_name": "Python 3"
    },
    "language_info": {
      "name": "python"
    }
  },
  "cells": [
    {
      "cell_type": "markdown",
      "metadata": {
        "id": "view-in-github",
        "colab_type": "text"
      },
      "source": [
        "<a href=\"https://colab.research.google.com/github/jhermosillo/DIPLOMADO_CDP/blob/main/Modulo%204%20-%20Machine%20Leaning/code/ML_10_BoW.ipynb\" target=\"_parent\"><img src=\"https://colab.research.google.com/assets/colab-badge.svg\" alt=\"Open In Colab\"/></a>"
      ]
    },
    {
      "cell_type": "code",
      "metadata": {
        "id": "VabcFkeRQO9R"
      },
      "source": [
        "import numpy as np\n",
        "import pandas as pd\n",
        "import matplotlib.pyplot as plt\n",
        "import re\n",
        "\n",
        "from sklearn.model_selection import train_test_split\n",
        "from sklearn.feature_extraction.text import CountVectorizer"
      ],
      "execution_count": null,
      "outputs": []
    },
    {
      "cell_type": "code",
      "metadata": {
        "colab": {
          "base_uri": "https://localhost:8080/"
        },
        "id": "fvMukWhfRQib",
        "outputId": "50a01873-e216-46a0-d1b7-18ed6708c26f"
      },
      "source": [
        "import nltk\n",
        "nltk.download('stopwords')\n",
        "\n",
        "from nltk.corpus import stopwords\n",
        "from nltk.stem import PorterStemmer"
      ],
      "execution_count": null,
      "outputs": [
        {
          "output_type": "stream",
          "text": [
            "[nltk_data] Downloading package stopwords to /root/nltk_data...\n",
            "[nltk_data]   Package stopwords is already up-to-date!\n"
          ],
          "name": "stdout"
        }
      ]
    },
    {
      "cell_type": "code",
      "metadata": {
        "colab": {
          "base_uri": "https://localhost:8080/"
        },
        "id": "4g9HKY9ZYVzS",
        "outputId": "249a3ece-20ab-45b5-fea6-3da1d9471923"
      },
      "source": [
        "# Carga un set de stopwords predefinidas\n",
        "STOPWORDS = set(stopwords.words('english'))\n",
        "print(STOPWORDS)"
      ],
      "execution_count": null,
      "outputs": [
        {
          "output_type": "stream",
          "text": [
            "{'they', 'don', 's', 'most', 'should', 'out', 'was', 've', \"hadn't\", 'as', 'a', 'under', 'now', \"won't\", 'is', 'into', 'doing', 'wasn', \"you're\", 'by', 'about', 'more', 'other', \"mightn't\", 'it', 'to', 'you', 'over', 'this', 'between', 'can', 'having', 'ourselves', 'needn', 'until', \"you'd\", 'been', \"hasn't\", 'him', 'doesn', 'each', 'whom', 'were', 'couldn', 'from', 'them', 'but', 'here', 'through', 'do', 'all', 'there', 'some', 'further', 'any', 'being', 'am', 'too', 'mightn', 'yours', 'which', 'd', 'the', 'his', 'isn', 'does', 'after', 'hasn', 'theirs', 'so', 'how', 'few', \"needn't\", 't', 'not', 'won', 'itself', 'who', 'we', 'why', 'than', 'i', 'again', 'such', 're', 'yourselves', 'these', \"aren't\", 'above', \"wasn't\", 'no', 'just', \"didn't\", \"that'll\", 'and', 'has', 'with', \"it's\", \"wouldn't\", 'herself', 'both', \"shan't\", 'wouldn', 'if', 'shan', 'she', 'didn', \"don't\", 'when', 'myself', 'or', 'for', 'that', 'then', \"couldn't\", 'their', 'her', 'its', 'are', 'against', 'because', \"you've\", 'on', 'me', 'had', 'ours', 'haven', \"you'll\", 'those', 'own', \"doesn't\", 'he', 'ain', 'of', 'hadn', 'what', 'mustn', 'be', 'ma', 'will', 'my', 'up', \"weren't\", 'in', \"she's\", 'll', 'before', 'off', 'themselves', 'very', 'm', 'y', \"mustn't\", 'at', 'have', \"isn't\", 'same', 'o', 'aren', 'down', 'yourself', 'shouldn', 'while', 'only', 'our', 'below', 'did', \"shouldn't\", 'your', 'an', 'nor', 'once', 'during', 'hers', 'himself', 'weren', \"should've\", \"haven't\", 'where'}\n"
          ],
          "name": "stdout"
        }
      ]
    },
    {
      "cell_type": "code",
      "metadata": {
        "id": "qQlXKfIDRzMm"
      },
      "source": [
        "TAG_RE = re.compile(r'<[^>]+>')\n",
        "def preprocess_text(sen):\n",
        "  \"\"\" Function to preprocess text data\n",
        "  \"\"\"\n",
        "  sentence = TAG_RE.sub('', sen) # html tags\n",
        "  sentence = re.sub('[^a-zA-Z]', ' ', sentence) # punctuations and numbers\n",
        "  sentence = re.sub(r\"\\s+[a-zA-Z]\\s+\", ' ', sentence) # single character\n",
        "  sentence = re.sub(r'\\s+', ' ', sentence) # multiple spaces\n",
        "  sentence = sentence.lower()\n",
        "  sentence = ' '.join(w for w in sentence.split() if w not in STOPWORDS)\n",
        "  return sentence"
      ],
      "execution_count": null,
      "outputs": []
    },
    {
      "cell_type": "code",
      "metadata": {
        "colab": {
          "base_uri": "https://localhost:8080/",
          "height": 423
        },
        "id": "SBWcqfJYQV6I",
        "outputId": "acb21f51-c8fe-436e-ec8e-6633c58cc64a"
      },
      "source": [
        "# Load data and remove empty entries\n",
        "movie_reviews = pd.read_csv(\"IMDB_Dataset.csv\")\n",
        "movie_reviews.dropna(inplace=True)\n",
        "movie_reviews = movie_reviews[:20000] # Let's use 5k only\n",
        "movie_reviews"
      ],
      "execution_count": null,
      "outputs": [
        {
          "output_type": "execute_result",
          "data": {
            "text/html": [
              "<div>\n",
              "<style scoped>\n",
              "    .dataframe tbody tr th:only-of-type {\n",
              "        vertical-align: middle;\n",
              "    }\n",
              "\n",
              "    .dataframe tbody tr th {\n",
              "        vertical-align: top;\n",
              "    }\n",
              "\n",
              "    .dataframe thead th {\n",
              "        text-align: right;\n",
              "    }\n",
              "</style>\n",
              "<table border=\"1\" class=\"dataframe\">\n",
              "  <thead>\n",
              "    <tr style=\"text-align: right;\">\n",
              "      <th></th>\n",
              "      <th>review</th>\n",
              "      <th>sentiment</th>\n",
              "    </tr>\n",
              "  </thead>\n",
              "  <tbody>\n",
              "    <tr>\n",
              "      <th>0</th>\n",
              "      <td>One of the other reviewers has mentioned that ...</td>\n",
              "      <td>positive</td>\n",
              "    </tr>\n",
              "    <tr>\n",
              "      <th>1</th>\n",
              "      <td>A wonderful little production. &lt;br /&gt;&lt;br /&gt;The...</td>\n",
              "      <td>positive</td>\n",
              "    </tr>\n",
              "    <tr>\n",
              "      <th>2</th>\n",
              "      <td>I thought this was a wonderful way to spend ti...</td>\n",
              "      <td>positive</td>\n",
              "    </tr>\n",
              "    <tr>\n",
              "      <th>3</th>\n",
              "      <td>Basically there's a family where a little boy ...</td>\n",
              "      <td>negative</td>\n",
              "    </tr>\n",
              "    <tr>\n",
              "      <th>4</th>\n",
              "      <td>Petter Mattei's \"Love in the Time of Money\" is...</td>\n",
              "      <td>positive</td>\n",
              "    </tr>\n",
              "    <tr>\n",
              "      <th>...</th>\n",
              "      <td>...</td>\n",
              "      <td>...</td>\n",
              "    </tr>\n",
              "    <tr>\n",
              "      <th>19995</th>\n",
              "      <td>ok. for starters, taxi driver is amazing. this...</td>\n",
              "      <td>negative</td>\n",
              "    </tr>\n",
              "    <tr>\n",
              "      <th>19996</th>\n",
              "      <td>It's sort of hard for me to say it, because I ...</td>\n",
              "      <td>negative</td>\n",
              "    </tr>\n",
              "    <tr>\n",
              "      <th>19997</th>\n",
              "      <td>I still liked it though. Warren Beatty is only...</td>\n",
              "      <td>positive</td>\n",
              "    </tr>\n",
              "    <tr>\n",
              "      <th>19998</th>\n",
              "      <td>We could still use Black Adder even today. Ima...</td>\n",
              "      <td>positive</td>\n",
              "    </tr>\n",
              "    <tr>\n",
              "      <th>19999</th>\n",
              "      <td>This so-called \"documentary\" tries to tell tha...</td>\n",
              "      <td>negative</td>\n",
              "    </tr>\n",
              "  </tbody>\n",
              "</table>\n",
              "<p>20000 rows × 2 columns</p>\n",
              "</div>"
            ],
            "text/plain": [
              "                                                  review sentiment\n",
              "0      One of the other reviewers has mentioned that ...  positive\n",
              "1      A wonderful little production. <br /><br />The...  positive\n",
              "2      I thought this was a wonderful way to spend ti...  positive\n",
              "3      Basically there's a family where a little boy ...  negative\n",
              "4      Petter Mattei's \"Love in the Time of Money\" is...  positive\n",
              "...                                                  ...       ...\n",
              "19995  ok. for starters, taxi driver is amazing. this...  negative\n",
              "19996  It's sort of hard for me to say it, because I ...  negative\n",
              "19997  I still liked it though. Warren Beatty is only...  positive\n",
              "19998  We could still use Black Adder even today. Ima...  positive\n",
              "19999  This so-called \"documentary\" tries to tell tha...  negative\n",
              "\n",
              "[20000 rows x 2 columns]"
            ]
          },
          "metadata": {
            "tags": []
          },
          "execution_count": 3
        }
      ]
    },
    {
      "cell_type": "code",
      "metadata": {
        "colab": {
          "base_uri": "https://localhost:8080/"
        },
        "id": "EAUoe5cPQ9dd",
        "outputId": "1a6bceda-eb32-4e94-947b-ba08980db9e9"
      },
      "source": [
        "# Preprocess data\n",
        "sentences = [preprocess_text(sen) for sen in list(movie_reviews['review'])]\n",
        "\n",
        "print(movie_reviews.review[0])\n",
        "print(sentences[0])"
      ],
      "execution_count": null,
      "outputs": [
        {
          "output_type": "stream",
          "text": [
            "One of the other reviewers has mentioned that after watching just 1 Oz episode you'll be hooked. They are right, as this is exactly what happened with me.<br /><br />The first thing that struck me about Oz was its brutality and unflinching scenes of violence, which set in right from the word GO. Trust me, this is not a show for the faint hearted or timid. This show pulls no punches with regards to drugs, sex or violence. Its is hardcore, in the classic use of the word.<br /><br />It is called OZ as that is the nickname given to the Oswald Maximum Security State Penitentary. It focuses mainly on Emerald City, an experimental section of the prison where all the cells have glass fronts and face inwards, so privacy is not high on the agenda. Em City is home to many..Aryans, Muslims, gangstas, Latinos, Christians, Italians, Irish and more....so scuffles, death stares, dodgy dealings and shady agreements are never far away.<br /><br />I would say the main appeal of the show is due to the fact that it goes where other shows wouldn't dare. Forget pretty pictures painted for mainstream audiences, forget charm, forget romance...OZ doesn't mess around. The first episode I ever saw struck me as so nasty it was surreal, I couldn't say I was ready for it, but as I watched more, I developed a taste for Oz, and got accustomed to the high levels of graphic violence. Not just violence, but injustice (crooked guards who'll be sold out for a nickel, inmates who'll kill on order and get away with it, well mannered, middle class inmates being turned into prison bitches due to their lack of street skills or prison experience) Watching Oz, you may become comfortable with what is uncomfortable viewing....thats if you can get in touch with your darker side.\n",
            "one reviewers mentioned watching oz episode hooked right exactly happened first thing struck oz brutality unflinching scenes violence set right word go trust show faint hearted timid show pulls punches regards drugs sex violence hardcore classic use word called oz nickname given oswald maximum security state penitentary focuses mainly emerald city experimental section prison cells glass fronts face inwards privacy high agenda em city home many aryans muslims gangstas latinos christians italians irish scuffles death stares dodgy dealings shady agreements never far away would say main appeal show due fact goes shows dare forget pretty pictures painted mainstream audiences forget charm forget romance oz mess around first episode ever saw struck nasty surreal say ready watched developed taste oz got accustomed high levels graphic violence violence injustice crooked guards sold nickel inmates kill order get away well mannered middle class inmates turned prison bitches due lack street skills prison experience watching oz may become comfortable uncomfortable viewing thats get touch darker side\n"
          ],
          "name": "stdout"
        }
      ]
    },
    {
      "cell_type": "code",
      "metadata": {
        "colab": {
          "base_uri": "https://localhost:8080/"
        },
        "id": "uyYuMFQmZgo0",
        "outputId": "18715fe4-0a39-4cc8-f344-450e612fcc6a"
      },
      "source": [
        "# Print some info\n",
        "print(\"Number of sentences: \", len(sentences))\n",
        "print(\"Length of first sentence in characters: \", len(sentences[0]))\n",
        "print(\"Length of first sentence in words: \", len(sentences[0].split()))"
      ],
      "execution_count": null,
      "outputs": [
        {
          "output_type": "stream",
          "text": [
            "Number of sentences:  20000\n",
            "Length of first sentence in characters:  1103\n",
            "Length of first sentence in words:  162\n"
          ],
          "name": "stdout"
        }
      ]
    },
    {
      "cell_type": "code",
      "metadata": {
        "colab": {
          "base_uri": "https://localhost:8080/"
        },
        "id": "t-uI9ODUReXL",
        "outputId": "c2fbaa0d-5ba9-4763-ec35-d7578fb1880e"
      },
      "source": [
        "# Stemming\n",
        "stemmer = PorterStemmer()\n",
        "sentences = [' '.join(stemmer.stem(w) for w in sentence.split()) for sentence in sentences]\n",
        "\n",
        "print(sentences[0])"
      ],
      "execution_count": null,
      "outputs": [
        {
          "output_type": "stream",
          "text": [
            "one review mention watch oz episod hook right exactli happen first thing struck oz brutal unflinch scene violenc set right word go trust show faint heart timid show pull punch regard drug sex violenc hardcor classic use word call oz nicknam given oswald maximum secur state penitentari focus mainli emerald citi experiment section prison cell glass front face inward privaci high agenda em citi home mani aryan muslim gangsta latino christian italian irish scuffl death stare dodgi deal shadi agreement never far away would say main appeal show due fact goe show dare forget pretti pictur paint mainstream audienc forget charm forget romanc oz mess around first episod ever saw struck nasti surreal say readi watch develop tast oz got accustom high level graphic violenc violenc injustic crook guard sold nickel inmat kill order get away well manner middl class inmat turn prison bitch due lack street skill prison experi watch oz may becom comfort uncomfort view that get touch darker side\n"
          ],
          "name": "stdout"
        }
      ]
    },
    {
      "cell_type": "code",
      "metadata": {
        "colab": {
          "base_uri": "https://localhost:8080/"
        },
        "id": "3D9N57HShmwb",
        "outputId": "df1d283a-9988-4aab-85be-79772c95d585"
      },
      "source": [
        "# Create and train vectorizer (Bow)\n",
        "vectorizer = CountVectorizer()\n",
        "X = vectorizer.fit_transform(sentences)\n",
        "\n",
        "print(f\"There are {X.shape[1]} unique words in the corpus.\")\n",
        "print(X.shape)\n",
        "print(X.min())\n",
        "print(X.max())"
      ],
      "execution_count": null,
      "outputs": [
        {
          "output_type": "stream",
          "text": [
            "There are 47468 unique words in the corpus.\n",
            "(20000, 47468)\n",
            "0\n",
            "41\n"
          ],
          "name": "stdout"
        }
      ]
    },
    {
      "cell_type": "code",
      "metadata": {
        "colab": {
          "base_uri": "https://localhost:8080/"
        },
        "id": "i_HMGk9dhwRj",
        "outputId": "3fc495c6-ea80-4331-bf46-2dd84b75696d"
      },
      "source": [
        "# See one example\n",
        "X.toarray()[0][:200]"
      ],
      "execution_count": null,
      "outputs": [
        {
          "output_type": "execute_result",
          "data": {
            "text/plain": [
              "array([0, 0, 0, 0, 0, 0, 0, 0, 0, 0, 0, 0, 0, 0, 0, 0, 0, 0, 0, 0, 0, 0,\n",
              "       0, 0, 0, 0, 0, 0, 0, 0, 0, 0, 0, 0, 0, 0, 0, 0, 0, 0, 0, 0, 0, 0,\n",
              "       0, 0, 0, 0, 0, 0, 0, 0, 0, 0, 0, 0, 0, 0, 0, 0, 0, 0, 0, 0, 0, 0,\n",
              "       0, 0, 0, 0, 0, 0, 0, 0, 0, 0, 0, 0, 0, 0, 0, 0, 0, 0, 0, 0, 0, 0,\n",
              "       0, 0, 0, 0, 0, 0, 0, 0, 0, 0, 0, 0, 0, 0, 0, 0, 0, 0, 0, 0, 0, 0,\n",
              "       0, 0, 0, 0, 0, 0, 0, 0, 0, 0, 0, 0, 0, 0, 0, 0, 0, 0, 0, 0, 0, 0,\n",
              "       0, 0, 0, 0, 0, 0, 0, 0, 0, 0, 0, 0, 0, 0, 0, 0, 0, 0, 0, 0, 0, 0,\n",
              "       0, 0, 0, 0, 0, 0, 0, 0, 0, 0, 0, 0, 0, 0, 0, 0, 0, 0, 0, 0, 0, 0,\n",
              "       1, 0, 0, 0, 0, 0, 0, 0, 0, 0, 0, 0, 0, 0, 0, 0, 0, 0, 0, 0, 0, 0,\n",
              "       0, 0])"
            ]
          },
          "metadata": {
            "tags": []
          },
          "execution_count": 31
        }
      ]
    },
    {
      "cell_type": "code",
      "metadata": {
        "colab": {
          "base_uri": "https://localhost:8080/"
        },
        "id": "5B4vd3eNhwpd",
        "outputId": "052a48b9-27d1-46db-f067-f19f656a7df1"
      },
      "source": [
        "# Again but only with the top N popular words\n",
        "vectorizer = CountVectorizer(max_features=5000)\n",
        "X = vectorizer.fit_transform(sentences)\n",
        "\n",
        "print(f\"There are {X.shape[1]} unique words in the corpus.\")\n",
        "print(X.shape)\n",
        "print(X.min())\n",
        "print(X.max())"
      ],
      "execution_count": null,
      "outputs": [
        {
          "output_type": "stream",
          "text": [
            "There are 5000 unique words in the corpus.\n",
            "(20000, 5000)\n",
            "0\n",
            "41\n"
          ],
          "name": "stdout"
        }
      ]
    },
    {
      "cell_type": "code",
      "metadata": {
        "colab": {
          "base_uri": "https://localhost:8080/"
        },
        "id": "yPFb6y3gjHfE",
        "outputId": "1e7984df-3ef2-499f-c6c7-4bf7383f615f"
      },
      "source": [
        "# See selected corpus vocabulary\n",
        "print(vectorizer.get_feature_names())"
      ],
      "execution_count": null,
      "outputs": [
        {
          "output_type": "stream",
          "text": [
            "['aaron', 'abandon', 'abc', 'abduct', 'abil', 'abl', 'aboard', 'abomin', 'abort', 'abound', 'abraham', 'abrupt', 'abruptli', 'absenc', 'absent', 'absolut', 'absorb', 'abstract', 'absurd', 'abund', 'abus', 'abysm', 'academi', 'accent', 'accept', 'access', 'accid', 'accident', 'acclaim', 'accompani', 'accomplish', 'accord', 'account', 'accur', 'accuraci', 'accus', 'ace', 'achiev', 'acid', 'acknowledg', 'acquaint', 'acquir', 'across', 'act', 'action', 'activ', 'actor', 'actress', 'actual', 'ad', 'adam', 'adapt', 'add', 'addict', 'addit', 'address', 'adequ', 'adjust', 'admir', 'admit', 'admittedli', 'adolesc', 'adopt', 'ador', 'adult', 'advanc', 'advantag', 'adventur', 'advertis', 'advic', 'advis', 'aesthet', 'affair', 'affect', 'affleck', 'afford', 'afghanistan', 'aforement', 'afraid', 'africa', 'african', 'aftermath', 'afternoon', 'afterward', 'age', 'agenc', 'agenda', 'agent', 'aggress', 'ago', 'agre', 'ah', 'ahead', 'aid', 'aim', 'air', 'aircraft', 'airplan', 'airport', 'aka', 'akin', 'akshay', 'al', 'ala', 'alan', 'alarm', 'albeit', 'albert', 'album', 'alcohol', 'alec', 'alert', 'alex', 'alexand', 'alfr', 'ali', 'alic', 'alien', 'alik', 'aliv', 'allen', 'alley', 'alli', 'allow', 'almost', 'alon', 'along', 'alongsid', 'alreadi', 'alright', 'also', 'alter', 'altern', 'although', 'altman', 'altogeth', 'alway', 'amanda', 'amateur', 'amateurish', 'amaz', 'amazingli', 'amazon', 'ambigu', 'ambit', 'ambiti', 'america', 'american', 'ami', 'amir', 'amitabh', 'among', 'amongst', 'amount', 'amus', 'analysi', 'analyz', 'anchor', 'ancient', 'anderson', 'andi', 'andr', 'andrew', 'angel', 'angela', 'anger', 'angl', 'angri', 'angst', 'anim', 'ann', 'anna', 'anni', 'announc', 'annoy', 'anoth', 'answer', 'ant', 'antagonist', 'anthoni', 'anti', 'antic', 'anticip', 'antonio', 'anybodi', 'anyhow', 'anymor', 'anyon', 'anyth', 'anytim', 'anyway', 'anywher', 'apart', 'ape', 'apocalyps', 'apocalypt', 'apolog', 'appal', 'appar', 'appeal', 'appear', 'appl', 'applaud', 'appli', 'appreci', 'approach', 'appropri', 'approv', 'approxim', 'april', 'arab', 'arc', 'architect', 'archiv', 'area', 'argento', 'argu', 'arguabl', 'argument', 'aris', 'aristocrat', 'ark', 'arm', 'armi', 'armor', 'armstrong', 'arnold', 'around', 'arrang', 'arrest', 'arriv', 'arrog', 'arrow', 'art', 'arthur', 'articl', 'artifici', 'artist', 'artsi', 'ash', 'asham', 'asia', 'asian', 'asid', 'ask', 'asleep', 'aspect', 'aspir', 'ass', 'assassin', 'assault', 'assembl', 'assert', 'asset', 'assign', 'assist', 'associ', 'assort', 'assum', 'assumpt', 'assur', 'astair', 'astonish', 'astound', 'astronaut', 'asylum', 'athlet', 'atlanti', 'atmospher', 'atom', 'atroc', 'atroci', 'attach', 'attack', 'attempt', 'attend', 'attent', 'attitud', 'attorney', 'attract', 'attribut', 'audienc', 'audio', 'audit', 'aunt', 'aussi', 'austen', 'austin', 'australia', 'australian', 'auteur', 'authent', 'author', 'auto', 'automat', 'avail', 'aveng', 'averag', 'avoid', 'aw', 'await', 'awak', 'awaken', 'awar', 'award', 'away', 'awe', 'awesom', 'awhil', 'awkward', 'axe', 'babe', 'babi', 'back', 'backdrop', 'background', 'backward', 'bacon', 'bad', 'baddi', 'badli', 'baffl', 'bag', 'bait', 'bake', 'baker', 'balanc', 'bald', 'baldwin', 'ball', 'ballet', 'bam', 'ban', 'banal', 'band', 'bandit', 'bang', 'bank', 'banter', 'bar', 'barbara', 'bare', 'bargain', 'barker', 'barney', 'baron', 'barrel', 'barri', 'barrymor', 'base', 'basebal', 'basement', 'bash', 'basi', 'basic', 'basing', 'bastard', 'bat', 'bate', 'bath', 'bathroom', 'batman', 'battl', 'bay', 'bbc', 'be', 'beach', 'bean', 'bear', 'beard', 'beast', 'beat', 'beaten', 'beatl', 'beatti', 'beauti', 'becam', 'becom', 'bed', 'bedroom', 'beer', 'beetl', 'befriend', 'beg', 'began', 'begin', 'behav', 'behavior', 'behaviour', 'behind', 'behold', 'bela', 'belief', 'believ', 'bell', 'belli', 'belong', 'belov', 'belt', 'ben', 'bend', 'beneath', 'benefit', 'bennett', 'benni', 'bent', 'bergman', 'berlin', 'bernard', 'besid', 'best', 'bet', 'betray', 'bett', 'better', 'betti', 'beverli', 'bewar', 'beyond', 'bias', 'bibl', 'biblic', 'big', 'bigger', 'biggest', 'bike', 'biker', 'bikini', 'bill', 'billi', 'bimbo', 'bin', 'biographi', 'biopic', 'bird', 'birth', 'birthday', 'bit', 'bitch', 'bite', 'bitten', 'bitter', 'bizarr', 'black', 'blackmail', 'blade', 'blah', 'blair', 'blake', 'blame', 'bland', 'blank', 'blast', 'blatant', 'blatantli', 'bleak', 'bleed', 'blend', 'bless', 'blew', 'blind', 'blink', 'blob', 'block', 'blockbust', 'blond', 'blood', 'bloodi', 'blow', 'blown', 'blue', 'blunt', 'blur', 'bo', 'board', 'boast', 'boat', 'bob', 'bobbi', 'bodi', 'boil', 'bold', 'boll', 'bollywood', 'bomb', 'bond', 'bone', 'bonu', 'boob', 'book', 'boom', 'boot', 'booth', 'border', 'bore', 'boredom', 'bori', 'born', 'borrow', 'boss', 'boston', 'bother', 'bottl', 'bottom', 'bought', 'bounc', 'bound', 'bounti', 'bourn', 'bow', 'bowl', 'box', 'boxer', 'boy', 'boyfriend', 'boyl', 'brad', 'bradi', 'brain', 'brainless', 'branagh', 'brand', 'brando', 'brat', 'brave', 'braveheart', 'bravo', 'brazil', 'bread', 'break', 'breakdown', 'breakfast', 'breast', 'breath', 'breathtak', 'breed', 'brenda', 'brian', 'brick', 'bride', 'bridg', 'bridget', 'brief', 'briefli', 'bright', 'brillianc', 'brilliant', 'brilliantli', 'bring', 'brit', 'britain', 'british', 'bro', 'broad', 'broadcast', 'broadway', 'broke', 'broken', 'bronson', 'brood', 'brook', 'brooklyn', 'brosnan', 'brother', 'brought', 'brown', 'bruce', 'bruno', 'brush', 'brutal', 'btw', 'bu', 'bubbl', 'buck', 'bucket', 'bud', 'buddi', 'budget', 'buff', 'bug', 'build', 'built', 'bull', 'bullet', 'bulli', 'bullock', 'bum', 'bumbl', 'bump', 'bunch', 'bunni', 'buri', 'burn', 'burst', 'burt', 'burton', 'busey', 'bush', 'busi', 'businessman', 'bust', 'buster', 'butcher', 'butler', 'butt', 'button', 'buy', 'cabin', 'cabl', 'cage', 'cagney', 'cain', 'cake', 'calib', 'california', 'call', 'calm', 'came', 'cameo', 'camera', 'cameron', 'camp', 'campaign', 'campbel', 'campi', 'canada', 'canadian', 'cancel', 'cancer', 'candi', 'candid', 'cann', 'cannib', 'cannon', 'cannot', 'cant', 'cap', 'capabl', 'cape', 'caper', 'capit', 'captain', 'captiv', 'captur', 'car', 'card', 'cardboard', 'care', 'career', 'carel', 'carey', 'cari', 'caricatur', 'carl', 'carlo', 'carmen', 'carol', 'carpent', 'carradin', 'carrey', 'carri', 'carter', 'cartoon', 'case', 'casey', 'cash', 'cassavet', 'cast', 'castl', 'casual', 'cat', 'catch', 'catchi', 'categori', 'catherin', 'cathol', 'cattl', 'caught', 'caus', 'cave', 'cb', 'cd', 'celebr', 'cell', 'celluloid', 'cemeteri', 'censor', 'cent', 'center', 'centr', 'central', 'centuri', 'cerebr', 'certain', 'certainli', 'cg', 'cgi', 'chain', 'chainsaw', 'chair', 'challeng', 'champion', 'championship', 'chan', 'chanc', 'chang', 'channel', 'chao', 'chaplin', 'chapter', 'charact', 'character', 'characteris', 'characterist', 'charg', 'charisma', 'charismat', 'charl', 'charli', 'charlott', 'charm', 'chase', 'chat', 'che', 'cheap', 'cheat', 'check', 'cheek', 'cheer', 'chees', 'cheesi', 'chemistri', 'chess', 'chest', 'chew', 'chicago', 'chick', 'chicken', 'chief', 'child', 'childhood', 'childish', 'children', 'chill', 'china', 'chines', 'chip', 'choic', 'choos', 'chop', 'choppi', 'choreograph', 'choreographi', 'choru', 'chose', 'chosen', 'chri', 'christ', 'christi', 'christian', 'christin', 'christina', 'christma', 'christoph', 'chronicl', 'chuck', 'chuckl', 'chunk', 'church', 'churn', 'cia', 'cigarett', 'cinderella', 'cinema', 'cinemat', 'cinematograph', 'cinematographi', 'circl', 'circu', 'circumst', 'citi', 'citizen', 'civil', 'civilian', 'clad', 'claim', 'clair', 'clark', 'clash', 'class', 'classi', 'classic', 'classifi', 'claud', 'claw', 'clay', 'clean', 'clear', 'clearli', 'clerk', 'clever', 'cleverli', 'clich', 'click', 'client', 'cliff', 'climact', 'climat', 'climax', 'climb', 'clinic', 'clint', 'clip', 'clock', 'clone', 'clooney', 'close', 'closer', 'closest', 'closet', 'cloth', 'cloud', 'clown', 'club', 'clue', 'clueless', 'clumsi', 'clunki', 'co', 'coach', 'coast', 'coaster', 'coat', 'cobra', 'code', 'coffe', 'coffin', 'coher', 'coin', 'coincid', 'coke', 'cold', 'cole', 'colin', 'collabor', 'collaps', 'colleagu', 'collect', 'collector', 'colleg', 'collin', 'colonel', 'coloni', 'color', 'colour', 'columbia', 'columbo', 'com', 'coma', 'combat', 'combin', 'come', 'comeback', 'comed', 'comedi', 'comedian', 'comfort', 'comic', 'command', 'commend', 'comment', 'commentari', 'commerci', 'commit', 'common', 'commun', 'communist', 'compani', 'companion', 'compar', 'comparison', 'compass', 'compel', 'compens', 'compet', 'competit', 'complain', 'complaint', 'complet', 'complex', 'complic', 'compliment', 'compos', 'composit', 'compris', 'compromis', 'comput', 'con', 'conan', 'conceiv', 'concentr', 'concept', 'concern', 'concert', 'conclud', 'conclus', 'condemn', 'condit', 'conduct', 'confess', 'confid', 'confin', 'confirm', 'conflict', 'confront', 'confus', 'connect', 'conneri', 'connor', 'conquer', 'conrad', 'conscienc', 'consciou', 'conscious', 'consequ', 'conserv', 'consid', 'consider', 'consist', 'conspiraci', 'constant', 'constantli', 'constitut', 'construct', 'consum', 'contact', 'contain', 'contempl', 'contemporari', 'contend', 'content', 'contest', 'context', 'continu', 'contract', 'contradict', 'contrari', 'contrast', 'contribut', 'contriv', 'control', 'controversi', 'conveni', 'convent', 'convers', 'convert', 'convey', 'convict', 'convinc', 'convincingli', 'convolut', 'cook', 'cooki', 'cool', 'cooper', 'cop', 'cope', 'copi', 'coppola', 'core', 'corey', 'corman', 'corn', 'corner', 'corni', 'corpor', 'corps', 'correct', 'correctli', 'corrupt', 'cost', 'costum', 'couch', 'could', 'count', 'counter', 'counterpart', 'countless', 'countri', 'countrysid', 'coupl', 'courag', 'cours', 'court', 'cousin', 'cover', 'cow', 'coward', 'cowboy', 'cox', 'crack', 'cracker', 'craft', 'craig', 'crap', 'crappi', 'crash', 'craven', 'crawford', 'crawl', 'craze', 'crazi', 'cream', 'creat', 'creation', 'creativ', 'creator', 'creatur', 'credibl', 'credit', 'creep', 'creepi', 'crew', 'cri', 'crime', 'crimin', 'cring', 'crippl', 'crisi', 'crisp', 'critic', 'critiqu', 'critter', 'crocodil', 'crook', 'crop', 'crosbi', 'cross', 'crow', 'crowd', 'crown', 'crucial', 'crude', 'cruel', 'cruelti', 'cruis', 'crush', 'crystal', 'cuba', 'cube', 'cue', 'culmin', 'cult', 'cultur', 'cum', 'cup', 'cure', 'curios', 'curiou', 'curli', 'current', 'curs', 'curti', 'cusack', 'cush', 'custer', 'custom', 'cut', 'cute', 'cyborg', 'cycl', 'cynic', 'czech', 'da', 'dad', 'daddi', 'daili', 'daisi', 'dalla', 'dalton', 'damag', 'dame', 'damm', 'damn', 'damon', 'dan', 'danc', 'dancer', 'dane', 'danger', 'daniel', 'danish', 'danni', 'darci', 'dare', 'dark', 'darker', 'darn', 'dash', 'date', 'daughter', 'dave', 'davi', 'david', 'dawn', 'dawson', 'day', 'daylight', 'dazzl', 'de', 'dead', 'deadli', 'deaf', 'deal', 'dealer', 'dealt', 'dean', 'dear', 'death', 'debat', 'debbi', 'debt', 'debut', 'decad', 'decapit', 'deceas', 'decent', 'decept', 'decid', 'decis', 'declar', 'declin', 'decor', 'dedic', 'dee', 'deed', 'deem', 'deep', 'deeper', 'deepli', 'deer', 'defeat', 'defend', 'defens', 'defi', 'defin', 'definit', 'degener', 'degrad', 'degre', 'del', 'delet', 'deliber', 'delic', 'delici', 'delight', 'deliv', 'deliveri', 'delv', 'demand', 'dement', 'demis', 'demon', 'demonstr', 'deni', 'deniro', 'denni', 'dentist', 'denzel', 'depardieu', 'depart', 'depend', 'depict', 'depress', 'depth', 'deputi', 'der', 'derang', 'derek', 'deriv', 'descend', 'descent', 'describ', 'descript', 'desert', 'deserv', 'design', 'desir', 'despair', 'desper', 'despic', 'despis', 'despit', 'destin', 'destini', 'destroy', 'destruct', 'detach', 'detail', 'detect', 'deterior', 'determin', 'detract', 'devast', 'develop', 'devic', 'devil', 'devito', 'devoid', 'devot', 'dexter', 'di', 'dialog', 'dialogu', 'diamond', 'dian', 'diana', 'diaz', 'dick', 'dicken', 'dictat', 'die', 'differ', 'difficult', 'difficulti', 'dig', 'digit', 'digniti', 'dilemma', 'dillon', 'dim', 'dimens', 'dimension', 'diner', 'dinner', 'dinosaur', 'dire', 'direct', 'directli', 'director', 'directori', 'dirt', 'dirti', 'disabl', 'disagre', 'disappear', 'disappoint', 'disast', 'disastr', 'disbelief', 'disc', 'discern', 'discov', 'discoveri', 'discuss', 'diseas', 'disgrac', 'disguis', 'disgust', 'dish', 'disjoint', 'dislik', 'dismal', 'dismiss', 'disney', 'disord', 'display', 'dispos', 'disregard', 'disrespect', 'distanc', 'distant', 'distinct', 'distinguish', 'distort', 'distract', 'distress', 'distribut', 'distributor', 'disturb', 'dive', 'divers', 'divid', 'divin', 'divorc', 'dj', 'doc', 'doctor', 'document', 'documentari', 'dodg', 'dog', 'doll', 'dollar', 'dolph', 'domest', 'domin', 'donald', 'done', 'donna', 'dont', 'doo', 'doom', 'door', 'dori', 'dorothi', 'dose', 'doubl', 'doubt', 'doug', 'dougla', 'dove', 'down', 'downfal', 'downhil', 'downright', 'dozen', 'dr', 'drab', 'dracula', 'drag', 'dragon', 'drain', 'drake', 'drama', 'dramat', 'draw', 'drawn', 'dread', 'dream', 'dreari', 'dreck', 'dress', 'drew', 'dri', 'drift', 'drill', 'drink', 'drip', 'drive', 'drivel', 'driven', 'driver', 'drop', 'drove', 'drown', 'drug', 'drum', 'drunk', 'drunken', 'dub', 'duck', 'dud', 'dude', 'due', 'duel', 'duke', 'dull', 'dumb', 'dummi', 'dump', 'dunn', 'duo', 'durat', 'dust', 'dutch', 'duti', 'duval', 'dvd', 'dwarf', 'dylan', 'dynam', 'dysfunct', 'eager', 'ear', 'earl', 'earli', 'earlier', 'earn', 'earnest', 'earth', 'eas', 'easi', 'easier', 'easili', 'east', 'eastern', 'eastwood', 'eat', 'eaten', 'eater', 'eccentr', 'echo', 'econom', 'ed', 'eddi', 'edg', 'edgar', 'edgi', 'edi', 'edit', 'editor', 'educ', 'edward', 'eeri', 'effect', 'effici', 'effort', 'egg', 'ego', 'egypt', 'egyptian', 'eh', 'eight', 'eighti', 'eisenstein', 'either', 'el', 'elabor', 'elder', 'elderli', 'elect', 'electr', 'electron', 'eleg', 'element', 'eleph', 'elev', 'eleven', 'elimin', 'elit', 'elizabeth', 'ellen', 'elliott', 'els', 'elsewher', 'elvi', 'elvira', 'em', 'email', 'embark', 'embarrass', 'embrac', 'emerg', 'emili', 'emma', 'emot', 'empathi', 'emperor', 'emphas', 'emphasi', 'empir', 'employ', 'employe', 'empti', 'en', 'enabl', 'enchant', 'encount', 'encourag', 'end', 'endear', 'endless', 'endur', 'enemi', 'energet', 'energi', 'enforc', 'engag', 'engin', 'england', 'english', 'engross', 'enhanc', 'enjoy', 'enlighten', 'enlist', 'enorm', 'enough', 'ensembl', 'ensu', 'ensur', 'enter', 'enterpris', 'entertain', 'enthral', 'enthusiasm', 'enthusiast', 'entir', 'entireti', 'entranc', 'entri', 'environ', 'epic', 'episod', 'equal', 'equip', 'equival', 'er', 'era', 'eric', 'erika', 'ernest', 'erot', 'errol', 'error', 'escap', 'especi', 'essenc', 'essenti', 'establish', 'estat', 'estrang', 'et', 'etc', 'etern', 'ethan', 'ethnic', 'eugen', 'europ', 'european', 'eva', 'evan', 'eve', 'even', 'event', 'eventu', 'ever', 'everett', 'everi', 'everybodi', 'everyday', 'everyon', 'everyth', 'everywher', 'evid', 'evil', 'evok', 'evolut', 'evolv', 'ex', 'exact', 'exactli', 'exagger', 'examin', 'exampl', 'excel', 'except', 'excess', 'exchang', 'excit', 'exclus', 'excus', 'execut', 'exercis', 'exhaust', 'exhibit', 'exist', 'exit', 'exorcist', 'exot', 'expand', 'expect', 'expens', 'experi', 'experienc', 'experiment', 'expert', 'explain', 'explan', 'explicit', 'explod', 'exploit', 'explor', 'explos', 'expos', 'exposit', 'exposur', 'express', 'exquisit', 'extend', 'extens', 'extent', 'exterior', 'extra', 'extraordinari', 'extrem', 'eye', 'eyebrow', 'fabric', 'fabul', 'face', 'facial', 'facil', 'fact', 'factor', 'factori', 'factual', 'fade', 'fail', 'failur', 'faint', 'fair', 'fairi', 'fairli', 'faith', 'fake', 'falk', 'fall', 'fallen', 'fals', 'fame', 'famili', 'familiar', 'famou', 'fan', 'fanat', 'fanci', 'fantasi', 'fantast', 'far', 'farc', 'fare', 'farm', 'farmer', 'farrel', 'fart', 'fascin', 'fashion', 'fast', 'faster', 'fat', 'fatal', 'fate', 'father', 'fault', 'favor', 'favorit', 'favour', 'favourit', 'fay', 'fbi', 'fear', 'feast', 'feat', 'featur', 'fed', 'feed', 'feel', 'feet', 'felix', 'fell', 'fellow', 'felt', 'femal', 'feminin', 'feminist', 'femm', 'fenc', 'fest', 'festiv', 'fetch', 'fever', 'fi', 'fianc', 'fiction', 'field', 'fienn', 'fifteen', 'fifth', 'fifti', 'fight', 'fighter', 'figur', 'file', 'fill', 'filler', 'film', 'filmmak', 'filth', 'final', 'financ', 'financi', 'find', 'fine', 'finest', 'finger', 'finish', 'fire', 'firm', 'firmli', 'first', 'firstli', 'firth', 'fish', 'fisher', 'fist', 'fit', 'five', 'fix', 'flag', 'flair', 'flame', 'flash', 'flashback', 'flashi', 'flat', 'flavor', 'flaw', 'flawless', 'flee', 'fleet', 'flesh', 'fli', 'flick', 'flight', 'flip', 'flirt', 'float', 'flock', 'flood', 'floor', 'flop', 'florida', 'flow', 'flower', 'fluff', 'flynn', 'focu', 'focus', 'fog', 'foil', 'folk', 'follow', 'fond', 'fonda', 'food', 'fool', 'foolish', 'foot', 'footag', 'footbal', 'forbidden', 'forc', 'ford', 'foreign', 'forest', 'forev', 'forget', 'forgett', 'forgiv', 'forgiven', 'forgot', 'forgotten', 'form', 'format', 'former', 'formula', 'fort', 'forth', 'forti', 'fortun', 'forward', 'foster', 'fought', 'foul', 'found', 'foundat', 'four', 'fourth', 'fox', 'foxx', 'frame', 'franc', 'franchis', 'franci', 'francisco', 'franco', 'frank', 'frankenstein', 'franki', 'frankli', 'frantic', 'freak', 'fred', 'freddi', 'free', 'freedom', 'freeman', 'freez', 'french', 'frequent', 'fresh', 'fri', 'friday', 'friend', 'friendli', 'friendship', 'fright', 'frighten', 'frog', 'front', 'frontier', 'frost', 'frozen', 'fruit', 'frustrat', 'fu', 'fuel', 'fulci', 'fulfil', 'full', 'fuller', 'fulli', 'fun', 'function', 'fund', 'fundament', 'funer', 'funni', 'funnier', 'funniest', 'furi', 'furiou', 'furthermor', 'futil', 'futur', 'futurist', 'fuzzi', 'fx', 'ga', 'gabriel', 'gadget', 'gag', 'gain', 'gal', 'galaxi', 'gambl', 'game', 'gamer', 'gandhi', 'gang', 'gangster', 'gap', 'garbag', 'garbo', 'garden', 'garfield', 'gari', 'garner', 'gasp', 'gate', 'gather', 'gave', 'gay', 'gear', 'geek', 'gem', 'gender', 'gene', 'gener', 'genet', 'geniu', 'genr', 'gentl', 'gentleman', 'gentlemen', 'genuin', 'georg', 'gere', 'german', 'germani', 'gestur', 'get', 'ghetto', 'ghost', 'giallo', 'giant', 'gibson', 'gift', 'gig', 'giggl', 'gilbert', 'gimmick', 'gina', 'ginger', 'girl', 'girlfriend', 'give', 'given', 'glad', 'glamor', 'glanc', 'glass', 'glenn', 'glimps', 'global', 'globe', 'glori', 'gloria', 'glorifi', 'gloriou', 'glover', 'glow', 'go', 'goal', 'god', 'godfath', 'godzilla', 'goe', 'goer', 'gold', 'goldberg', 'golden', 'golf', 'gone', 'gonna', 'good', 'goodby', 'goodman', 'goof', 'goofi', 'gordon', 'gore', 'gorgeou', 'gori', 'gorilla', 'got', 'gothic', 'gotta', 'gotten', 'govern', 'grab', 'grace', 'grade', 'gradual', 'graduat', 'graham', 'graini', 'grand', 'grandfath', 'grandma', 'grandmoth', 'grant', 'graphic', 'grasp', 'grass', 'grate', 'gratuit', 'grave', 'graveyard', 'graviti', 'gray', 'grayson', 'great', 'greater', 'greatest', 'greatli', 'greed', 'greedi', 'greek', 'green', 'greet', 'greg', 'gregori', 'grew', 'grey', 'grief', 'griffith', 'grim', 'grin', 'grinch', 'grip', 'gritti', 'gromit', 'gross', 'grotesqu', 'ground', 'group', 'grow', 'grown', 'grudg', 'gruesom', 'gu', 'guarante', 'guard', 'guess', 'guest', 'guid', 'guilt', 'guilti', 'guin', 'guitar', 'gun', 'gundam', 'gut', 'guy', 'gypsi', 'ha', 'habit', 'hack', 'hackney', 'hair', 'hal', 'half', 'halfway', 'hall', 'hallmark', 'halloween', 'hallucin', 'ham', 'hamilton', 'hamlet', 'hammer', 'hammi', 'han', 'hand', 'handl', 'handsom', 'hang', 'hank', 'hapless', 'happen', 'happi', 'happili', 'hara', 'harbor', 'hard', 'hardcor', 'harder', 'hardi', 'hardli', 'harm', 'harmless', 'harold', 'harri', 'harrison', 'harsh', 'hart', 'harvey', 'hat', 'hate', 'hatr', 'haunt', 'hawk', 'hawn', 'hay', 'hayworth', 'hbo', 'head', 'headach', 'heal', 'health', 'healthi', 'heap', 'hear', 'heard', 'heart', 'heartbreak', 'heartfelt', 'heartwarm', 'heat', 'heaven', 'heavi', 'heavili', 'heck', 'heel', 'height', 'heist', 'held', 'helen', 'helicopt', 'hell', 'hello', 'helm', 'help', 'helpless', 'henc', 'henri', 'hepburn', 'hero', 'heroic', 'heroin', 'herzog', 'hesit', 'heston', 'hey', 'hi', 'hick', 'hidden', 'hide', 'hideou', 'high', 'higher', 'highest', 'highli', 'highlight', 'highway', 'hilar', 'hilari', 'hill', 'hillbilli', 'hilton', 'hindi', 'hint', 'hip', 'hippi', 'hire', 'histor', 'histori', 'hit', 'hitch', 'hitchcock', 'hitler', 'ho', 'hoffman', 'hokey', 'hold', 'hole', 'holi', 'holiday', 'holli', 'hollow', 'hollywood', 'holm', 'holocaust', 'homag', 'home', 'homeless', 'homer', 'homicid', 'homosexu', 'honest', 'honesti', 'honestli', 'hong', 'honor', 'honour', 'hood', 'hook', 'hooker', 'hoot', 'hop', 'hope', 'hopeless', 'hopelessli', 'hopkin', 'hopper', 'horizon', 'horn', 'horrend', 'horribl', 'horrid', 'horrif', 'horrifi', 'horror', 'hors', 'hospit', 'host', 'hostag', 'hostil', 'hot', 'hotel', 'hound', 'hour', 'hous', 'household', 'howard', 'howev', 'howl', 'hr', 'http', 'hudson', 'huge', 'hugh', 'huh', 'hulk', 'hum', 'human', 'humbl', 'humili', 'humor', 'humour', 'hundr', 'hung', 'hungri', 'hunt', 'hunter', 'huppert', 'hurri', 'hurt', 'husband', 'huston', 'hype', 'hypnot', 'hyster', 'ian', 'ice', 'icon', 'id', 'idea', 'ideal', 'ident', 'identifi', 'ideolog', 'idiot', 'idol', 'ie', 'ignor', 'ii', 'iii', 'ill', 'illeg', 'illog', 'illumin', 'illus', 'illustr', 'im', 'imag', 'imageri', 'imagin', 'imaginari', 'imdb', 'imit', 'immatur', 'immedi', 'immens', 'immers', 'immigr', 'immort', 'impact', 'imperson', 'implaus', 'impli', 'implic', 'import', 'importantli', 'impos', 'imposs', 'impress', 'improb', 'improv', 'improvis', 'inabl', 'inaccur', 'inan', 'inappropri', 'incarn', 'incest', 'inch', 'incid', 'incident', 'inclin', 'includ', 'incoher', 'incompet', 'incomprehens', 'inconsist', 'incorpor', 'incorrect', 'increas', 'increasingli', 'incred', 'inde', 'independ', 'indi', 'india', 'indian', 'indiana', 'indic', 'indiffer', 'individu', 'induc', 'indulg', 'industri', 'inept', 'inevit', 'inexplic', 'infam', 'infect', 'inferior', 'infinit', 'inflict', 'influenc', 'info', 'inform', 'ing', 'ingeni', 'ingredi', 'ingrid', 'inhabit', 'inher', 'inherit', 'initi', 'inject', 'injur', 'injuri', 'inmat', 'inner', 'innoc', 'innov', 'insan', 'insect', 'insert', 'insid', 'insight', 'insipid', 'insist', 'inspector', 'inspir', 'instal', 'instanc', 'instant', 'instantli', 'instead', 'instinct', 'institut', 'instruct', 'instructor', 'instrument', 'insult', 'insur', 'integr', 'intellectu', 'intellig', 'intend', 'intens', 'intent', 'inter', 'interact', 'interest', 'interestingli', 'interior', 'intern', 'internet', 'interpret', 'interrog', 'interrupt', 'interview', 'intim', 'intimid', 'intoler', 'intric', 'intrigu', 'intro', 'introduc', 'introduct', 'invad', 'invas', 'invent', 'invest', 'investig', 'invis', 'invit', 'involv', 'iq', 'iran', 'iraq', 'ireland', 'irish', 'iron', 'ironi', 'irrelev', 'irrit', 'isabel', 'ish', 'island', 'isol', 'israel', 'issu', 'itali', 'italian', 'item', 'iv', 'ivan', 'jack', 'jackass', 'jacket', 'jacki', 'jackson', 'jacob', 'jade', 'jail', 'jake', 'jam', 'jame', 'jami', 'jan', 'jane', 'janet', 'japan', 'japanes', 'jar', 'jason', 'jaw', 'jay', 'jazz', 'jealou', 'jealousi', 'jean', 'jeff', 'jeffrey', 'jenni', 'jennif', 'jeremi', 'jerk', 'jerri', 'jess', 'jessica', 'jesu', 'jet', 'jew', 'jewel', 'jewish', 'jill', 'jim', 'jimmi', 'jo', 'joan', 'joanna', 'job', 'jodi', 'joe', 'joel', 'joey', 'john', 'johnni', 'johnson', 'join', 'joke', 'jon', 'jonathan', 'jone', 'jordan', 'joseph', 'josh', 'journalist', 'journey', 'joy', 'jr', 'judg', 'judgment', 'judi', 'juli', 'julia', 'julian', 'juliet', 'jump', 'june', 'jungl', 'junior', 'junk', 'junki', 'juri', 'justic', 'justifi', 'justin', 'juvenil', 'kane', 'kapoor', 'karat', 'karen', 'karloff', 'kate', 'kathi', 'kay', 'keaton', 'keen', 'keep', 'keith', 'kelli', 'ken', 'kennedi', 'kenneth', 'kent', 'kept', 'kevin', 'key', 'khan', 'kick', 'kid', 'kidnap', 'kill', 'killer', 'kim', 'kind', 'kinda', 'king', 'kingdom', 'kirk', 'kiss', 'kitchen', 'kitti', 'knee', 'knew', 'knife', 'knight', 'knock', 'know', 'knowledg', 'known', 'kong', 'korean', 'kristin', 'kubrick', 'kudo', 'kumar', 'kung', 'kurt', 'kyle', 'la', 'lab', 'label', 'labor', 'lace', 'lack', 'lacklust', 'lad', 'ladder', 'ladi', 'laid', 'lake', 'lamb', 'lame', 'land', 'landscap', 'lane', 'lang', 'languag', 'larg', 'larger', 'larri', 'last', 'lastli', 'late', 'later', 'latest', 'latin', 'latter', 'laugh', 'laughabl', 'laughter', 'launch', 'laura', 'laurel', 'lauren', 'lavish', 'law', 'lawrenc', 'lawyer', 'lay', 'layer', 'lazi', 'le', 'lead', 'leader', 'leagu', 'lean', 'leap', 'learn', 'least', 'leather', 'leav', 'lectur', 'led', 'lee', 'left', 'leg', 'legal', 'legend', 'legendari', 'legitim', 'leigh', 'leland', 'lemmon', 'lend', 'length', 'lengthi', 'leo', 'leon', 'leonard', 'lesbian', 'lesli', 'less', 'lesser', 'lesson', 'lestat', 'let', 'lethal', 'letter', 'level', 'lewi', 'li', 'liar', 'liber', 'liberti', 'librari', 'licens', 'lie', 'life', 'lifeless', 'lifestyl', 'lifetim', 'lift', 'light', 'lighter', 'lightn', 'likabl', 'like', 'likewis', 'lili', 'limb', 'limit', 'lincoln', 'linda', 'line', 'liner', 'linger', 'link', 'lion', 'lionel', 'lip', 'lisa', 'list', 'listen', 'lit', 'liter', 'literari', 'literatur', 'littl', 'liv', 'live', 'lizard', 'lloyd', 'lo', 'load', 'loath', 'local', 'locat', 'lock', 'logan', 'logic', 'loi', 'lol', 'london', 'lone', 'loneli', 'long', 'longer', 'longest', 'look', 'loos', 'lopez', 'lord', 'lose', 'loser', 'loss', 'lost', 'lot', 'lou', 'loud', 'loui', 'louis', 'lousi', 'lovabl', 'love', 'lover', 'low', 'lower', 'lowest', 'loy', 'loyal', 'loyalti', 'luca', 'luci', 'luck', 'lucki', 'luckili', 'ludicr', 'lugosi', 'luke', 'lumet', 'lunat', 'lundgren', 'lure', 'lurk', 'lush', 'lust', 'luxuri', 'lynch', 'lynn', 'lyric', 'macarthur', 'machin', 'macho', 'maci', 'mad', 'made', 'madonna', 'madsen', 'mafia', 'magazin', 'maggi', 'magic', 'magnific', 'maid', 'mail', 'main', 'mainli', 'mainstream', 'maintain', 'major', 'make', 'maker', 'makeup', 'male', 'mall', 'mama', 'man', 'manag', 'manhattan', 'mani', 'maniac', 'manipul', 'mankind', 'mann', 'manner', 'mansion', 'map', 'mar', 'marc', 'march', 'marcu', 'margaret', 'margin', 'mari', 'maria', 'marin', 'mario', 'marion', 'mark', 'market', 'marri', 'marriag', 'marshal', 'martha', 'marti', 'martial', 'martian', 'martin', 'marvel', 'mash', 'mask', 'mason', 'mass', 'massacr', 'massiv', 'master', 'masterpiec', 'match', 'mate', 'materi', 'matrix', 'matt', 'matter', 'matthau', 'matthew', 'matur', 'max', 'maximum', 'may', 'mayb', 'mayhem', 'mayor', 'mclaglen', 'meal', 'mean', 'meander', 'meaning', 'meaningless', 'meant', 'meanwhil', 'measur', 'meat', 'mechan', 'media', 'medic', 'medicin', 'mediocr', 'medium', 'meet', 'meg', 'mel', 'melodi', 'melodrama', 'melodramat', 'melt', 'member', 'memor', 'memori', 'men', 'menac', 'mental', 'mention', 'merchant', 'merci', 'mere', 'merit', 'meryl', 'mesmer', 'mess', 'messag', 'messi', 'met', 'metal', 'metaphor', 'method', 'mexican', 'mexico', 'meyer', 'mgm', 'mi', 'michael', 'michel', 'mickey', 'mid', 'middl', 'midnight', 'might', 'mighti', 'miik', 'mike', 'mild', 'mildli', 'mildr', 'mile', 'militari', 'milk', 'mill', 'miller', 'million', 'millionair', 'milo', 'min', 'mind', 'mindless', 'mine', 'mini', 'minim', 'minimum', 'miniseri', 'minist', 'minor', 'minu', 'minut', 'miracl', 'miracul', 'mirror', 'miscast', 'miser', 'miseri', 'misfortun', 'misguid', 'mislead', 'miss', 'missil', 'mission', 'mistak', 'mistaken', 'mistress', 'misunderstand', 'mitchel', 'mitchum', 'mix', 'mixtur', 'miyazaki', 'mm', 'mob', 'mobil', 'mobster', 'mock', 'mode', 'model', 'moder', 'modern', 'modest', 'modesti', 'moe', 'molli', 'mom', 'moment', 'mon', 'money', 'monitor', 'monk', 'monke', 'monkey', 'monologu', 'monoton', 'monro', 'monster', 'montag', 'montana', 'montgomeri', 'month', 'monti', 'monument', 'mood', 'moodi', 'moon', 'moor', 'moral', 'morbid', 'moreov', 'morgan', 'mormon', 'morn', 'moron', 'morri', 'mose', 'mostli', 'motel', 'mother', 'motion', 'motiv', 'motorcycl', 'mount', 'mountain', 'mous', 'mouth', 'move', 'movement', 'movi', 'mr', 'ms', 'mst', 'mtv', 'much', 'muddl', 'multi', 'multipl', 'mummi', 'mundan', 'muppet', 'murder', 'murphi', 'murray', 'muscl', 'museum', 'music', 'musician', 'muslim', 'must', 'mutant', 'mute', 'mutil', 'myer', 'mysteri', 'mystic', 'myth', 'mytholog', 'nail', 'naiv', 'nake', 'name', 'nanci', 'narr', 'narrat', 'narrow', 'nasti', 'natali', 'nathan', 'nation', 'nativ', 'natur', 'naughti', 'navi', 'nazi', 'nbc', 'nd', 'near', 'nearbi', 'nearli', 'neat', 'neatli', 'necessari', 'necessarili', 'neck', 'ned', 'need', 'needless', 'neg', 'neglect', 'neighbor', 'neighborhood', 'neil', 'neill', 'neither', 'nelson', 'nemesi', 'neo', 'nephew', 'nerd', 'nerv', 'nervou', 'net', 'netflix', 'network', 'never', 'nevertheless', 'new', 'newcom', 'newli', 'newman', 'news', 'newspap', 'next', 'nice', 'nichola', 'nicholson', 'nick', 'nicol', 'nicola', 'niec', 'night', 'nightclub', 'nightmar', 'nine', 'nineti', 'ninja', 'niro', 'nobl', 'nobodi', 'nod', 'noir', 'nois', 'nolan', 'nolt', 'nomin', 'non', 'none', 'nonetheless', 'nonsens', 'nope', 'norm', 'normal', 'norman', 'norri', 'north', 'northern', 'norton', 'nose', 'nostalg', 'nostalgia', 'notabl', 'notch', 'note', 'noth', 'notic', 'notion', 'notori', 'novel', 'nowaday', 'nowher', 'nuanc', 'nuclear', 'nude', 'nuditi', 'numb', 'number', 'numer', 'nun', 'nurs', 'nut', 'nyc', 'object', 'oblig', 'obligatori', 'obnoxi', 'obscen', 'obscur', 'observ', 'obsess', 'obstacl', 'obtain', 'obviou', 'obvious', 'occas', 'occasion', 'occup', 'occupi', 'occur', 'ocean', 'odd', 'oddli', 'odyssey', 'off', 'offend', 'offens', 'offer', 'offic', 'offici', 'often', 'oh', 'oil', 'ok', 'okay', 'old', 'older', 'oldest', 'oliv', 'olivi', 'olivia', 'olli', 'omin', 'one', 'onlin', 'onto', 'open', 'oper', 'opera', 'opinion', 'oppon', 'opportun', 'oppos', 'opposit', 'oppress', 'opt', 'option', 'orang', 'orchestr', 'order', 'ordinari', 'organ', 'orient', 'origin', 'orlean', 'orphan', 'orson', 'oscar', 'other', 'otherwis', 'ought', 'out', 'outcom', 'outer', 'outfit', 'outing', 'outlaw', 'outlin', 'outrag', 'outright', 'outsid', 'outstand', 'overact', 'overal', 'overcom', 'overdon', 'overli', 'overlong', 'overlook', 'overr', 'overwhelm', 'owe', 'owen', 'own', 'owner', 'oz', 'pace', 'pacif', 'pacino', 'pack', 'packag', 'pad', 'page', 'paid', 'pain', 'paint', 'painter', 'pair', 'pal', 'palac', 'pale', 'palm', 'palma', 'paltrow', 'pamela', 'pan', 'panic', 'pant', 'paper', 'par', 'parad', 'paradis', 'parallel', 'paranoia', 'parent', 'pari', 'park', 'parker', 'parodi', 'part', 'parti', 'partial', 'particip', 'particular', 'particularli', 'partli', 'partner', 'pass', 'passabl', 'passag', 'passeng', 'passion', 'past', 'pat', 'patch', 'path', 'pathet', 'patienc', 'patient', 'patricia', 'patrick', 'patriot', 'patron', 'pattern', 'patti', 'paul', 'paus', 'paxton', 'pay', 'paycheck', 'pb', 'pc', 'peac', 'peak', 'pearl', 'peck', 'peculiar', 'peer', 'pen', 'penguin', 'penn', 'penni', 'peopl', 'pepper', 'per', 'perceiv', 'percept', 'perfect', 'perfectli', 'perform', 'perhap', 'period', 'perman', 'perpetu', 'perri', 'person', 'persona', 'perspect', 'persuad', 'pervers', 'pervert', 'pet', 'pete', 'peter', 'petti', 'pfeiffer', 'pg', 'phantom', 'phase', 'phenomen', 'phil', 'philip', 'phillip', 'philosoph', 'philosophi', 'phone', 'phoni', 'photo', 'photograph', 'photographi', 'phrase', 'physic', 'piano', 'pick', 'pictur', 'pie', 'piec', 'pierc', 'pierr', 'pig', 'pile', 'pilot', 'pimp', 'pin', 'pink', 'pioneer', 'pipe', 'piper', 'pirat', 'pit', 'pitch', 'piti', 'pitt', 'place', 'plagu', 'plain', 'plan', 'plane', 'planet', 'plant', 'plastic', 'plate', 'plausibl', 'play', 'playboy', 'player', 'pleas', 'pleasant', 'pleasantli', 'pleasur', 'plenti', 'plight', 'plod', 'plot', 'plu', 'pocket', 'pod', 'poe', 'poem', 'poet', 'poetic', 'poetri', 'poignant', 'point', 'pointless', 'poison', 'poke', 'poker', 'polanski', 'polar', 'pole', 'polic', 'policeman', 'polici', 'polish', 'polit', 'politician', 'ponder', 'ponyo', 'pool', 'poor', 'poorli', 'pop', 'popcorn', 'popul', 'popular', 'porn', 'porno', 'pornograph', 'pornographi', 'porter', 'portion', 'portman', 'portrait', 'portray', 'pose', 'posit', 'possess', 'possibl', 'post', 'poster', 'pot', 'potenti', 'pound', 'pour', 'poverti', 'powel', 'power', 'practic', 'prais', 'prank', 'pray', 'pre', 'preach', 'preachi', 'preced', 'preciou', 'precis', 'predat', 'predecessor', 'predict', 'prefer', 'pregnant', 'prejudic', 'premier', 'premis', 'prepar', 'preposter', 'prequel', 'presenc', 'present', 'preserv', 'presid', 'press', 'pressur', 'preston', 'presum', 'pretend', 'pretens', 'pretenti', 'pretti', 'prevent', 'preview', 'previou', 'previous', 'prey', 'price', 'priceless', 'pride', 'priest', 'primari', 'primarili', 'prime', 'primit', 'princ', 'princess', 'princip', 'principl', 'print', 'prior', 'prison', 'privat', 'prize', 'pro', 'probabl', 'problem', 'proce', 'proceed', 'process', 'proclaim', 'produc', 'product', 'profan', 'profess', 'profession', 'professor', 'profil', 'profit', 'profound', 'program', 'programm', 'progress', 'project', 'prom', 'promin', 'promis', 'promot', 'pronounc', 'proof', 'prop', 'propaganda', 'proper', 'properli', 'properti', 'proport', 'propos', 'prospect', 'prostitut', 'prot', 'protagonist', 'protect', 'protest', 'proud', 'prove', 'provid', 'provoc', 'provok', 'ps', 'pseudo', 'psych', 'psychedel', 'psychiatrist', 'psychic', 'psycho', 'psycholog', 'psychopath', 'psychot', 'public', 'publish', 'pull', 'pulp', 'pump', 'pun', 'punch', 'punish', 'punk', 'puppet', 'puppi', 'purchas', 'pure', 'purpl', 'purpos', 'pursu', 'pursuit', 'push', 'put', 'puzzl', 'python', 'quaid', 'qualifi', 'qualiti', 'quarter', 'queen', 'quentin', 'quest', 'question', 'quick', 'quickli', 'quiet', 'quietli', 'quinn', 'quirki', 'quit', 'quot', 'rabbit', 'race', 'rachel', 'racial', 'racism', 'racist', 'radiat', 'radic', 'radio', 'rage', 'raid', 'raider', 'railroad', 'rain', 'rais', 'ralph', 'ram', 'rambl', 'rambo', 'ramon', 'rampag', 'ran', 'ranch', 'randi', 'random', 'randomli', 'rang', 'ranger', 'rank', 'rant', 'rap', 'rape', 'rapid', 'rapidli', 'rapist', 'rare', 'rat', 'rate', 'rather', 'ration', 'rave', 'raw', 'ray', 'raymond', 'razor', 'rd', 'reach', 'react', 'reaction', 'read', 'reader', 'readi', 'real', 'realis', 'realism', 'realist', 'realiti', 'realiz', 'realli', 'realm', 'rear', 'reason', 'rebel', 'recal', 'receiv', 'recent', 'recit', 'recogn', 'recognis', 'recognit', 'recogniz', 'recommend', 'record', 'recov', 'recreat', 'recruit', 'recycl', 'red', 'redeem', 'redempt', 'redford', 'redneck', 'reduc', 'redund', 'reed', 'reel', 'reev', 'refer', 'reflect', 'refresh', 'refus', 'regard', 'regardless', 'region', 'regist', 'regret', 'regular', 'rehash', 'rehears', 'reign', 'reject', 'rel', 'relat', 'relationship', 'relax', 'releas', 'relentless', 'relev', 'reli', 'reliabl', 'relief', 'religi', 'religion', 'reluct', 'remad', 'remain', 'remak', 'remark', 'rememb', 'remind', 'reminisc', 'remot', 'remov', 'render', 'rendit', 'rene', 'rent', 'rental', 'repeat', 'repeatedli', 'repetit', 'replac', 'repli', 'report', 'repres', 'represent', 'repress', 'repris', 'repuls', 'reput', 'request', 'requir', 'rerun', 'rescu', 'research', 'resembl', 'reserv', 'resid', 'resist', 'resolut', 'resolv', 'reson', 'resort', 'resourc', 'respect', 'respond', 'respons', 'rest', 'restaur', 'restor', 'restrain', 'restrict', 'result', 'resurrect', 'retain', 'retard', 'retir', 'retrospect', 'return', 'reunion', 'reunit', 'reveal', 'revel', 'reveng', 'revers', 'review', 'revisit', 'reviv', 'revolt', 'revolut', 'revolutionari', 'revolv', 'reward', 'rex', 'reynold', 'rhyme', 'rhythm', 'rice', 'rich', 'richard', 'richardson', 'rick', 'rid', 'ridden', 'riddl', 'ride', 'rider', 'ridicul', 'rifl', 'right', 'ring', 'riot', 'rip', 'ripoff', 'rise', 'risk', 'rita', 'ritter', 'ritual', 'rival', 'river', 'rivet', 'road', 'rob', 'robber', 'robberi', 'robert', 'robertson', 'robin', 'robinson', 'robot', 'rochest', 'rock', 'rocket', 'rocki', 'rod', 'roger', 'role', 'roll', 'roller', 'roman', 'romanc', 'romant', 'rome', 'romeo', 'romero', 'romp', 'ron', 'roof', 'room', 'roommat', 'rooney', 'roosevelt', 'root', 'rope', 'rori', 'rose', 'ross', 'rot', 'roth', 'rotten', 'rough', 'round', 'rourk', 'rout', 'routin', 'row', 'roy', 'royal', 'rub', 'rubber', 'rubbish', 'rubi', 'rude', 'rugbi', 'ruin', 'rule', 'rumor', 'run', 'runner', 'rupert', 'rural', 'rush', 'russel', 'russia', 'russian', 'russo', 'rusti', 'ruth', 'ruthless', 'ryan', 'sack', 'sacrif', 'sacrific', 'sad', 'saddl', 'sadist', 'sadli', 'safe', 'safeti', 'saga', 'said', 'sail', 'sailor', 'saint', 'sake', 'sale', 'salli', 'salman', 'sam', 'samantha', 'sammi', 'samuel', 'samurai', 'san', 'sand', 'sander', 'sandi', 'sandler', 'sandra', 'santa', 'sappi', 'sara', 'sarah', 'sarandon', 'sarcast', 'sat', 'satan', 'satir', 'satisfact', 'satisfi', 'saturday', 'savag', 'save', 'saw', 'say', 'scale', 'scar', 'scare', 'scarecrow', 'scari', 'scariest', 'scarlett', 'scenario', 'scene', 'sceneri', 'schedul', 'scheme', 'schlock', 'schneider', 'school', 'sci', 'scienc', 'scientif', 'scientist', 'scifi', 'scoobi', 'scope', 'score', 'scotland', 'scott', 'scottish', 'scratch', 'scream', 'screen', 'screenplay', 'screenwrit', 'screw', 'script', 'scriptwrit', 'se', 'sea', 'seagal', 'seal', 'sean', 'search', 'season', 'seat', 'second', 'secondari', 'secondli', 'secret', 'secretari', 'secretli', 'section', 'secur', 'seduc', 'seduct', 'see', 'seed', 'seedi', 'seek', 'seem', 'seemingli', 'seen', 'segment', 'seldom', 'select', 'self', 'selfish', 'sell', 'seller', 'semi', 'semit', 'sen', 'send', 'sens', 'sensat', 'senseless', 'sensibl', 'sensit', 'sensual', 'sent', 'sentenc', 'sentiment', 'separ', 'septemb', 'sequel', 'sequenc', 'sergeant', 'seri', 'serial', 'seriou', 'serious', 'serv', 'servant', 'servic', 'session', 'set', 'settl', 'setup', 'seven', 'seventi', 'sever', 'sex', 'sexi', 'sexual', 'seymour', 'sh', 'shade', 'shadow', 'shake', 'shakespear', 'shaki', 'shall', 'shallow', 'shame', 'shameless', 'shape', 'share', 'shark', 'sharon', 'sharp', 'shatner', 'shatter', 'shaw', 'shed', 'sheen', 'sheer', 'sheet', 'shelf', 'shell', 'shelter', 'shelv', 'sheriff', 'sherlock', 'shi', 'shift', 'shine', 'ship', 'shirley', 'shirt', 'shock', 'shoddi', 'shoe', 'shoot', 'shootout', 'shop', 'shore', 'short', 'shortcom', 'shorter', 'shortli', 'shot', 'shotgun', 'shoulder', 'shout', 'shove', 'show', 'showcas', 'showdown', 'shower', 'shown', 'showtim', 'shut', 'shylock', 'sibl', 'sick', 'side', 'sidekick', 'sidney', 'sigh', 'sight', 'sign', 'signific', 'silenc', 'silent', 'silli', 'silver', 'similar', 'similarli', 'simmon', 'simon', 'simpl', 'simpli', 'simplic', 'simplist', 'simpson', 'simul', 'simultan', 'sin', 'sinatra', 'sinc', 'sincer', 'sing', 'singer', 'singl', 'sinist', 'sink', 'sir', 'sirk', 'sissi', 'sister', 'sit', 'sitcom', 'site', 'situat', 'six', 'sixti', 'size', 'skate', 'skateboard', 'skeleton', 'skeptic', 'sketch', 'skill', 'skin', 'skip', 'skit', 'skull', 'sky', 'slam', 'slap', 'slapstick', 'slash', 'slasher', 'slaughter', 'slave', 'sleaz', 'sleazi', 'sleep', 'sleepi', 'sleepwalk', 'slice', 'slick', 'slide', 'slight', 'slightest', 'slightli', 'slim', 'slimi', 'slip', 'sloppi', 'slow', 'slowli', 'smack', 'small', 'smaller', 'smart', 'smash', 'smell', 'smile', 'smith', 'smoke', 'smooth', 'smug', 'snake', 'snap', 'sneak', 'snipe', 'snl', 'snow', 'snuff', 'soap', 'soccer', 'social', 'societi', 'sock', 'soft', 'sold', 'soldier', 'sole', 'solid', 'solo', 'solut', 'solv', 'somebodi', 'someday', 'somehow', 'someon', 'someth', 'sometim', 'somewhat', 'somewher', 'son', 'song', 'soon', 'sophist', 'soprano', 'sore', 'sorri', 'sorrow', 'sort', 'soul', 'sound', 'soundtrack', 'soup', 'sourc', 'south', 'southern', 'soviet', 'space', 'spaceship', 'spacey', 'spade', 'spaghetti', 'spain', 'span', 'spanish', 'spare', 'spark', 'spawn', 'speak', 'speci', 'special', 'specif', 'spectacl', 'spectacular', 'speech', 'speed', 'spell', 'spencer', 'spend', 'spent', 'spi', 'spice', 'spider', 'spielberg', 'spike', 'spill', 'spin', 'spine', 'spiral', 'spirit', 'spiritu', 'spit', 'spite', 'splatter', 'splendid', 'split', 'spock', 'spoil', 'spoiler', 'spoke', 'spoken', 'spontan', 'spoof', 'spooki', 'sport', 'spot', 'spout', 'spread', 'spree', 'spring', 'squad', 'squar', 'st', 'stab', 'stack', 'staff', 'stage', 'stake', 'stale', 'stalk', 'stan', 'stand', 'standard', 'standout', 'stanley', 'stanwyck', 'stapl', 'star', 'stare', 'stargat', 'stark', 'start', 'startl', 'starv', 'state', 'statement', 'static', 'station', 'statu', 'stay', 'steadi', 'steal', 'steam', 'steel', 'steer', 'stellar', 'step', 'stephen', 'stereotyp', 'steve', 'steven', 'stewart', 'stick', 'stiff', 'still', 'stiller', 'stilt', 'stimul', 'stink', 'stinker', 'stir', 'stock', 'stole', 'stolen', 'stomach', 'stone', 'stood', 'stoog', 'stop', 'store', 'stori', 'storm', 'storylin', 'storytel', 'straight', 'straightforward', 'strain', 'strand', 'strang', 'stranger', 'straw', 'stream', 'streep', 'street', 'streisand', 'strength', 'stress', 'stretch', 'strictli', 'strike', 'string', 'strip', 'stroke', 'strong', 'stronger', 'strongest', 'strongli', 'struck', 'structur', 'struggl', 'stuart', 'stuck', 'student', 'studi', 'studio', 'stuf', 'stuff', 'stumbl', 'stun', 'stunt', 'stupid', 'style', 'stylish', 'styliz', 'su', 'sub', 'subject', 'sublim', 'submarin', 'submit', 'subplot', 'subsequ', 'substanc', 'substanti', 'substitut', 'subtitl', 'subtl', 'subtleti', 'subtli', 'suburban', 'succe', 'succeed', 'success', 'suck', 'sucker', 'sudden', 'suddenli', 'sue', 'suffer', 'suffic', 'suffici', 'suggest', 'suicid', 'suit', 'suitabl', 'sullivan', 'sum', 'summar', 'summari', 'summer', 'sun', 'sunday', 'sung', 'sunni', 'sunshin', 'super', 'superb', 'superbl', 'superfici', 'superhero', 'superior', 'superman', 'supernatur', 'superstar', 'suppli', 'support', 'suppos', 'supposedli', 'suprem', 'sure', 'surf', 'surfac', 'surgeon', 'surgeri', 'surpass', 'surpris', 'surprisingli', 'surreal', 'surrend', 'surround', 'surviv', 'survivor', 'susan', 'suspect', 'suspend', 'suspens', 'suspici', 'suspicion', 'sustain', 'sutherland', 'swallow', 'swear', 'sweat', 'swedish', 'sweep', 'sweet', 'swept', 'swim', 'swing', 'switch', 'sword', 'sydney', 'symbol', 'sympath', 'sympathet', 'sympathi', 'sync', 'syndrom', 'synopsi', 'system', 'tabl', 'taboo', 'tacki', 'tackl', 'tactic', 'tad', 'tag', 'tail', 'take', 'taken', 'tale', 'talent', 'talk', 'talki', 'tall', 'tame', 'tank', 'tap', 'tape', 'tarantino', 'target', 'tarzan', 'task', 'tast', 'tasteless', 'taught', 'tax', 'taxi', 'taylor', 'tea', 'teach', 'teacher', 'team', 'tear', 'teas', 'tech', 'technic', 'technicolor', 'techniqu', 'technolog', 'ted', 'tediou', 'teen', 'teenag', 'teeth', 'televis', 'tell', 'temper', 'templ', 'tempt', 'ten', 'tenant', 'tend', 'tendenc', 'tender', 'tens', 'tension', 'term', 'termin', 'terri', 'terribl', 'terrif', 'terrifi', 'territori', 'terror', 'terrorist', 'test', 'testament', 'texa', 'text', 'th', 'thank', 'that', 'theater', 'theatr', 'theatric', 'theme', 'theori', 'therefor', 'thick', 'thief', 'thiev', 'thin', 'thing', 'think', 'third', 'thirti', 'thoma', 'thompson', 'thoroughli', 'though', 'thought', 'thousand', 'thread', 'threat', 'threaten', 'three', 'threw', 'thrill', 'thriller', 'throat', 'throughout', 'throw', 'thrown', 'thru', 'thrust', 'thu', 'thug', 'thumb', 'tick', 'ticket', 'tie', 'tiger', 'tight', 'till', 'tim', 'timberlak', 'time', 'timeless', 'timothi', 'tini', 'tip', 'tire', 'tiresom', 'titan', 'titl', 'today', 'todd', 'toe', 'togeth', 'toilet', 'token', 'told', 'toler', 'tom', 'tomato', 'tomb', 'tommi', 'tomorrow', 'ton', 'tone', 'tongu', 'toni', 'tonight', 'took', 'tool', 'tooth', 'top', 'topic', 'topless', 'torch', 'torment', 'torn', 'tortur', 'toss', 'total', 'touch', 'tough', 'tour', 'tourist', 'toward', 'tower', 'town', 'toy', 'trace', 'traci', 'track', 'trade', 'trademark', 'tradit', 'traffic', 'tragedi', 'tragic', 'trail', 'trailer', 'train', 'trait', 'tramp', 'transcend', 'transfer', 'transform', 'transit', 'translat', 'transplant', 'transport', 'trap', 'trash', 'trashi', 'traumat', 'travel', 'travesti', 'travolta', 'treasur', 'treat', 'treatment', 'tree', 'trek', 'tremend', 'trend', 'tri', 'trial', 'triangl', 'tribe', 'tribut', 'trick', 'trigger', 'trilog', 'trio', 'trip', 'tripe', 'trite', 'triumph', 'trivia', 'trivial', 'troma', 'troop', 'troubl', 'truck', 'true', 'truli', 'trust', 'truth', 'tube', 'tune', 'tunnel', 'turd', 'turkey', 'turkish', 'turn', 'turner', 'tv', 'twelv', 'twenti', 'twice', 'twilight', 'twin', 'twist', 'two', 'tyler', 'type', 'typic', 'ugh', 'ugli', 'uh', 'uk', 'ultim', 'ultra', 'un', 'unabl', 'unawar', 'unbear', 'unbeliev', 'uncl', 'uncomfort', 'unconsci', 'unconvent', 'unconvinc', 'uncov', 'undead', 'undeni', 'undercov', 'underdog', 'underground', 'underli', 'undermin', 'underr', 'underst', 'understand', 'understood', 'undertak', 'underwat', 'underwear', 'underworld', 'undoubtedli', 'uneven', 'unexpect', 'unexpectedli', 'unexplain', 'unfair', 'unfold', 'unforgett', 'unfortun', 'unfunni', 'unhappi', 'uniform', 'uniformli', 'unimagin', 'uninspir', 'unintent', 'uninterest', 'union', 'uniqu', 'unit', 'univers', 'unknown', 'unleash', 'unless', 'unlik', 'unnecessari', 'unorigin', 'unpleas', 'unpredict', 'unravel', 'unreal', 'unrealist', 'unrel', 'unsatisfi', 'unseen', 'unsettl', 'unsuccess', 'unusu', 'unwatch', 'up', 'updat', 'uplift', 'upon', 'upper', 'upset', 'upsid', 'urban', 'urg', 'us', 'usa', 'use', 'useless', 'user', 'ustinov', 'usual', 'util', 'utter', 'utterli', 'uwe', 'vacat', 'vagu', 'valentin', 'valid', 'valley', 'valu', 'valuabl', 'vampir', 'van', 'vanish', 'vaniti', 'vari', 'variat', 'varieti', 'variou', 'vast', 'vastli', 'vega', 'vehicl', 'vein', 'vengeanc', 'venic', 'ventur', 'verbal', 'verg', 'verhoeven', 'versatil', 'version', 'versu', 'veteran', 'vh', 'via', 'vibrant', 'vice', 'viciou', 'victim', 'victor', 'victori', 'victoria', 'victorian', 'video', 'vietnam', 'view', 'viewer', 'viewpoint', 'villag', 'villain', 'vinc', 'vincent', 'violat', 'violenc', 'violent', 'virgin', 'virginia', 'virtu', 'virtual', 'viru', 'visconti', 'visibl', 'vision', 'visit', 'visitor', 'visual', 'vital', 'vivian', 'vivid', 'vocal', 'voic', 'voight', 'volum', 'vomit', 'von', 'voodoo', 'vote', 'voyag', 'vs', 'vulgar', 'vulner', 'wacki', 'wagner', 'wagon', 'wait', 'waitress', 'wake', 'walk', 'walken', 'walker', 'wall', 'wallac', 'walsh', 'walt', 'walter', 'wander', 'wanna', 'wannab', 'want', 'war', 'ward', 'warden', 'wardrob', 'warm', 'warmth', 'warn', 'warner', 'warrant', 'warren', 'warrior', 'wash', 'washington', 'wast', 'watch', 'watchabl', 'watcher', 'water', 'watson', 'wave', 'wax', 'way', 'wayan', 'wayn', 'we', 'weak', 'weakest', 'wealth', 'wealthi', 'weapon', 'wear', 'weari', 'weather', 'weav', 'web', 'websit', 'wed', 'week', 'weekend', 'weight', 'weird', 'welcom', 'well', 'wendi', 'went', 'werewolf', 'wesley', 'west', 'western', 'wet', 'whack', 'whale', 'what', 'whatev', 'whatsoev', 'wheel', 'wheelchair', 'whenev', 'wherea', 'whether', 'whilst', 'whine', 'whip', 'white', 'whoever', 'whole', 'wholli', 'whore', 'whose', 'wick', 'wide', 'widescreen', 'widmark', 'widow', 'wield', 'wife', 'wig', 'wild', 'wilder', 'wildli', 'will', 'willi', 'william', 'wilson', 'win', 'wind', 'window', 'wine', 'wing', 'winner', 'winter', 'wipe', 'wire', 'wisdom', 'wise', 'wish', 'wit', 'witch', 'within', 'without', 'witti', 'wive', 'wizard', 'wolf', 'woman', 'women', 'wonder', 'wonderland', 'wong', 'wont', 'woo', 'wood', 'wooden', 'woodi', 'word', 'wore', 'work', 'worker', 'world', 'worn', 'worri', 'wors', 'worship', 'worst', 'worth', 'worthi', 'worthless', 'worthwhil', 'would', 'wound', 'wow', 'wrap', 'wreck', 'wrench', 'wrestl', 'wrestler', 'wretch', 'wright', 'write', 'writer', 'written', 'wrong', 'wrote', 'wtf', 'ww', 'wwe', 'wwii', 'www', 'ya', 'yard', 'yawn', 'ye', 'yeah', 'year', 'yearn', 'yell', 'yellow', 'yep', 'yesterday', 'yet', 'york', 'young', 'younger', 'youngest', 'youngster', 'youth', 'youtub', 'zero', 'zoey', 'zombi', 'zone', 'zoom']\n"
          ],
          "name": "stdout"
        }
      ]
    },
    {
      "cell_type": "code",
      "metadata": {
        "id": "CThrGaABjH8f"
      },
      "source": [
        "# Convert to a full rank matrix\n",
        "X = X.toarray()\n",
        "\n",
        "# Optional: normalize each vector to sum 1 -- convert counts into proportions\n",
        "row_sums = X.sum(axis=1)\n",
        "X = X / row_sums[:, np.newaxis]"
      ],
      "execution_count": null,
      "outputs": []
    },
    {
      "cell_type": "code",
      "metadata": {
        "colab": {
          "base_uri": "https://localhost:8080/"
        },
        "id": "87I85QRzjIUb",
        "outputId": "b1c434db-eaf3-47e1-d855-26a09ba75273"
      },
      "source": [
        "# Get labels\n",
        "Y = np.array([sentiment == 'positive' for sentiment in movie_reviews['sentiment']], dtype='int32')\n",
        "\n",
        "print(Y.shape)\n",
        "print(np.unique(Y))"
      ],
      "execution_count": null,
      "outputs": [
        {
          "output_type": "stream",
          "text": [
            "(20000,)\n",
            "[0 1]\n"
          ],
          "name": "stdout"
        }
      ]
    },
    {
      "cell_type": "code",
      "metadata": {
        "id": "ZkJcWAv6Sn93"
      },
      "source": [
        "# 1) Divide los datos en entrenamiento, validación y test\n",
        "# 2) Elige y entrena un clasificador para los datos.\n",
        "# 3) Verifica si usando más o menos palabras en el diccionario, resulta en mejor\n",
        "# desempeño de clasificación.\n",
        "# 4) ¿Usando algún método de reducción de dimensionalidad mejora el desempeño?"
      ],
      "execution_count": null,
      "outputs": []
    },
    {
      "cell_type": "code",
      "metadata": {
        "id": "1_ipBJtWmA8E"
      },
      "source": [
        ""
      ],
      "execution_count": null,
      "outputs": []
    }
  ]
}
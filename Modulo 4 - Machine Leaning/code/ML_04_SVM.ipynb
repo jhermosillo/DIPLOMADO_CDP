{
  "nbformat": 4,
  "nbformat_minor": 0,
  "metadata": {
    "colab": {
      "name": "ML_04_SVM.ipynb",
      "provenance": [],
      "collapsed_sections": [],
      "authorship_tag": "ABX9TyOrDPACOqsQ6QmfKjQPTqqJ",
      "include_colab_link": true
    },
    "kernelspec": {
      "name": "python3",
      "display_name": "Python 3"
    },
    "language_info": {
      "name": "python"
    }
  },
  "cells": [
    {
      "cell_type": "markdown",
      "metadata": {
        "id": "view-in-github",
        "colab_type": "text"
      },
      "source": [
        "<a href=\"https://colab.research.google.com/github/jhermosillo/DIPLOMADO_CDP/blob/main/Modulo%204%20-%20Machine%20Leaning/code/ML_04_SVM.ipynb\" target=\"_parent\"><img src=\"https://colab.research.google.com/assets/colab-badge.svg\" alt=\"Open In Colab\"/></a>"
      ]
    },
    {
      "cell_type": "code",
      "metadata": {
        "id": "glVe2E6ySpTP"
      },
      "source": [
        "import numpy as np\n",
        "import matplotlib.pyplot as plt\n",
        "from sklearn.model_selection import train_test_split, GridSearchCV\n",
        "from sklearn.svm import SVC"
      ],
      "execution_count": 1,
      "outputs": []
    },
    {
      "cell_type": "code",
      "metadata": {
        "colab": {
          "base_uri": "https://localhost:8080/",
          "height": 279
        },
        "id": "gDNOtk2FTRDv",
        "outputId": "cf87fb06-8e06-4576-ced6-047f9dbc257d"
      },
      "source": [
        "# Create a XOR dataset\n",
        "X = np.random.randn(1000, 2)\n",
        "Y = np.array([int(np.logical_xor(x[0] > 0, x[1] > 0)) for x in X])\n",
        "\n",
        "plt.figure(figsize=(8, 4))\n",
        "plt.scatter(X[Y==0, 0], X[Y==0, 1], s=10, label='0')\n",
        "plt.scatter(X[Y==1, 0], X[Y==1, 1], s=10, label='1')\n",
        "plt.legend()\n",
        "plt.grid(True)\n",
        "plt.xlabel('x1')\n",
        "plt.ylabel('x2')\n",
        "plt.show()"
      ],
      "execution_count": 2,
      "outputs": [
        {
          "output_type": "display_data",
          "data": {
            "image/png": "[encoded data removed]",
            "text/plain": [
              "<Figure size 576x288 with 1 Axes>"
            ]
          },
          "metadata": {
            "tags": [],
            "needs_background": "light"
          }
        }
      ]
    },
    {
      "cell_type": "code",
      "metadata": {
        "colab": {
          "base_uri": "https://localhost:8080/"
        },
        "id": "n7-Hi2BmTUrd",
        "outputId": "62caa6ed-161a-47cc-fc1e-a76889996f07"
      },
      "source": [
        "# Split dataset\n",
        "x_train, x_test, y_train, y_test = train_test_split(X, Y, test_size=0.2)\n",
        "x_train, x_val, y_train, y_val = train_test_split(x_train, y_train, test_size=0.1)\n",
        "\n",
        "print(x_train.shape)\n",
        "print(x_val.shape)\n",
        "print(x_test.shape)\n",
        "print(y_train.shape)\n",
        "print(y_val.shape)\n",
        "print(y_test.shape)"
      ],
      "execution_count": 3,
      "outputs": [
        {
          "output_type": "stream",
          "text": [
            "(720, 2)\n",
            "(80, 2)\n",
            "(200, 2)\n",
            "(720,)\n",
            "(80,)\n",
            "(200,)\n"
          ],
          "name": "stdout"
        }
      ]
    },
    {
      "cell_type": "markdown",
      "metadata": {
        "id": "FEmnVOw6XJqq"
      },
      "source": [
        "# Part 2: Classification"
      ]
    },
    {
      "cell_type": "code",
      "metadata": {
        "colab": {
          "base_uri": "https://localhost:8080/"
        },
        "id": "Qt_JmIokV0xU",
        "outputId": "5b808d17-a0f0-41ee-cd85-0e11cb4e5a6f"
      },
      "source": [
        "# Create a linear SVM and train it\n",
        "lin_svm = SVC(kernel='linear')\n",
        "lin_svm.fit(x_train, y_train)\n",
        "\n",
        "# Print performance\n",
        "print(f\"Training mean accuracy: {lin_svm.score(x_train, y_train):6.4f}\")\n",
        "print(f\"Test mean accuracy: {lin_svm.score(x_val, y_val):6.4f}\")"
      ],
      "execution_count": 4,
      "outputs": [
        {
          "output_type": "stream",
          "text": [
            "Training mean accuracy: 0.5125\n",
            "Test mean accuracy: 0.5750\n"
          ],
          "name": "stdout"
        }
      ]
    },
    {
      "cell_type": "code",
      "metadata": {
        "id": "cqKTo7I1W1QC"
      },
      "source": [
        "# Encuentra el mejor SVM utilizando grid search\n",
        "# Guíate por el desempeño en el set de entrenamiento y validación.\n",
        "# Prueba los siguientes hyperparámetros.\n",
        "# kernel = linear, polynomial, rbf\n",
        "# C = 0.01, 0.1, 1.0, 10, 100\n",
        "# grado del polinomio = 1, 2, 3, 4 (solo para el kernel polinomial)\n",
        "# gamma = auto, scale"
      ],
      "execution_count": 5,
      "outputs": []
    },
    {
      "cell_type": "code",
      "metadata": {
        "id": "fehVJTIZZEmP",
        "colab": {
          "base_uri": "https://localhost:8080/"
        },
        "outputId": "3b82fa11-802e-4886-8ef6-a3c0b3a09b6c"
      },
      "source": [
        "# Define grid search parameters\n",
        "param_grid = {'C': [0.01, 0.1, 1, 10, 100], 'kernel': ('linear', 'poly', 'rbf'),\n",
        "              'degree': [1, 2, 3, 4], 'gamma': ('auto', 'scale')}\n",
        "param_grid"
      ],
      "execution_count": 6,
      "outputs": [
        {
          "output_type": "execute_result",
          "data": {
            "text/plain": [
              "{'C': [0.01, 0.1, 1, 10, 100],\n",
              " 'degree': [1, 2, 3, 4],\n",
              " 'gamma': ('auto', 'scale'),\n",
              " 'kernel': ('linear', 'poly', 'rbf')}"
            ]
          },
          "metadata": {
            "tags": []
          },
          "execution_count": 6
        }
      ]
    },
    {
      "cell_type": "code",
      "metadata": {
        "id": "U_mFhIYkaG_y",
        "colab": {
          "base_uri": "https://localhost:8080/"
        },
        "outputId": "4adbe80d-7bce-4984-f017-14276e4e52b9"
      },
      "source": [
        "# Create and train the classifiers with grid search\n",
        "svc = SVC()\n",
        "clf = GridSearchCV(svc, param_grid)\n",
        "clf.fit(x_train, y_train)"
      ],
      "execution_count": 7,
      "outputs": [
        {
          "output_type": "execute_result",
          "data": {
            "text/plain": [
              "GridSearchCV(cv=None, error_score=nan,\n",
              "             estimator=SVC(C=1.0, break_ties=False, cache_size=200,\n",
              "                           class_weight=None, coef0=0.0,\n",
              "                           decision_function_shape='ovr', degree=3,\n",
              "                           gamma='scale', kernel='rbf', max_iter=-1,\n",
              "                           probability=False, random_state=None, shrinking=True,\n",
              "                           tol=0.001, verbose=False),\n",
              "             iid='deprecated', n_jobs=None,\n",
              "             param_grid={'C': [0.01, 0.1, 1, 10, 100], 'degree': [1, 2, 3, 4],\n",
              "                         'gamma': ('auto', 'scale'),\n",
              "                         'kernel': ('linear', 'poly', 'rbf')},\n",
              "             pre_dispatch='2*n_jobs', refit=True, return_train_score=False,\n",
              "             scoring=None, verbose=0)"
            ]
          },
          "metadata": {
            "tags": []
          },
          "execution_count": 7
        }
      ]
    },
    {
      "cell_type": "code",
      "metadata": {
        "id": "WgCYpURZbCH2",
        "colab": {
          "base_uri": "https://localhost:8080/"
        },
        "outputId": "7c20f74e-518f-4aa5-bbda-6e393368fe91"
      },
      "source": [
        "# Print info about best score and best hyperparameters\n",
        "print(f\"Best score: {clf.best_score_:.4f}\")\n",
        "print(f\"Best params: {clf.best_params_}\")"
      ],
      "execution_count": 8,
      "outputs": [
        {
          "output_type": "stream",
          "text": [
            "Best score: 0.9917\n",
            "Best params: {'C': 100, 'degree': 2, 'gamma': 'auto', 'kernel': 'poly'}\n"
          ],
          "name": "stdout"
        }
      ]
    },
    {
      "cell_type": "code",
      "metadata": {
        "colab": {
          "base_uri": "https://localhost:8080/"
        },
        "id": "jclaEUreczue",
        "outputId": "60592fc9-6396-41eb-aa4e-6d198d5fd4d2"
      },
      "source": [
        "# Evaluate on the test set\n",
        "best_svm = SVC(C=100, kernel='poly', degree=2, gamma='auto')\n",
        "best_svm.fit(x_train, y_train)\n",
        "\n",
        "print(f\"Train mean accuracy: {best_svm.score(x_train, y_train):6.4f}\")\n",
        "print(f\"Validation mean accuracy: {best_svm.score(x_val, y_val):6.4f}\")\n",
        "print(f\"Test mean accuracy: {best_svm.score(x_test, y_test):6.4f}\")"
      ],
      "execution_count": 9,
      "outputs": [
        {
          "output_type": "stream",
          "text": [
            "Train mean accuracy: 0.9944\n",
            "Validation mean accuracy: 0.9750\n",
            "Test mean accuracy: 0.9900\n"
          ],
          "name": "stdout"
        }
      ]
    },
    {
      "cell_type": "code",
      "metadata": {
        "id": "ZTSvVYqTdEwM"
      },
      "source": [
        ""
      ],
      "execution_count": null,
      "outputs": []
    }
  ]
}
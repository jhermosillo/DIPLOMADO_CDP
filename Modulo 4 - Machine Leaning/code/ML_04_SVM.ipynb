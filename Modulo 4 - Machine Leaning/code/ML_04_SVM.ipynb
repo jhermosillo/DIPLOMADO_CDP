{
  "nbformat": 4,
  "nbformat_minor": 0,
  "metadata": {
    "colab": {
      "name": "ML_04_SVM.ipynb",
      "provenance": [],
      "collapsed_sections": [],
      "authorship_tag": "ABX9TyNHKtu4wV5O1SogWEYGonwC",
      "include_colab_link": true
    },
    "kernelspec": {
      "name": "python3",
      "display_name": "Python 3"
    },
    "language_info": {
      "name": "python"
    }
  },
  "cells": [
    {
      "cell_type": "markdown",
      "metadata": {
        "id": "view-in-github",
        "colab_type": "text"
      },
      "source": [
        "<a href=\"https://colab.research.google.com/github/jhermosillo/DIPLOMADO_CDP/blob/main/Modulo%204%20-%20Machine%20Leaning/code/ML_04_SVM.ipynb\" target=\"_parent\"><img src=\"https://colab.research.google.com/assets/colab-badge.svg\" alt=\"Open In Colab\"/></a>"
      ]
    },
    {
      "cell_type": "code",
      "metadata": {
        "id": "glVe2E6ySpTP"
      },
      "source": [
        "import numpy as np\n",
        "import matplotlib.pyplot as plt\n",
        "from sklearn.model_selection import train_test_split, GridSearchCV\n",
        "from sklearn.svm import SVC"
      ],
      "execution_count": 1,
      "outputs": []
    },
    {
      "cell_type": "code",
      "metadata": {
        "colab": {
          "base_uri": "https://localhost:8080/",
          "height": 279
        },
        "id": "gDNOtk2FTRDv",
        "outputId": "c2cd175b-dcf3-48dd-9f08-c04bd11fc664"
      },
      "source": [
        "# Create a XOR dataset\n",
        "X = np.random.randn(1000, 2)\n",
        "Y = np.array([int(np.logical_xor(x[0] > 0, x[1] > 0)) for x in X])\n",
        "\n",
        "plt.figure(figsize=(8, 4))\n",
        "plt.scatter(X[Y==0, 0], X[Y==0, 1], s=10, label='0')\n",
        "plt.scatter(X[Y==1, 0], X[Y==1, 1], s=10, label='1')\n",
        "plt.legend()\n",
        "plt.grid(True)\n",
        "plt.xlabel('x1')\n",
        "plt.ylabel('x2')\n",
        "plt.show()"
      ],
      "execution_count": 2,
      "outputs": [
        {
          "output_type": "display_data",
          "data": {
            "image/png": "[encoded data removed]",
            "text/plain": [
              "<Figure size 576x288 with 1 Axes>"
            ]
          },
          "metadata": {
            "tags": [],
            "needs_background": "light"
          }
        }
      ]
    },
    {
      "cell_type": "code",
      "metadata": {
        "colab": {
          "base_uri": "https://localhost:8080/"
        },
        "id": "n7-Hi2BmTUrd",
        "outputId": "57dddc67-bc83-4177-9b29-4713fc9d479d"
      },
      "source": [
        "# Split dataset\n",
        "x_train, x_test, y_train, y_test = train_test_split(X, Y, test_size=0.2)\n",
        "x_train, x_val, y_train, y_val = train_test_split(x_train, y_train, test_size=0.1)\n",
        "\n",
        "print(x_train.shape)\n",
        "print(x_val.shape)\n",
        "print(x_test.shape)\n",
        "print(y_train.shape)\n",
        "print(y_val.shape)\n",
        "print(y_test.shape)"
      ],
      "execution_count": 3,
      "outputs": [
        {
          "output_type": "stream",
          "text": [
            "(720, 2)\n",
            "(80, 2)\n",
            "(200, 2)\n",
            "(720,)\n",
            "(80,)\n",
            "(200,)\n"
          ],
          "name": "stdout"
        }
      ]
    },
    {
      "cell_type": "markdown",
      "metadata": {
        "id": "FEmnVOw6XJqq"
      },
      "source": [
        "# Part 2: Classification"
      ]
    },
    {
      "cell_type": "code",
      "metadata": {
        "colab": {
          "base_uri": "https://localhost:8080/"
        },
        "id": "Qt_JmIokV0xU",
        "outputId": "ca87cb39-1527-439a-db46-5a1da7ccaf68"
      },
      "source": [
        "# Create a linear SVM and train it\n",
        "lin_svm = SVC(kernel='linear')\n",
        "lin_svm.fit(x_train, y_train)\n",
        "\n",
        "# Print performance\n",
        "print(f\"Training mean accuracy: {lin_svm.score(x_train, y_train):6.4f}\")\n",
        "print(f\"Test mean accuracy: {lin_svm.score(x_val, y_val):6.4f}\")"
      ],
      "execution_count": 4,
      "outputs": [
        {
          "output_type": "stream",
          "text": [
            "Training mean accuracy: 0.5278\n",
            "Test mean accuracy: 0.4875\n"
          ],
          "name": "stdout"
        }
      ]
    },
    {
      "cell_type": "code",
      "metadata": {
        "id": "cqKTo7I1W1QC"
      },
      "source": [
        "# Encuentra el mejor SVM utilizando grid search\n",
        "# Guiante por el desempeño en el set de entrenamiento y validación.\n",
        "# Prueba los siguientes hyperparámetros.\n",
        "# kernel = linear, polynomial, rbf\n",
        "# C = 0.01, 0.1, 1.0, 10, 100\n",
        "# grado del polinomio = 1, 2, 3, 4 (solo para el kernel polinomial)\n",
        "# gamma = auto, scale"
      ],
      "execution_count": null,
      "outputs": []
    },
    {
      "cell_type": "code",
      "metadata": {
        "id": "fehVJTIZZEmP"
      },
      "source": [
        "# Define grid search parameters\n"
      ],
      "execution_count": null,
      "outputs": []
    },
    {
      "cell_type": "code",
      "metadata": {
        "id": "U_mFhIYkaG_y"
      },
      "source": [
        "# Create and train the classifiers with grid search\n"
      ],
      "execution_count": null,
      "outputs": []
    },
    {
      "cell_type": "code",
      "metadata": {
        "id": "WgCYpURZbCH2"
      },
      "source": [
        "# Print info about best score and best hyperparameters\n",
        "print(f\"Best score: {clf.best_score_:.4f}\")\n",
        "print(f\"Best params: {clf.best_params_}\")"
      ],
      "execution_count": null,
      "outputs": []
    },
    {
      "cell_type": "code",
      "metadata": {
        "colab": {
          "base_uri": "https://localhost:8080/"
        },
        "id": "jclaEUreczue",
        "outputId": "d96a1ab2-4863-4cbe-d7cd-5dd3a0958552"
      },
      "source": [
        "# Evaluate on the test set\n",
        "print(f\"Test mean accuracy: {clf.score(x_test, y_test):6.4f}\")"
      ],
      "execution_count": null,
      "outputs": [
        {
          "output_type": "stream",
          "text": [
            "Test mean accuracy: 1.0000\n"
          ],
          "name": "stdout"
        }
      ]
    },
    {
      "cell_type": "code",
      "metadata": {
        "id": "ZTSvVYqTdEwM"
      },
      "source": [
        ""
      ],
      "execution_count": null,
      "outputs": []
    }
  ]
}
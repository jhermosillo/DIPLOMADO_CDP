{
  "nbformat": 4,
  "nbformat_minor": 0,
  "metadata": {
    "colab": {
      "name": "ML_02_NaiveBayes.ipynb",
      "provenance": [],
      "collapsed_sections": [],
      "authorship_tag": "ABX9TyMpqjj1uJgL15uuilQWcMFG",
      "include_colab_link": true
    },
    "kernelspec": {
      "name": "python3",
      "display_name": "Python 3"
    },
    "language_info": {
      "name": "python"
    }
  },
  "cells": [
    {
      "cell_type": "markdown",
      "metadata": {
        "id": "view-in-github",
        "colab_type": "text"
      },
      "source": [
        "<a href=\"https://colab.research.google.com/github/jhermosillo/DIPLOMADO_CDP/blob/main/Modulo%204%20-%20Machine%20Leaning/code/ML_02_NaiveBayes.ipynb\" target=\"_parent\"><img src=\"https://colab.research.google.com/assets/colab-badge.svg\" alt=\"Open In Colab\"/></a>"
      ]
    },
    {
      "cell_type": "code",
      "metadata": {
        "id": "vXVspVerTirY"
      },
      "source": [
        "import numpy as np\n",
        "import matplotlib.pyplot as plt\n",
        "from sklearn import datasets\n",
        "from sklearn.model_selection import train_test_split\n",
        "from sklearn.naive_bayes import MultinomialNB\n",
        "from sklearn.metrics import confusion_matrix, ConfusionMatrixDisplay, classification_report"
      ],
      "execution_count": 35,
      "outputs": []
    },
    {
      "cell_type": "markdown",
      "metadata": {
        "id": "YCi8wSp7WgG9"
      },
      "source": [
        "# Part 1: Load data"
      ]
    },
    {
      "cell_type": "code",
      "metadata": {
        "colab": {
          "base_uri": "https://localhost:8080/"
        },
        "id": "0_Peumb8ToBq",
        "outputId": "c2e5c467-9dc1-4dd5-fcef-e953df4e2923"
      },
      "source": [
        "#Load dataset\n",
        "wine = datasets.load_wine()\n",
        "\n",
        "# Print info about features names and labels names\n",
        "print(\"Features:\", wine.feature_names)\n",
        "print(\"Labels:\", wine.target_names)"
      ],
      "execution_count": 4,
      "outputs": [
        {
          "output_type": "stream",
          "text": [
            "Features: ['alcohol', 'malic_acid', 'ash', 'alcalinity_of_ash', 'magnesium', 'total_phenols', 'flavanoids', 'nonflavanoid_phenols', 'proanthocyanins', 'color_intensity', 'hue', 'od280/od315_of_diluted_wines', 'proline']\n",
            "Labels: ['class_0' 'class_1' 'class_2']\n"
          ],
          "name": "stdout"
        }
      ]
    },
    {
      "cell_type": "code",
      "metadata": {
        "colab": {
          "base_uri": "https://localhost:8080/"
        },
        "id": "PpkrYxxSTyUR",
        "outputId": "7531c501-2e7f-4276-eac7-6e54362161b1"
      },
      "source": [
        "# Print infor about feature values\n",
        "print(wine.data.shape)\n",
        "[print(*line) for line in wine.data[0:5]]"
      ],
      "execution_count": 10,
      "outputs": [
        {
          "output_type": "stream",
          "text": [
            "(178, 13)\n",
            "14.23 1.71 2.43 15.6 127.0 2.8 3.06 0.28 2.29 5.64 1.04 3.92 1065.0\n",
            "13.2 1.78 2.14 11.2 100.0 2.65 2.76 0.26 1.28 4.38 1.05 3.4 1050.0\n",
            "13.16 2.36 2.67 18.6 101.0 2.8 3.24 0.3 2.81 5.68 1.03 3.17 1185.0\n",
            "14.37 1.95 2.5 16.8 113.0 3.85 3.49 0.24 2.18 7.8 0.86 3.45 1480.0\n",
            "13.24 2.59 2.87 21.0 118.0 2.8 2.69 0.39 1.82 4.32 1.04 2.93 735.0\n"
          ],
          "name": "stdout"
        },
        {
          "output_type": "execute_result",
          "data": {
            "text/plain": [
              "[None, None, None, None, None]"
            ]
          },
          "metadata": {
            "tags": []
          },
          "execution_count": 10
        }
      ]
    },
    {
      "cell_type": "code",
      "metadata": {
        "colab": {
          "base_uri": "https://localhost:8080/"
        },
        "id": "qBOH8SL6T8Rl",
        "outputId": "f619bbae-d708-4505-e3b7-55f867671311"
      },
      "source": [
        "# See labels\n",
        "print(wine.target)"
      ],
      "execution_count": 11,
      "outputs": [
        {
          "output_type": "stream",
          "text": [
            "[0 0 0 0 0 0 0 0 0 0 0 0 0 0 0 0 0 0 0 0 0 0 0 0 0 0 0 0 0 0 0 0 0 0 0 0 0\n",
            " 0 0 0 0 0 0 0 0 0 0 0 0 0 0 0 0 0 0 0 0 0 0 1 1 1 1 1 1 1 1 1 1 1 1 1 1 1\n",
            " 1 1 1 1 1 1 1 1 1 1 1 1 1 1 1 1 1 1 1 1 1 1 1 1 1 1 1 1 1 1 1 1 1 1 1 1 1\n",
            " 1 1 1 1 1 1 1 1 1 1 1 1 1 1 1 1 1 1 1 2 2 2 2 2 2 2 2 2 2 2 2 2 2 2 2 2 2\n",
            " 2 2 2 2 2 2 2 2 2 2 2 2 2 2 2 2 2 2 2 2 2 2 2 2 2 2 2 2 2 2]\n"
          ],
          "name": "stdout"
        }
      ]
    },
    {
      "cell_type": "code",
      "metadata": {
        "colab": {
          "base_uri": "https://localhost:8080/"
        },
        "id": "9a1UTRNVT8er",
        "outputId": "dee85dbb-6189-4f19-8d6c-2b4f750d8b96"
      },
      "source": [
        "# Split data\n",
        "x_train, x_test, y_train, y_test = train_test_split(wine.data, wine.target, test_size=0.2, random_state=42)\n",
        "\n",
        "print(x_train.shape)\n",
        "print(x_test.shape)\n",
        "print(y_train.shape)\n",
        "print(y_test.shape)"
      ],
      "execution_count": 13,
      "outputs": [
        {
          "output_type": "stream",
          "text": [
            "(142, 13)\n",
            "(36, 13)\n",
            "(142,)\n",
            "(36,)\n"
          ],
          "name": "stdout"
        }
      ]
    },
    {
      "cell_type": "markdown",
      "metadata": {
        "id": "p4yxbE9rW2sb"
      },
      "source": [
        "# Part 2: Train a naive Bayes classifier"
      ]
    },
    {
      "cell_type": "code",
      "metadata": {
        "colab": {
          "base_uri": "https://localhost:8080/"
        },
        "id": "nmeyk8xiT9Fr",
        "outputId": "6e757995-02c9-441a-fb6a-9926e43a8e20"
      },
      "source": [
        "# Create and train a model\n",
        "NBC = MultinomialNB()\n",
        "NBC.fit(x_train, y_train)\n",
        "\n",
        "# Print some info after training\n",
        "print(f\"Classes found: {NBC.classes_}\")\n",
        "print() # class frequency\n",
        "print() # class likelihood, p(y)\n",
        "print() # priors, p(x|y)\n",
        "\n",
        "# Consulta la documentación the MultinomialNB en sklearn, encuentra la manera de\n",
        "# imprimir la información faltante en las tres líneas anteriores.\n",
        "# ¿Notan algo raro en los valores? ¿Por qué creen que se vean así?"
      ],
      "execution_count": 22,
      "outputs": [
        {
          "output_type": "stream",
          "text": [
            "Classes found: [0 1 2]\n",
            "\n",
            "\n",
            "\n"
          ],
          "name": "stdout"
        }
      ]
    },
    {
      "cell_type": "code",
      "metadata": {
        "colab": {
          "base_uri": "https://localhost:8080/"
        },
        "id": "XzTzGYGnT8uH",
        "outputId": "6f39c308-d0d3-42ba-ec94-7199f7da7d70"
      },
      "source": [
        "# Imprime el desempeño del modelo en los sets de entrenamiento y test\n",
        "# ¿Hay sobre entrenamiento?\n",
        "y_test_hat = NBC.predict(x_test)\n",
        "print(f\"Ground truth:\", y_test)\n",
        "print(f\"Predictions: \", y_test_hat)"
      ],
      "execution_count": 27,
      "outputs": [
        {
          "output_type": "stream",
          "text": [
            "Ground truth: [0 0 2 0 1 0 1 2 1 2 0 2 0 1 0 1 1 1 0 1 0 1 1 2 2 2 1 1 1 0 0 1 2 0 0 0]\n",
            "Predictions:  [0 0 2 0 1 0 1 2 1 0 0 1 0 1 0 1 1 1 0 1 0 1 2 2 2 2 1 1 1 0 0 1 0 0 0 0]\n"
          ],
          "name": "stdout"
        }
      ]
    },
    {
      "cell_type": "markdown",
      "metadata": {
        "id": "PfP6A7xGaQ-G"
      },
      "source": [
        "# Part3: Performance evaluation"
      ]
    },
    {
      "cell_type": "code",
      "metadata": {
        "colab": {
          "base_uri": "https://localhost:8080/",
          "height": 300
        },
        "id": "FRmlPU-cZ2ki",
        "outputId": "0cbeefe4-4387-4883-846b-3a033112ee34"
      },
      "source": [
        "# Generate and plot confusion matrix\n",
        "CM = confusion_matrix(y_test, y_test_hat, labels=NBC.classes_)\n",
        "disp = ConfusionMatrixDisplay(confusion_matrix=CM, display_labels=NBC.classes_)\n",
        "disp.plot()"
      ],
      "execution_count": 34,
      "outputs": [
        {
          "output_type": "execute_result",
          "data": {
            "text/plain": [
              "<sklearn.metrics._plot.confusion_matrix.ConfusionMatrixDisplay at 0x7f90bc8680d0>"
            ]
          },
          "metadata": {
            "tags": []
          },
          "execution_count": 34
        },
        {
          "output_type": "display_data",
          "data": {
            "image/png": "[encoded data removed]",
            "text/plain": [
              "<Figure size 432x288 with 2 Axes>"
            ]
          },
          "metadata": {
            "tags": [],
            "needs_background": "light"
          }
        }
      ]
    },
    {
      "cell_type": "code",
      "metadata": {
        "colab": {
          "base_uri": "https://localhost:8080/"
        },
        "id": "i5OE0k_7bEcG",
        "outputId": "ec193a3c-cbe1-4fd8-f1a2-cb70c4870876"
      },
      "source": [
        "# Print classification summary\n",
        "print(classification_report(y_test, y_test_hat, labels=NBC.classes_))"
      ],
      "execution_count": 36,
      "outputs": [
        {
          "output_type": "stream",
          "text": [
            "              precision    recall  f1-score   support\n",
            "\n",
            "           0       0.88      1.00      0.93        14\n",
            "           1       0.93      0.93      0.93        14\n",
            "           2       0.83      0.62      0.71         8\n",
            "\n",
            "    accuracy                           0.89        36\n",
            "   macro avg       0.88      0.85      0.86        36\n",
            "weighted avg       0.89      0.89      0.88        36\n",
            "\n"
          ],
          "name": "stdout"
        }
      ]
    },
    {
      "cell_type": "code",
      "metadata": {
        "id": "W4Fefrslc4r1"
      },
      "source": [
        ""
      ],
      "execution_count": null,
      "outputs": []
    }
  ]
}
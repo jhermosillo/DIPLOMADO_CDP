{
  "nbformat": 4,
  "nbformat_minor": 0,
  "metadata": {
    "colab": {
      "name": "ML_Class_Methods.ipynb",
      "provenance": [],
      "collapsed_sections": [],
      "include_colab_link": true
    },
    "kernelspec": {
      "name": "python3",
      "display_name": "Python 3"
    }
  },
  "cells": [
    {
      "cell_type": "markdown",
      "metadata": {
        "id": "view-in-github",
        "colab_type": "text"
      },
      "source": [
        "<a href=\"https://colab.research.google.com/github/jhermosillo/DIPLOMADO_CDP/blob/main/code/try01.ipynb\" target=\"_parent\"><img src=\"https://colab.research.google.com/assets/colab-badge.svg\" alt=\"Open In Colab\"/></a>"
      ]
    },
    {
      "cell_type": "code",
      "metadata": {
        "id": "fxPIWDUUQINj"
      },
      "source": [
        "# Import a dataset\n",
        "import numpy as np\n",
        "import matplotlib.pyplot as plt\n",
        "from sklearn import datasets\n",
        "iris = datasets.load_iris()\n",
        "X = iris.data[:100]\n",
        "Y = iris.target[:100]"
      ],
      "execution_count": null,
      "outputs": []
    },
    {
      "cell_type": "code",
      "metadata": {
        "id": "O0y122k_RJ1h",
        "colab": {
          "base_uri": "https://localhost:8080/",
          "height": 337
        },
        "outputId": "e71277bf-aa3f-45f8-bda1-5d2831070894"
      },
      "source": [
        "# Plot data\n",
        "plt.figure(figsize=(16, 5))\n",
        "ax1 = plt.subplot(1, 2, 1)\n",
        "ax1.plot(X[Y==0, 0], X[Y==0, 1], '.', markersize=12, label='Class 0')\n",
        "ax1.plot(X[Y==1, 0], X[Y==1, 1], '.', markersize=12, label='Class 1')\n",
        "ax1.set_xlabel('$x_{1}$')\n",
        "ax1.set_ylabel('$x_{2}$')\n",
        "ax1.legend()\n",
        "ax2 = plt.subplot(1, 2, 2)\n",
        "ax2.plot(X[Y==0, 2], X[Y==0, 3], '.', markersize=12, label='Class 0')\n",
        "ax2.plot(X[Y==1, 2], X[Y==1, 3], '.', markersize=12, label='Class 1')\n",
        "ax2.set_xlabel('$x_{3}$')\n",
        "ax2.set_ylabel('$x_{4}$')\n",
        "ax2.legend()\n",
        "plt.show()"
      ],
      "execution_count": null,
      "outputs": [
        {
          "output_type": "display_data",
          "data": {
            "image/png": "[encoded data removed]",
            "text/plain": [
              "<Figure size 1152x360 with 2 Axes>"
            ]
          },
          "metadata": {
            "tags": []
          }
        }
      ]
    },
    {
      "cell_type": "code",
      "metadata": {
        "id": "gYMoybruTd01",
        "colab": {
          "base_uri": "https://localhost:8080/",
          "height": 86
        },
        "outputId": "541919cc-a41d-49cd-a3d9-b500870576cb"
      },
      "source": [
        "# Separate data\n",
        "X_train = np.concatenate((X[:40], X[50:90]), axis=0)\n",
        "X_val = np.concatenate((X[40:50], X[90:]), axis=0)\n",
        "Y_train = np.concatenate((Y[:40], Y[50:90]), axis=0)\n",
        "Y_val = np.concatenate((Y[40:50], Y[90:]), axis=0)\n",
        "print(X_train.shape)\n",
        "print(X_val.shape)\n",
        "print(Y_train.shape)\n",
        "print(Y_val.shape)"
      ],
      "execution_count": null,
      "outputs": [
        {
          "output_type": "stream",
          "text": [
            "(80, 4)\n",
            "(20, 4)\n",
            "(80,)\n",
            "(20,)\n"
          ],
          "name": "stdout"
        }
      ]
    },
    {
      "cell_type": "code",
      "metadata": {
        "id": "mGpzsZXgRLvR",
        "colab": {
          "base_uri": "https://localhost:8080/",
          "height": 34
        },
        "outputId": "ba6c9f24-976e-4ed3-d360-d4365896354c"
      },
      "source": [
        "# Train a Gaussian Bayes classifier and predict\n",
        "from sklearn.naive_bayes import GaussianNB\n",
        "gnb = GaussianNB()\n",
        "y_pred = gnb.fit(X_train, Y_train).predict(X_val)\n",
        "print(y_pred)"
      ],
      "execution_count": null,
      "outputs": [
        {
          "output_type": "stream",
          "text": [
            "[0 0 0 0 0 0 0 0 0 0 1 1 1 1 1 1 1 1 1 1]\n"
          ],
          "name": "stdout"
        }
      ]
    },
    {
      "cell_type": "code",
      "metadata": {
        "id": "xk_FjkCdTQQ7",
        "colab": {
          "base_uri": "https://localhost:8080/",
          "height": 34
        },
        "outputId": "e3d4e602-31d6-4984-9383-979ca5c62312"
      },
      "source": [
        "# Compute error\n",
        "err = np.sqrt(((y_pred - Y_val)**2).sum())\n",
        "print(f\"Classification error: {err}\")"
      ],
      "execution_count": null,
      "outputs": [
        {
          "output_type": "stream",
          "text": [
            "Classification error: 0.0\n"
          ],
          "name": "stdout"
        }
      ]
    },
    {
      "cell_type": "code",
      "metadata": {
        "id": "w5EH2LfuTQ8Z",
        "colab": {
          "base_uri": "https://localhost:8080/",
          "height": 34
        },
        "outputId": "7f9fa867-8d6e-4f8d-9172-3eb33522190c"
      },
      "source": [
        "# Train a Multinomial Naive Bayes classifier\n",
        "from sklearn.naive_bayes import MultinomialNB\n",
        "clf = MultinomialNB(alpha=1.0, class_prior=None, fit_prior=True)\n",
        "clf.fit(X_train, Y_train)\n",
        "y_pred = clf.predict(X_val)\n",
        "print(y_pred)"
      ],
      "execution_count": null,
      "outputs": [
        {
          "output_type": "stream",
          "text": [
            "[0 0 0 0 0 0 0 0 0 0 1 1 1 1 1 1 1 1 1 1]\n"
          ],
          "name": "stdout"
        }
      ]
    },
    {
      "cell_type": "code",
      "metadata": {
        "id": "U7_Oda_lVmbp",
        "colab": {
          "base_uri": "https://localhost:8080/",
          "height": 34
        },
        "outputId": "f089d0f4-7046-44cf-a8c4-834fb27f7d05"
      },
      "source": [
        "# Compute error\n",
        "err = np.sqrt(((y_pred - Y_val)**2).sum())\n",
        "print(f\"Classification error: {err}\")"
      ],
      "execution_count": null,
      "outputs": [
        {
          "output_type": "stream",
          "text": [
            "Classification error: 0.0\n"
          ],
          "name": "stdout"
        }
      ]
    },
    {
      "cell_type": "code",
      "metadata": {
        "id": "q5I81P5QZtxe",
        "colab": {
          "base_uri": "https://localhost:8080/",
          "height": 34
        },
        "outputId": "5d033116-bf4a-4de0-c5ce-ed3aab2c92fb"
      },
      "source": [
        "# SVM with Linear Kernel\n",
        "from sklearn import svm\n",
        "clf = svm.SVC(kernel='linear')\n",
        "clf.fit(X_train, Y_train)\n",
        "y_pred = clf.predict(X_val)\n",
        "print(y_pred)"
      ],
      "execution_count": null,
      "outputs": [
        {
          "output_type": "stream",
          "text": [
            "[0 0 0 0 0 0 0 0 0 0 1 1 1 1 1 1 1 1 1 1]\n"
          ],
          "name": "stdout"
        }
      ]
    },
    {
      "cell_type": "code",
      "metadata": {
        "id": "sxBHGFTVaIIa",
        "colab": {
          "base_uri": "https://localhost:8080/",
          "height": 34
        },
        "outputId": "6d9da025-1098-4e4d-a9f7-f02dc7026088"
      },
      "source": [
        "# Compute error\n",
        "err = np.sqrt(((y_pred - Y_val)**2).sum())\n",
        "print(f\"Classification error: {err}\")"
      ],
      "execution_count": null,
      "outputs": [
        {
          "output_type": "stream",
          "text": [
            "Classification error: 0.0\n"
          ],
          "name": "stdout"
        }
      ]
    },
    {
      "cell_type": "code",
      "metadata": {
        "id": "2JF-HWoVXo58",
        "colab": {
          "base_uri": "https://localhost:8080/",
          "height": 34
        },
        "outputId": "e940369a-66c9-4063-ea4b-4c8f5c03393b"
      },
      "source": [
        "# SVM with RBF Kernel\n",
        "from sklearn import svm\n",
        "clf = svm.SVC(gamma='scale')\n",
        "clf.fit(X_train, Y_train)\n",
        "y_pred = clf.predict(X_val)\n",
        "print(y_pred)"
      ],
      "execution_count": null,
      "outputs": [
        {
          "output_type": "stream",
          "text": [
            "[0 0 0 0 0 0 0 0 0 0 1 1 1 1 1 1 1 1 1 1]\n"
          ],
          "name": "stdout"
        }
      ]
    },
    {
      "cell_type": "code",
      "metadata": {
        "id": "yq33WMsGZHFh",
        "colab": {
          "base_uri": "https://localhost:8080/",
          "height": 34
        },
        "outputId": "67922887-a728-4db6-ace0-9c2072599e2f"
      },
      "source": [
        "# Compute error\n",
        "err = np.sqrt(((y_pred - Y_val)**2).sum())\n",
        "print(f\"Classification error: {err}\")"
      ],
      "execution_count": null,
      "outputs": [
        {
          "output_type": "stream",
          "text": [
            "Classification error: 0.0\n"
          ],
          "name": "stdout"
        }
      ]
    },
    {
      "cell_type": "code",
      "metadata": {
        "id": "DV8lHaQOZszy"
      },
      "source": [
        ""
      ],
      "execution_count": null,
      "outputs": []
    }
  ]
}
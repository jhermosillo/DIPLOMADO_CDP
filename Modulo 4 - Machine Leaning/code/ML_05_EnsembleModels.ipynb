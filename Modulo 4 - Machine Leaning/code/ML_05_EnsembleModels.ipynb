{
  "nbformat": 4,
  "nbformat_minor": 0,
  "metadata": {
    "colab": {
      "name": "ML_05_EnsembleModels.ipynb",
      "provenance": [],
      "collapsed_sections": [],
      "authorship_tag": "ABX9TyPipZ2NRYGdd9Ds8uyYWJpq",
      "include_colab_link": true
    },
    "kernelspec": {
      "name": "python3",
      "display_name": "Python 3"
    },
    "language_info": {
      "name": "python"
    }
  },
  "cells": [
    {
      "cell_type": "markdown",
      "metadata": {
        "id": "view-in-github",
        "colab_type": "text"
      },
      "source": [
        "<a href=\"https://colab.research.google.com/github/jhermosillo/DIPLOMADO_CDP/blob/main/Modulo%204%20-%20Machine%20Leaning/code/ML_05_EnsembleModels.ipynb\" target=\"_parent\"><img src=\"https://colab.research.google.com/assets/colab-badge.svg\" alt=\"Open In Colab\"/></a>"
      ]
    },
    {
      "cell_type": "code",
      "metadata": {
        "id": "qAihBwq2fW4f"
      },
      "source": [
        "import numpy as np\n",
        "import matplotlib.pyplot as plt\n",
        "import graphviz\n",
        "\n",
        "from sklearn.datasets import load_iris\n",
        "from sklearn.model_selection import train_test_split, GridSearchCV\n",
        "from sklearn.tree import DecisionTreeClassifier, plot_tree, export_graphviz\n",
        "from sklearn.ensemble import RandomForestClassifier, BaggingClassifier\n",
        "from sklearn.neighbors import KNeighborsClassifier\n",
        "from sklearn.linear_model import LogisticRegression\n",
        "from sklearn.metrics import confusion_matrix, ConfusionMatrixDisplay\n",
        "from tensorflow.keras.datasets import mnist"
      ],
      "execution_count": 73,
      "outputs": []
    },
    {
      "cell_type": "markdown",
      "metadata": {
        "id": "1io5kgieqWSt"
      },
      "source": [
        "# Load data"
      ]
    },
    {
      "cell_type": "code",
      "metadata": {
        "colab": {
          "base_uri": "https://localhost:8080/"
        },
        "id": "r_S0_vn6fkCg",
        "outputId": "b0232ed8-9bfc-4be8-b4d3-0534a3408bca"
      },
      "source": [
        "# Load data\n",
        "iris = load_iris()\n",
        "X = iris.data[:, :2]\n",
        "Y = iris.target\n",
        "\n",
        "# Split train - test\n",
        "x_train, x_test, y_train, y_test = train_test_split(X, Y, test_size=0.2)\n",
        "\n",
        "print(x_train.shape)\n",
        "print(x_test.shape)\n",
        "print(y_train.shape)\n",
        "print(y_test.shape)"
      ],
      "execution_count": 88,
      "outputs": [
        {
          "output_type": "stream",
          "text": [
            "(120, 2)\n",
            "(30, 2)\n",
            "(120,)\n",
            "(30,)\n"
          ],
          "name": "stdout"
        }
      ]
    },
    {
      "cell_type": "code",
      "metadata": {
        "colab": {
          "base_uri": "https://localhost:8080/",
          "height": 282
        },
        "id": "6Xm5Yvaughgl",
        "outputId": "5d1845b3-62c8-489d-a7bd-57faa46a5cb9"
      },
      "source": [
        "# Plot two features: petal length and petal width\n",
        "plt.figure(figsize=(6, 4))\n",
        "plt.scatter(x_train[y_train==0, 0], x_train[y_train==0, 1], label=\"train c1\")\n",
        "plt.scatter(x_train[y_train==1, 0], x_train[y_train==1, 1], label=\"train c2\")\n",
        "plt.scatter(x_train[y_train==2, 0], x_train[y_train==2, 1], label=\"train c3\")\n",
        "plt.scatter(x_test[y_test==0, 0], x_test[y_test==0, 1], label=\"test c1\")\n",
        "plt.scatter(x_test[y_test==1, 0], x_test[y_test==1, 1], label=\"test c2\")\n",
        "plt.scatter(x_test[y_test==2, 0], x_test[y_test==2, 1], label=\"test c3\")\n",
        "plt.legend()\n",
        "plt.grid(True)\n",
        "plt.xlabel('sepal length')\n",
        "plt.ylabel('sepal width')\n",
        "plt.show()"
      ],
      "execution_count": 77,
      "outputs": [
        {
          "output_type": "display_data",
          "data": {
            "image/png": "[encoded data removed]",
            "text/plain": [
              "<Figure size 432x288 with 1 Axes>"
            ]
          },
          "metadata": {
            "tags": [],
            "needs_background": "light"
          }
        }
      ]
    },
    {
      "cell_type": "code",
      "metadata": {
        "colab": {
          "base_uri": "https://localhost:8080/"
        },
        "id": "qQmQNT8bwIPb",
        "outputId": "d2a4a308-1beb-4ffa-88b6-cb9c1672050b"
      },
      "source": [
        "\"\"\"\n",
        "# Try with the mnist dataset\n",
        "(x_train, y_train), (x_test, y_test) = mnist.load_data()\n",
        "\n",
        "print(x_train.shape)\n",
        "print(x_test.shape)\n",
        "print(y_train.shape)\n",
        "print(y_test.shape)\n",
        "\"\"\""
      ],
      "execution_count": 85,
      "outputs": [
        {
          "output_type": "stream",
          "text": [
            "(60000, 28, 28)\n",
            "(10000, 28, 28)\n",
            "(60000,)\n",
            "(10000,)\n"
          ],
          "name": "stdout"
        }
      ]
    },
    {
      "cell_type": "code",
      "metadata": {
        "colab": {
          "base_uri": "https://localhost:8080/",
          "height": 101
        },
        "id": "hNQBEfUGwkrS",
        "outputId": "22fcb5bd-4408-4cff-f307-6891a0b1dc5b"
      },
      "source": [
        "\"\"\"\n",
        "# Show examples\n",
        "print(y_train[:20])\n",
        "\n",
        "plt.figure(figsize=(18, 3))\n",
        "for ind in range(20):\n",
        "  plt.subplot(1, 20, ind+1)\n",
        "  plt.imshow(x_train[ind], cmap='gray')\n",
        "  plt.axis('off')\n",
        "plt.tight_layout()\n",
        "plt.show()\n",
        "\"\"\""
      ],
      "execution_count": 87,
      "outputs": [
        {
          "output_type": "stream",
          "text": [
            "[5 0 4 1 9 2 1 3 1 4 3 5 3 6 1 7 2 8 6 9]\n"
          ],
          "name": "stdout"
        },
        {
          "output_type": "display_data",
          "data": {
            "image/png": "[encoded data removed]",
            "text/plain": [
              "<Figure size 1296x216 with 20 Axes>"
            ]
          },
          "metadata": {
            "tags": [],
            "needs_background": "light"
          }
        }
      ]
    },
    {
      "cell_type": "code",
      "metadata": {
        "id": "uAAeroESxvKf"
      },
      "source": [
        "\"\"\"\n",
        "# Reshape data\n",
        "x_train = x_train.reshape((len(x_train), -1))\n",
        "x_test = x_test.reshape((len(x_test), -1))\n",
        "\n",
        "print(x_train.shape)\n",
        "print(x_test.shape)\n",
        "\"\"\""
      ],
      "execution_count": null,
      "outputs": []
    },
    {
      "cell_type": "markdown",
      "metadata": {
        "id": "8TdJuRUeqa_F"
      },
      "source": [
        "# Decision trees"
      ]
    },
    {
      "cell_type": "code",
      "metadata": {
        "colab": {
          "base_uri": "https://localhost:8080/"
        },
        "id": "mPlwD9uEgDIT",
        "outputId": "54ab52d5-4587-42aa-f29d-3199619d9e35"
      },
      "source": [
        "# Create a decision tree classifier and train it\n",
        "cl1 = DecisionTreeClassifier(max_depth=3).fit(x_train, y_train)\n",
        "\n",
        "print(f\"Training mean accuracy: {cl1.score(x_train, y_train):6.4f}\")\n",
        "print(f\"Test mean accuracy: {cl1.score(x_test, y_test):6.4f}\")"
      ],
      "execution_count": 89,
      "outputs": [
        {
          "output_type": "stream",
          "text": [
            "Training mean accuracy: 0.8167\n",
            "Test mean accuracy: 0.8000\n"
          ],
          "name": "stdout"
        }
      ]
    },
    {
      "cell_type": "code",
      "metadata": {
        "colab": {
          "base_uri": "https://localhost:8080/",
          "height": 522
        },
        "id": "2GsrKzUUhnJx",
        "outputId": "e91b9024-5b33-4365-9bfa-de3c72e770a5"
      },
      "source": [
        "# Plot the trained tree\n",
        "dot_data = export_graphviz(cl1, out_file=None, feature_names=None,\n",
        "                          class_names=None, filled=True, rounded=True,\n",
        "                          special_characters=True)\n",
        "graph = graphviz.Source(dot_data)\n",
        "graph"
      ],
      "execution_count": 90,
      "outputs": [
        {
          "output_type": "execute_result",
          "data": {
            "text/plain": [
              "<graphviz.files.Source at 0x7ff01c321910>"
            ],
            "image/svg+xml": "<?xml version=\"1.0\" encoding=\"UTF-8\" standalone=\"no\"?>\n<!DOCTYPE svg PUBLIC \"-//W3C//DTD SVG 1.1//EN\"\n \"http://www.w3.org/Graphics/SVG/1.1/DTD/svg11.dtd\">\n<!-- Generated by graphviz version 2.40.1 (20161225.0304)\n -->\n<!-- Title: Tree Pages: 1 -->\n<svg width=\"1094pt\" height=\"361pt\"\n viewBox=\"0.00 0.00 1094.00 361.00\" xmlns=\"http://www.w3.org/2000/svg\" xmlns:xlink=\"http://www.w3.org/1999/xlink\">\n<g id=\"graph0\" class=\"graph\" transform=\"scale(1 1) rotate(0) translate(4 357)\">\n<title>Tree</title>\n<polygon fill=\"#ffffff\" stroke=\"transparent\" points=\"-4,4 -4,-357 1090,-357 1090,4 -4,4\"/>\n<!-- 0 -->\n<g id=\"node1\" class=\"node\">\n<title>0</title>\n<path fill=\"#fdfffd\" stroke=\"#000000\" d=\"M586.5,-353C586.5,-353 470.5,-353 470.5,-353 464.5,-353 458.5,-347 458.5,-341 458.5,-341 458.5,-301 458.5,-301 458.5,-295 464.5,-289 470.5,-289 470.5,-289 586.5,-289 586.5,-289 592.5,-289 598.5,-295 598.5,-301 598.5,-301 598.5,-341 598.5,-341 598.5,-347 592.5,-353 586.5,-353\"/>\n<text text-anchor=\"start\" x=\"498\" y=\"-338.8\" font-family=\"Helvetica,sans-Serif\" font-size=\"14.00\" fill=\"#000000\">X</text>\n<text text-anchor=\"start\" x=\"508\" y=\"-338.8\" font-family=\"Helvetica,sans-Serif\" baseline-shift=\"sub\" font-size=\"14.00\" fill=\"#000000\">0</text>\n<text text-anchor=\"start\" x=\"515\" y=\"-338.8\" font-family=\"Helvetica,sans-Serif\" font-size=\"14.00\" fill=\"#000000\"> ≤ 5.45</text>\n<text text-anchor=\"start\" x=\"490.5\" y=\"-324.8\" font-family=\"Helvetica,sans-Serif\" font-size=\"14.00\" fill=\"#000000\">gini = 0.667</text>\n<text text-anchor=\"start\" x=\"480.5\" y=\"-310.8\" font-family=\"Helvetica,sans-Serif\" font-size=\"14.00\" fill=\"#000000\">samples = 120</text>\n<text text-anchor=\"start\" x=\"466.5\" y=\"-296.8\" font-family=\"Helvetica,sans-Serif\" font-size=\"14.00\" fill=\"#000000\">value = [40, 41, 39]</text>\n</g>\n<!-- 1 -->\n<g id=\"node2\" class=\"node\">\n<title>1</title>\n<path fill=\"#e99558\" stroke=\"#000000\" d=\"M441,-253C441,-253 342,-253 342,-253 336,-253 330,-247 330,-241 330,-241 330,-201 330,-201 330,-195 336,-189 342,-189 342,-189 441,-189 441,-189 447,-189 453,-195 453,-201 453,-201 453,-241 453,-241 453,-247 447,-253 441,-253\"/>\n<text text-anchor=\"start\" x=\"365\" y=\"-238.8\" font-family=\"Helvetica,sans-Serif\" font-size=\"14.00\" fill=\"#000000\">X</text>\n<text text-anchor=\"start\" x=\"375\" y=\"-238.8\" font-family=\"Helvetica,sans-Serif\" baseline-shift=\"sub\" font-size=\"14.00\" fill=\"#000000\">1</text>\n<text text-anchor=\"start\" x=\"382\" y=\"-238.8\" font-family=\"Helvetica,sans-Serif\" font-size=\"14.00\" fill=\"#000000\"> ≤ 2.7</text>\n<text text-anchor=\"start\" x=\"353.5\" y=\"-224.8\" font-family=\"Helvetica,sans-Serif\" font-size=\"14.00\" fill=\"#000000\">gini = 0.246</text>\n<text text-anchor=\"start\" x=\"347.5\" y=\"-210.8\" font-family=\"Helvetica,sans-Serif\" font-size=\"14.00\" fill=\"#000000\">samples = 43</text>\n<text text-anchor=\"start\" x=\"338\" y=\"-196.8\" font-family=\"Helvetica,sans-Serif\" font-size=\"14.00\" fill=\"#000000\">value = [37, 5, 1]</text>\n</g>\n<!-- 0&#45;&gt;1 -->\n<g id=\"edge1\" class=\"edge\">\n<title>0&#45;&gt;1</title>\n<path fill=\"none\" stroke=\"#000000\" d=\"M484.3982,-288.8089C471.4428,-279.3524 457.148,-268.9182 443.736,-259.1285\"/>\n<polygon fill=\"#000000\" stroke=\"#000000\" points=\"445.6598,-256.1995 435.5191,-253.1308 441.5328,-261.8535 445.6598,-256.1995\"/>\n<text text-anchor=\"middle\" x=\"439.3754\" y=\"-274.1316\" font-family=\"Helvetica,sans-Serif\" font-size=\"14.00\" fill=\"#000000\">True</text>\n</g>\n<!-- 8 -->\n<g id=\"node9\" class=\"node\">\n<title>8</title>\n<path fill=\"#f9f5fe\" stroke=\"#000000\" d=\"M721,-253C721,-253 614,-253 614,-253 608,-253 602,-247 602,-241 602,-241 602,-201 602,-201 602,-195 608,-189 614,-189 614,-189 721,-189 721,-189 727,-189 733,-195 733,-201 733,-201 733,-241 733,-241 733,-247 727,-253 721,-253\"/>\n<text text-anchor=\"start\" x=\"637\" y=\"-238.8\" font-family=\"Helvetica,sans-Serif\" font-size=\"14.00\" fill=\"#000000\">X</text>\n<text text-anchor=\"start\" x=\"647\" y=\"-238.8\" font-family=\"Helvetica,sans-Serif\" baseline-shift=\"sub\" font-size=\"14.00\" fill=\"#000000\">0</text>\n<text text-anchor=\"start\" x=\"654\" y=\"-238.8\" font-family=\"Helvetica,sans-Serif\" font-size=\"14.00\" fill=\"#000000\"> ≤ 6.15</text>\n<text text-anchor=\"start\" x=\"629.5\" y=\"-224.8\" font-family=\"Helvetica,sans-Serif\" font-size=\"14.00\" fill=\"#000000\">gini = 0.536</text>\n<text text-anchor=\"start\" x=\"623.5\" y=\"-210.8\" font-family=\"Helvetica,sans-Serif\" font-size=\"14.00\" fill=\"#000000\">samples = 77</text>\n<text text-anchor=\"start\" x=\"610\" y=\"-196.8\" font-family=\"Helvetica,sans-Serif\" font-size=\"14.00\" fill=\"#000000\">value = [3, 36, 38]</text>\n</g>\n<!-- 0&#45;&gt;8 -->\n<g id=\"edge8\" class=\"edge\">\n<title>0&#45;&gt;8</title>\n<path fill=\"none\" stroke=\"#000000\" d=\"M573.2456,-288.8089C586.3902,-279.3524 600.8937,-268.9182 614.5014,-259.1285\"/>\n<polygon fill=\"#000000\" stroke=\"#000000\" points=\"616.7647,-261.8119 622.8382,-253.1308 612.6767,-256.1296 616.7647,-261.8119\"/>\n<text text-anchor=\"middle\" x=\"618.812\" y=\"-274.1044\" font-family=\"Helvetica,sans-Serif\" font-size=\"14.00\" fill=\"#000000\">False</text>\n</g>\n<!-- 2 -->\n<g id=\"node3\" class=\"node\">\n<title>2</title>\n<path fill=\"#88efb3\" stroke=\"#000000\" d=\"M236,-153C236,-153 145,-153 145,-153 139,-153 133,-147 133,-141 133,-141 133,-101 133,-101 133,-95 139,-89 145,-89 145,-89 236,-89 236,-89 242,-89 248,-95 248,-101 248,-101 248,-141 248,-141 248,-147 242,-153 236,-153\"/>\n<text text-anchor=\"start\" x=\"164\" y=\"-138.8\" font-family=\"Helvetica,sans-Serif\" font-size=\"14.00\" fill=\"#000000\">X</text>\n<text text-anchor=\"start\" x=\"174\" y=\"-138.8\" font-family=\"Helvetica,sans-Serif\" baseline-shift=\"sub\" font-size=\"14.00\" fill=\"#000000\">0</text>\n<text text-anchor=\"start\" x=\"181\" y=\"-138.8\" font-family=\"Helvetica,sans-Serif\" font-size=\"14.00\" fill=\"#000000\"> ≤ 4.7</text>\n<text text-anchor=\"start\" x=\"161\" y=\"-124.8\" font-family=\"Helvetica,sans-Serif\" font-size=\"14.00\" fill=\"#000000\">gini = 0.5</text>\n<text text-anchor=\"start\" x=\"151\" y=\"-110.8\" font-family=\"Helvetica,sans-Serif\" font-size=\"14.00\" fill=\"#000000\">samples = 6</text>\n<text text-anchor=\"start\" x=\"141\" y=\"-96.8\" font-family=\"Helvetica,sans-Serif\" font-size=\"14.00\" fill=\"#000000\">value = [1, 4, 1]</text>\n</g>\n<!-- 1&#45;&gt;2 -->\n<g id=\"edge2\" class=\"edge\">\n<title>1&#45;&gt;2</title>\n<path fill=\"none\" stroke=\"#000000\" d=\"M329.8274,-190.3171C306.9051,-178.913 280.7985,-165.9246 257.4282,-154.2976\"/>\n<polygon fill=\"#000000\" stroke=\"#000000\" points=\"258.7922,-151.067 248.28,-149.7463 255.6741,-157.3342 258.7922,-151.067\"/>\n</g>\n<!-- 5 -->\n<g id=\"node6\" class=\"node\">\n<title>5</title>\n<path fill=\"#e6843e\" stroke=\"#000000\" d=\"M441,-153C441,-153 342,-153 342,-153 336,-153 330,-147 330,-141 330,-141 330,-101 330,-101 330,-95 336,-89 342,-89 342,-89 441,-89 441,-89 447,-89 453,-95 453,-101 453,-101 453,-141 453,-141 453,-147 447,-153 441,-153\"/>\n<text text-anchor=\"start\" x=\"361\" y=\"-138.8\" font-family=\"Helvetica,sans-Serif\" font-size=\"14.00\" fill=\"#000000\">X</text>\n<text text-anchor=\"start\" x=\"371\" y=\"-138.8\" font-family=\"Helvetica,sans-Serif\" baseline-shift=\"sub\" font-size=\"14.00\" fill=\"#000000\">0</text>\n<text text-anchor=\"start\" x=\"378\" y=\"-138.8\" font-family=\"Helvetica,sans-Serif\" font-size=\"14.00\" fill=\"#000000\"> ≤ 5.35</text>\n<text text-anchor=\"start\" x=\"353.5\" y=\"-124.8\" font-family=\"Helvetica,sans-Serif\" font-size=\"14.00\" fill=\"#000000\">gini = 0.053</text>\n<text text-anchor=\"start\" x=\"347.5\" y=\"-110.8\" font-family=\"Helvetica,sans-Serif\" font-size=\"14.00\" fill=\"#000000\">samples = 37</text>\n<text text-anchor=\"start\" x=\"338\" y=\"-96.8\" font-family=\"Helvetica,sans-Serif\" font-size=\"14.00\" fill=\"#000000\">value = [36, 1, 0]</text>\n</g>\n<!-- 1&#45;&gt;5 -->\n<g id=\"edge5\" class=\"edge\">\n<title>1&#45;&gt;5</title>\n<path fill=\"none\" stroke=\"#000000\" d=\"M391.5,-188.8089C391.5,-180.6906 391.5,-171.8517 391.5,-163.3186\"/>\n<polygon fill=\"#000000\" stroke=\"#000000\" points=\"395.0001,-163.1307 391.5,-153.1308 388.0001,-163.1308 395.0001,-163.1307\"/>\n</g>\n<!-- 3 -->\n<g id=\"node4\" class=\"node\">\n<title>3</title>\n<path fill=\"#e58139\" stroke=\"#000000\" d=\"M103,-53C103,-53 12,-53 12,-53 6,-53 0,-47 0,-41 0,-41 0,-12 0,-12 0,-6 6,0 12,0 12,0 103,0 103,0 109,0 115,-6 115,-12 115,-12 115,-41 115,-41 115,-47 109,-53 103,-53\"/>\n<text text-anchor=\"start\" x=\"28\" y=\"-37.8\" font-family=\"Helvetica,sans-Serif\" font-size=\"14.00\" fill=\"#000000\">gini = 0.0</text>\n<text text-anchor=\"start\" x=\"18\" y=\"-22.8\" font-family=\"Helvetica,sans-Serif\" font-size=\"14.00\" fill=\"#000000\">samples = 1</text>\n<text text-anchor=\"start\" x=\"8\" y=\"-7.8\" font-family=\"Helvetica,sans-Serif\" font-size=\"14.00\" fill=\"#000000\">value = [1, 0, 0]</text>\n</g>\n<!-- 2&#45;&gt;3 -->\n<g id=\"edge3\" class=\"edge\">\n<title>2&#45;&gt;3</title>\n<path fill=\"none\" stroke=\"#000000\" d=\"M145.1009,-88.7428C131.6402,-79.1786 116.8927,-68.7001 103.4004,-59.1135\"/>\n<polygon fill=\"#000000\" stroke=\"#000000\" points=\"105.3636,-56.2148 95.1846,-53.2759 101.3091,-61.9211 105.3636,-56.2148\"/>\n</g>\n<!-- 4 -->\n<g id=\"node5\" class=\"node\">\n<title>4</title>\n<path fill=\"#6aeca0\" stroke=\"#000000\" d=\"M236,-53C236,-53 145,-53 145,-53 139,-53 133,-47 133,-41 133,-41 133,-12 133,-12 133,-6 139,0 145,0 145,0 236,0 236,0 242,0 248,-6 248,-12 248,-12 248,-41 248,-41 248,-47 242,-53 236,-53\"/>\n<text text-anchor=\"start\" x=\"157\" y=\"-37.8\" font-family=\"Helvetica,sans-Serif\" font-size=\"14.00\" fill=\"#000000\">gini = 0.32</text>\n<text text-anchor=\"start\" x=\"151\" y=\"-22.8\" font-family=\"Helvetica,sans-Serif\" font-size=\"14.00\" fill=\"#000000\">samples = 5</text>\n<text text-anchor=\"start\" x=\"141\" y=\"-7.8\" font-family=\"Helvetica,sans-Serif\" font-size=\"14.00\" fill=\"#000000\">value = [0, 4, 1]</text>\n</g>\n<!-- 2&#45;&gt;4 -->\n<g id=\"edge4\" class=\"edge\">\n<title>2&#45;&gt;4</title>\n<path fill=\"none\" stroke=\"#000000\" d=\"M190.5,-88.7428C190.5,-80.6222 190.5,-71.8426 190.5,-63.5093\"/>\n<polygon fill=\"#000000\" stroke=\"#000000\" points=\"194.0001,-63.2758 190.5,-53.2759 187.0001,-63.2759 194.0001,-63.2758\"/>\n</g>\n<!-- 6 -->\n<g id=\"node7\" class=\"node\">\n<title>6</title>\n<path fill=\"#e58139\" stroke=\"#000000\" d=\"M377,-53C377,-53 278,-53 278,-53 272,-53 266,-47 266,-41 266,-41 266,-12 266,-12 266,-6 272,0 278,0 278,0 377,0 377,0 383,0 389,-6 389,-12 389,-12 389,-41 389,-41 389,-47 383,-53 377,-53\"/>\n<text text-anchor=\"start\" x=\"298\" y=\"-37.8\" font-family=\"Helvetica,sans-Serif\" font-size=\"14.00\" fill=\"#000000\">gini = 0.0</text>\n<text text-anchor=\"start\" x=\"283.5\" y=\"-22.8\" font-family=\"Helvetica,sans-Serif\" font-size=\"14.00\" fill=\"#000000\">samples = 31</text>\n<text text-anchor=\"start\" x=\"274\" y=\"-7.8\" font-family=\"Helvetica,sans-Serif\" font-size=\"14.00\" fill=\"#000000\">value = [31, 0, 0]</text>\n</g>\n<!-- 5&#45;&gt;6 -->\n<g id=\"edge6\" class=\"edge\">\n<title>5&#45;&gt;6</title>\n<path fill=\"none\" stroke=\"#000000\" d=\"M369.6538,-88.7428C363.7265,-79.9906 357.2805,-70.4728 351.2535,-61.5735\"/>\n<polygon fill=\"#000000\" stroke=\"#000000\" points=\"354.1394,-59.5931 345.6339,-53.2759 348.3435,-63.5184 354.1394,-59.5931\"/>\n</g>\n<!-- 7 -->\n<g id=\"node8\" class=\"node\">\n<title>7</title>\n<path fill=\"#ea9a61\" stroke=\"#000000\" d=\"M510,-53C510,-53 419,-53 419,-53 413,-53 407,-47 407,-41 407,-41 407,-12 407,-12 407,-6 413,0 419,0 419,0 510,0 510,0 516,0 522,-6 522,-12 522,-12 522,-41 522,-41 522,-47 516,-53 510,-53\"/>\n<text text-anchor=\"start\" x=\"426.5\" y=\"-37.8\" font-family=\"Helvetica,sans-Serif\" font-size=\"14.00\" fill=\"#000000\">gini = 0.278</text>\n<text text-anchor=\"start\" x=\"425\" y=\"-22.8\" font-family=\"Helvetica,sans-Serif\" font-size=\"14.00\" fill=\"#000000\">samples = 6</text>\n<text text-anchor=\"start\" x=\"415\" y=\"-7.8\" font-family=\"Helvetica,sans-Serif\" font-size=\"14.00\" fill=\"#000000\">value = [5, 1, 0]</text>\n</g>\n<!-- 5&#45;&gt;7 -->\n<g id=\"edge7\" class=\"edge\">\n<title>5&#45;&gt;7</title>\n<path fill=\"none\" stroke=\"#000000\" d=\"M416.4183,-88.7428C423.2489,-79.9004 430.6832,-70.2765 437.6186,-61.2985\"/>\n<polygon fill=\"#000000\" stroke=\"#000000\" points=\"440.4725,-63.3293 443.816,-53.2759 434.9328,-59.05 440.4725,-63.3293\"/>\n</g>\n<!-- 9 -->\n<g id=\"node10\" class=\"node\">\n<title>9</title>\n<path fill=\"#85efb1\" stroke=\"#000000\" d=\"M717,-153C717,-153 618,-153 618,-153 612,-153 606,-147 606,-141 606,-141 606,-101 606,-101 606,-95 612,-89 618,-89 618,-89 717,-89 717,-89 723,-89 729,-95 729,-101 729,-101 729,-141 729,-141 729,-147 723,-153 717,-153\"/>\n<text text-anchor=\"start\" x=\"637\" y=\"-138.8\" font-family=\"Helvetica,sans-Serif\" font-size=\"14.00\" fill=\"#000000\">X</text>\n<text text-anchor=\"start\" x=\"647\" y=\"-138.8\" font-family=\"Helvetica,sans-Serif\" baseline-shift=\"sub\" font-size=\"14.00\" fill=\"#000000\">1</text>\n<text text-anchor=\"start\" x=\"654\" y=\"-138.8\" font-family=\"Helvetica,sans-Serif\" font-size=\"14.00\" fill=\"#000000\"> ≤ 3.45</text>\n<text text-anchor=\"start\" x=\"629.5\" y=\"-124.8\" font-family=\"Helvetica,sans-Serif\" font-size=\"14.00\" fill=\"#000000\">gini = 0.461</text>\n<text text-anchor=\"start\" x=\"623.5\" y=\"-110.8\" font-family=\"Helvetica,sans-Serif\" font-size=\"14.00\" fill=\"#000000\">samples = 33</text>\n<text text-anchor=\"start\" x=\"614\" y=\"-96.8\" font-family=\"Helvetica,sans-Serif\" font-size=\"14.00\" fill=\"#000000\">value = [3, 23, 7]</text>\n</g>\n<!-- 8&#45;&gt;9 -->\n<g id=\"edge9\" class=\"edge\">\n<title>8&#45;&gt;9</title>\n<path fill=\"none\" stroke=\"#000000\" d=\"M667.5,-188.8089C667.5,-180.6906 667.5,-171.8517 667.5,-163.3186\"/>\n<polygon fill=\"#000000\" stroke=\"#000000\" points=\"671.0001,-163.1307 667.5,-153.1308 664.0001,-163.1308 671.0001,-163.1307\"/>\n</g>\n<!-- 12 -->\n<g id=\"node13\" class=\"node\">\n<title>12</title>\n<path fill=\"#b68cf0\" stroke=\"#000000\" d=\"M933,-153C933,-153 826,-153 826,-153 820,-153 814,-147 814,-141 814,-141 814,-101 814,-101 814,-95 820,-89 826,-89 826,-89 933,-89 933,-89 939,-89 945,-95 945,-101 945,-101 945,-141 945,-141 945,-147 939,-153 933,-153\"/>\n<text text-anchor=\"start\" x=\"853\" y=\"-138.8\" font-family=\"Helvetica,sans-Serif\" font-size=\"14.00\" fill=\"#000000\">X</text>\n<text text-anchor=\"start\" x=\"863\" y=\"-138.8\" font-family=\"Helvetica,sans-Serif\" baseline-shift=\"sub\" font-size=\"14.00\" fill=\"#000000\">0</text>\n<text text-anchor=\"start\" x=\"870\" y=\"-138.8\" font-family=\"Helvetica,sans-Serif\" font-size=\"14.00\" fill=\"#000000\"> ≤ 7.0</text>\n<text text-anchor=\"start\" x=\"841.5\" y=\"-124.8\" font-family=\"Helvetica,sans-Serif\" font-size=\"14.00\" fill=\"#000000\">gini = 0.416</text>\n<text text-anchor=\"start\" x=\"835.5\" y=\"-110.8\" font-family=\"Helvetica,sans-Serif\" font-size=\"14.00\" fill=\"#000000\">samples = 44</text>\n<text text-anchor=\"start\" x=\"822\" y=\"-96.8\" font-family=\"Helvetica,sans-Serif\" font-size=\"14.00\" fill=\"#000000\">value = [0, 13, 31]</text>\n</g>\n<!-- 8&#45;&gt;12 -->\n<g id=\"edge12\" class=\"edge\">\n<title>8&#45;&gt;12</title>\n<path fill=\"none\" stroke=\"#000000\" d=\"M733.1263,-190.0442C755.7782,-179.3593 781.3222,-167.3103 804.6556,-156.304\"/>\n<polygon fill=\"#000000\" stroke=\"#000000\" points=\"806.2677,-159.4134 813.8189,-151.9817 803.2813,-153.0824 806.2677,-159.4134\"/>\n</g>\n<!-- 10 -->\n<g id=\"node11\" class=\"node\">\n<title>10</title>\n<path fill=\"#75eda7\" stroke=\"#000000\" d=\"M651,-53C651,-53 552,-53 552,-53 546,-53 540,-47 540,-41 540,-41 540,-12 540,-12 540,-6 546,0 552,0 552,0 651,0 651,0 657,0 663,-6 663,-12 663,-12 663,-41 663,-41 663,-47 657,-53 651,-53\"/>\n<text text-anchor=\"start\" x=\"563.5\" y=\"-37.8\" font-family=\"Helvetica,sans-Serif\" font-size=\"14.00\" fill=\"#000000\">gini = 0.358</text>\n<text text-anchor=\"start\" x=\"557.5\" y=\"-22.8\" font-family=\"Helvetica,sans-Serif\" font-size=\"14.00\" fill=\"#000000\">samples = 30</text>\n<text text-anchor=\"start\" x=\"548\" y=\"-7.8\" font-family=\"Helvetica,sans-Serif\" font-size=\"14.00\" fill=\"#000000\">value = [0, 23, 7]</text>\n</g>\n<!-- 9&#45;&gt;10 -->\n<g id=\"edge10\" class=\"edge\">\n<title>9&#45;&gt;10</title>\n<path fill=\"none\" stroke=\"#000000\" d=\"M644.9711,-88.7428C638.8585,-79.9906 632.2112,-70.4728 625.9958,-61.5735\"/>\n<polygon fill=\"#000000\" stroke=\"#000000\" points=\"628.796,-59.4702 620.2006,-53.2759 623.0571,-63.4784 628.796,-59.4702\"/>\n</g>\n<!-- 11 -->\n<g id=\"node12\" class=\"node\">\n<title>11</title>\n<path fill=\"#e58139\" stroke=\"#000000\" d=\"M784,-53C784,-53 693,-53 693,-53 687,-53 681,-47 681,-41 681,-41 681,-12 681,-12 681,-6 687,0 693,0 693,0 784,0 784,0 790,0 796,-6 796,-12 796,-12 796,-41 796,-41 796,-47 790,-53 784,-53\"/>\n<text text-anchor=\"start\" x=\"709\" y=\"-37.8\" font-family=\"Helvetica,sans-Serif\" font-size=\"14.00\" fill=\"#000000\">gini = 0.0</text>\n<text text-anchor=\"start\" x=\"699\" y=\"-22.8\" font-family=\"Helvetica,sans-Serif\" font-size=\"14.00\" fill=\"#000000\">samples = 3</text>\n<text text-anchor=\"start\" x=\"689\" y=\"-7.8\" font-family=\"Helvetica,sans-Serif\" font-size=\"14.00\" fill=\"#000000\">value = [3, 0, 0]</text>\n</g>\n<!-- 9&#45;&gt;11 -->\n<g id=\"edge11\" class=\"edge\">\n<title>9&#45;&gt;11</title>\n<path fill=\"none\" stroke=\"#000000\" d=\"M691.7356,-88.7428C698.3791,-79.9004 705.6097,-70.2765 712.3551,-61.2985\"/>\n<polygon fill=\"#000000\" stroke=\"#000000\" points=\"715.1741,-63.3732 718.3827,-53.2759 709.5776,-59.1684 715.1741,-63.3732\"/>\n</g>\n<!-- 13 -->\n<g id=\"node14\" class=\"node\">\n<title>13</title>\n<path fill=\"#d3baf6\" stroke=\"#000000\" d=\"M933,-53C933,-53 826,-53 826,-53 820,-53 814,-47 814,-41 814,-41 814,-12 814,-12 814,-6 820,0 826,0 826,0 933,0 933,0 939,0 945,-6 945,-12 945,-12 945,-41 945,-41 945,-47 939,-53 933,-53\"/>\n<text text-anchor=\"start\" x=\"841.5\" y=\"-37.8\" font-family=\"Helvetica,sans-Serif\" font-size=\"14.00\" fill=\"#000000\">gini = 0.478</text>\n<text text-anchor=\"start\" x=\"835.5\" y=\"-22.8\" font-family=\"Helvetica,sans-Serif\" font-size=\"14.00\" fill=\"#000000\">samples = 33</text>\n<text text-anchor=\"start\" x=\"822\" y=\"-7.8\" font-family=\"Helvetica,sans-Serif\" font-size=\"14.00\" fill=\"#000000\">value = [0, 13, 20]</text>\n</g>\n<!-- 12&#45;&gt;13 -->\n<g id=\"edge13\" class=\"edge\">\n<title>12&#45;&gt;13</title>\n<path fill=\"none\" stroke=\"#000000\" d=\"M879.5,-88.7428C879.5,-80.6222 879.5,-71.8426 879.5,-63.5093\"/>\n<polygon fill=\"#000000\" stroke=\"#000000\" points=\"883.0001,-63.2758 879.5,-53.2759 876.0001,-63.2759 883.0001,-63.2758\"/>\n</g>\n<!-- 14 -->\n<g id=\"node15\" class=\"node\">\n<title>14</title>\n<path fill=\"#8139e5\" stroke=\"#000000\" d=\"M1074,-53C1074,-53 975,-53 975,-53 969,-53 963,-47 963,-41 963,-41 963,-12 963,-12 963,-6 969,0 975,0 975,0 1074,0 1074,0 1080,0 1086,-6 1086,-12 1086,-12 1086,-41 1086,-41 1086,-47 1080,-53 1074,-53\"/>\n<text text-anchor=\"start\" x=\"995\" y=\"-37.8\" font-family=\"Helvetica,sans-Serif\" font-size=\"14.00\" fill=\"#000000\">gini = 0.0</text>\n<text text-anchor=\"start\" x=\"980.5\" y=\"-22.8\" font-family=\"Helvetica,sans-Serif\" font-size=\"14.00\" fill=\"#000000\">samples = 11</text>\n<text text-anchor=\"start\" x=\"971\" y=\"-7.8\" font-family=\"Helvetica,sans-Serif\" font-size=\"14.00\" fill=\"#000000\">value = [0, 0, 11]</text>\n</g>\n<!-- 12&#45;&gt;14 -->\n<g id=\"edge14\" class=\"edge\">\n<title>12&#45;&gt;14</title>\n<path fill=\"none\" stroke=\"#000000\" d=\"M928.9952,-88.7428C943.8089,-79.0883 960.0521,-68.5023 974.8741,-58.8424\"/>\n<polygon fill=\"#000000\" stroke=\"#000000\" points=\"976.9485,-61.6682 983.4153,-53.2759 973.1265,-55.8037 976.9485,-61.6682\"/>\n</g>\n</g>\n</svg>\n"
          },
          "metadata": {
            "tags": []
          },
          "execution_count": 90
        }
      ]
    },
    {
      "cell_type": "code",
      "metadata": {
        "colab": {
          "base_uri": "https://localhost:8080/",
          "height": 300
        },
        "id": "pw_rCmj7lBMb",
        "outputId": "529fccc9-3b9d-4a91-9c1c-c7942a82cc32"
      },
      "source": [
        "# Cofusion matrix\n",
        "y_test_hat = cl1.predict(x_test)\n",
        "CM = confusion_matrix(y_test, y_test_hat, labels=cl1.classes_)\n",
        "disp = ConfusionMatrixDisplay(confusion_matrix=CM, display_labels=cl1.classes_)\n",
        "disp.plot()"
      ],
      "execution_count": 91,
      "outputs": [
        {
          "output_type": "execute_result",
          "data": {
            "text/plain": [
              "<sklearn.metrics._plot.confusion_matrix.ConfusionMatrixDisplay at 0x7ff01a4bfe50>"
            ]
          },
          "metadata": {
            "tags": []
          },
          "execution_count": 91
        },
        {
          "output_type": "display_data",
          "data": {
            "image/png": "[encoded data removed]",
            "text/plain": [
              "<Figure size 432x288 with 2 Axes>"
            ]
          },
          "metadata": {
            "tags": [],
            "needs_background": "light"
          }
        }
      ]
    },
    {
      "cell_type": "markdown",
      "metadata": {
        "id": "pn4DzlfsqoD5"
      },
      "source": [
        "# Random forest"
      ]
    },
    {
      "cell_type": "code",
      "metadata": {
        "colab": {
          "base_uri": "https://localhost:8080/"
        },
        "id": "UFF8plR_kFNi",
        "outputId": "8b5ae072-2166-4468-97a0-bb6e44b7a7d9"
      },
      "source": [
        "# Create a random forest\n",
        "cl2 = RandomForestClassifier(max_depth=3).fit(x_train, y_train)\n",
        "\n",
        "print(f\"Training mean accuracy: {cl2.score(x_train, y_train):6.4f}\")\n",
        "print(f\"Test mean accuracy: {cl2.score(x_test, y_test):6.4f}\")"
      ],
      "execution_count": 92,
      "outputs": [
        {
          "output_type": "stream",
          "text": [
            "Training mean accuracy: 0.8083\n",
            "Test mean accuracy: 0.8000\n"
          ],
          "name": "stdout"
        }
      ]
    },
    {
      "cell_type": "code",
      "metadata": {
        "colab": {
          "base_uri": "https://localhost:8080/",
          "height": 300
        },
        "id": "t4KO8XPqkgQv",
        "outputId": "a55964fc-5c3e-4d67-d838-6566a072ced5"
      },
      "source": [
        "# Confusion matrix\n",
        "y_test_hat = cl2.predict(x_test)\n",
        "CM = confusion_matrix(y_test, y_test_hat, labels=cl2.classes_)\n",
        "disp = ConfusionMatrixDisplay(confusion_matrix=CM, display_labels=cl2.classes_)\n",
        "disp.plot()"
      ],
      "execution_count": 93,
      "outputs": [
        {
          "output_type": "execute_result",
          "data": {
            "text/plain": [
              "<sklearn.metrics._plot.confusion_matrix.ConfusionMatrixDisplay at 0x7ff01cd7a590>"
            ]
          },
          "metadata": {
            "tags": []
          },
          "execution_count": 93
        },
        {
          "output_type": "display_data",
          "data": {
            "image/png": "[encoded data removed]",
            "text/plain": [
              "<Figure size 432x288 with 2 Axes>"
            ]
          },
          "metadata": {
            "tags": [],
            "needs_background": "light"
          }
        }
      ]
    },
    {
      "cell_type": "markdown",
      "metadata": {
        "id": "Aj-Y3pWvqwb9"
      },
      "source": [
        "# Bagging"
      ]
    },
    {
      "cell_type": "code",
      "metadata": {
        "id": "mvUKWU20lkpe"
      },
      "source": [
        "# Define a dictionary for grid search\n",
        "params = {'base_estimator': [DecisionTreeClassifier(), KNeighborsClassifier()],\n",
        "          'n_estimators': [20, 50],\n",
        "          'max_samples': [0.5, 1.0],\n",
        "          'max_features': [0.1, 0.5]}"
      ],
      "execution_count": 94,
      "outputs": []
    },
    {
      "cell_type": "code",
      "metadata": {
        "colab": {
          "base_uri": "https://localhost:8080/"
        },
        "id": "uLaLP36on6dP",
        "outputId": "fe0f07a4-6766-4cbe-fd2f-0415d39dde25"
      },
      "source": [
        "# Create a bagging meta-model, and train it\n",
        "bagging_classifier_grid = GridSearchCV(BaggingClassifier(n_jobs=-1), param_grid =params, verbose=1)\n",
        "bagging_classifier_grid.fit(x_train, y_train)"
      ],
      "execution_count": 95,
      "outputs": [
        {
          "output_type": "stream",
          "text": [
            "Fitting 5 folds for each of 16 candidates, totalling 80 fits\n"
          ],
          "name": "stdout"
        },
        {
          "output_type": "stream",
          "text": [
            "[Parallel(n_jobs=1)]: Using backend SequentialBackend with 1 concurrent workers.\n",
            "[Parallel(n_jobs=1)]: Done  80 out of  80 | elapsed:    9.3s finished\n"
          ],
          "name": "stderr"
        },
        {
          "output_type": "execute_result",
          "data": {
            "text/plain": [
              "GridSearchCV(cv=None, error_score=nan,\n",
              "             estimator=BaggingClassifier(base_estimator=None, bootstrap=True,\n",
              "                                         bootstrap_features=False,\n",
              "                                         max_features=1.0, max_samples=1.0,\n",
              "                                         n_estimators=10, n_jobs=-1,\n",
              "                                         oob_score=False, random_state=None,\n",
              "                                         verbose=0, warm_start=False),\n",
              "             iid='deprecated', n_jobs=None,\n",
              "             param_grid={'base_estimator': [DecisionTreeClassifier(ccp_alpha=0.0,\n",
              "                                                                   class_we...\n",
              "                                                                   presort='deprecated',\n",
              "                                                                   random_state=None,\n",
              "                                                                   splitter='best'),\n",
              "                                            KNeighborsClassifier(algorithm='auto',\n",
              "                                                                 leaf_size=30,\n",
              "                                                                 metric='minkowski',\n",
              "                                                                 metric_params=None,\n",
              "                                                                 n_jobs=None,\n",
              "                                                                 n_neighbors=5,\n",
              "                                                                 p=2,\n",
              "                                                                 weights='uniform')],\n",
              "                         'max_features': [0.1, 0.5], 'max_samples': [0.5, 1.0],\n",
              "                         'n_estimators': [20, 50]},\n",
              "             pre_dispatch='2*n_jobs', refit=True, return_train_score=False,\n",
              "             scoring=None, verbose=1)"
            ]
          },
          "metadata": {
            "tags": []
          },
          "execution_count": 95
        }
      ]
    },
    {
      "cell_type": "code",
      "metadata": {
        "colab": {
          "base_uri": "https://localhost:8080/"
        },
        "id": "N4JsA0sFocpF",
        "outputId": "728b9850-0203-44e9-8344-b685840493e2"
      },
      "source": [
        "# Print info about best score and best hyperparameters\n",
        "print(f\"Best score: {bagging_classifier_grid.best_score_:.4f}\")\n",
        "print(f\"Best params: {bagging_classifier_grid.best_params_}\")"
      ],
      "execution_count": 96,
      "outputs": [
        {
          "output_type": "stream",
          "text": [
            "Best score: 0.7500\n",
            "Best params: {'base_estimator': KNeighborsClassifier(algorithm='auto', leaf_size=30, metric='minkowski',\n",
            "                     metric_params=None, n_jobs=None, n_neighbors=5, p=2,\n",
            "                     weights='uniform'), 'max_features': 0.5, 'max_samples': 0.5, 'n_estimators': 50}\n"
          ],
          "name": "stdout"
        }
      ]
    },
    {
      "cell_type": "code",
      "metadata": {
        "colab": {
          "base_uri": "https://localhost:8080/"
        },
        "id": "hf08_G1trNkg",
        "outputId": "db747422-7003-4ac6-ca7e-fa0e0d973846"
      },
      "source": [
        "# Extract best estimator\n",
        "best_clf = bagging_classifier_grid.best_estimator_\n",
        "\n",
        "print(f\"Training mean accuracy: {best_clf.score(x_train, y_train):6.4f}\")\n",
        "print(f\"Test mean accuracy: {best_clf.score(x_test, y_test):6.4f}\")"
      ],
      "execution_count": 97,
      "outputs": [
        {
          "output_type": "stream",
          "text": [
            "Training mean accuracy: 0.8167\n",
            "Test mean accuracy: 0.8000\n"
          ],
          "name": "stdout"
        }
      ]
    },
    {
      "cell_type": "code",
      "metadata": {
        "colab": {
          "base_uri": "https://localhost:8080/",
          "height": 300
        },
        "id": "NVTWSZW8roHA",
        "outputId": "0f9a2b10-056c-4538-9954-c017e228cc04"
      },
      "source": [
        "# Confusion matrix\n",
        "y_test_hat = best_clf.predict(x_test)\n",
        "CM = confusion_matrix(y_test, y_test_hat, labels=best_clf.classes_)\n",
        "disp = ConfusionMatrixDisplay(confusion_matrix=CM, display_labels=best_clf.classes_)\n",
        "disp.plot()"
      ],
      "execution_count": 98,
      "outputs": [
        {
          "output_type": "execute_result",
          "data": {
            "text/plain": [
              "<sklearn.metrics._plot.confusion_matrix.ConfusionMatrixDisplay at 0x7ff01ce3f550>"
            ]
          },
          "metadata": {
            "tags": []
          },
          "execution_count": 98
        },
        {
          "output_type": "display_data",
          "data": {
            "image/png": "[encoded data removed]",
            "text/plain": [
              "<Figure size 432x288 with 2 Axes>"
            ]
          },
          "metadata": {
            "tags": [],
            "needs_background": "light"
          }
        }
      ]
    },
    {
      "cell_type": "code",
      "metadata": {
        "id": "t9G_S463sj1l"
      },
      "source": [
        "#\n",
        "#1) Encuentra la combinación de hiperparámetros que te de mejor desempeño.\n",
        "#2) Prueba usando las 4 variables de la base de datos iris.\n",
        "#3) Ahora intenta con la base de datos mnist."
      ],
      "execution_count": 99,
      "outputs": []
    },
    {
      "cell_type": "code",
      "metadata": {
        "id": "MJt5bB5I2MaT"
      },
      "source": [
        ""
      ],
      "execution_count": null,
      "outputs": []
    }
  ]
}